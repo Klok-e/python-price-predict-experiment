{
 "nbformat": 4,
 "nbformat_minor": 0,
 "metadata": {
  "colab": {
   "provenance": [],
   "gpuType": "T4",
   "mount_file_id": "1SIIDuVLdYGQUXZfGGVjh2FLqvCtyIW1t",
   "authorship_tag": "ABX9TyPxTybhFFtyIWlUoS6siBcG"
  },
  "kernelspec": {
   "name": "python3",
   "language": "python",
   "display_name": "Python 3 (ipykernel)"
  },
  "language_info": {
   "name": "python"
  },
  "accelerator": "GPU",
  "widgets": {
   "application/vnd.jupyter.widget-state+json": {
    "7dd4f39447a8403d971228d215f7c92f": {
     "model_module": "@jupyter-widgets/controls",
     "model_name": "HBoxModel",
     "model_module_version": "1.5.0",
     "state": {
      "_dom_classes": [],
      "_model_module": "@jupyter-widgets/controls",
      "_model_module_version": "1.5.0",
      "_model_name": "HBoxModel",
      "_view_count": null,
      "_view_module": "@jupyter-widgets/controls",
      "_view_module_version": "1.5.0",
      "_view_name": "HBoxView",
      "box_style": "",
      "children": [
       "IPY_MODEL_e218add70fa342c6829dd9bb37dcfa41",
       "IPY_MODEL_d8002ed8b0574ac6afb501b840b0ba40",
       "IPY_MODEL_2f202985b8e946d289bdbe6712c2b9a7"
      ],
      "layout": "IPY_MODEL_9b5b8357efd84321bf36e7a1082bb677"
     }
    },
    "e218add70fa342c6829dd9bb37dcfa41": {
     "model_module": "@jupyter-widgets/controls",
     "model_name": "HTMLModel",
     "model_module_version": "1.5.0",
     "state": {
      "_dom_classes": [],
      "_model_module": "@jupyter-widgets/controls",
      "_model_module_version": "1.5.0",
      "_model_name": "HTMLModel",
      "_view_count": null,
      "_view_module": "@jupyter-widgets/controls",
      "_view_module_version": "1.5.0",
      "_view_name": "HTMLView",
      "description": "",
      "description_tooltip": null,
      "layout": "IPY_MODEL_1aae74220cb64297a14c9bbd21fb94fa",
      "placeholder": "​",
      "style": "IPY_MODEL_90dcc4766a3b49b0bb295848619c28c0",
      "value": "Tickers: 100%"
     }
    },
    "d8002ed8b0574ac6afb501b840b0ba40": {
     "model_module": "@jupyter-widgets/controls",
     "model_name": "FloatProgressModel",
     "model_module_version": "1.5.0",
     "state": {
      "_dom_classes": [],
      "_model_module": "@jupyter-widgets/controls",
      "_model_module_version": "1.5.0",
      "_model_name": "FloatProgressModel",
      "_view_count": null,
      "_view_module": "@jupyter-widgets/controls",
      "_view_module_version": "1.5.0",
      "_view_name": "ProgressView",
      "bar_style": "success",
      "description": "",
      "description_tooltip": null,
      "layout": "IPY_MODEL_d2c8c1ee88d044b4b0aa98a221a3a839",
      "max": 1,
      "min": 0,
      "orientation": "horizontal",
      "style": "IPY_MODEL_8e10a6958ba34853abe3221c9d2efb9f",
      "value": 1
     }
    },
    "2f202985b8e946d289bdbe6712c2b9a7": {
     "model_module": "@jupyter-widgets/controls",
     "model_name": "HTMLModel",
     "model_module_version": "1.5.0",
     "state": {
      "_dom_classes": [],
      "_model_module": "@jupyter-widgets/controls",
      "_model_module_version": "1.5.0",
      "_model_name": "HTMLModel",
      "_view_count": null,
      "_view_module": "@jupyter-widgets/controls",
      "_view_module_version": "1.5.0",
      "_view_name": "HTMLView",
      "description": "",
      "description_tooltip": null,
      "layout": "IPY_MODEL_71d93b21192b408eb4160aad368e8341",
      "placeholder": "​",
      "style": "IPY_MODEL_3373eefba7bc480c870dffcc7c0c76a5",
      "value": " 1/1 [00:02&lt;00:00,  2.26s/it]"
     }
    },
    "9b5b8357efd84321bf36e7a1082bb677": {
     "model_module": "@jupyter-widgets/base",
     "model_name": "LayoutModel",
     "model_module_version": "1.2.0",
     "state": {
      "_model_module": "@jupyter-widgets/base",
      "_model_module_version": "1.2.0",
      "_model_name": "LayoutModel",
      "_view_count": null,
      "_view_module": "@jupyter-widgets/base",
      "_view_module_version": "1.2.0",
      "_view_name": "LayoutView",
      "align_content": null,
      "align_items": null,
      "align_self": null,
      "border": null,
      "bottom": null,
      "display": null,
      "flex": null,
      "flex_flow": null,
      "grid_area": null,
      "grid_auto_columns": null,
      "grid_auto_flow": null,
      "grid_auto_rows": null,
      "grid_column": null,
      "grid_gap": null,
      "grid_row": null,
      "grid_template_areas": null,
      "grid_template_columns": null,
      "grid_template_rows": null,
      "height": null,
      "justify_content": null,
      "justify_items": null,
      "left": null,
      "margin": null,
      "max_height": null,
      "max_width": null,
      "min_height": null,
      "min_width": null,
      "object_fit": null,
      "object_position": null,
      "order": null,
      "overflow": null,
      "overflow_x": null,
      "overflow_y": null,
      "padding": null,
      "right": null,
      "top": null,
      "visibility": null,
      "width": null
     }
    },
    "1aae74220cb64297a14c9bbd21fb94fa": {
     "model_module": "@jupyter-widgets/base",
     "model_name": "LayoutModel",
     "model_module_version": "1.2.0",
     "state": {
      "_model_module": "@jupyter-widgets/base",
      "_model_module_version": "1.2.0",
      "_model_name": "LayoutModel",
      "_view_count": null,
      "_view_module": "@jupyter-widgets/base",
      "_view_module_version": "1.2.0",
      "_view_name": "LayoutView",
      "align_content": null,
      "align_items": null,
      "align_self": null,
      "border": null,
      "bottom": null,
      "display": null,
      "flex": null,
      "flex_flow": null,
      "grid_area": null,
      "grid_auto_columns": null,
      "grid_auto_flow": null,
      "grid_auto_rows": null,
      "grid_column": null,
      "grid_gap": null,
      "grid_row": null,
      "grid_template_areas": null,
      "grid_template_columns": null,
      "grid_template_rows": null,
      "height": null,
      "justify_content": null,
      "justify_items": null,
      "left": null,
      "margin": null,
      "max_height": null,
      "max_width": null,
      "min_height": null,
      "min_width": null,
      "object_fit": null,
      "object_position": null,
      "order": null,
      "overflow": null,
      "overflow_x": null,
      "overflow_y": null,
      "padding": null,
      "right": null,
      "top": null,
      "visibility": null,
      "width": null
     }
    },
    "90dcc4766a3b49b0bb295848619c28c0": {
     "model_module": "@jupyter-widgets/controls",
     "model_name": "DescriptionStyleModel",
     "model_module_version": "1.5.0",
     "state": {
      "_model_module": "@jupyter-widgets/controls",
      "_model_module_version": "1.5.0",
      "_model_name": "DescriptionStyleModel",
      "_view_count": null,
      "_view_module": "@jupyter-widgets/base",
      "_view_module_version": "1.2.0",
      "_view_name": "StyleView",
      "description_width": ""
     }
    },
    "d2c8c1ee88d044b4b0aa98a221a3a839": {
     "model_module": "@jupyter-widgets/base",
     "model_name": "LayoutModel",
     "model_module_version": "1.2.0",
     "state": {
      "_model_module": "@jupyter-widgets/base",
      "_model_module_version": "1.2.0",
      "_model_name": "LayoutModel",
      "_view_count": null,
      "_view_module": "@jupyter-widgets/base",
      "_view_module_version": "1.2.0",
      "_view_name": "LayoutView",
      "align_content": null,
      "align_items": null,
      "align_self": null,
      "border": null,
      "bottom": null,
      "display": null,
      "flex": null,
      "flex_flow": null,
      "grid_area": null,
      "grid_auto_columns": null,
      "grid_auto_flow": null,
      "grid_auto_rows": null,
      "grid_column": null,
      "grid_gap": null,
      "grid_row": null,
      "grid_template_areas": null,
      "grid_template_columns": null,
      "grid_template_rows": null,
      "height": null,
      "justify_content": null,
      "justify_items": null,
      "left": null,
      "margin": null,
      "max_height": null,
      "max_width": null,
      "min_height": null,
      "min_width": null,
      "object_fit": null,
      "object_position": null,
      "order": null,
      "overflow": null,
      "overflow_x": null,
      "overflow_y": null,
      "padding": null,
      "right": null,
      "top": null,
      "visibility": null,
      "width": null
     }
    },
    "8e10a6958ba34853abe3221c9d2efb9f": {
     "model_module": "@jupyter-widgets/controls",
     "model_name": "ProgressStyleModel",
     "model_module_version": "1.5.0",
     "state": {
      "_model_module": "@jupyter-widgets/controls",
      "_model_module_version": "1.5.0",
      "_model_name": "ProgressStyleModel",
      "_view_count": null,
      "_view_module": "@jupyter-widgets/base",
      "_view_module_version": "1.2.0",
      "_view_name": "StyleView",
      "bar_color": null,
      "description_width": ""
     }
    },
    "71d93b21192b408eb4160aad368e8341": {
     "model_module": "@jupyter-widgets/base",
     "model_name": "LayoutModel",
     "model_module_version": "1.2.0",
     "state": {
      "_model_module": "@jupyter-widgets/base",
      "_model_module_version": "1.2.0",
      "_model_name": "LayoutModel",
      "_view_count": null,
      "_view_module": "@jupyter-widgets/base",
      "_view_module_version": "1.2.0",
      "_view_name": "LayoutView",
      "align_content": null,
      "align_items": null,
      "align_self": null,
      "border": null,
      "bottom": null,
      "display": null,
      "flex": null,
      "flex_flow": null,
      "grid_area": null,
      "grid_auto_columns": null,
      "grid_auto_flow": null,
      "grid_auto_rows": null,
      "grid_column": null,
      "grid_gap": null,
      "grid_row": null,
      "grid_template_areas": null,
      "grid_template_columns": null,
      "grid_template_rows": null,
      "height": null,
      "justify_content": null,
      "justify_items": null,
      "left": null,
      "margin": null,
      "max_height": null,
      "max_width": null,
      "min_height": null,
      "min_width": null,
      "object_fit": null,
      "object_position": null,
      "order": null,
      "overflow": null,
      "overflow_x": null,
      "overflow_y": null,
      "padding": null,
      "right": null,
      "top": null,
      "visibility": null,
      "width": null
     }
    },
    "3373eefba7bc480c870dffcc7c0c76a5": {
     "model_module": "@jupyter-widgets/controls",
     "model_name": "DescriptionStyleModel",
     "model_module_version": "1.5.0",
     "state": {
      "_model_module": "@jupyter-widgets/controls",
      "_model_module_version": "1.5.0",
      "_model_name": "DescriptionStyleModel",
      "_view_count": null,
      "_view_module": "@jupyter-widgets/base",
      "_view_module_version": "1.2.0",
      "_view_name": "StyleView",
      "description_width": ""
     }
    },
    "f4374224d0464cf29a95e6c6fe59afa2": {
     "model_module": "@jupyter-widgets/controls",
     "model_name": "HBoxModel",
     "model_module_version": "1.5.0",
     "state": {
      "_dom_classes": [],
      "_model_module": "@jupyter-widgets/controls",
      "_model_module_version": "1.5.0",
      "_model_name": "HBoxModel",
      "_view_count": null,
      "_view_module": "@jupyter-widgets/controls",
      "_view_module_version": "1.5.0",
      "_view_name": "HBoxView",
      "box_style": "",
      "children": [
       "IPY_MODEL_54d2bf64f7314420b6a8478485efe34e",
       "IPY_MODEL_3d44a3a6a5af487b9d7f47999ee9ded9",
       "IPY_MODEL_37223277179f487b837ce13db28e41c3"
      ],
      "layout": "IPY_MODEL_6e70fcf1370f4a20bec5776cfcb25eb2"
     }
    },
    "54d2bf64f7314420b6a8478485efe34e": {
     "model_module": "@jupyter-widgets/controls",
     "model_name": "HTMLModel",
     "model_module_version": "1.5.0",
     "state": {
      "_dom_classes": [],
      "_model_module": "@jupyter-widgets/controls",
      "_model_module_version": "1.5.0",
      "_model_name": "HTMLModel",
      "_view_count": null,
      "_view_module": "@jupyter-widgets/controls",
      "_view_module_version": "1.5.0",
      "_view_name": "HTMLView",
      "description": "",
      "description_tooltip": null,
      "layout": "IPY_MODEL_07fe8db9119b4393a9d712e950e51fc9",
      "placeholder": "​",
      "style": "IPY_MODEL_59ebcbef69f34c53b1097e76e4395df5",
      "value": "monthly files to download: "
     }
    },
    "3d44a3a6a5af487b9d7f47999ee9ded9": {
     "model_module": "@jupyter-widgets/controls",
     "model_name": "FloatProgressModel",
     "model_module_version": "1.5.0",
     "state": {
      "_dom_classes": [],
      "_model_module": "@jupyter-widgets/controls",
      "_model_module_version": "1.5.0",
      "_model_name": "FloatProgressModel",
      "_view_count": null,
      "_view_module": "@jupyter-widgets/controls",
      "_view_module_version": "1.5.0",
      "_view_name": "ProgressView",
      "bar_style": "info",
      "description": "",
      "description_tooltip": null,
      "layout": "IPY_MODEL_fea07322c08d4b6bab4ef926a5be8c41",
      "max": 1,
      "min": 0,
      "orientation": "horizontal",
      "style": "IPY_MODEL_30338d5f659e49518b0bd7614fa88825",
      "value": 0
     }
    },
    "37223277179f487b837ce13db28e41c3": {
     "model_module": "@jupyter-widgets/controls",
     "model_name": "HTMLModel",
     "model_module_version": "1.5.0",
     "state": {
      "_dom_classes": [],
      "_model_module": "@jupyter-widgets/controls",
      "_model_module_version": "1.5.0",
      "_model_name": "HTMLModel",
      "_view_count": null,
      "_view_module": "@jupyter-widgets/controls",
      "_view_module_version": "1.5.0",
      "_view_name": "HTMLView",
      "description": "",
      "description_tooltip": null,
      "layout": "IPY_MODEL_9d3991c4adec41e8843941b797537d0f",
      "placeholder": "​",
      "style": "IPY_MODEL_22589f85bbba42698003a58b80bfe4b9",
      "value": " 0/0 [00:00&lt;?, ?files/s]"
     }
    },
    "6e70fcf1370f4a20bec5776cfcb25eb2": {
     "model_module": "@jupyter-widgets/base",
     "model_name": "LayoutModel",
     "model_module_version": "1.2.0",
     "state": {
      "_model_module": "@jupyter-widgets/base",
      "_model_module_version": "1.2.0",
      "_model_name": "LayoutModel",
      "_view_count": null,
      "_view_module": "@jupyter-widgets/base",
      "_view_module_version": "1.2.0",
      "_view_name": "LayoutView",
      "align_content": null,
      "align_items": null,
      "align_self": null,
      "border": null,
      "bottom": null,
      "display": null,
      "flex": null,
      "flex_flow": null,
      "grid_area": null,
      "grid_auto_columns": null,
      "grid_auto_flow": null,
      "grid_auto_rows": null,
      "grid_column": null,
      "grid_gap": null,
      "grid_row": null,
      "grid_template_areas": null,
      "grid_template_columns": null,
      "grid_template_rows": null,
      "height": null,
      "justify_content": null,
      "justify_items": null,
      "left": null,
      "margin": null,
      "max_height": null,
      "max_width": null,
      "min_height": null,
      "min_width": null,
      "object_fit": null,
      "object_position": null,
      "order": null,
      "overflow": null,
      "overflow_x": null,
      "overflow_y": null,
      "padding": null,
      "right": null,
      "top": null,
      "visibility": "hidden",
      "width": null
     }
    },
    "07fe8db9119b4393a9d712e950e51fc9": {
     "model_module": "@jupyter-widgets/base",
     "model_name": "LayoutModel",
     "model_module_version": "1.2.0",
     "state": {
      "_model_module": "@jupyter-widgets/base",
      "_model_module_version": "1.2.0",
      "_model_name": "LayoutModel",
      "_view_count": null,
      "_view_module": "@jupyter-widgets/base",
      "_view_module_version": "1.2.0",
      "_view_name": "LayoutView",
      "align_content": null,
      "align_items": null,
      "align_self": null,
      "border": null,
      "bottom": null,
      "display": null,
      "flex": null,
      "flex_flow": null,
      "grid_area": null,
      "grid_auto_columns": null,
      "grid_auto_flow": null,
      "grid_auto_rows": null,
      "grid_column": null,
      "grid_gap": null,
      "grid_row": null,
      "grid_template_areas": null,
      "grid_template_columns": null,
      "grid_template_rows": null,
      "height": null,
      "justify_content": null,
      "justify_items": null,
      "left": null,
      "margin": null,
      "max_height": null,
      "max_width": null,
      "min_height": null,
      "min_width": null,
      "object_fit": null,
      "object_position": null,
      "order": null,
      "overflow": null,
      "overflow_x": null,
      "overflow_y": null,
      "padding": null,
      "right": null,
      "top": null,
      "visibility": null,
      "width": null
     }
    },
    "59ebcbef69f34c53b1097e76e4395df5": {
     "model_module": "@jupyter-widgets/controls",
     "model_name": "DescriptionStyleModel",
     "model_module_version": "1.5.0",
     "state": {
      "_model_module": "@jupyter-widgets/controls",
      "_model_module_version": "1.5.0",
      "_model_name": "DescriptionStyleModel",
      "_view_count": null,
      "_view_module": "@jupyter-widgets/base",
      "_view_module_version": "1.2.0",
      "_view_name": "StyleView",
      "description_width": ""
     }
    },
    "fea07322c08d4b6bab4ef926a5be8c41": {
     "model_module": "@jupyter-widgets/base",
     "model_name": "LayoutModel",
     "model_module_version": "1.2.0",
     "state": {
      "_model_module": "@jupyter-widgets/base",
      "_model_module_version": "1.2.0",
      "_model_name": "LayoutModel",
      "_view_count": null,
      "_view_module": "@jupyter-widgets/base",
      "_view_module_version": "1.2.0",
      "_view_name": "LayoutView",
      "align_content": null,
      "align_items": null,
      "align_self": null,
      "border": null,
      "bottom": null,
      "display": null,
      "flex": null,
      "flex_flow": null,
      "grid_area": null,
      "grid_auto_columns": null,
      "grid_auto_flow": null,
      "grid_auto_rows": null,
      "grid_column": null,
      "grid_gap": null,
      "grid_row": null,
      "grid_template_areas": null,
      "grid_template_columns": null,
      "grid_template_rows": null,
      "height": null,
      "justify_content": null,
      "justify_items": null,
      "left": null,
      "margin": null,
      "max_height": null,
      "max_width": null,
      "min_height": null,
      "min_width": null,
      "object_fit": null,
      "object_position": null,
      "order": null,
      "overflow": null,
      "overflow_x": null,
      "overflow_y": null,
      "padding": null,
      "right": null,
      "top": null,
      "visibility": null,
      "width": "20px"
     }
    },
    "30338d5f659e49518b0bd7614fa88825": {
     "model_module": "@jupyter-widgets/controls",
     "model_name": "ProgressStyleModel",
     "model_module_version": "1.5.0",
     "state": {
      "_model_module": "@jupyter-widgets/controls",
      "_model_module_version": "1.5.0",
      "_model_name": "ProgressStyleModel",
      "_view_count": null,
      "_view_module": "@jupyter-widgets/base",
      "_view_module_version": "1.2.0",
      "_view_name": "StyleView",
      "bar_color": null,
      "description_width": ""
     }
    },
    "9d3991c4adec41e8843941b797537d0f": {
     "model_module": "@jupyter-widgets/base",
     "model_name": "LayoutModel",
     "model_module_version": "1.2.0",
     "state": {
      "_model_module": "@jupyter-widgets/base",
      "_model_module_version": "1.2.0",
      "_model_name": "LayoutModel",
      "_view_count": null,
      "_view_module": "@jupyter-widgets/base",
      "_view_module_version": "1.2.0",
      "_view_name": "LayoutView",
      "align_content": null,
      "align_items": null,
      "align_self": null,
      "border": null,
      "bottom": null,
      "display": null,
      "flex": null,
      "flex_flow": null,
      "grid_area": null,
      "grid_auto_columns": null,
      "grid_auto_flow": null,
      "grid_auto_rows": null,
      "grid_column": null,
      "grid_gap": null,
      "grid_row": null,
      "grid_template_areas": null,
      "grid_template_columns": null,
      "grid_template_rows": null,
      "height": null,
      "justify_content": null,
      "justify_items": null,
      "left": null,
      "margin": null,
      "max_height": null,
      "max_width": null,
      "min_height": null,
      "min_width": null,
      "object_fit": null,
      "object_position": null,
      "order": null,
      "overflow": null,
      "overflow_x": null,
      "overflow_y": null,
      "padding": null,
      "right": null,
      "top": null,
      "visibility": null,
      "width": null
     }
    },
    "22589f85bbba42698003a58b80bfe4b9": {
     "model_module": "@jupyter-widgets/controls",
     "model_name": "DescriptionStyleModel",
     "model_module_version": "1.5.0",
     "state": {
      "_model_module": "@jupyter-widgets/controls",
      "_model_module_version": "1.5.0",
      "_model_name": "DescriptionStyleModel",
      "_view_count": null,
      "_view_module": "@jupyter-widgets/base",
      "_view_module_version": "1.2.0",
      "_view_name": "StyleView",
      "description_width": ""
     }
    },
    "daaacff4c70c47a493d71083333bfac8": {
     "model_module": "@jupyter-widgets/controls",
     "model_name": "HBoxModel",
     "model_module_version": "1.5.0",
     "state": {
      "_dom_classes": [],
      "_model_module": "@jupyter-widgets/controls",
      "_model_module_version": "1.5.0",
      "_model_name": "HBoxModel",
      "_view_count": null,
      "_view_module": "@jupyter-widgets/controls",
      "_view_module_version": "1.5.0",
      "_view_name": "HBoxView",
      "box_style": "",
      "children": [
       "IPY_MODEL_301e182d105e49ab89746cdf15e7b998",
       "IPY_MODEL_00ae5f7622304c9ba60b104df9b5ac33",
       "IPY_MODEL_a38d528ec7f24938ad061d9d1b9bfc8c"
      ],
      "layout": "IPY_MODEL_b1fa0af185c0421aa0fb0bc7fa5ea29a"
     }
    },
    "301e182d105e49ab89746cdf15e7b998": {
     "model_module": "@jupyter-widgets/controls",
     "model_name": "HTMLModel",
     "model_module_version": "1.5.0",
     "state": {
      "_dom_classes": [],
      "_model_module": "@jupyter-widgets/controls",
      "_model_module_version": "1.5.0",
      "_model_name": "HTMLModel",
      "_view_count": null,
      "_view_module": "@jupyter-widgets/controls",
      "_view_module_version": "1.5.0",
      "_view_name": "HTMLView",
      "description": "",
      "description_tooltip": null,
      "layout": "IPY_MODEL_3998dd6c85bb4724b9cd49a4d7fe92b6",
      "placeholder": "​",
      "style": "IPY_MODEL_7e597bbd90c74c5ca02e3decaaf7906d",
      "value": "daily files to download: "
     }
    },
    "00ae5f7622304c9ba60b104df9b5ac33": {
     "model_module": "@jupyter-widgets/controls",
     "model_name": "FloatProgressModel",
     "model_module_version": "1.5.0",
     "state": {
      "_dom_classes": [],
      "_model_module": "@jupyter-widgets/controls",
      "_model_module_version": "1.5.0",
      "_model_name": "FloatProgressModel",
      "_view_count": null,
      "_view_module": "@jupyter-widgets/controls",
      "_view_module_version": "1.5.0",
      "_view_name": "ProgressView",
      "bar_style": "info",
      "description": "",
      "description_tooltip": null,
      "layout": "IPY_MODEL_6073ffb187b247b8ab1c2fe80190807c",
      "max": 1,
      "min": 0,
      "orientation": "horizontal",
      "style": "IPY_MODEL_16cb609f28e1440ebef5b4196c288beb",
      "value": 0
     }
    },
    "a38d528ec7f24938ad061d9d1b9bfc8c": {
     "model_module": "@jupyter-widgets/controls",
     "model_name": "HTMLModel",
     "model_module_version": "1.5.0",
     "state": {
      "_dom_classes": [],
      "_model_module": "@jupyter-widgets/controls",
      "_model_module_version": "1.5.0",
      "_model_name": "HTMLModel",
      "_view_count": null,
      "_view_module": "@jupyter-widgets/controls",
      "_view_module_version": "1.5.0",
      "_view_name": "HTMLView",
      "description": "",
      "description_tooltip": null,
      "layout": "IPY_MODEL_53388c4a852447b6a08f7a146b489409",
      "placeholder": "​",
      "style": "IPY_MODEL_ec819a7e4d2e4c52a1828ff01f1d5836",
      "value": " 0/0 [00:00&lt;?, ?files/s]"
     }
    },
    "b1fa0af185c0421aa0fb0bc7fa5ea29a": {
     "model_module": "@jupyter-widgets/base",
     "model_name": "LayoutModel",
     "model_module_version": "1.2.0",
     "state": {
      "_model_module": "@jupyter-widgets/base",
      "_model_module_version": "1.2.0",
      "_model_name": "LayoutModel",
      "_view_count": null,
      "_view_module": "@jupyter-widgets/base",
      "_view_module_version": "1.2.0",
      "_view_name": "LayoutView",
      "align_content": null,
      "align_items": null,
      "align_self": null,
      "border": null,
      "bottom": null,
      "display": null,
      "flex": null,
      "flex_flow": null,
      "grid_area": null,
      "grid_auto_columns": null,
      "grid_auto_flow": null,
      "grid_auto_rows": null,
      "grid_column": null,
      "grid_gap": null,
      "grid_row": null,
      "grid_template_areas": null,
      "grid_template_columns": null,
      "grid_template_rows": null,
      "height": null,
      "justify_content": null,
      "justify_items": null,
      "left": null,
      "margin": null,
      "max_height": null,
      "max_width": null,
      "min_height": null,
      "min_width": null,
      "object_fit": null,
      "object_position": null,
      "order": null,
      "overflow": null,
      "overflow_x": null,
      "overflow_y": null,
      "padding": null,
      "right": null,
      "top": null,
      "visibility": "hidden",
      "width": null
     }
    },
    "3998dd6c85bb4724b9cd49a4d7fe92b6": {
     "model_module": "@jupyter-widgets/base",
     "model_name": "LayoutModel",
     "model_module_version": "1.2.0",
     "state": {
      "_model_module": "@jupyter-widgets/base",
      "_model_module_version": "1.2.0",
      "_model_name": "LayoutModel",
      "_view_count": null,
      "_view_module": "@jupyter-widgets/base",
      "_view_module_version": "1.2.0",
      "_view_name": "LayoutView",
      "align_content": null,
      "align_items": null,
      "align_self": null,
      "border": null,
      "bottom": null,
      "display": null,
      "flex": null,
      "flex_flow": null,
      "grid_area": null,
      "grid_auto_columns": null,
      "grid_auto_flow": null,
      "grid_auto_rows": null,
      "grid_column": null,
      "grid_gap": null,
      "grid_row": null,
      "grid_template_areas": null,
      "grid_template_columns": null,
      "grid_template_rows": null,
      "height": null,
      "justify_content": null,
      "justify_items": null,
      "left": null,
      "margin": null,
      "max_height": null,
      "max_width": null,
      "min_height": null,
      "min_width": null,
      "object_fit": null,
      "object_position": null,
      "order": null,
      "overflow": null,
      "overflow_x": null,
      "overflow_y": null,
      "padding": null,
      "right": null,
      "top": null,
      "visibility": null,
      "width": null
     }
    },
    "7e597bbd90c74c5ca02e3decaaf7906d": {
     "model_module": "@jupyter-widgets/controls",
     "model_name": "DescriptionStyleModel",
     "model_module_version": "1.5.0",
     "state": {
      "_model_module": "@jupyter-widgets/controls",
      "_model_module_version": "1.5.0",
      "_model_name": "DescriptionStyleModel",
      "_view_count": null,
      "_view_module": "@jupyter-widgets/base",
      "_view_module_version": "1.2.0",
      "_view_name": "StyleView",
      "description_width": ""
     }
    },
    "6073ffb187b247b8ab1c2fe80190807c": {
     "model_module": "@jupyter-widgets/base",
     "model_name": "LayoutModel",
     "model_module_version": "1.2.0",
     "state": {
      "_model_module": "@jupyter-widgets/base",
      "_model_module_version": "1.2.0",
      "_model_name": "LayoutModel",
      "_view_count": null,
      "_view_module": "@jupyter-widgets/base",
      "_view_module_version": "1.2.0",
      "_view_name": "LayoutView",
      "align_content": null,
      "align_items": null,
      "align_self": null,
      "border": null,
      "bottom": null,
      "display": null,
      "flex": null,
      "flex_flow": null,
      "grid_area": null,
      "grid_auto_columns": null,
      "grid_auto_flow": null,
      "grid_auto_rows": null,
      "grid_column": null,
      "grid_gap": null,
      "grid_row": null,
      "grid_template_areas": null,
      "grid_template_columns": null,
      "grid_template_rows": null,
      "height": null,
      "justify_content": null,
      "justify_items": null,
      "left": null,
      "margin": null,
      "max_height": null,
      "max_width": null,
      "min_height": null,
      "min_width": null,
      "object_fit": null,
      "object_position": null,
      "order": null,
      "overflow": null,
      "overflow_x": null,
      "overflow_y": null,
      "padding": null,
      "right": null,
      "top": null,
      "visibility": null,
      "width": "20px"
     }
    },
    "16cb609f28e1440ebef5b4196c288beb": {
     "model_module": "@jupyter-widgets/controls",
     "model_name": "ProgressStyleModel",
     "model_module_version": "1.5.0",
     "state": {
      "_model_module": "@jupyter-widgets/controls",
      "_model_module_version": "1.5.0",
      "_model_name": "ProgressStyleModel",
      "_view_count": null,
      "_view_module": "@jupyter-widgets/base",
      "_view_module_version": "1.2.0",
      "_view_name": "StyleView",
      "bar_color": null,
      "description_width": ""
     }
    },
    "53388c4a852447b6a08f7a146b489409": {
     "model_module": "@jupyter-widgets/base",
     "model_name": "LayoutModel",
     "model_module_version": "1.2.0",
     "state": {
      "_model_module": "@jupyter-widgets/base",
      "_model_module_version": "1.2.0",
      "_model_name": "LayoutModel",
      "_view_count": null,
      "_view_module": "@jupyter-widgets/base",
      "_view_module_version": "1.2.0",
      "_view_name": "LayoutView",
      "align_content": null,
      "align_items": null,
      "align_self": null,
      "border": null,
      "bottom": null,
      "display": null,
      "flex": null,
      "flex_flow": null,
      "grid_area": null,
      "grid_auto_columns": null,
      "grid_auto_flow": null,
      "grid_auto_rows": null,
      "grid_column": null,
      "grid_gap": null,
      "grid_row": null,
      "grid_template_areas": null,
      "grid_template_columns": null,
      "grid_template_rows": null,
      "height": null,
      "justify_content": null,
      "justify_items": null,
      "left": null,
      "margin": null,
      "max_height": null,
      "max_width": null,
      "min_height": null,
      "min_width": null,
      "object_fit": null,
      "object_position": null,
      "order": null,
      "overflow": null,
      "overflow_x": null,
      "overflow_y": null,
      "padding": null,
      "right": null,
      "top": null,
      "visibility": null,
      "width": null
     }
    },
    "ec819a7e4d2e4c52a1828ff01f1d5836": {
     "model_module": "@jupyter-widgets/controls",
     "model_name": "DescriptionStyleModel",
     "model_module_version": "1.5.0",
     "state": {
      "_model_module": "@jupyter-widgets/controls",
      "_model_module_version": "1.5.0",
      "_model_name": "DescriptionStyleModel",
      "_view_count": null,
      "_view_module": "@jupyter-widgets/base",
      "_view_module_version": "1.2.0",
      "_view_name": "StyleView",
      "description_width": ""
     }
    }
   }
  }
 },
 "cells": [
  {
   "cell_type": "code",
   "execution_count": 41,
   "outputs": [
    {
     "name": "stdout",
     "output_type": "stream",
     "text": [
      "['ETHBTC', 'LTCBTC', 'BNBBTC', 'NEOBTC', 'QTUMETH', 'EOSETH', 'SNTETH', 'BNTETH', 'BCCBTC', 'GASBTC', 'BNBETH', 'BTCUSDT', 'ETHUSDT', 'HSRBTC', 'OAXETH', 'DNTETH', 'MCOETH', 'ICNETH', 'MCOBTC', 'WTCBTC', 'WTCETH', 'LRCBTC', 'LRCETH', 'QTUMBTC', 'YOYOBTC', 'OMGBTC', 'OMGETH', 'ZRXBTC', 'ZRXETH', 'STRATBTC', 'STRATETH', 'SNGLSBTC', 'SNGLSETH', 'BQXBTC', 'BQXETH', 'KNCBTC', 'KNCETH', 'FUNBTC', 'FUNETH', 'SNMBTC', 'SNMETH', 'NEOETH', 'IOTABTC', 'IOTAETH', 'LINKBTC', 'LINKETH', 'XVGBTC', 'XVGETH', 'SALTBTC', 'SALTETH', 'MDABTC', 'MDAETH', 'MTLBTC', 'MTLETH', 'SUBBTC', 'SUBETH', 'EOSBTC', 'SNTBTC', 'ETCETH', 'ETCBTC', 'MTHBTC', 'MTHETH', 'ENGBTC', 'ENGETH', 'DNTBTC', 'ZECBTC', 'ZECETH', 'BNTBTC', 'ASTBTC', 'ASTETH', 'DASHBTC', 'DASHETH', 'OAXBTC', 'ICNBTC', 'BTGBTC', 'BTGETH', 'EVXBTC', 'EVXETH', 'REQBTC', 'REQETH', 'VIBBTC', 'VIBETH', 'HSRETH', 'TRXBTC', 'TRXETH', 'POWRBTC', 'POWRETH', 'ARKBTC', 'ARKETH', 'YOYOETH', 'XRPBTC', 'XRPETH', 'MODBTC', 'MODETH', 'ENJBTC', 'ENJETH', 'STORJBTC', 'STORJETH', 'BNBUSDT', 'VENBNB', 'YOYOBNB', 'POWRBNB', 'VENBTC', 'VENETH', 'KMDBTC', 'KMDETH', 'NULSBNB', 'RCNBTC', 'RCNETH', 'RCNBNB', 'NULSBTC', 'NULSETH', 'RDNBTC', 'RDNETH', 'RDNBNB', 'XMRBTC', 'XMRETH', 'DLTBNB', 'WTCBNB', 'DLTBTC', 'DLTETH', 'AMBBTC', 'AMBETH', 'AMBBNB', 'BCCETH', 'BCCUSDT', 'BCCBNB', 'BATBTC', 'BATETH', 'BATBNB', 'BCPTBTC', 'BCPTETH', 'BCPTBNB', 'ARNBTC', 'ARNETH', 'GVTBTC', 'GVTETH', 'CDTBTC', 'CDTETH', 'GXSBTC', 'GXSETH', 'NEOUSDT', 'NEOBNB', 'POEBTC', 'POEETH', 'QSPBTC', 'QSPETH', 'QSPBNB', 'BTSBTC', 'BTSETH', 'BTSBNB', 'XZCBTC', 'XZCETH', 'XZCBNB', 'LSKBTC', 'LSKETH', 'LSKBNB', 'TNTBTC', 'TNTETH', 'FUELBTC', 'FUELETH', 'MANABTC', 'MANAETH', 'BCDBTC', 'BCDETH', 'DGDBTC', 'DGDETH', 'IOTABNB', 'ADXBTC', 'ADXETH', 'ADXBNB', 'ADABTC', 'ADAETH', 'PPTBTC', 'PPTETH', 'CMTBTC', 'CMTETH', 'CMTBNB', 'XLMBTC', 'XLMETH', 'XLMBNB', 'CNDBTC', 'CNDETH', 'CNDBNB', 'LENDBTC', 'LENDETH', 'WABIBTC', 'WABIETH', 'WABIBNB', 'LTCETH', 'LTCUSDT', 'LTCBNB', 'TNBBTC', 'TNBETH', 'WAVESBTC', 'WAVESETH', 'WAVESBNB', 'GTOBTC', 'GTOETH', 'GTOBNB', 'ICXBTC', 'ICXETH', 'ICXBNB', 'OSTBTC', 'OSTETH', 'OSTBNB', 'ELFBTC', 'ELFETH', 'AIONBTC', 'AIONETH', 'AIONBNB', 'NEBLBTC', 'NEBLBNB', 'BRDBTC', 'BRDETH', 'BRDBNB', 'MCOBNB', 'EDOBTC', 'EDOETH', 'WINGSBTC', 'WINGSETH', 'NAVBTC', 'NAVETH', 'NAVBNB', 'LUNBTC', 'LUNETH', 'TRIGBTC', 'TRIGETH', 'TRIGBNB', 'APPCBTC', 'APPCETH', 'APPCBNB', 'VIBEBTC', 'VIBEETH', 'RLCBTC', 'RLCETH', 'RLCBNB', 'INSBTC', 'INSETH', 'PIVXBTC', 'PIVXBNB', 'IOSTBTC', 'IOSTETH', 'CHATBTC', 'CHATETH', 'STEEMBTC', 'STEEMETH', 'STEEMBNB', 'NANOBTC', 'NANOETH', 'NANOBNB', 'VIABTC', 'VIAETH', 'VIABNB', 'BLZBTC', 'BLZETH', 'BLZBNB', 'AEBTC', 'AEETH', 'AEBNB', 'RPXBTC', 'RPXETH', 'RPXBNB', 'NCASHBTC', 'NCASHETH', 'NCASHBNB', 'POABTC', 'POAETH', 'POABNB', 'ZILBTC', 'ZILETH', 'ZILBNB', 'ONTBTC', 'ONTETH', 'ONTBNB', 'STORMBTC', 'STORMETH', 'STORMBNB', 'QTUMBNB', 'QTUMUSDT', 'XEMBTC', 'XEMETH', 'XEMBNB', 'WANBTC', 'WANETH', 'WANBNB', 'WPRBTC', 'WPRETH', 'QLCBTC', 'QLCETH', 'SYSBTC', 'SYSETH', 'SYSBNB', 'QLCBNB', 'GRSBTC', 'GRSETH', 'ADAUSDT', 'ADABNB', 'CLOAKBTC', 'CLOAKETH', 'GNTBTC', 'GNTETH', 'GNTBNB', 'LOOMBTC', 'LOOMETH', 'LOOMBNB', 'XRPUSDT', 'BCNBTC', 'BCNETH', 'BCNBNB', 'REPBTC', 'REPBNB', 'BTCTUSD', 'TUSDBTC', 'ETHTUSD', 'TUSDETH', 'TUSDBNB', 'ZENBTC', 'ZENETH', 'ZENBNB', 'SKYBTC', 'SKYETH', 'SKYBNB', 'EOSUSDT', 'EOSBNB', 'CVCBTC', 'CVCETH', 'CVCBNB', 'THETABTC', 'THETAETH', 'THETABNB', 'XRPBNB', 'TUSDUSDT', 'IOTAUSDT', 'XLMUSDT', 'IOTXBTC', 'IOTXETH', 'QKCBTC', 'QKCETH', 'AGIBTC', 'AGIETH', 'AGIBNB', 'NXSBTC', 'NXSETH', 'NXSBNB', 'ENJBNB', 'DATABTC', 'DATAETH', 'ONTUSDT', 'TRXBNB', 'TRXUSDT', 'ETCUSDT', 'ETCBNB', 'ICXUSDT', 'SCBTC', 'SCETH', 'NPXSBTC', 'NPXSETH', 'VENUSDT', 'KEYBTC', 'KEYETH', 'NASBTC', 'NASETH', 'NASBNB', 'MFTBTC', 'MFTETH', 'MFTBNB', 'DENTBTC', 'DENTETH', 'ARDRBTC', 'ARDRETH', 'ARDRBNB', 'NULSUSDT', 'HOTBTC', 'HOTETH', 'VETBTC', 'VETETH', 'VETUSDT', 'VETBNB', 'DOCKBTC', 'DOCKETH', 'POLYBTC', 'POLYBNB', 'PHXBTC', 'PHXETH', 'PHXBNB', 'HCBTC', 'HCETH', 'GOBTC', 'GOBNB', 'PAXBTC', 'PAXBNB', 'PAXUSDT', 'PAXETH', 'RVNBTC', 'DCRBTC', 'DCRBNB', 'USDCBNB', 'MITHBTC', 'MITHBNB', 'BCHABCBTC', 'BCHSVBTC', 'BCHABCUSDT', 'BCHSVUSDT', 'BNBPAX', 'BTCPAX', 'ETHPAX', 'XRPPAX', 'EOSPAX', 'XLMPAX', 'RENBTC', 'RENBNB', 'BNBTUSD', 'XRPTUSD', 'EOSTUSD', 'XLMTUSD', 'BNBUSDC', 'BTCUSDC', 'ETHUSDC', 'XRPUSDC', 'EOSUSDC', 'XLMUSDC', 'USDCUSDT', 'ADATUSD', 'TRXTUSD', 'NEOTUSD', 'TRXXRP', 'XZCXRP', 'PAXTUSD', 'USDCTUSD', 'USDCPAX', 'LINKUSDT', 'LINKTUSD', 'LINKPAX', 'LINKUSDC', 'WAVESUSDT', 'WAVESTUSD', 'WAVESPAX', 'WAVESUSDC', 'BCHABCTUSD', 'BCHABCPAX', 'BCHABCUSDC', 'BCHSVTUSD', 'BCHSVPAX', 'BCHSVUSDC', 'LTCTUSD', 'LTCPAX', 'LTCUSDC', 'TRXPAX', 'TRXUSDC', 'BTTBTC', 'BTTBNB', 'BTTUSDT', 'BNBUSDS', 'BTCUSDS', 'USDSUSDT', 'USDSPAX', 'USDSTUSD', 'USDSUSDC', 'BTTPAX', 'BTTTUSD', 'BTTUSDC', 'ONGBNB', 'ONGBTC', 'ONGUSDT', 'HOTBNB', 'HOTUSDT', 'ZILUSDT', 'ZRXBNB', 'ZRXUSDT', 'FETBNB', 'FETBTC', 'FETUSDT', 'BATUSDT', 'XMRBNB', 'XMRUSDT', 'ZECBNB', 'ZECUSDT', 'ZECPAX', 'ZECTUSD', 'ZECUSDC', 'IOSTUSDT', 'CELRBNB', 'CELRBTC', 'CELRUSDT', 'ADAPAX', 'ADAUSDC', 'NEOPAX', 'NEOUSDC', 'DASHBNB', 'DASHUSDT', 'NANOUSDT', 'OMGBNB', 'OMGUSDT', 'THETAUSDT', 'ENJUSDT', 'MITHUSDT', 'MATICBNB', 'MATICBTC', 'MATICUSDT', 'ATOMBNB', 'ATOMBTC', 'ATOMUSDT', 'ATOMUSDC', 'ATOMPAX', 'ATOMTUSD', 'ETCUSDC', 'ETCPAX', 'ETCTUSD', 'BATUSDC', 'BATPAX', 'BATTUSD', 'PHBBNB', 'PHBBTC', 'PHBUSDC', 'PHBTUSD', 'PHBPAX', 'TFUELBNB', 'TFUELBTC', 'TFUELUSDT', 'TFUELUSDC', 'TFUELTUSD', 'TFUELPAX', 'ONEBNB', 'ONEBTC', 'ONEUSDT', 'ONETUSD', 'ONEPAX', 'ONEUSDC', 'FTMBNB', 'FTMBTC', 'FTMUSDT', 'FTMTUSD', 'FTMPAX', 'FTMUSDC', 'BTCBBTC', 'BCPTTUSD', 'BCPTPAX', 'BCPTUSDC', 'ALGOBNB', 'ALGOBTC', 'ALGOUSDT', 'ALGOTUSD', 'ALGOPAX', 'ALGOUSDC', 'USDSBUSDT', 'USDSBUSDS', 'GTOUSDT', 'GTOPAX', 'GTOTUSD', 'GTOUSDC', 'ERDBNB', 'ERDBTC', 'ERDUSDT', 'ERDPAX', 'ERDUSDC', 'DOGEBNB', 'DOGEBTC', 'DOGEUSDT', 'DOGEPAX', 'DOGEUSDC', 'DUSKBNB', 'DUSKBTC', 'DUSKUSDT', 'DUSKUSDC', 'DUSKPAX', 'BGBPUSDC', 'ANKRBNB', 'ANKRBTC', 'ANKRUSDT', 'ANKRTUSD', 'ANKRPAX', 'ANKRUSDC', 'ONTPAX', 'ONTUSDC', 'WINBNB', 'WINBTC', 'WINUSDT', 'WINUSDC', 'COSBNB', 'COSBTC', 'COSUSDT', 'TUSDBTUSD', 'NPXSUSDT', 'NPXSUSDC', 'COCOSBNB', 'COCOSBTC', 'COCOSUSDT', 'MTLUSDT', 'TOMOBNB', 'TOMOBTC', 'TOMOUSDT', 'TOMOUSDC', 'PERLBNB', 'PERLBTC', 'PERLUSDC', 'PERLUSDT', 'DENTUSDT', 'MFTUSDT', 'KEYUSDT', 'STORMUSDT', 'DOCKUSDT', 'WANUSDT', 'FUNUSDT', 'CVCUSDT', 'BTTTRX', 'WINTRX', 'CHZBNB', 'CHZBTC', 'CHZUSDT', 'BANDBNB', 'BANDBTC', 'BANDUSDT', 'BNBBUSD', 'BTCBUSD', 'BUSDUSDT', 'BEAMBNB', 'BEAMBTC', 'BEAMUSDT', 'XTZBNB', 'XTZBTC', 'XTZUSDT', 'RENUSDT', 'RVNUSDT', 'HCUSDT', 'HBARBNB', 'HBARBTC', 'HBARUSDT', 'NKNBNB', 'NKNBTC', 'NKNUSDT', 'XRPBUSD', 'ETHBUSD', 'BCHABCBUSD', 'LTCBUSD', 'LINKBUSD', 'ETCBUSD', 'STXBNB', 'STXBTC', 'STXUSDT', 'KAVABNB', 'KAVABTC', 'KAVAUSDT', 'BUSDNGN', 'BNBNGN', 'BTCNGN', 'ARPABNB', 'ARPABTC', 'ARPAUSDT', 'TRXBUSD', 'EOSBUSD', 'IOTXUSDT', 'RLCUSDT', 'MCOUSDT', 'XLMBUSD', 'ADABUSD', 'CTXCBNB', 'CTXCBTC', 'CTXCUSDT', 'BCHBNB', 'BCHBTC', 'BCHUSDT', 'BCHUSDC', 'BCHTUSD', 'BCHPAX', 'BCHBUSD', 'BTCRUB', 'ETHRUB', 'XRPRUB', 'BNBRUB', 'TROYBNB', 'TROYBTC', 'TROYUSDT', 'BUSDRUB', 'QTUMBUSD', 'VETBUSD', 'VITEBNB', 'VITEBTC', 'VITEUSDT', 'FTTBNB', 'FTTBTC', 'FTTUSDT', 'BTCTRY', 'BNBTRY', 'BUSDTRY', 'ETHTRY', 'XRPTRY', 'USDTTRY', 'USDTRUB', 'BTCEUR', 'ETHEUR', 'BNBEUR', 'XRPEUR', 'EURBUSD', 'EURUSDT', 'OGNBNB', 'OGNBTC', 'OGNUSDT', 'DREPBNB', 'DREPBTC', 'DREPUSDT', 'BULLUSDT', 'BULLBUSD', 'BEARUSDT', 'BEARBUSD', 'ETHBULLUSDT', 'ETHBULLBUSD', 'ETHBEARUSDT', 'ETHBEARBUSD', 'TCTBNB', 'TCTBTC', 'TCTUSDT', 'WRXBNB', 'WRXBTC', 'WRXUSDT', 'ICXBUSD', 'BTSUSDT', 'BTSBUSD', 'LSKUSDT', 'BNTUSDT', 'BNTBUSD', 'LTOBNB', 'LTOBTC', 'LTOUSDT', 'ATOMBUSD', 'DASHBUSD', 'NEOBUSD', 'WAVESBUSD', 'XTZBUSD', 'EOSBULLUSDT', 'EOSBULLBUSD', 'EOSBEARUSDT', 'EOSBEARBUSD', 'XRPBULLUSDT', 'XRPBULLBUSD', 'XRPBEARUSDT', 'XRPBEARBUSD', 'BATBUSD', 'ENJBUSD', 'NANOBUSD', 'ONTBUSD', 'RVNBUSD', 'STRATBUSD', 'STRATBNB', 'STRATUSDT', 'AIONBUSD', 'AIONUSDT', 'MBLBNB', 'MBLBTC', 'MBLUSDT', 'COTIBNB', 'COTIBTC', 'COTIUSDT', 'ALGOBUSD', 'BTTBUSD', 'TOMOBUSD', 'XMRBUSD', 'ZECBUSD', 'BNBBULLUSDT', 'BNBBULLBUSD', 'BNBBEARUSDT', 'BNBBEARBUSD', 'STPTBNB', 'STPTBTC', 'STPTUSDT', 'BTCZAR', 'ETHZAR', 'BNBZAR', 'USDTZAR', 'BUSDZAR', 'BTCBKRW', 'ETHBKRW', 'BNBBKRW', 'WTCUSDT', 'DATABUSD', 'DATAUSDT', 'XZCUSDT', 'SOLBNB', 'SOLBTC', 'SOLUSDT', 'SOLBUSD', 'BTCIDRT', 'BNBIDRT', 'USDTIDRT', 'BUSDIDRT', 'CTSIBTC', 'CTSIUSDT', 'CTSIBNB', 'CTSIBUSD', 'HIVEBNB', 'HIVEBTC', 'HIVEUSDT', 'CHRBNB', 'CHRBTC', 'CHRUSDT', 'BTCUPUSDT', 'BTCDOWNUSDT', 'GXSUSDT', 'ARDRUSDT', 'ERDBUSD', 'LENDUSDT', 'HBARBUSD', 'MATICBUSD', 'WRXBUSD', 'ZILBUSD', 'MDTBNB', 'MDTBTC', 'MDTUSDT', 'STMXBTC', 'STMXETH', 'STMXUSDT', 'KNCBUSD', 'KNCUSDT', 'REPBUSD', 'REPUSDT', 'LRCBUSD', 'LRCUSDT', 'IQBNB', 'IQBUSD', 'PNTBTC', 'PNTUSDT', 'BTCGBP', 'ETHGBP', 'XRPGBP', 'BNBGBP', 'GBPBUSD', 'DGBBTC', 'DGBBUSD', 'BTCUAH', 'USDTUAH', 'COMPBTC', 'COMPBNB', 'COMPBUSD', 'COMPUSDT', 'BTCBIDR', 'ETHBIDR', 'BNBBIDR', 'BUSDBIDR', 'USDTBIDR', 'BKRWUSDT', 'BKRWBUSD', 'SCUSDT', 'ZENUSDT', 'SXPBTC', 'SXPBNB', 'SXPBUSD', 'SNXBTC', 'SNXBNB', 'SNXBUSD', 'SNXUSDT', 'ETHUPUSDT', 'ETHDOWNUSDT', 'ADAUPUSDT', 'ADADOWNUSDT', 'LINKUPUSDT', 'LINKDOWNUSDT', 'VTHOBNB', 'VTHOBUSD', 'VTHOUSDT', 'DCRBUSD', 'DGBUSDT', 'GBPUSDT', 'STORJBUSD', 'SXPUSDT', 'IRISBNB', 'IRISBTC', 'IRISBUSD', 'MKRBNB', 'MKRBTC', 'MKRUSDT', 'MKRBUSD', 'DAIBNB', 'DAIBTC', 'DAIUSDT', 'DAIBUSD', 'RUNEBNB', 'RUNEBTC', 'RUNEBUSD', 'MANABUSD', 'DOGEBUSD', 'LENDBUSD', 'ZRXBUSD', 'DCRUSDT', 'STORJUSDT', 'XRPBKRW', 'ADABKRW', 'BTCAUD', 'ETHAUD', 'AUDBUSD', 'FIOBNB', 'FIOBTC', 'FIOBUSD', 'BNBUPUSDT', 'BNBDOWNUSDT', 'XTZUPUSDT', 'XTZDOWNUSDT', 'AVABNB', 'AVABTC', 'AVABUSD', 'USDTBKRW', 'BUSDBKRW', 'IOTABUSD', 'MANAUSDT', 'XRPAUD', 'BNBAUD', 'AUDUSDT', 'BALBNB', 'BALBTC', 'BALBUSD', 'YFIBNB', 'YFIBTC', 'YFIBUSD', 'YFIUSDT', 'BLZBUSD', 'KMDBUSD', 'BALUSDT', 'BLZUSDT', 'IRISUSDT', 'KMDUSDT', 'BTCDAI', 'ETHDAI', 'BNBDAI', 'USDTDAI', 'BUSDDAI', 'JSTBNB', 'JSTBTC', 'JSTBUSD', 'JSTUSDT', 'SRMBNB', 'SRMBTC', 'SRMBUSD', 'SRMUSDT', 'ANTBNB', 'ANTBTC', 'ANTBUSD', 'ANTUSDT', 'CRVBNB', 'CRVBTC', 'CRVBUSD', 'CRVUSDT', 'SANDBNB', 'SANDBTC', 'SANDUSDT', 'SANDBUSD', 'OCEANBNB', 'OCEANBTC', 'OCEANBUSD', 'OCEANUSDT', 'NMRBTC', 'NMRBUSD', 'NMRUSDT', 'DOTBNB', 'DOTBTC', 'DOTBUSD', 'DOTUSDT', 'LUNABNB', 'LUNABTC', 'LUNABUSD', 'LUNAUSDT', 'IDEXBTC', 'IDEXBUSD', 'RSRBNB', 'RSRBTC', 'RSRBUSD', 'RSRUSDT', 'PAXGBNB', 'PAXGBTC', 'PAXGBUSD', 'PAXGUSDT', 'WNXMBNB', 'WNXMBTC', 'WNXMBUSD', 'WNXMUSDT', 'TRBBNB', 'TRBBTC', 'TRBBUSD', 'TRBUSDT', 'ETHNGN', 'DOTBIDR', 'LINKAUD', 'SXPAUD', 'BZRXBNB', 'BZRXBTC', 'BZRXBUSD', 'BZRXUSDT', 'WBTCBTC', 'WBTCETH', 'SUSHIBNB', 'SUSHIBTC', 'SUSHIBUSD', 'SUSHIUSDT', 'YFIIBNB', 'YFIIBTC', 'YFIIBUSD', 'YFIIUSDT', 'KSMBNB', 'KSMBTC', 'KSMBUSD', 'KSMUSDT', 'EGLDBNB', 'EGLDBTC', 'EGLDBUSD', 'EGLDUSDT', 'DIABNB', 'DIABTC', 'DIABUSD', 'DIAUSDT', 'RUNEUSDT', 'FIOUSDT', 'UMABTC', 'UMAUSDT', 'EOSUPUSDT', 'EOSDOWNUSDT', 'TRXUPUSDT', 'TRXDOWNUSDT', 'XRPUPUSDT', 'XRPDOWNUSDT', 'DOTUPUSDT', 'DOTDOWNUSDT', 'SRMBIDR', 'ONEBIDR', 'LINKTRY', 'USDTNGN', 'BELBNB', 'BELBTC', 'BELBUSD', 'BELUSDT', 'WINGBNB', 'WINGBTC', 'SWRVBNB', 'SWRVBUSD', 'WINGBUSD', 'WINGUSDT', 'LTCUPUSDT', 'LTCDOWNUSDT', 'LENDBKRW', 'SXPEUR', 'CREAMBNB', 'CREAMBUSD', 'UNIBNB', 'UNIBTC', 'UNIBUSD', 'UNIUSDT', 'NBSBTC', 'NBSUSDT', 'OXTBTC', 'OXTUSDT', 'SUNBTC', 'SUNUSDT', 'AVAXBNB', 'AVAXBTC', 'AVAXBUSD', 'AVAXUSDT', 'HNTBTC', 'HNTUSDT', 'BAKEBNB', 'BURGERBNB', 'SXPBIDR', 'LINKBKRW', 'FLMBNB', 'FLMBTC', 'FLMBUSD', 'FLMUSDT', 'SCRTBTC', 'SCRTETH', 'CAKEBNB', 'CAKEBUSD', 'SPARTABNB', 'UNIUPUSDT', 'UNIDOWNUSDT', 'ORNBTC', 'ORNUSDT', 'TRXNGN', 'SXPTRY', 'UTKBTC', 'UTKUSDT', 'XVSBNB', 'XVSBTC', 'XVSBUSD', 'XVSUSDT', 'ALPHABNB', 'ALPHABTC', 'ALPHABUSD', 'ALPHAUSDT', 'VIDTBTC', 'VIDTBUSD', 'AAVEBNB', 'BTCBRL', 'USDTBRL', 'AAVEBTC', 'AAVEETH', 'AAVEBUSD', 'AAVEUSDT', 'AAVEBKRW', 'NEARBNB', 'NEARBTC', 'NEARBUSD', 'NEARUSDT', 'SXPUPUSDT', 'SXPDOWNUSDT', 'DOTBKRW', 'SXPGBP', 'FILBNB', 'FILBTC', 'FILBUSD', 'FILUSDT', 'FILUPUSDT', 'FILDOWNUSDT', 'YFIUPUSDT', 'YFIDOWNUSDT', 'INJBNB', 'INJBTC', 'INJBUSD', 'INJUSDT', 'AERGOBTC', 'AERGOBUSD', 'LINKEUR', 'ONEBUSD', 'EASYETH', 'AUDIOBTC', 'AUDIOBUSD', 'AUDIOUSDT', 'CTKBNB', 'CTKBTC', 'CTKBUSD', 'CTKUSDT', 'BCHUPUSDT', 'BCHDOWNUSDT', 'BOTBTC', 'BOTBUSD', 'ETHBRL', 'DOTEUR', 'AKROBTC', 'AKROUSDT', 'KP3RBNB', 'KP3RBUSD', 'AXSBNB', 'AXSBTC', 'AXSBUSD', 'AXSUSDT', 'HARDBNB', 'HARDBTC', 'HARDBUSD', 'HARDUSDT', 'BNBBRL', 'LTCEUR', 'RENBTCBTC', 'RENBTCETH', 'DNTBUSD', 'DNTUSDT', 'SLPETH', 'ADAEUR', 'LTCNGN', 'CVPETH', 'CVPBUSD', 'STRAXBTC', 'STRAXETH', 'STRAXBUSD', 'STRAXUSDT', 'FORBTC', 'FORBUSD', 'UNFIBNB', 'UNFIBTC', 'UNFIBUSD', 'UNFIUSDT', 'FRONTETH', 'FRONTBUSD', 'BCHABUSD', 'ROSEBTC', 'ROSEBUSD', 'ROSEUSDT', 'AVAXTRY', 'BUSDBRL', 'AVAUSDT', 'SYSBUSD', 'XEMUSDT', 'HEGICETH', 'HEGICBUSD', 'AAVEUPUSDT', 'AAVEDOWNUSDT', 'PROMBNB', 'PROMBUSD', 'XRPBRL', 'XRPNGN', 'SKLBTC', 'SKLBUSD', 'SKLUSDT', 'BCHEUR', 'YFIEUR', 'ZILBIDR', 'SUSDBTC', 'SUSDETH', 'SUSDUSDT', 'COVERETH', 'COVERBUSD', 'GLMBTC', 'GLMETH', 'GHSTETH', 'GHSTBUSD', 'SUSHIUPUSDT', 'SUSHIDOWNUSDT', 'XLMUPUSDT', 'XLMDOWNUSDT', 'LINKBRL', 'LINKNGN', 'LTCRUB', 'TRXTRY', 'XLMEUR', 'DFETH', 'DFBUSD', 'GRTBTC', 'GRTETH', 'GRTUSDT', 'JUVBTC', 'JUVBUSD', 'JUVUSDT', 'PSGBTC', 'PSGBUSD', 'PSGUSDT', 'BUSDBVND', 'USDTBVND', '1INCHBTC', '1INCHUSDT', 'REEFBTC', 'REEFUSDT', 'OGBTC', 'OGUSDT', 'ATMBTC', 'ATMUSDT', 'ASRBTC', 'ASRUSDT', 'CELOBTC', 'CELOUSDT', 'RIFBTC', 'RIFUSDT', 'CHZTRY', 'XLMTRY', 'LINKGBP', 'GRTEUR', 'BTCSTBTC', 'BTCSTBUSD', 'BTCSTUSDT', 'TRUBTC', 'TRUBUSD', 'TRUUSDT', 'DEXEETH', 'DEXEBUSD', 'EOSEUR', 'LTCBRL', 'USDCBUSD', 'TUSDBUSD', 'PAXBUSD', 'CKBBTC', 'CKBBUSD', 'CKBUSDT', 'TWTBTC', 'TWTBUSD', 'TWTUSDT', 'FIROBTC', 'FIROETH', 'FIROUSDT', 'BETHETH', 'DOGEEUR', 'DOGETRY', 'DOGEAUD', 'DOGEBRL', 'DOTNGN', 'PROSETH', 'LITBTC', 'LITBUSD', 'LITUSDT', 'BTCVAI', 'BUSDVAI', 'SFPBTC', 'SFPBUSD', 'SFPUSDT', 'DOGEGBP', 'DOTTRY', 'FXSBTC', 'FXSBUSD', 'DODOBTC', 'DODOBUSD', 'DODOUSDT', 'FRONTBTC', 'EASYBTC', 'CAKEBTC', 'CAKEUSDT', 'BAKEBUSD', 'UFTETH', 'UFTBUSD', '1INCHBUSD', 'BANDBUSD', 'GRTBUSD', 'IOSTBUSD', 'OMGBUSD', 'REEFBUSD', 'ACMBTC', 'ACMBUSD', 'ACMUSDT', 'AUCTIONBTC', 'AUCTIONBUSD', 'PHABTC', 'PHABUSD', 'DOTGBP', 'ADATRY', 'ADABRL', 'ADAGBP', 'TVKBTC', 'TVKBUSD', 'BADGERBTC', 'BADGERBUSD', 'BADGERUSDT', 'FISBTC', 'FISBUSD', 'FISUSDT', 'DOTBRL', 'ADAAUD', 'HOTTRY', 'EGLDEUR', 'OMBTC', 'OMBUSD', 'OMUSDT', 'PONDBTC', 'PONDBUSD', 'PONDUSDT', 'DEGOBTC', 'DEGOBUSD', 'DEGOUSDT', 'AVAXEUR', 'BTTTRY', 'CHZBRL', 'UNIEUR', 'ALICEBTC', 'ALICEBUSD', 'ALICEUSDT', 'CHZBUSD', 'CHZEUR', 'CHZGBP', 'BIFIBNB', 'BIFIBUSD', 'LINABTC', 'LINABUSD', 'LINAUSDT', 'ADARUB', 'ENJBRL', 'ENJEUR', 'MATICEUR', 'NEOTRY', 'PERPBTC', 'PERPBUSD', 'PERPUSDT', 'RAMPBTC', 'RAMPBUSD', 'RAMPUSDT', 'SUPERBTC', 'SUPERBUSD', 'SUPERUSDT', 'CFXBTC', 'CFXBUSD', 'CFXUSDT', 'ENJGBP', 'EOSTRY', 'LTCGBP', 'LUNAEUR', 'RVNTRY', 'THETAEUR', 'XVGBUSD', 'EPSBTC', 'EPSBUSD', 'EPSUSDT', 'AUTOBTC', 'AUTOBUSD', 'AUTOUSDT', 'TKOBTC', 'TKOBIDR', 'TKOBUSD', 'TKOUSDT', 'PUNDIXETH', 'PUNDIXUSDT', 'BTTBRL', 'BTTEUR', 'HOTEUR', 'WINEUR', 'TLMBTC', 'TLMBUSD', 'TLMUSDT', '1INCHUPUSDT', '1INCHDOWNUSDT', 'BTGBUSD', 'BTGUSDT', 'HOTBUSD', 'BNBUAH', 'ONTTRY', 'VETEUR', 'VETGBP', 'WINBRL', 'MIRBTC', 'MIRBUSD', 'MIRUSDT', 'BARBTC', 'BARBUSD', 'BARUSDT', 'FORTHBTC', 'FORTHBUSD', 'FORTHUSDT', 'CAKEGBP', 'DOGERUB', 'HOTBRL', 'WRXEUR', 'EZBTC', 'EZETH', 'BAKEUSDT', 'BURGERBUSD', 'BURGERUSDT', 'SLPBUSD', 'SLPUSDT', 'TRXAUD', 'TRXEUR', 'VETTRY', 'SHIBUSDT', 'SHIBBUSD', 'ICPBTC', 'ICPBNB', 'ICPBUSD', 'ICPUSDT', 'SHIBEUR', 'SHIBRUB', 'ETCEUR', 'ETCBRL', 'DOGEBIDR', 'ARBTC', 'ARBNB', 'ARBUSD', 'ARUSDT', 'POLSBTC', 'POLSBNB', 'POLSBUSD', 'POLSUSDT', 'MDXBTC', 'MDXBNB', 'MDXBUSD', 'MDXUSDT', 'MASKBNB', 'MASKBUSD', 'MASKUSDT', 'LPTBTC', 'LPTBNB', 'LPTBUSD', 'LPTUSDT', 'ETHUAH', 'MATICBRL', 'SOLEUR', 'SHIBBRL', 'AGIXBTC', 'ICPEUR', 'MATICGBP', 'SHIBTRY', 'MATICBIDR', 'MATICRUB', 'NUBTC', 'NUBNB', 'NUBUSD', 'NUUSDT', 'XVGUSDT', 'RLCBUSD', 'CELRBUSD', 'ATMBUSD', 'ZENBUSD', 'FTMBUSD', 'THETABUSD', 'WINBUSD', 'KAVABUSD', 'XEMBUSD', 'ATABTC', 'ATABNB', 'ATABUSD', 'ATAUSDT', 'GTCBTC', 'GTCBNB', 'GTCBUSD', 'GTCUSDT', 'TORNBTC', 'TORNBNB', 'TORNBUSD', 'TORNUSDT', 'MATICTRY', 'ETCGBP', 'SOLGBP', 'BAKEBTC', 'COTIBUSD', 'KEEPBTC', 'KEEPBNB', 'KEEPBUSD', 'KEEPUSDT', 'SOLTRY', 'RUNEGBP', 'SOLBRL', 'SCBUSD', 'CHRBUSD', 'STMXBUSD', 'HNTBUSD', 'FTTBUSD', 'DOCKBUSD', 'ADABIDR', 'ERNBNB', 'ERNBUSD', 'ERNUSDT', 'KLAYBTC', 'KLAYBNB', 'KLAYBUSD', 'KLAYUSDT', 'RUNEEUR', 'MATICAUD', 'DOTRUB', 'UTKBUSD', 'IOTXBUSD', 'PHAUSDT', 'SOLRUB', 'RUNEAUD', 'BUSDUAH', 'BONDBTC', 'BONDBNB', 'BONDBUSD', 'BONDUSDT', 'MLNBTC', 'MLNBNB', 'MLNBUSD', 'MLNUSDT', 'GRTTRY', 'CAKEBRL', 'ICPRUB', 'DOTAUD', 'AAVEBRL', 'EOSAUD', 'DEXEUSDT', 'LTOBUSD', 'ADXBUSD', 'QUICKBTC', 'QUICKBNB', 'QUICKBUSD', 'C98USDT', 'C98BUSD', 'C98BNB', 'C98BTC', 'CLVBTC', 'CLVBNB', 'CLVBUSD', 'CLVUSDT', 'QNTBTC', 'QNTBNB', 'QNTBUSD', 'QNTUSDT', 'FLOWBTC', 'FLOWBNB', 'FLOWBUSD', 'FLOWUSDT', 'XECBUSD', 'AXSBRL', 'AXSAUD', 'TVKUSDT', 'MINABTC', 'MINABNB', 'MINABUSD', 'MINAUSDT', 'RAYBNB', 'RAYBUSD', 'RAYUSDT', 'FARMBTC', 'FARMBNB', 'FARMBUSD', 'FARMUSDT', 'ALPACABTC', 'ALPACABNB', 'ALPACABUSD', 'ALPACAUSDT', 'TLMTRY', 'QUICKUSDT', 'ORNBUSD', 'MBOXBTC', 'MBOXBNB', 'MBOXBUSD', 'MBOXUSDT', 'VGXBTC', 'VGXETH', 'FORUSDT', 'REQUSDT', 'GHSTUSDT', 'TRURUB', 'FISBRL', 'WAXPUSDT', 'WAXPBUSD', 'WAXPBNB', 'WAXPBTC', 'TRIBEBTC', 'TRIBEBNB', 'TRIBEBUSD', 'TRIBEUSDT', 'GNOUSDT', 'GNOBUSD', 'GNOBNB', 'GNOBTC', 'ARPATRY', 'PROMBTC', 'MTLBUSD', 'OGNBUSD', 'XECUSDT', 'C98BRL', 'SOLAUD', 'XRPBIDR', 'POLYBUSD', 'ELFUSDT', 'DYDXUSDT', 'DYDXBUSD', 'DYDXBNB', 'DYDXBTC', 'ELFBUSD', 'POLYUSDT', 'IDEXUSDT', 'VIDTUSDT', 'SOLBIDR', 'BTCUSDP', 'ETHUSDP', 'BNBUSDP', 'USDPBUSD', 'USDPUSDT', 'GALAUSDT', 'GALABUSD', 'GALABNB', 'GALABTC', 'FTMBIDR', 'ALGOBIDR', 'CAKEAUD', 'KSMAUD', 'WAVESRUB', 'SUNBUSD', 'ILVUSDT', 'ILVBUSD', 'ILVBNB', 'ILVBTC', 'RENBUSD', 'YGGUSDT', 'YGGBUSD', 'YGGBNB', 'YGGBTC', 'STXBUSD', 'SYSUSDT', 'DFUSDT', 'SOLUSDC', 'ARPARUB', 'LTCUAH', 'FETBUSD', 'ARPABUSD', 'LSKBUSD', 'AVAXBIDR', 'ALICEBIDR', 'FIDAUSDT', 'FIDABUSD', 'FIDABNB', 'FIDABTC', 'DENTBUSD', 'FRONTUSDT', 'CVPUSDT', 'AGLDBTC', 'AGLDBNB', 'AGLDBUSD', 'AGLDUSDT', 'RADBTC', 'RADBNB', 'RADBUSD', 'RADUSDT', 'UNIAUD', 'HIVEBUSD', 'STPTBUSD', 'BETABTC', 'BETABNB', 'BETABUSD', 'BETAUSDT', 'SHIBAUD', 'RAREBTC', 'RAREBNB', 'RAREBUSD', 'RAREUSDT', 'AVAXBRL', 'AVAXAUD', 'LUNAAUD', 'TROYBUSD', 'AXSETH', 'FTMETH', 'SOLETH', 'SSVBTC', 'SSVETH', 'LAZIOTRY', 'LAZIOEUR', 'LAZIOBTC', 'LAZIOUSDT', 'CHESSBTC', 'CHESSBNB', 'CHESSBUSD', 'CHESSUSDT', 'FTMAUD', 'FTMBRL', 'SCRTBUSD', 'ADXUSDT', 'AUCTIONUSDT', 'CELOBUSD', 'FTMRUB', 'NUAUD', 'NURUB', 'REEFTRY', 'REEFBIDR', 'SHIBDOGE', 'DARUSDT', 'DARBUSD', 'DARBNB', 'DARBTC', 'BNXBTC', 'BNXBNB', 'BNXBUSD', 'BNXUSDT', 'RGTUSDT', 'RGTBTC', 'RGTBUSD', 'RGTBNB', 'LAZIOBUSD', 'OXTBUSD', 'MANATRY', 'ALGORUB', 'SHIBUAH', 'LUNABIDR', 'AUDUSDC', 'MOVRBTC', 'MOVRBNB', 'MOVRBUSD', 'MOVRUSDT', 'CITYBTC', 'CITYBNB', 'CITYBUSD', 'CITYUSDT', 'ENSBTC', 'ENSBNB', 'ENSBUSD', 'ENSUSDT', 'SANDETH', 'DOTETH', 'MATICETH', 'ANKRBUSD', 'SANDTRY', 'MANABRL', 'KP3RUSDT', 'QIUSDT', 'QIBUSD', 'QIBNB', 'QIBTC', 'PORTOBTC', 'PORTOUSDT', 'PORTOTRY', 'PORTOEUR', 'POWRUSDT', 'POWRBUSD', 'AVAXETH', 'SLPTRY', 'FISTRY', 'LRCTRY', 'CHRETH', 'FISBIDR', 'VGXUSDT', 'GALAETH', 'JASMYUSDT', 'JASMYBUSD', 'JASMYBNB', 'JASMYBTC', 'AMPBTC', 'AMPBNB', 'AMPBUSD', 'AMPUSDT', 'PLABTC', 'PLABNB', 'PLABUSD', 'PLAUSDT', 'PYRBTC', 'PYRBUSD', 'PYRUSDT', 'RNDRBTC', 'RNDRUSDT', 'RNDRBUSD', 'ALCXBTC', 'ALCXBUSD', 'ALCXUSDT', 'SANTOSBTC', 'SANTOSUSDT', 'SANTOSBRL', 'SANTOSTRY', 'MCBTC', 'MCBUSD', 'MCUSDT', 'BELTRY', 'COCOSBUSD', 'DENTTRY', 'ENJTRY', 'NEORUB', 'SANDAUD', 'SLPBIDR', 'ANYBTC', 'ANYBUSD', 'ANYUSDT', 'BICOBTC', 'BICOBUSD', 'BICOUSDT', 'FLUXBTC', 'FLUXBUSD', 'FLUXUSDT', 'ALICETRY', 'FXSUSDT', 'GALABRL', 'GALATRY', 'LUNATRY', 'REQBUSD', 'SANDBRL', 'MANABIDR', 'SANDBIDR', 'VOXELBTC', 'VOXELBNB', 'VOXELBUSD', 'VOXELUSDT', 'COSBUSD', 'CTXCBUSD', 'FTMTRY', 'MANABNB', 'MINATRY', 'XTZTRY', 'HIGHBTC', 'HIGHBUSD', 'HIGHUSDT', 'CVXBTC', 'CVXBUSD', 'CVXUSDT', 'PEOPLEBTC', 'PEOPLEBUSD', 'PEOPLEUSDT', 'OOKIBUSD', 'OOKIUSDT', 'COCOSTRY', 'GXSBNB', 'LINKBNB', 'LUNAETH', 'MDTBUSD', 'NULSBUSD', 'SPELLBTC', 'SPELLUSDT', 'SPELLBUSD', 'USTBTC', 'USTBUSD', 'USTUSDT', 'JOEBTC', 'JOEBUSD', 'JOEUSDT', 'ATOMETH', 'DUSKBUSD', 'EGLDETH', 'ICPETH', 'LUNABRL', 'LUNAUST', 'NEARETH', 'ROSEBNB', 'VOXELETH', 'ALICEBNB', 'ATOMTRY', 'ETHUST', 'GALAAUD', 'LRCBNB', 'ONEETH', 'OOKIBNB', 'ACHBTC', 'ACHBUSD', 'ACHUSDT', 'IMXBTC', 'IMXBUSD', 'IMXUSDT', 'GLMRBTC', 'GLMRBUSD', 'GLMRUSDT', 'ATOMBIDR', 'DYDXETH', 'FARMETH', 'FORBNB', 'ICPTRY', 'JASMYETH', 'LINABNB', 'OOKIETH', 'ROSEETH', 'UMABUSD', 'UNIETH', 'XTZETH', 'LOKABTC', 'LOKABNB', 'LOKABUSD', 'LOKAUSDT', 'ATOMBRL', 'BNBUST', 'CRVETH', 'HIGHBNB', 'NEARRUB', 'ROSETRY', 'SCRTUSDT', 'API3BTC', 'API3BUSD', 'API3USDT', 'BTTCUSDT', 'BTTCUSDC', 'BTTCTRY', 'ACABTC', 'ACABUSD', 'ACAUSDT', 'ANCBTC', 'ANCBUSD', 'ANCUSDT', 'BDOTDOT', 'XNOBTC', 'XNOETH', 'XNOBUSD', 'XNOUSDT', 'COSTRY', 'KAVAETH', 'MCBNB', 'ONETRY', 'WOOBTC', 'WOOBNB', 'WOOBUSD', 'WOOUSDT', 'CELRETH', 'PEOPLEBNB', 'SLPBNB', 'SPELLBNB', 'SPELLTRY', 'TFUELBUSD', 'AXSTRY', 'DARTRY', 'NEARTRY', 'IDEXBNB', 'ALPINEEUR', 'ALPINETRY', 'ALPINEUSDT', 'ALPINEBTC', 'TUSDT', 'TBUSD', 'API3BNB', 'BETAETH', 'INJTRY', 'TLMBNB', 'ASTRBUSD', 'ASTRUSDT', 'API3TRY', 'GLMRBNB', 'MBOXTRY', 'GMTBTC', 'GMTBNB', 'GMTBUSD', 'GMTUSDT', 'ANCBNB', 'ATOMEUR', 'GALAEUR', 'KSMETH', 'UMATRY', 'KDABTC', 'KDABUSD', 'KDAUSDT', 'APEUSDT', 'APEBUSD', 'APEBTC', 'ALPINEBUSD', 'LUNAGBP', 'NEAREUR', 'TWTTRY', 'WAVESEUR', 'APEEUR', 'APEGBP', 'APETRY', 'BSWUSDT', 'BSWBUSD', 'BSWBNB', 'APEBNB', 'GMTBRL', 'GMTETH', 'JASMYTRY', 'SANTOSBUSD', 'APEAUD', 'BIFIUSDT', 'GMTEUR', 'IMXBNB', 'RUNEETH', 'AVAXGBP', 'MULTIBTC', 'MULTIBUSD', 'MULTIUSDT', 'APEETH', 'BSWETH', 'FILTRY', 'FTMEUR', 'GMTGBP', 'ZILTRY', 'GMTTRY', 'WAVESTRY', 'BTCUST', 'ASTRBTC', 'ASTRETH', 'BSWTRY', 'FTTETH', 'FUNBNB', 'PORTOBUSD', 'STEEMUSDT', 'ZILEUR', 'APEBRL', 'AUDIOTRY', 'BTTCBUSD', 'GMTAUD', 'MBLBUSD', 'MOBUSDT', 'MOBBUSD', 'MOBBTC', 'NEXOUSDT', 'NEXOBUSD', 'NEXOBTC', 'REIUSDT', 'REIBNB', 'REIETH', 'GALUSDT', 'GALBUSD', 'GALBNB', 'GALBTC', 'JASMYEUR', 'KNCBNB', 'SHIBGBP', 'GALEUR', 'GALTRY', 'LDOBUSD', 'LDOUSDT', 'LDOBTC', 'ENSTRY', 'DAREUR', 'DARETH', 'ALGOETH', 'ALGOTRY', 'GALETH', 'EPXUSDT', 'EPXBUSD', 'RUNETRY', 'GALBRL', 'STEEMBUSD', 'CVCBUSD', 'REIBUSD', 'DREPBUSD', 'AKROBUSD', 'PUNDIXBUSD', 'LUNCBUSD', 'USTCBUSD', 'OPBTC', 'OPBUSD', 'OPUSDT', 'OGBUSD', 'KEYBUSD', 'ASRBUSD', 'FIROBUSD', 'NKNBUSD', 'OPBNB', 'OPEUR', 'GTOBUSD', 'SNXETH', 'WBTCBUSD', 'BELETH', 'LITETH', 'LEVERUSDT', 'LEVERBUSD', 'BURGERETH', 'PEOPLEETH', 'UNFIETH', 'BONDETH', 'STORJTRY', 'OPETH', 'ETCTRY', 'WINGETH', 'FILETH', 'GLMBUSD', 'SSVBUSD', 'STGBTC', 'STGBUSD', 'STGUSDT', 'ANKRTRY', 'ARKBUSD', 'BETHBUSD', 'LOOMBUSD', 'SNMBUSD', 'AMBBUSD', 'LUNCUSDT', 'PHBBUSD', 'GASBUSD', 'NEBLBUSD', 'PROSBUSD', 'VIBBUSD', 'GMXBTC', 'GMXBUSD', 'GMXUSDT', 'AGIXBUSD', 'NEBLUSDT', 'SNTBUSD', 'POLYXBTC', 'POLYXBUSD', 'POLYXUSDT', 'APTBTC', 'APTUSDT', 'APTBUSD', 'BTCPLN', 'ETHPLN', 'BUSDPLN', 'APTEUR', 'APTTRY', 'APTBRL', 'QKCBUSD', 'OSMOBTC', 'OSMOUSDT', 'OSMOBUSD', 'HFTBTC', 'HFTBUSD', 'HFTUSDT', 'ARPAETH', 'PHBUSDT', 'VITEBUSD', 'HOOKBTC', 'HOOKUSDT', 'HOOKBUSD', 'HOOKBNB', 'MAGICBTC', 'MAGICBUSD', 'MAGICUSDT', 'BUSDRON', 'HIFIETH', 'HIFIUSDT', 'RPLBTC', 'RPLBUSD', 'RPLUSDT', 'PROSUSDT', 'FETTRY', 'GFTBUSD', 'AGIXUSDT', 'APTETH', 'BTCRON', 'GNSUSDT', 'GNSBTC', 'SYNBTC', 'SYNUSDT', 'VIBUSDT', 'SSVUSDT', 'LQTYUSDT', 'LQTYBTC', 'AMBUSDT', 'BETHUSDT', 'CFXTRY', 'STXTRY', 'USTCUSDT', 'GASUSDT', 'GLMUSDT', 'PROMUSDT', 'QKCUSDT', 'UFTUSDT', 'IDBTC', 'IDBNB', 'IDUSDT', 'ARBBTC', 'ARBUSDT', 'AGIXTRY', 'LOOMUSDT', 'OAXUSDT', 'ARBTUSD', 'ARBTRY', 'ARBEUR', 'IDTUSD', 'IDTRY', 'IDEUR', 'LDOTUSD', 'MATICTUSD', 'OPTUSD', 'SOLTUSD', 'SSVTUSD', 'RDNTBTC', 'RDNTUSDT', 'RDNTTUSD', 'ARBRUB', 'JOETRY', 'MAGICTRY', 'USDTPLN', 'ACHTRY', 'XVSTRY', 'EGLDRON', 'USDTRON', 'USDTARS', 'DOGETUSD', 'WBTCUSDT', 'EDUUSDT', 'EDUTUSD', 'EDUBNB', 'EDUBTC', 'EDUEUR', 'EDUTRY', 'SUIUSDT', 'SUITUSD', 'SUIBTC', 'SUIBNB', 'SUIEUR', 'SUITRY', 'AERGOUSDT', 'RNDRTRY', 'PEPEUSDT', 'PEPETUSD', 'FLOKIUSDT', 'FLOKITUSD', 'OGTRY', 'PEPETRY', 'WBETHETH', 'ASTUSDT', 'SNTUSDT', 'FLOKITRY', 'CITYTRY', 'COMBOUSDT', 'COMBOBNB', 'COMBOTRY', 'LTCTRY', 'RADTRY', 'BTCARS', 'OPTRY', 'PAXGTRY', 'MAVBTC', 'MAVUSDT', 'MAVTUSD', 'CFXTUSD', 'PENDLEBTC', 'PENDLEUSDT', 'PENDLETUSD', 'MAVTRY', 'OCEANTRY', 'TUSDTRY', 'ARBETH', 'BCHTRY', 'XVGTRY', 'XVGTUSD', 'ARKMUSDT', 'ARKMTUSD', 'ARKMTRY', 'ARKMBNB', 'ARKMBTC', 'WBETHUSDT', 'ACATRY', 'AVAXTUSD', 'COMPTUSD', 'COMPTRY', 'XECTRY', 'QUICKTUSD', 'WLDUSDT', 'WLDBTC', 'BNBFDUSD', 'FDUSDBUSD', 'FDUSDUSDT', 'ARKMRUB', 'WLDTRY', 'WLDRUB', 'AMPTRY', 'OGNTRY', 'BTCFDUSD', 'ETHFDUSD', 'ASRTRY', 'ATMTRY', 'ACMTRY', 'BARTRY', 'JUVTRY', 'PSGTRY', 'SEIBNB', 'SEIBTC', 'SEIFDUSD', 'SEITRY', 'SEIUSDT', 'CYBERBNB', 'CYBERBTC', 'CYBERFDUSD', 'CYBERTRY', 'CYBERUSDT', 'CYBERTUSD', 'SEITUSD', 'LPTTRY', 'UNITRY']\n"
     ]
    }
   ],
   "source": [
    "from binance_historical_data import BinanceDataDumper\n",
    "\n",
    "data_dumper = BinanceDataDumper(\n",
    "    path_dir_where_to_dump=\".\",\n",
    "    asset_class=\"spot\",  # spot, um, cm\n",
    "    data_type=\"klines\",  # aggTrades, klines, trades\n",
    "    data_frequency=\"1m\",\n",
    ")\n",
    "\n",
    "print(data_dumper.get_list_all_trading_pairs())"
   ],
   "metadata": {
    "collapsed": false,
    "ExecuteTime": {
     "end_time": "2023-08-31T20:55:56.298751878Z",
     "start_time": "2023-08-31T20:55:54.356901590Z"
    }
   }
  },
  {
   "cell_type": "code",
   "source": [
    "data_dumper.dump_data(tickers=[\"NEARUSDT\"])"
   ],
   "metadata": {
    "colab": {
     "base_uri": "https://localhost:8080/",
     "height": 223,
     "referenced_widgets": [
      "7dd4f39447a8403d971228d215f7c92f",
      "e218add70fa342c6829dd9bb37dcfa41",
      "d8002ed8b0574ac6afb501b840b0ba40",
      "2f202985b8e946d289bdbe6712c2b9a7",
      "9b5b8357efd84321bf36e7a1082bb677",
      "1aae74220cb64297a14c9bbd21fb94fa",
      "90dcc4766a3b49b0bb295848619c28c0",
      "d2c8c1ee88d044b4b0aa98a221a3a839",
      "8e10a6958ba34853abe3221c9d2efb9f",
      "71d93b21192b408eb4160aad368e8341",
      "3373eefba7bc480c870dffcc7c0c76a5",
      "f4374224d0464cf29a95e6c6fe59afa2",
      "54d2bf64f7314420b6a8478485efe34e",
      "3d44a3a6a5af487b9d7f47999ee9ded9",
      "37223277179f487b837ce13db28e41c3",
      "6e70fcf1370f4a20bec5776cfcb25eb2",
      "07fe8db9119b4393a9d712e950e51fc9",
      "59ebcbef69f34c53b1097e76e4395df5",
      "fea07322c08d4b6bab4ef926a5be8c41",
      "30338d5f659e49518b0bd7614fa88825",
      "9d3991c4adec41e8843941b797537d0f",
      "22589f85bbba42698003a58b80bfe4b9",
      "daaacff4c70c47a493d71083333bfac8",
      "301e182d105e49ab89746cdf15e7b998",
      "00ae5f7622304c9ba60b104df9b5ac33",
      "a38d528ec7f24938ad061d9d1b9bfc8c",
      "b1fa0af185c0421aa0fb0bc7fa5ea29a",
      "3998dd6c85bb4724b9cd49a4d7fe92b6",
      "7e597bbd90c74c5ca02e3decaaf7906d",
      "6073ffb187b247b8ab1c2fe80190807c",
      "16cb609f28e1440ebef5b4196c288beb",
      "53388c4a852447b6a08f7a146b489409",
      "ec819a7e4d2e4c52a1828ff01f1d5836"
     ]
    },
    "id": "hI7wxB1j4mSh",
    "executionInfo": {
     "status": "ok",
     "timestamp": 1692980359424,
     "user_tz": -180,
     "elapsed": 5785,
     "user": {
      "displayName": "Ozuwara",
      "userId": "07041248871112494614"
     }
    },
    "outputId": "29e92501-aac5-4477-ae8c-43b81369cc9b",
    "ExecuteTime": {
     "end_time": "2023-08-31T20:56:05.086745201Z",
     "start_time": "2023-08-31T20:55:56.283911396Z"
    }
   },
   "execution_count": 42,
   "outputs": [
    {
     "data": {
      "text/plain": "Tickers:   0%|          | 0/1 [00:00<?, ?it/s]",
      "application/vnd.jupyter.widget-view+json": {
       "version_major": 2,
       "version_minor": 0,
       "model_id": "07765cccf43640f3bbe9112a0a566888"
      }
     },
     "metadata": {},
     "output_type": "display_data"
    },
    {
     "data": {
      "text/plain": "monthly files to download: 0files [00:00, ?files/s]",
      "application/vnd.jupyter.widget-view+json": {
       "version_major": 2,
       "version_minor": 0,
       "model_id": "cd28018aa57c4938866db8643d8cbed3"
      }
     },
     "metadata": {},
     "output_type": "display_data"
    },
    {
     "data": {
      "text/plain": "daily files to download: 0files [00:00, ?files/s]",
      "application/vnd.jupyter.widget-view+json": {
       "version_major": 2,
       "version_minor": 0,
       "model_id": "1b6419a71a5d4bc3a1a0d32d56944171"
      }
     },
     "metadata": {},
     "output_type": "display_data"
    }
   ]
  },
  {
   "cell_type": "code",
   "source": [
    "import pandas as pd\n",
    "import numpy as np\n",
    "import os\n",
    "\n",
    "filenames = next(os.walk(\"./spot/monthly/klines/NEARUSDT/5m\"), (None, None, []))[2]  # [] if no file\n",
    "\n",
    "columns = [\n",
    "    \"Open time\",\n",
    "    \"Open\",\n",
    "    \"High\",\n",
    "    \"Low\",\n",
    "    \"Close\",\n",
    "    \"Volume\",\n",
    "    \"Close time\",\n",
    "    \"Quote asset volume\",\n",
    "    \"Number of trades\",\n",
    "    \"Taker buy base asset volume\",\n",
    "    \"Taker buy quote asset volume\",\n",
    "    \"Ignore\"\n",
    "]\n",
    "\n",
    "df = pd.DataFrame(columns=columns)\n",
    "\n",
    "for f in filenames:\n",
    "    new_df = pd.read_csv(f\"./spot/monthly/klines/NEARUSDT/5m/{f}\", header=None, names=columns)\n",
    "    df = pd.concat([df, new_df])\n",
    "df = df.sort_values(by=\"Open time\")\n",
    "df"
   ],
   "metadata": {
    "colab": {
     "base_uri": "https://localhost:8080/",
     "height": 441
    },
    "id": "B2UGi3Kw5XVW",
    "executionInfo": {
     "status": "ok",
     "timestamp": 1692980359426,
     "user_tz": -180,
     "elapsed": 22,
     "user": {
      "displayName": "Ozuwara",
      "userId": "07041248871112494614"
     }
    },
    "outputId": "05aa0f8d-49e2-4272-cc23-c863cb4526b3",
    "ExecuteTime": {
     "end_time": "2023-08-31T20:56:05.496441915Z",
     "start_time": "2023-08-31T20:56:05.088417536Z"
    }
   },
   "execution_count": 43,
   "outputs": [
    {
     "data": {
      "text/plain": "          Open time    Open    High     Low  Close      Volume     Close time  \\\n0     1602651600000  1.3000  1.8800  1.1111  1.230  3553419.13  1602651899999   \n1     1602651900000  1.2297  1.4381  1.1997  1.385  1195063.22  1602652199999   \n2     1602652200000  1.3844  1.4700  1.3207  1.367   924947.36  1602652499999   \n3     1602652500000  1.3670  1.3735  1.2222  1.250   939401.68  1602652799999   \n4     1602652800000  1.2450  1.3301  1.2428  1.330   684694.81  1602653099999   \n...             ...     ...     ...     ...    ...         ...            ...   \n8923  1690846500000  1.3700  1.3710  1.3700  1.371     6809.30  1690846799999   \n8924  1690846800000  1.3700  1.3730  1.3700  1.373     5623.90  1690847099999   \n8925  1690847100000  1.3730  1.3730  1.3710  1.372     3748.30  1690847399999   \n8926  1690847400000  1.3720  1.3720  1.3710  1.371     5760.90  1690847699999   \n8927  1690847700000  1.3710  1.3710  1.3690  1.370     8920.70  1690847999999   \n\n      Quote asset volume Number of trades  Taker buy base asset volume  \\\n0           4.917631e+06             5556                   1752338.82   \n1           1.612363e+06             2563                    701872.47   \n2           1.299402e+06             2292                    565162.25   \n3           1.217898e+06             2022                    429442.49   \n4           8.881953e+05             1246                    424396.12   \n...                  ...              ...                          ...   \n8923        9.330363e+03               41                      4096.80   \n8924        7.717850e+03               56                      4394.90   \n8925        5.141087e+03               34                      2131.10   \n8926        7.899320e+03               18                      2300.40   \n8927        1.222398e+04               47                      2148.60   \n\n      Taker buy quote asset volume Ignore  \n0                     2.344665e+06      0  \n1                     9.512006e+05      0  \n2                     7.964966e+05      0  \n3                     5.606299e+05      0  \n4                     5.507958e+05      0  \n...                            ...    ...  \n8923                  5.613781e+03      0  \n8924                  6.030549e+03      0  \n8925                  2.922604e+03      0  \n8926                  3.153848e+03      0  \n8927                  2.942695e+03      0  \n\n[293705 rows x 12 columns]",
      "text/html": "<div>\n<style scoped>\n    .dataframe tbody tr th:only-of-type {\n        vertical-align: middle;\n    }\n\n    .dataframe tbody tr th {\n        vertical-align: top;\n    }\n\n    .dataframe thead th {\n        text-align: right;\n    }\n</style>\n<table border=\"1\" class=\"dataframe\">\n  <thead>\n    <tr style=\"text-align: right;\">\n      <th></th>\n      <th>Open time</th>\n      <th>Open</th>\n      <th>High</th>\n      <th>Low</th>\n      <th>Close</th>\n      <th>Volume</th>\n      <th>Close time</th>\n      <th>Quote asset volume</th>\n      <th>Number of trades</th>\n      <th>Taker buy base asset volume</th>\n      <th>Taker buy quote asset volume</th>\n      <th>Ignore</th>\n    </tr>\n  </thead>\n  <tbody>\n    <tr>\n      <th>0</th>\n      <td>1602651600000</td>\n      <td>1.3000</td>\n      <td>1.8800</td>\n      <td>1.1111</td>\n      <td>1.230</td>\n      <td>3553419.13</td>\n      <td>1602651899999</td>\n      <td>4.917631e+06</td>\n      <td>5556</td>\n      <td>1752338.82</td>\n      <td>2.344665e+06</td>\n      <td>0</td>\n    </tr>\n    <tr>\n      <th>1</th>\n      <td>1602651900000</td>\n      <td>1.2297</td>\n      <td>1.4381</td>\n      <td>1.1997</td>\n      <td>1.385</td>\n      <td>1195063.22</td>\n      <td>1602652199999</td>\n      <td>1.612363e+06</td>\n      <td>2563</td>\n      <td>701872.47</td>\n      <td>9.512006e+05</td>\n      <td>0</td>\n    </tr>\n    <tr>\n      <th>2</th>\n      <td>1602652200000</td>\n      <td>1.3844</td>\n      <td>1.4700</td>\n      <td>1.3207</td>\n      <td>1.367</td>\n      <td>924947.36</td>\n      <td>1602652499999</td>\n      <td>1.299402e+06</td>\n      <td>2292</td>\n      <td>565162.25</td>\n      <td>7.964966e+05</td>\n      <td>0</td>\n    </tr>\n    <tr>\n      <th>3</th>\n      <td>1602652500000</td>\n      <td>1.3670</td>\n      <td>1.3735</td>\n      <td>1.2222</td>\n      <td>1.250</td>\n      <td>939401.68</td>\n      <td>1602652799999</td>\n      <td>1.217898e+06</td>\n      <td>2022</td>\n      <td>429442.49</td>\n      <td>5.606299e+05</td>\n      <td>0</td>\n    </tr>\n    <tr>\n      <th>4</th>\n      <td>1602652800000</td>\n      <td>1.2450</td>\n      <td>1.3301</td>\n      <td>1.2428</td>\n      <td>1.330</td>\n      <td>684694.81</td>\n      <td>1602653099999</td>\n      <td>8.881953e+05</td>\n      <td>1246</td>\n      <td>424396.12</td>\n      <td>5.507958e+05</td>\n      <td>0</td>\n    </tr>\n    <tr>\n      <th>...</th>\n      <td>...</td>\n      <td>...</td>\n      <td>...</td>\n      <td>...</td>\n      <td>...</td>\n      <td>...</td>\n      <td>...</td>\n      <td>...</td>\n      <td>...</td>\n      <td>...</td>\n      <td>...</td>\n      <td>...</td>\n    </tr>\n    <tr>\n      <th>8923</th>\n      <td>1690846500000</td>\n      <td>1.3700</td>\n      <td>1.3710</td>\n      <td>1.3700</td>\n      <td>1.371</td>\n      <td>6809.30</td>\n      <td>1690846799999</td>\n      <td>9.330363e+03</td>\n      <td>41</td>\n      <td>4096.80</td>\n      <td>5.613781e+03</td>\n      <td>0</td>\n    </tr>\n    <tr>\n      <th>8924</th>\n      <td>1690846800000</td>\n      <td>1.3700</td>\n      <td>1.3730</td>\n      <td>1.3700</td>\n      <td>1.373</td>\n      <td>5623.90</td>\n      <td>1690847099999</td>\n      <td>7.717850e+03</td>\n      <td>56</td>\n      <td>4394.90</td>\n      <td>6.030549e+03</td>\n      <td>0</td>\n    </tr>\n    <tr>\n      <th>8925</th>\n      <td>1690847100000</td>\n      <td>1.3730</td>\n      <td>1.3730</td>\n      <td>1.3710</td>\n      <td>1.372</td>\n      <td>3748.30</td>\n      <td>1690847399999</td>\n      <td>5.141087e+03</td>\n      <td>34</td>\n      <td>2131.10</td>\n      <td>2.922604e+03</td>\n      <td>0</td>\n    </tr>\n    <tr>\n      <th>8926</th>\n      <td>1690847400000</td>\n      <td>1.3720</td>\n      <td>1.3720</td>\n      <td>1.3710</td>\n      <td>1.371</td>\n      <td>5760.90</td>\n      <td>1690847699999</td>\n      <td>7.899320e+03</td>\n      <td>18</td>\n      <td>2300.40</td>\n      <td>3.153848e+03</td>\n      <td>0</td>\n    </tr>\n    <tr>\n      <th>8927</th>\n      <td>1690847700000</td>\n      <td>1.3710</td>\n      <td>1.3710</td>\n      <td>1.3690</td>\n      <td>1.370</td>\n      <td>8920.70</td>\n      <td>1690847999999</td>\n      <td>1.222398e+04</td>\n      <td>47</td>\n      <td>2148.60</td>\n      <td>2.942695e+03</td>\n      <td>0</td>\n    </tr>\n  </tbody>\n</table>\n<p>293705 rows × 12 columns</p>\n</div>"
     },
     "execution_count": 43,
     "metadata": {},
     "output_type": "execute_result"
    }
   ]
  },
  {
   "cell_type": "code",
   "source": [
    "col = [\n",
    "    \"Open\",\n",
    "    \"High\",\n",
    "    \"Low\",\n",
    "    \"Close\",\n",
    "    \"Volume\",\n",
    "    \"Quote asset volume\"]\n",
    "dataset = df.loc[:, col].astype(np.float64)\n",
    "dataset = pd.DataFrame(dataset.to_numpy(), columns=col)\n",
    "dataset"
   ],
   "metadata": {
    "colab": {
     "base_uri": "https://localhost:8080/",
     "height": 424
    },
    "id": "QPZCBk7d_2zk",
    "executionInfo": {
     "status": "ok",
     "timestamp": 1692980359427,
     "user_tz": -180,
     "elapsed": 19,
     "user": {
      "displayName": "Ozuwara",
      "userId": "07041248871112494614"
     }
    },
    "outputId": "05fefa34-76c1-4a29-af1b-18c5d23e2ddb",
    "ExecuteTime": {
     "end_time": "2023-08-31T20:56:05.496982742Z",
     "start_time": "2023-08-31T20:56:05.475062800Z"
    }
   },
   "execution_count": 44,
   "outputs": [
    {
     "data": {
      "text/plain": "          Open    High     Low  Close      Volume  Quote asset volume\n0       1.3000  1.8800  1.1111  1.230  3553419.13        4.917631e+06\n1       1.2297  1.4381  1.1997  1.385  1195063.22        1.612363e+06\n2       1.3844  1.4700  1.3207  1.367   924947.36        1.299402e+06\n3       1.3670  1.3735  1.2222  1.250   939401.68        1.217898e+06\n4       1.2450  1.3301  1.2428  1.330   684694.81        8.881953e+05\n...        ...     ...     ...    ...         ...                 ...\n293700  1.3700  1.3710  1.3700  1.371     6809.30        9.330363e+03\n293701  1.3700  1.3730  1.3700  1.373     5623.90        7.717850e+03\n293702  1.3730  1.3730  1.3710  1.372     3748.30        5.141087e+03\n293703  1.3720  1.3720  1.3710  1.371     5760.90        7.899320e+03\n293704  1.3710  1.3710  1.3690  1.370     8920.70        1.222398e+04\n\n[293705 rows x 6 columns]",
      "text/html": "<div>\n<style scoped>\n    .dataframe tbody tr th:only-of-type {\n        vertical-align: middle;\n    }\n\n    .dataframe tbody tr th {\n        vertical-align: top;\n    }\n\n    .dataframe thead th {\n        text-align: right;\n    }\n</style>\n<table border=\"1\" class=\"dataframe\">\n  <thead>\n    <tr style=\"text-align: right;\">\n      <th></th>\n      <th>Open</th>\n      <th>High</th>\n      <th>Low</th>\n      <th>Close</th>\n      <th>Volume</th>\n      <th>Quote asset volume</th>\n    </tr>\n  </thead>\n  <tbody>\n    <tr>\n      <th>0</th>\n      <td>1.3000</td>\n      <td>1.8800</td>\n      <td>1.1111</td>\n      <td>1.230</td>\n      <td>3553419.13</td>\n      <td>4.917631e+06</td>\n    </tr>\n    <tr>\n      <th>1</th>\n      <td>1.2297</td>\n      <td>1.4381</td>\n      <td>1.1997</td>\n      <td>1.385</td>\n      <td>1195063.22</td>\n      <td>1.612363e+06</td>\n    </tr>\n    <tr>\n      <th>2</th>\n      <td>1.3844</td>\n      <td>1.4700</td>\n      <td>1.3207</td>\n      <td>1.367</td>\n      <td>924947.36</td>\n      <td>1.299402e+06</td>\n    </tr>\n    <tr>\n      <th>3</th>\n      <td>1.3670</td>\n      <td>1.3735</td>\n      <td>1.2222</td>\n      <td>1.250</td>\n      <td>939401.68</td>\n      <td>1.217898e+06</td>\n    </tr>\n    <tr>\n      <th>4</th>\n      <td>1.2450</td>\n      <td>1.3301</td>\n      <td>1.2428</td>\n      <td>1.330</td>\n      <td>684694.81</td>\n      <td>8.881953e+05</td>\n    </tr>\n    <tr>\n      <th>...</th>\n      <td>...</td>\n      <td>...</td>\n      <td>...</td>\n      <td>...</td>\n      <td>...</td>\n      <td>...</td>\n    </tr>\n    <tr>\n      <th>293700</th>\n      <td>1.3700</td>\n      <td>1.3710</td>\n      <td>1.3700</td>\n      <td>1.371</td>\n      <td>6809.30</td>\n      <td>9.330363e+03</td>\n    </tr>\n    <tr>\n      <th>293701</th>\n      <td>1.3700</td>\n      <td>1.3730</td>\n      <td>1.3700</td>\n      <td>1.373</td>\n      <td>5623.90</td>\n      <td>7.717850e+03</td>\n    </tr>\n    <tr>\n      <th>293702</th>\n      <td>1.3730</td>\n      <td>1.3730</td>\n      <td>1.3710</td>\n      <td>1.372</td>\n      <td>3748.30</td>\n      <td>5.141087e+03</td>\n    </tr>\n    <tr>\n      <th>293703</th>\n      <td>1.3720</td>\n      <td>1.3720</td>\n      <td>1.3710</td>\n      <td>1.371</td>\n      <td>5760.90</td>\n      <td>7.899320e+03</td>\n    </tr>\n    <tr>\n      <th>293704</th>\n      <td>1.3710</td>\n      <td>1.3710</td>\n      <td>1.3690</td>\n      <td>1.370</td>\n      <td>8920.70</td>\n      <td>1.222398e+04</td>\n    </tr>\n  </tbody>\n</table>\n<p>293705 rows × 6 columns</p>\n</div>"
     },
     "execution_count": 44,
     "metadata": {},
     "output_type": "execute_result"
    }
   ]
  },
  {
   "cell_type": "code",
   "execution_count": 45,
   "outputs": [
    {
     "data": {
      "text/plain": "         Open   High    Low  Close  Volume  Quote asset volume\n293448 -0.004 -0.001  0.000  0.003  8122.7          11469.8176\n293449  0.002  0.000  0.003  0.000 -9100.6         -12854.0153\n293450  0.000  0.000 -0.001 -0.001  6947.8           9835.2911\n293451 -0.001  0.000  0.000  0.001 -4824.9          -6834.3102\n293452  0.001 -0.001 -0.001 -0.001  2347.8           3319.5803\n...       ...    ...    ...    ...     ...                 ...\n293699  0.002  0.001  0.002  0.001 -2482.7          -3390.1483\n293700  0.000  0.002  0.000  0.002 -1185.4          -1612.5133\n293701  0.003  0.000  0.001 -0.001 -1875.6          -2576.7628\n293702 -0.001 -0.001  0.000 -0.001  2012.6           2758.2332\n293703 -0.001 -0.001 -0.002 -0.001  3159.8           4324.6551\n\n[256 rows x 6 columns]",
      "text/html": "<div>\n<style scoped>\n    .dataframe tbody tr th:only-of-type {\n        vertical-align: middle;\n    }\n\n    .dataframe tbody tr th {\n        vertical-align: top;\n    }\n\n    .dataframe thead th {\n        text-align: right;\n    }\n</style>\n<table border=\"1\" class=\"dataframe\">\n  <thead>\n    <tr style=\"text-align: right;\">\n      <th></th>\n      <th>Open</th>\n      <th>High</th>\n      <th>Low</th>\n      <th>Close</th>\n      <th>Volume</th>\n      <th>Quote asset volume</th>\n    </tr>\n  </thead>\n  <tbody>\n    <tr>\n      <th>293448</th>\n      <td>-0.004</td>\n      <td>-0.001</td>\n      <td>0.000</td>\n      <td>0.003</td>\n      <td>8122.7</td>\n      <td>11469.8176</td>\n    </tr>\n    <tr>\n      <th>293449</th>\n      <td>0.002</td>\n      <td>0.000</td>\n      <td>0.003</td>\n      <td>0.000</td>\n      <td>-9100.6</td>\n      <td>-12854.0153</td>\n    </tr>\n    <tr>\n      <th>293450</th>\n      <td>0.000</td>\n      <td>0.000</td>\n      <td>-0.001</td>\n      <td>-0.001</td>\n      <td>6947.8</td>\n      <td>9835.2911</td>\n    </tr>\n    <tr>\n      <th>293451</th>\n      <td>-0.001</td>\n      <td>0.000</td>\n      <td>0.000</td>\n      <td>0.001</td>\n      <td>-4824.9</td>\n      <td>-6834.3102</td>\n    </tr>\n    <tr>\n      <th>293452</th>\n      <td>0.001</td>\n      <td>-0.001</td>\n      <td>-0.001</td>\n      <td>-0.001</td>\n      <td>2347.8</td>\n      <td>3319.5803</td>\n    </tr>\n    <tr>\n      <th>...</th>\n      <td>...</td>\n      <td>...</td>\n      <td>...</td>\n      <td>...</td>\n      <td>...</td>\n      <td>...</td>\n    </tr>\n    <tr>\n      <th>293699</th>\n      <td>0.002</td>\n      <td>0.001</td>\n      <td>0.002</td>\n      <td>0.001</td>\n      <td>-2482.7</td>\n      <td>-3390.1483</td>\n    </tr>\n    <tr>\n      <th>293700</th>\n      <td>0.000</td>\n      <td>0.002</td>\n      <td>0.000</td>\n      <td>0.002</td>\n      <td>-1185.4</td>\n      <td>-1612.5133</td>\n    </tr>\n    <tr>\n      <th>293701</th>\n      <td>0.003</td>\n      <td>0.000</td>\n      <td>0.001</td>\n      <td>-0.001</td>\n      <td>-1875.6</td>\n      <td>-2576.7628</td>\n    </tr>\n    <tr>\n      <th>293702</th>\n      <td>-0.001</td>\n      <td>-0.001</td>\n      <td>0.000</td>\n      <td>-0.001</td>\n      <td>2012.6</td>\n      <td>2758.2332</td>\n    </tr>\n    <tr>\n      <th>293703</th>\n      <td>-0.001</td>\n      <td>-0.001</td>\n      <td>-0.002</td>\n      <td>-0.001</td>\n      <td>3159.8</td>\n      <td>4324.6551</td>\n    </tr>\n  </tbody>\n</table>\n<p>256 rows × 6 columns</p>\n</div>"
     },
     "execution_count": 45,
     "metadata": {},
     "output_type": "execute_result"
    }
   ],
   "source": [
    "difference_dataset = dataset.diff().dropna().reset_index(drop=True)\n",
    "difference_dataset[-256:]"
   ],
   "metadata": {
    "collapsed": false,
    "ExecuteTime": {
     "end_time": "2023-08-31T20:56:05.529015392Z",
     "start_time": "2023-08-31T20:56:05.486812551Z"
    }
   }
  },
  {
   "cell_type": "code",
   "execution_count": 46,
   "outputs": [
    {
     "data": {
      "text/plain": "<Axes: xlabel='time'>"
     },
     "execution_count": 46,
     "metadata": {},
     "output_type": "execute_result"
    },
    {
     "data": {
      "text/plain": "<Figure size 640x480 with 1 Axes>",
      "image/png": "[encoded data removed]"
     },
     "metadata": {},
     "output_type": "display_data"
    }
   ],
   "source": [
    "import numpy as np\n",
    "import pandas as pd\n",
    "\n",
    "from darts import TimeSeries\n",
    "from darts.dataprocessing import Pipeline\n",
    "from darts.dataprocessing.transformers import Scaler, InvertibleMapper\n",
    "from darts.models import RNNModel, TFTModel\n",
    "from darts.metrics import mape, mase\n",
    "from darts.utils.likelihood_models import GaussianLikelihood\n",
    "\n",
    "import warnings\n",
    "\n",
    "warnings.filterwarnings(\"ignore\")\n",
    "import logging\n",
    "\n",
    "logging.disable(logging.CRITICAL)\n",
    "\n",
    "target_series = TimeSeries.from_dataframe(difference_dataset)\n",
    "\n",
    "abslog = InvertibleMapper(fn=lambda x: np.sign(x) * np.log1p(np.abs(x)),\n",
    "                          inverse_fn=lambda x: np.sign(x) * (np.exp(np.abs(x)) - 1))\n",
    "scaler = Scaler()\n",
    "pipeline = Pipeline([abslog, scaler])\n",
    "\n",
    "target_series = pipeline.fit_transform(target_series)\n",
    "\n",
    "target_train, target_val = target_series.split_after(0.95)\n",
    "\n",
    "target_train[\"Close\"].plot()\n",
    "target_val[\"Close\"].plot()"
   ],
   "metadata": {
    "collapsed": false,
    "ExecuteTime": {
     "end_time": "2023-08-31T20:56:06.204816907Z",
     "start_time": "2023-08-31T20:56:05.506336309Z"
    }
   }
  },
  {
   "cell_type": "code",
   "execution_count": 47,
   "outputs": [
    {
     "data": {
      "text/plain": "Sanity Checking: 0it [00:00, ?it/s]",
      "application/vnd.jupyter.widget-view+json": {
       "version_major": 2,
       "version_minor": 0,
       "model_id": "71c6f4613cd44676a9a70dcf629035fd"
      }
     },
     "metadata": {},
     "output_type": "display_data"
    },
    {
     "data": {
      "text/plain": "Training: 0it [00:00, ?it/s]",
      "application/vnd.jupyter.widget-view+json": {
       "version_major": 2,
       "version_minor": 0,
       "model_id": "87a325f9de134417a0716dc6a1d35f2d"
      }
     },
     "metadata": {},
     "output_type": "display_data"
    },
    {
     "data": {
      "text/plain": "TFTModel(hidden_size=64, lstm_layers=1, num_attention_heads=4, full_attention=False, feed_forward=GatedResidualNetwork, dropout=0.1, hidden_continuous_size=8, categorical_embedding_sizes=None, add_relative_index=True, loss_fn=None, likelihood=None, norm_type=LayerNorm, use_static_covariates=True, input_chunk_length=128, output_chunk_length=32, batch_size=128, n_epochs=300, add_encoders=None, random_state=42)"
     },
     "execution_count": 47,
     "metadata": {},
     "output_type": "execute_result"
    }
   ],
   "source": [
    "SEQUENCE_LENGTH = 128\n",
    "PREDICTION_LENGTH = 32\n",
    "# my_model = RNNModel(\n",
    "#     model=\"LSTM\",\n",
    "#     hidden_dim=32,\n",
    "#     n_rnn_layers=4,\n",
    "#     dropout=0.2,\n",
    "#     batch_size=128,\n",
    "#     n_epochs=10,\n",
    "#     optimizer_kwargs={\"lr\": 1e-3},\n",
    "#     random_state=0,\n",
    "#     training_length=SEQUENCE_LENGTH,\n",
    "#     input_chunk_length=SEQUENCE_LENGTH,\n",
    "#     likelihood=GaussianLikelihood(),\n",
    "# )\n",
    "\n",
    "my_model = TFTModel(\n",
    "    input_chunk_length=SEQUENCE_LENGTH,\n",
    "    output_chunk_length=PREDICTION_LENGTH,\n",
    "    hidden_size=64,\n",
    "    lstm_layers=1,\n",
    "    num_attention_heads=4,\n",
    "    dropout=0.1,\n",
    "    batch_size=128,\n",
    "    n_epochs=300,\n",
    "    add_relative_index=True,\n",
    "    add_encoders=None,\n",
    "    random_state=42,\n",
    ")\n",
    "\n",
    "my_model.fit(target_train, val_series=target_val, verbose=True)"
   ],
   "metadata": {
    "collapsed": false,
    "ExecuteTime": {
     "end_time": "2023-08-31T20:56:17.629105853Z",
     "start_time": "2023-08-31T20:56:05.805888773Z"
    }
   }
  },
  {
   "cell_type": "code",
   "execution_count": 48,
   "outputs": [
    {
     "name": "stdout",
     "output_type": "stream",
     "text": [
      "Average error (MAPE) over validation forecasts: 36.66\n"
     ]
    }
   ],
   "source": [
    "average_error = my_model.backtest(\n",
    "    target_val,\n",
    "    forecast_horizon=PREDICTION_LENGTH,\n",
    "    # metric=mase,\n",
    "    verbose=False,\n",
    "    retrain=False,\n",
    "    num_samples=8,\n",
    "    start=0.8,\n",
    "    # stride=5,\n",
    ")\n",
    "\n",
    "print(\"Average error (MAPE) over validation forecasts: %.2f\" % average_error)"
   ],
   "metadata": {
    "collapsed": false,
    "ExecuteTime": {
     "end_time": "2023-08-31T20:58:36.266180859Z",
     "start_time": "2023-08-31T20:56:17.617693173Z"
    }
   }
  },
  {
   "cell_type": "code",
   "execution_count": 49,
   "outputs": [
    {
     "data": {
      "text/plain": "Predicting: 0it [00:00, ?it/s]",
      "application/vnd.jupyter.widget-view+json": {
       "version_major": 2,
       "version_minor": 0,
       "model_id": "169b9926fdda4b529add1c245e6c0847"
      }
     },
     "metadata": {},
     "output_type": "display_data"
    },
    {
     "data": {
      "text/plain": "<Axes: xlabel='time'>"
     },
     "execution_count": 49,
     "metadata": {},
     "output_type": "execute_result"
    },
    {
     "data": {
      "text/plain": "<Figure size 640x480 with 1 Axes>",
      "image/png": "[encoded data removed]"
     },
     "metadata": {},
     "output_type": "display_data"
    }
   ],
   "source": [
    "predict_X = target_train[-SEQUENCE_LENGTH:]\n",
    "pred: TimeSeries = my_model.predict(PREDICTION_LENGTH, predict_X, num_samples=50)\n",
    "\n",
    "target_val[\"Close\"].slice_intersect(pred[\"Close\"]).plot(label=\"target\")\n",
    "pred[\"Close\"].plot(label=\"prediction\")"
   ],
   "metadata": {
    "collapsed": false,
    "ExecuteTime": {
     "end_time": "2023-08-31T20:58:36.489967463Z",
     "start_time": "2023-08-31T20:58:36.225885677Z"
    }
   }
  },
  {
   "cell_type": "code",
   "execution_count": 50,
   "outputs": [
    {
     "data": {
      "text/plain": "component      Open       High       Low      Close        Volume  \\\ntime                                                                \n279018     1.277967   0.246446  1.231984   1.527582  3.183364e+08   \n279019     1.166342  -1.253374  1.423190   2.006729  4.908698e+08   \n279020     1.058735  -2.932255  1.508042   2.341494  1.403450e+09   \n279021     1.087421  -3.449734  1.648049   2.797294  1.770834e+09   \n279022     1.057560  -4.862986  1.757012   3.033029  3.736197e+09   \n279023     1.131205  -7.577622  1.871486   3.075314  5.896136e+09   \n279024     1.169505  -7.999438  2.056050   3.254063  7.142191e+09   \n279025     1.065616  -9.604201  2.178256   3.470309  9.230804e+09   \n279026     1.202462  -9.920021  2.268911   3.690232  1.089639e+10   \n279027     1.334829  -9.953991  2.398970   3.932013  1.218785e+10   \n279028     1.255519 -11.315492  2.584659   4.110479  1.477256e+10   \n279029     1.124392 -13.474726  2.738936   4.080828  1.666467e+10   \n279030     1.137742 -15.275048  2.881404   4.422171  1.829196e+10   \n279031     0.988301 -15.716879  2.964262   4.739688  1.866389e+10   \n279032     0.813540 -18.400896  3.065209   5.233903  1.963365e+10   \n279033     0.827162 -18.180064  3.220400   5.492209  2.006194e+10   \n279034     0.802973 -18.106090  3.328853   5.718755  2.141303e+10   \n279035     0.953802 -19.604779  3.368243   5.890748  2.354981e+10   \n279036     0.952363 -19.613710  3.439314   6.075926  2.457114e+10   \n279037     0.944805 -19.922848  3.556830   6.460532  2.615951e+10   \n279038     1.066644 -20.651692  3.712404   7.245932  2.733834e+10   \n279039     0.962405 -21.561142  3.895636   7.431196  2.921442e+10   \n279040     0.874133 -21.911705  4.015946   7.686487  3.212353e+10   \n279041     0.973513 -22.719479  4.189409   8.118378  3.348388e+10   \n279042     0.885477 -24.280327  4.449333   8.439935  3.461765e+10   \n279043     0.947643 -24.783546  4.666147   8.867095  3.655736e+10   \n279044     1.056334 -24.816039  4.811933   8.868668  3.843337e+10   \n279045     1.126463 -25.750600  4.939998   9.150816  4.026732e+10   \n279046     1.069195 -25.820034  4.967418   9.465880  4.149663e+10   \n279047     0.958850 -26.782787  5.061755   9.631284  4.286317e+10   \n279048     1.043079 -27.109211  5.209620  10.225320  4.496242e+10   \n279049     0.943936 -28.318860  5.352076  10.537494  4.594523e+10   \n\ncomponent  Quote asset volume  \ntime                           \n279018           5.959799e+07  \n279019           1.172657e+08  \n279020           5.012730e+07  \n279021           3.408749e+07  \n279022           3.628122e+06  \n279023          -2.772177e+07  \n279024           6.461276e+05  \n279025           8.071546e+07  \n279026           7.704245e+07  \n279027           6.881298e+07  \n279028           1.674788e+08  \n279029           1.487658e+08  \n279030           2.153044e+08  \n279031           2.876786e+08  \n279032           3.597253e+08  \n279033           3.513511e+08  \n279034           5.014012e+08  \n279035           5.910376e+08  \n279036           6.328706e+08  \n279037           7.493678e+08  \n279038           8.880497e+08  \n279039           9.561600e+08  \n279040           1.027090e+09  \n279041           1.069838e+09  \n279042           1.411957e+09  \n279043           1.552506e+09  \n279044           1.697050e+09  \n279045           1.705082e+09  \n279046           1.939927e+09  \n279047           2.116471e+09  \n279048           2.146034e+09  \n279049           2.206629e+09  ",
      "text/html": "<div>\n<style scoped>\n    .dataframe tbody tr th:only-of-type {\n        vertical-align: middle;\n    }\n\n    .dataframe tbody tr th {\n        vertical-align: top;\n    }\n\n    .dataframe thead th {\n        text-align: right;\n    }\n</style>\n<table border=\"1\" class=\"dataframe\">\n  <thead>\n    <tr style=\"text-align: right;\">\n      <th>component</th>\n      <th>Open</th>\n      <th>High</th>\n      <th>Low</th>\n      <th>Close</th>\n      <th>Volume</th>\n      <th>Quote asset volume</th>\n    </tr>\n    <tr>\n      <th>time</th>\n      <th></th>\n      <th></th>\n      <th></th>\n      <th></th>\n      <th></th>\n      <th></th>\n    </tr>\n  </thead>\n  <tbody>\n    <tr>\n      <th>279018</th>\n      <td>1.277967</td>\n      <td>0.246446</td>\n      <td>1.231984</td>\n      <td>1.527582</td>\n      <td>3.183364e+08</td>\n      <td>5.959799e+07</td>\n    </tr>\n    <tr>\n      <th>279019</th>\n      <td>1.166342</td>\n      <td>-1.253374</td>\n      <td>1.423190</td>\n      <td>2.006729</td>\n      <td>4.908698e+08</td>\n      <td>1.172657e+08</td>\n    </tr>\n    <tr>\n      <th>279020</th>\n      <td>1.058735</td>\n      <td>-2.932255</td>\n      <td>1.508042</td>\n      <td>2.341494</td>\n      <td>1.403450e+09</td>\n      <td>5.012730e+07</td>\n    </tr>\n    <tr>\n      <th>279021</th>\n      <td>1.087421</td>\n      <td>-3.449734</td>\n      <td>1.648049</td>\n      <td>2.797294</td>\n      <td>1.770834e+09</td>\n      <td>3.408749e+07</td>\n    </tr>\n    <tr>\n      <th>279022</th>\n      <td>1.057560</td>\n      <td>-4.862986</td>\n      <td>1.757012</td>\n      <td>3.033029</td>\n      <td>3.736197e+09</td>\n      <td>3.628122e+06</td>\n    </tr>\n    <tr>\n      <th>279023</th>\n      <td>1.131205</td>\n      <td>-7.577622</td>\n      <td>1.871486</td>\n      <td>3.075314</td>\n      <td>5.896136e+09</td>\n      <td>-2.772177e+07</td>\n    </tr>\n    <tr>\n      <th>279024</th>\n      <td>1.169505</td>\n      <td>-7.999438</td>\n      <td>2.056050</td>\n      <td>3.254063</td>\n      <td>7.142191e+09</td>\n      <td>6.461276e+05</td>\n    </tr>\n    <tr>\n      <th>279025</th>\n      <td>1.065616</td>\n      <td>-9.604201</td>\n      <td>2.178256</td>\n      <td>3.470309</td>\n      <td>9.230804e+09</td>\n      <td>8.071546e+07</td>\n    </tr>\n    <tr>\n      <th>279026</th>\n      <td>1.202462</td>\n      <td>-9.920021</td>\n      <td>2.268911</td>\n      <td>3.690232</td>\n      <td>1.089639e+10</td>\n      <td>7.704245e+07</td>\n    </tr>\n    <tr>\n      <th>279027</th>\n      <td>1.334829</td>\n      <td>-9.953991</td>\n      <td>2.398970</td>\n      <td>3.932013</td>\n      <td>1.218785e+10</td>\n      <td>6.881298e+07</td>\n    </tr>\n    <tr>\n      <th>279028</th>\n      <td>1.255519</td>\n      <td>-11.315492</td>\n      <td>2.584659</td>\n      <td>4.110479</td>\n      <td>1.477256e+10</td>\n      <td>1.674788e+08</td>\n    </tr>\n    <tr>\n      <th>279029</th>\n      <td>1.124392</td>\n      <td>-13.474726</td>\n      <td>2.738936</td>\n      <td>4.080828</td>\n      <td>1.666467e+10</td>\n      <td>1.487658e+08</td>\n    </tr>\n    <tr>\n      <th>279030</th>\n      <td>1.137742</td>\n      <td>-15.275048</td>\n      <td>2.881404</td>\n      <td>4.422171</td>\n      <td>1.829196e+10</td>\n      <td>2.153044e+08</td>\n    </tr>\n    <tr>\n      <th>279031</th>\n      <td>0.988301</td>\n      <td>-15.716879</td>\n      <td>2.964262</td>\n      <td>4.739688</td>\n      <td>1.866389e+10</td>\n      <td>2.876786e+08</td>\n    </tr>\n    <tr>\n      <th>279032</th>\n      <td>0.813540</td>\n      <td>-18.400896</td>\n      <td>3.065209</td>\n      <td>5.233903</td>\n      <td>1.963365e+10</td>\n      <td>3.597253e+08</td>\n    </tr>\n    <tr>\n      <th>279033</th>\n      <td>0.827162</td>\n      <td>-18.180064</td>\n      <td>3.220400</td>\n      <td>5.492209</td>\n      <td>2.006194e+10</td>\n      <td>3.513511e+08</td>\n    </tr>\n    <tr>\n      <th>279034</th>\n      <td>0.802973</td>\n      <td>-18.106090</td>\n      <td>3.328853</td>\n      <td>5.718755</td>\n      <td>2.141303e+10</td>\n      <td>5.014012e+08</td>\n    </tr>\n    <tr>\n      <th>279035</th>\n      <td>0.953802</td>\n      <td>-19.604779</td>\n      <td>3.368243</td>\n      <td>5.890748</td>\n      <td>2.354981e+10</td>\n      <td>5.910376e+08</td>\n    </tr>\n    <tr>\n      <th>279036</th>\n      <td>0.952363</td>\n      <td>-19.613710</td>\n      <td>3.439314</td>\n      <td>6.075926</td>\n      <td>2.457114e+10</td>\n      <td>6.328706e+08</td>\n    </tr>\n    <tr>\n      <th>279037</th>\n      <td>0.944805</td>\n      <td>-19.922848</td>\n      <td>3.556830</td>\n      <td>6.460532</td>\n      <td>2.615951e+10</td>\n      <td>7.493678e+08</td>\n    </tr>\n    <tr>\n      <th>279038</th>\n      <td>1.066644</td>\n      <td>-20.651692</td>\n      <td>3.712404</td>\n      <td>7.245932</td>\n      <td>2.733834e+10</td>\n      <td>8.880497e+08</td>\n    </tr>\n    <tr>\n      <th>279039</th>\n      <td>0.962405</td>\n      <td>-21.561142</td>\n      <td>3.895636</td>\n      <td>7.431196</td>\n      <td>2.921442e+10</td>\n      <td>9.561600e+08</td>\n    </tr>\n    <tr>\n      <th>279040</th>\n      <td>0.874133</td>\n      <td>-21.911705</td>\n      <td>4.015946</td>\n      <td>7.686487</td>\n      <td>3.212353e+10</td>\n      <td>1.027090e+09</td>\n    </tr>\n    <tr>\n      <th>279041</th>\n      <td>0.973513</td>\n      <td>-22.719479</td>\n      <td>4.189409</td>\n      <td>8.118378</td>\n      <td>3.348388e+10</td>\n      <td>1.069838e+09</td>\n    </tr>\n    <tr>\n      <th>279042</th>\n      <td>0.885477</td>\n      <td>-24.280327</td>\n      <td>4.449333</td>\n      <td>8.439935</td>\n      <td>3.461765e+10</td>\n      <td>1.411957e+09</td>\n    </tr>\n    <tr>\n      <th>279043</th>\n      <td>0.947643</td>\n      <td>-24.783546</td>\n      <td>4.666147</td>\n      <td>8.867095</td>\n      <td>3.655736e+10</td>\n      <td>1.552506e+09</td>\n    </tr>\n    <tr>\n      <th>279044</th>\n      <td>1.056334</td>\n      <td>-24.816039</td>\n      <td>4.811933</td>\n      <td>8.868668</td>\n      <td>3.843337e+10</td>\n      <td>1.697050e+09</td>\n    </tr>\n    <tr>\n      <th>279045</th>\n      <td>1.126463</td>\n      <td>-25.750600</td>\n      <td>4.939998</td>\n      <td>9.150816</td>\n      <td>4.026732e+10</td>\n      <td>1.705082e+09</td>\n    </tr>\n    <tr>\n      <th>279046</th>\n      <td>1.069195</td>\n      <td>-25.820034</td>\n      <td>4.967418</td>\n      <td>9.465880</td>\n      <td>4.149663e+10</td>\n      <td>1.939927e+09</td>\n    </tr>\n    <tr>\n      <th>279047</th>\n      <td>0.958850</td>\n      <td>-26.782787</td>\n      <td>5.061755</td>\n      <td>9.631284</td>\n      <td>4.286317e+10</td>\n      <td>2.116471e+09</td>\n    </tr>\n    <tr>\n      <th>279048</th>\n      <td>1.043079</td>\n      <td>-27.109211</td>\n      <td>5.209620</td>\n      <td>10.225320</td>\n      <td>4.496242e+10</td>\n      <td>2.146034e+09</td>\n    </tr>\n    <tr>\n      <th>279049</th>\n      <td>0.943936</td>\n      <td>-28.318860</td>\n      <td>5.352076</td>\n      <td>10.537494</td>\n      <td>4.594523e+10</td>\n      <td>2.206629e+09</td>\n    </tr>\n  </tbody>\n</table>\n</div>"
     },
     "execution_count": 50,
     "metadata": {},
     "output_type": "execute_result"
    }
   ],
   "source": [
    "def inverse_diff(original_start, x):\n",
    "    x = x.to_numpy()\n",
    "    reversed_array = np.zeros_like(x)\n",
    "    reversed_array[0] = original_start + x[0]\n",
    "    for i in range(1, x.shape[0]):\n",
    "        reversed_array[i] = reversed_array[i - 1] + x[i]\n",
    "    return reversed_array\n",
    "\n",
    "\n",
    "original_start = dataset.iloc[predict_X[-1].time_index].to_numpy()\n",
    "\n",
    "inverted_pred = pipeline.inverse_transform(pred)\n",
    "inverted_pred = inverted_pred.mean().pd_dataframe()\n",
    "inverted_pred[:] = inverse_diff(original_start, inverted_pred)\n",
    "inverted_pred"
   ],
   "metadata": {
    "collapsed": false,
    "ExecuteTime": {
     "end_time": "2023-08-31T20:58:36.502006209Z",
     "start_time": "2023-08-31T20:58:36.492241685Z"
    }
   }
  },
  {
   "cell_type": "code",
   "execution_count": 51,
   "outputs": [
    {
     "data": {
      "text/plain": "component   Open   High    Low  Close    Volume  Quote asset volume\ntime                                                               \n279018     1.203  1.204  1.196  1.198   42564.5          51180.2400\n279019     1.202  1.204  1.198  1.199   48617.8          58468.0164\n279020     1.202  1.205  1.199  1.201   39909.0          48053.7750\n279021     1.204  1.208  1.202  1.204   41100.0          49558.5702\n279022     1.206  1.208  1.200  1.200   69965.7          84194.2859\n279023     1.203  1.206  1.201  1.202   29581.6          35684.8998\n279024     1.205  1.206  1.195  1.194   65386.6          78540.5971\n279025     1.198  1.201  1.195  1.196   33332.7          40122.0360\n279026     1.199  1.202  1.197  1.198   31135.1          37506.0838\n279027     1.201  1.202  1.196  1.196   80449.1          96507.1096\n279028     1.199  1.202  1.197  1.198   56785.5          68197.2725\n279029     1.202  1.203  1.196  1.198   35583.9          42832.6105\n279030     1.201  1.205  1.199  1.201   34480.8          41546.4987\n279031     1.204  1.205  1.196  1.199   55185.1          66282.9440\n279032     1.203  1.204  1.198  1.199   42203.1          50770.2797\n279033     1.202  1.205  1.200  1.200   37636.1          45331.0380\n279034     1.203  1.211  1.201  1.206   95411.3         114786.4612\n279035     1.209  1.213  1.206  1.206   56723.4          68468.4648\n279036     1.208  1.209  1.203  1.203   51467.9          62018.4025\n279037     1.206  1.207  1.202  1.203   47920.9          57719.5478\n279038     1.205  1.208  1.203  1.203   44826.7          54029.4182\n279039     1.206  1.211  1.204  1.204   33148.3          40007.6139\n279040     1.208  1.212  1.205  1.204   35732.2          43122.9390\n279041     1.206  1.207  1.201  1.201  127447.7         153132.9610\n279042     1.205  1.208  1.203  1.204   48058.1          57894.9225\n279043     1.207  1.210  1.203  1.205   35684.0          43045.9536\n279044     1.207  1.208  1.203  1.204   35053.2          42278.5322\n279045     1.207  1.211  1.205  1.205   34743.7          41931.4032\n279046     1.208  1.214  1.206  1.209   36762.6          44402.3114\n279047     1.213  1.215  1.210  1.210   38881.1          46990.5497\n279048     1.212  1.215  1.210  1.211   41121.1          49702.8973\n279049     1.214  1.215  1.208  1.209   60245.5          72793.0116",
      "text/html": "<div>\n<style scoped>\n    .dataframe tbody tr th:only-of-type {\n        vertical-align: middle;\n    }\n\n    .dataframe tbody tr th {\n        vertical-align: top;\n    }\n\n    .dataframe thead th {\n        text-align: right;\n    }\n</style>\n<table border=\"1\" class=\"dataframe\">\n  <thead>\n    <tr style=\"text-align: right;\">\n      <th>component</th>\n      <th>Open</th>\n      <th>High</th>\n      <th>Low</th>\n      <th>Close</th>\n      <th>Volume</th>\n      <th>Quote asset volume</th>\n    </tr>\n    <tr>\n      <th>time</th>\n      <th></th>\n      <th></th>\n      <th></th>\n      <th></th>\n      <th></th>\n      <th></th>\n    </tr>\n  </thead>\n  <tbody>\n    <tr>\n      <th>279018</th>\n      <td>1.203</td>\n      <td>1.204</td>\n      <td>1.196</td>\n      <td>1.198</td>\n      <td>42564.5</td>\n      <td>51180.2400</td>\n    </tr>\n    <tr>\n      <th>279019</th>\n      <td>1.202</td>\n      <td>1.204</td>\n      <td>1.198</td>\n      <td>1.199</td>\n      <td>48617.8</td>\n      <td>58468.0164</td>\n    </tr>\n    <tr>\n      <th>279020</th>\n      <td>1.202</td>\n      <td>1.205</td>\n      <td>1.199</td>\n      <td>1.201</td>\n      <td>39909.0</td>\n      <td>48053.7750</td>\n    </tr>\n    <tr>\n      <th>279021</th>\n      <td>1.204</td>\n      <td>1.208</td>\n      <td>1.202</td>\n      <td>1.204</td>\n      <td>41100.0</td>\n      <td>49558.5702</td>\n    </tr>\n    <tr>\n      <th>279022</th>\n      <td>1.206</td>\n      <td>1.208</td>\n      <td>1.200</td>\n      <td>1.200</td>\n      <td>69965.7</td>\n      <td>84194.2859</td>\n    </tr>\n    <tr>\n      <th>279023</th>\n      <td>1.203</td>\n      <td>1.206</td>\n      <td>1.201</td>\n      <td>1.202</td>\n      <td>29581.6</td>\n      <td>35684.8998</td>\n    </tr>\n    <tr>\n      <th>279024</th>\n      <td>1.205</td>\n      <td>1.206</td>\n      <td>1.195</td>\n      <td>1.194</td>\n      <td>65386.6</td>\n      <td>78540.5971</td>\n    </tr>\n    <tr>\n      <th>279025</th>\n      <td>1.198</td>\n      <td>1.201</td>\n      <td>1.195</td>\n      <td>1.196</td>\n      <td>33332.7</td>\n      <td>40122.0360</td>\n    </tr>\n    <tr>\n      <th>279026</th>\n      <td>1.199</td>\n      <td>1.202</td>\n      <td>1.197</td>\n      <td>1.198</td>\n      <td>31135.1</td>\n      <td>37506.0838</td>\n    </tr>\n    <tr>\n      <th>279027</th>\n      <td>1.201</td>\n      <td>1.202</td>\n      <td>1.196</td>\n      <td>1.196</td>\n      <td>80449.1</td>\n      <td>96507.1096</td>\n    </tr>\n    <tr>\n      <th>279028</th>\n      <td>1.199</td>\n      <td>1.202</td>\n      <td>1.197</td>\n      <td>1.198</td>\n      <td>56785.5</td>\n      <td>68197.2725</td>\n    </tr>\n    <tr>\n      <th>279029</th>\n      <td>1.202</td>\n      <td>1.203</td>\n      <td>1.196</td>\n      <td>1.198</td>\n      <td>35583.9</td>\n      <td>42832.6105</td>\n    </tr>\n    <tr>\n      <th>279030</th>\n      <td>1.201</td>\n      <td>1.205</td>\n      <td>1.199</td>\n      <td>1.201</td>\n      <td>34480.8</td>\n      <td>41546.4987</td>\n    </tr>\n    <tr>\n      <th>279031</th>\n      <td>1.204</td>\n      <td>1.205</td>\n      <td>1.196</td>\n      <td>1.199</td>\n      <td>55185.1</td>\n      <td>66282.9440</td>\n    </tr>\n    <tr>\n      <th>279032</th>\n      <td>1.203</td>\n      <td>1.204</td>\n      <td>1.198</td>\n      <td>1.199</td>\n      <td>42203.1</td>\n      <td>50770.2797</td>\n    </tr>\n    <tr>\n      <th>279033</th>\n      <td>1.202</td>\n      <td>1.205</td>\n      <td>1.200</td>\n      <td>1.200</td>\n      <td>37636.1</td>\n      <td>45331.0380</td>\n    </tr>\n    <tr>\n      <th>279034</th>\n      <td>1.203</td>\n      <td>1.211</td>\n      <td>1.201</td>\n      <td>1.206</td>\n      <td>95411.3</td>\n      <td>114786.4612</td>\n    </tr>\n    <tr>\n      <th>279035</th>\n      <td>1.209</td>\n      <td>1.213</td>\n      <td>1.206</td>\n      <td>1.206</td>\n      <td>56723.4</td>\n      <td>68468.4648</td>\n    </tr>\n    <tr>\n      <th>279036</th>\n      <td>1.208</td>\n      <td>1.209</td>\n      <td>1.203</td>\n      <td>1.203</td>\n      <td>51467.9</td>\n      <td>62018.4025</td>\n    </tr>\n    <tr>\n      <th>279037</th>\n      <td>1.206</td>\n      <td>1.207</td>\n      <td>1.202</td>\n      <td>1.203</td>\n      <td>47920.9</td>\n      <td>57719.5478</td>\n    </tr>\n    <tr>\n      <th>279038</th>\n      <td>1.205</td>\n      <td>1.208</td>\n      <td>1.203</td>\n      <td>1.203</td>\n      <td>44826.7</td>\n      <td>54029.4182</td>\n    </tr>\n    <tr>\n      <th>279039</th>\n      <td>1.206</td>\n      <td>1.211</td>\n      <td>1.204</td>\n      <td>1.204</td>\n      <td>33148.3</td>\n      <td>40007.6139</td>\n    </tr>\n    <tr>\n      <th>279040</th>\n      <td>1.208</td>\n      <td>1.212</td>\n      <td>1.205</td>\n      <td>1.204</td>\n      <td>35732.2</td>\n      <td>43122.9390</td>\n    </tr>\n    <tr>\n      <th>279041</th>\n      <td>1.206</td>\n      <td>1.207</td>\n      <td>1.201</td>\n      <td>1.201</td>\n      <td>127447.7</td>\n      <td>153132.9610</td>\n    </tr>\n    <tr>\n      <th>279042</th>\n      <td>1.205</td>\n      <td>1.208</td>\n      <td>1.203</td>\n      <td>1.204</td>\n      <td>48058.1</td>\n      <td>57894.9225</td>\n    </tr>\n    <tr>\n      <th>279043</th>\n      <td>1.207</td>\n      <td>1.210</td>\n      <td>1.203</td>\n      <td>1.205</td>\n      <td>35684.0</td>\n      <td>43045.9536</td>\n    </tr>\n    <tr>\n      <th>279044</th>\n      <td>1.207</td>\n      <td>1.208</td>\n      <td>1.203</td>\n      <td>1.204</td>\n      <td>35053.2</td>\n      <td>42278.5322</td>\n    </tr>\n    <tr>\n      <th>279045</th>\n      <td>1.207</td>\n      <td>1.211</td>\n      <td>1.205</td>\n      <td>1.205</td>\n      <td>34743.7</td>\n      <td>41931.4032</td>\n    </tr>\n    <tr>\n      <th>279046</th>\n      <td>1.208</td>\n      <td>1.214</td>\n      <td>1.206</td>\n      <td>1.209</td>\n      <td>36762.6</td>\n      <td>44402.3114</td>\n    </tr>\n    <tr>\n      <th>279047</th>\n      <td>1.213</td>\n      <td>1.215</td>\n      <td>1.210</td>\n      <td>1.210</td>\n      <td>38881.1</td>\n      <td>46990.5497</td>\n    </tr>\n    <tr>\n      <th>279048</th>\n      <td>1.212</td>\n      <td>1.215</td>\n      <td>1.210</td>\n      <td>1.211</td>\n      <td>41121.1</td>\n      <td>49702.8973</td>\n    </tr>\n    <tr>\n      <th>279049</th>\n      <td>1.214</td>\n      <td>1.215</td>\n      <td>1.208</td>\n      <td>1.209</td>\n      <td>60245.5</td>\n      <td>72793.0116</td>\n    </tr>\n  </tbody>\n</table>\n</div>"
     },
     "execution_count": 51,
     "metadata": {},
     "output_type": "execute_result"
    }
   ],
   "source": [
    "inverted_target = pipeline.inverse_transform(target_val).pd_dataframe()\n",
    "inverted_target[:] = inverse_diff(original_start, inverted_target)\n",
    "inverted_target = inverted_target[:PREDICTION_LENGTH]\n",
    "inverted_target"
   ],
   "metadata": {
    "collapsed": false,
    "ExecuteTime": {
     "end_time": "2023-08-31T20:58:36.543700619Z",
     "start_time": "2023-08-31T20:58:36.500623394Z"
    }
   }
  },
  {
   "cell_type": "code",
   "execution_count": 52,
   "outputs": [
    {
     "data": {
      "text/plain": "<Figure size 640x480 with 1 Axes>",
      "image/png": "[encoded data removed]"
     },
     "metadata": {},
     "output_type": "display_data"
    }
   ],
   "source": [
    "from mplfinance.original_flavor import candlestick_ohlc\n",
    "import matplotlib.dates as mdates\n",
    "import matplotlib.pyplot as plt\n",
    "\n",
    "# Create a DataFrame from the 'candlesticks' array\n",
    "columns = [\"Open\", \"High\", \"Low\", \"Close\", \"Volume\", \"Quote asset volume\"]\n",
    "candlesticks_df = pd.DataFrame(inverted_target, columns=columns)\n",
    "candlesticks_pred_df = pd.DataFrame(inverted_pred, columns=columns)\n",
    "\n",
    "plt.plot(candlesticks_df[\"Close\"], label=\"actual\")\n",
    "plt.plot(candlesticks_pred_df[\"Close\"], label=\"prediction\")\n",
    "plt.legend()\n",
    "\n",
    "# Adding a fake date index (mplfinance needs this)\n",
    "# candlesticks_df['Date'] = pd.date_range(start='1/1/2000', periods=candlesticks_df.shape[0])\n",
    "# candlesticks_df['Date'] = candlesticks_df['Date'].apply(mdates.date2num)\n",
    "# candlesticks_pred_df['Date'] = pd.date_range(start='1/1/2000', periods=candlesticks_pred_df.shape[0])\n",
    "# candlesticks_pred_df['Date'] = candlesticks_pred_df['Date'].apply(mdates.date2num)\n",
    "# \n",
    "# # Reordering columns to fit mplfinance requirements\n",
    "# candlesticks_df = candlesticks_df[['Date', 'Open', 'High', 'Low', 'Close', 'Volume']]\n",
    "# candlesticks_pred_df = candlesticks_pred_df[['Date', 'Open', 'High', 'Low', 'Close', 'Volume']]\n",
    "\n",
    "# Plotting\n",
    "# fig, ax = plt.subplots(figsize=(15, 10))\n",
    "\n",
    "# candlestick_ohlc(ax, candlesticks_pred_df.values, width=0.6, colorup='lime', colordown='magenta', alpha=0.5)\n",
    "# candlestick_ohlc(ax, candlesticks_df.values, width=0.6, colorup='g', colordown='r', alpha=0.5)\n",
    "\n",
    "plt.show()"
   ],
   "metadata": {
    "collapsed": false,
    "ExecuteTime": {
     "end_time": "2023-08-31T20:58:36.627978295Z",
     "start_time": "2023-08-31T20:58:36.525722891Z"
    }
   }
  }
 ]
}
