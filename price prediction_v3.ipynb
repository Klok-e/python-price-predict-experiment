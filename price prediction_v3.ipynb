{
 "nbformat": 4,
 "nbformat_minor": 0,
 "metadata": {
  "colab": {
   "provenance": [],
   "gpuType": "T4",
   "mount_file_id": "1SIIDuVLdYGQUXZfGGVjh2FLqvCtyIW1t",
   "authorship_tag": "ABX9TyPxTybhFFtyIWlUoS6siBcG"
  },
  "kernelspec": {
   "name": "python3",
   "language": "python",
   "display_name": "Python 3 (ipykernel)"
  },
  "language_info": {
   "name": "python"
  },
  "accelerator": "GPU",
  "widgets": {
   "application/vnd.jupyter.widget-state+json": {
    "7dd4f39447a8403d971228d215f7c92f": {
     "model_module": "@jupyter-widgets/controls",
     "model_name": "HBoxModel",
     "model_module_version": "1.5.0",
     "state": {
      "_dom_classes": [],
      "_model_module": "@jupyter-widgets/controls",
      "_model_module_version": "1.5.0",
      "_model_name": "HBoxModel",
      "_view_count": null,
      "_view_module": "@jupyter-widgets/controls",
      "_view_module_version": "1.5.0",
      "_view_name": "HBoxView",
      "box_style": "",
      "children": [
       "IPY_MODEL_e218add70fa342c6829dd9bb37dcfa41",
       "IPY_MODEL_d8002ed8b0574ac6afb501b840b0ba40",
       "IPY_MODEL_2f202985b8e946d289bdbe6712c2b9a7"
      ],
      "layout": "IPY_MODEL_9b5b8357efd84321bf36e7a1082bb677"
     }
    },
    "e218add70fa342c6829dd9bb37dcfa41": {
     "model_module": "@jupyter-widgets/controls",
     "model_name": "HTMLModel",
     "model_module_version": "1.5.0",
     "state": {
      "_dom_classes": [],
      "_model_module": "@jupyter-widgets/controls",
      "_model_module_version": "1.5.0",
      "_model_name": "HTMLModel",
      "_view_count": null,
      "_view_module": "@jupyter-widgets/controls",
      "_view_module_version": "1.5.0",
      "_view_name": "HTMLView",
      "description": "",
      "description_tooltip": null,
      "layout": "IPY_MODEL_1aae74220cb64297a14c9bbd21fb94fa",
      "placeholder": "​",
      "style": "IPY_MODEL_90dcc4766a3b49b0bb295848619c28c0",
      "value": "Tickers: 100%"
     }
    },
    "d8002ed8b0574ac6afb501b840b0ba40": {
     "model_module": "@jupyter-widgets/controls",
     "model_name": "FloatProgressModel",
     "model_module_version": "1.5.0",
     "state": {
      "_dom_classes": [],
      "_model_module": "@jupyter-widgets/controls",
      "_model_module_version": "1.5.0",
      "_model_name": "FloatProgressModel",
      "_view_count": null,
      "_view_module": "@jupyter-widgets/controls",
      "_view_module_version": "1.5.0",
      "_view_name": "ProgressView",
      "bar_style": "success",
      "description": "",
      "description_tooltip": null,
      "layout": "IPY_MODEL_d2c8c1ee88d044b4b0aa98a221a3a839",
      "max": 1,
      "min": 0,
      "orientation": "horizontal",
      "style": "IPY_MODEL_8e10a6958ba34853abe3221c9d2efb9f",
      "value": 1
     }
    },
    "2f202985b8e946d289bdbe6712c2b9a7": {
     "model_module": "@jupyter-widgets/controls",
     "model_name": "HTMLModel",
     "model_module_version": "1.5.0",
     "state": {
      "_dom_classes": [],
      "_model_module": "@jupyter-widgets/controls",
      "_model_module_version": "1.5.0",
      "_model_name": "HTMLModel",
      "_view_count": null,
      "_view_module": "@jupyter-widgets/controls",
      "_view_module_version": "1.5.0",
      "_view_name": "HTMLView",
      "description": "",
      "description_tooltip": null,
      "layout": "IPY_MODEL_71d93b21192b408eb4160aad368e8341",
      "placeholder": "​",
      "style": "IPY_MODEL_3373eefba7bc480c870dffcc7c0c76a5",
      "value": " 1/1 [00:02&lt;00:00,  2.26s/it]"
     }
    },
    "9b5b8357efd84321bf36e7a1082bb677": {
     "model_module": "@jupyter-widgets/base",
     "model_name": "LayoutModel",
     "model_module_version": "1.2.0",
     "state": {
      "_model_module": "@jupyter-widgets/base",
      "_model_module_version": "1.2.0",
      "_model_name": "LayoutModel",
      "_view_count": null,
      "_view_module": "@jupyter-widgets/base",
      "_view_module_version": "1.2.0",
      "_view_name": "LayoutView",
      "align_content": null,
      "align_items": null,
      "align_self": null,
      "border": null,
      "bottom": null,
      "display": null,
      "flex": null,
      "flex_flow": null,
      "grid_area": null,
      "grid_auto_columns": null,
      "grid_auto_flow": null,
      "grid_auto_rows": null,
      "grid_column": null,
      "grid_gap": null,
      "grid_row": null,
      "grid_template_areas": null,
      "grid_template_columns": null,
      "grid_template_rows": null,
      "height": null,
      "justify_content": null,
      "justify_items": null,
      "left": null,
      "margin": null,
      "max_height": null,
      "max_width": null,
      "min_height": null,
      "min_width": null,
      "object_fit": null,
      "object_position": null,
      "order": null,
      "overflow": null,
      "overflow_x": null,
      "overflow_y": null,
      "padding": null,
      "right": null,
      "top": null,
      "visibility": null,
      "width": null
     }
    },
    "1aae74220cb64297a14c9bbd21fb94fa": {
     "model_module": "@jupyter-widgets/base",
     "model_name": "LayoutModel",
     "model_module_version": "1.2.0",
     "state": {
      "_model_module": "@jupyter-widgets/base",
      "_model_module_version": "1.2.0",
      "_model_name": "LayoutModel",
      "_view_count": null,
      "_view_module": "@jupyter-widgets/base",
      "_view_module_version": "1.2.0",
      "_view_name": "LayoutView",
      "align_content": null,
      "align_items": null,
      "align_self": null,
      "border": null,
      "bottom": null,
      "display": null,
      "flex": null,
      "flex_flow": null,
      "grid_area": null,
      "grid_auto_columns": null,
      "grid_auto_flow": null,
      "grid_auto_rows": null,
      "grid_column": null,
      "grid_gap": null,
      "grid_row": null,
      "grid_template_areas": null,
      "grid_template_columns": null,
      "grid_template_rows": null,
      "height": null,
      "justify_content": null,
      "justify_items": null,
      "left": null,
      "margin": null,
      "max_height": null,
      "max_width": null,
      "min_height": null,
      "min_width": null,
      "object_fit": null,
      "object_position": null,
      "order": null,
      "overflow": null,
      "overflow_x": null,
      "overflow_y": null,
      "padding": null,
      "right": null,
      "top": null,
      "visibility": null,
      "width": null
     }
    },
    "90dcc4766a3b49b0bb295848619c28c0": {
     "model_module": "@jupyter-widgets/controls",
     "model_name": "DescriptionStyleModel",
     "model_module_version": "1.5.0",
     "state": {
      "_model_module": "@jupyter-widgets/controls",
      "_model_module_version": "1.5.0",
      "_model_name": "DescriptionStyleModel",
      "_view_count": null,
      "_view_module": "@jupyter-widgets/base",
      "_view_module_version": "1.2.0",
      "_view_name": "StyleView",
      "description_width": ""
     }
    },
    "d2c8c1ee88d044b4b0aa98a221a3a839": {
     "model_module": "@jupyter-widgets/base",
     "model_name": "LayoutModel",
     "model_module_version": "1.2.0",
     "state": {
      "_model_module": "@jupyter-widgets/base",
      "_model_module_version": "1.2.0",
      "_model_name": "LayoutModel",
      "_view_count": null,
      "_view_module": "@jupyter-widgets/base",
      "_view_module_version": "1.2.0",
      "_view_name": "LayoutView",
      "align_content": null,
      "align_items": null,
      "align_self": null,
      "border": null,
      "bottom": null,
      "display": null,
      "flex": null,
      "flex_flow": null,
      "grid_area": null,
      "grid_auto_columns": null,
      "grid_auto_flow": null,
      "grid_auto_rows": null,
      "grid_column": null,
      "grid_gap": null,
      "grid_row": null,
      "grid_template_areas": null,
      "grid_template_columns": null,
      "grid_template_rows": null,
      "height": null,
      "justify_content": null,
      "justify_items": null,
      "left": null,
      "margin": null,
      "max_height": null,
      "max_width": null,
      "min_height": null,
      "min_width": null,
      "object_fit": null,
      "object_position": null,
      "order": null,
      "overflow": null,
      "overflow_x": null,
      "overflow_y": null,
      "padding": null,
      "right": null,
      "top": null,
      "visibility": null,
      "width": null
     }
    },
    "8e10a6958ba34853abe3221c9d2efb9f": {
     "model_module": "@jupyter-widgets/controls",
     "model_name": "ProgressStyleModel",
     "model_module_version": "1.5.0",
     "state": {
      "_model_module": "@jupyter-widgets/controls",
      "_model_module_version": "1.5.0",
      "_model_name": "ProgressStyleModel",
      "_view_count": null,
      "_view_module": "@jupyter-widgets/base",
      "_view_module_version": "1.2.0",
      "_view_name": "StyleView",
      "bar_color": null,
      "description_width": ""
     }
    },
    "71d93b21192b408eb4160aad368e8341": {
     "model_module": "@jupyter-widgets/base",
     "model_name": "LayoutModel",
     "model_module_version": "1.2.0",
     "state": {
      "_model_module": "@jupyter-widgets/base",
      "_model_module_version": "1.2.0",
      "_model_name": "LayoutModel",
      "_view_count": null,
      "_view_module": "@jupyter-widgets/base",
      "_view_module_version": "1.2.0",
      "_view_name": "LayoutView",
      "align_content": null,
      "align_items": null,
      "align_self": null,
      "border": null,
      "bottom": null,
      "display": null,
      "flex": null,
      "flex_flow": null,
      "grid_area": null,
      "grid_auto_columns": null,
      "grid_auto_flow": null,
      "grid_auto_rows": null,
      "grid_column": null,
      "grid_gap": null,
      "grid_row": null,
      "grid_template_areas": null,
      "grid_template_columns": null,
      "grid_template_rows": null,
      "height": null,
      "justify_content": null,
      "justify_items": null,
      "left": null,
      "margin": null,
      "max_height": null,
      "max_width": null,
      "min_height": null,
      "min_width": null,
      "object_fit": null,
      "object_position": null,
      "order": null,
      "overflow": null,
      "overflow_x": null,
      "overflow_y": null,
      "padding": null,
      "right": null,
      "top": null,
      "visibility": null,
      "width": null
     }
    },
    "3373eefba7bc480c870dffcc7c0c76a5": {
     "model_module": "@jupyter-widgets/controls",
     "model_name": "DescriptionStyleModel",
     "model_module_version": "1.5.0",
     "state": {
      "_model_module": "@jupyter-widgets/controls",
      "_model_module_version": "1.5.0",
      "_model_name": "DescriptionStyleModel",
      "_view_count": null,
      "_view_module": "@jupyter-widgets/base",
      "_view_module_version": "1.2.0",
      "_view_name": "StyleView",
      "description_width": ""
     }
    },
    "f4374224d0464cf29a95e6c6fe59afa2": {
     "model_module": "@jupyter-widgets/controls",
     "model_name": "HBoxModel",
     "model_module_version": "1.5.0",
     "state": {
      "_dom_classes": [],
      "_model_module": "@jupyter-widgets/controls",
      "_model_module_version": "1.5.0",
      "_model_name": "HBoxModel",
      "_view_count": null,
      "_view_module": "@jupyter-widgets/controls",
      "_view_module_version": "1.5.0",
      "_view_name": "HBoxView",
      "box_style": "",
      "children": [
       "IPY_MODEL_54d2bf64f7314420b6a8478485efe34e",
       "IPY_MODEL_3d44a3a6a5af487b9d7f47999ee9ded9",
       "IPY_MODEL_37223277179f487b837ce13db28e41c3"
      ],
      "layout": "IPY_MODEL_6e70fcf1370f4a20bec5776cfcb25eb2"
     }
    },
    "54d2bf64f7314420b6a8478485efe34e": {
     "model_module": "@jupyter-widgets/controls",
     "model_name": "HTMLModel",
     "model_module_version": "1.5.0",
     "state": {
      "_dom_classes": [],
      "_model_module": "@jupyter-widgets/controls",
      "_model_module_version": "1.5.0",
      "_model_name": "HTMLModel",
      "_view_count": null,
      "_view_module": "@jupyter-widgets/controls",
      "_view_module_version": "1.5.0",
      "_view_name": "HTMLView",
      "description": "",
      "description_tooltip": null,
      "layout": "IPY_MODEL_07fe8db9119b4393a9d712e950e51fc9",
      "placeholder": "​",
      "style": "IPY_MODEL_59ebcbef69f34c53b1097e76e4395df5",
      "value": "monthly files to download: "
     }
    },
    "3d44a3a6a5af487b9d7f47999ee9ded9": {
     "model_module": "@jupyter-widgets/controls",
     "model_name": "FloatProgressModel",
     "model_module_version": "1.5.0",
     "state": {
      "_dom_classes": [],
      "_model_module": "@jupyter-widgets/controls",
      "_model_module_version": "1.5.0",
      "_model_name": "FloatProgressModel",
      "_view_count": null,
      "_view_module": "@jupyter-widgets/controls",
      "_view_module_version": "1.5.0",
      "_view_name": "ProgressView",
      "bar_style": "info",
      "description": "",
      "description_tooltip": null,
      "layout": "IPY_MODEL_fea07322c08d4b6bab4ef926a5be8c41",
      "max": 1,
      "min": 0,
      "orientation": "horizontal",
      "style": "IPY_MODEL_30338d5f659e49518b0bd7614fa88825",
      "value": 0
     }
    },
    "37223277179f487b837ce13db28e41c3": {
     "model_module": "@jupyter-widgets/controls",
     "model_name": "HTMLModel",
     "model_module_version": "1.5.0",
     "state": {
      "_dom_classes": [],
      "_model_module": "@jupyter-widgets/controls",
      "_model_module_version": "1.5.0",
      "_model_name": "HTMLModel",
      "_view_count": null,
      "_view_module": "@jupyter-widgets/controls",
      "_view_module_version": "1.5.0",
      "_view_name": "HTMLView",
      "description": "",
      "description_tooltip": null,
      "layout": "IPY_MODEL_9d3991c4adec41e8843941b797537d0f",
      "placeholder": "​",
      "style": "IPY_MODEL_22589f85bbba42698003a58b80bfe4b9",
      "value": " 0/0 [00:00&lt;?, ?files/s]"
     }
    },
    "6e70fcf1370f4a20bec5776cfcb25eb2": {
     "model_module": "@jupyter-widgets/base",
     "model_name": "LayoutModel",
     "model_module_version": "1.2.0",
     "state": {
      "_model_module": "@jupyter-widgets/base",
      "_model_module_version": "1.2.0",
      "_model_name": "LayoutModel",
      "_view_count": null,
      "_view_module": "@jupyter-widgets/base",
      "_view_module_version": "1.2.0",
      "_view_name": "LayoutView",
      "align_content": null,
      "align_items": null,
      "align_self": null,
      "border": null,
      "bottom": null,
      "display": null,
      "flex": null,
      "flex_flow": null,
      "grid_area": null,
      "grid_auto_columns": null,
      "grid_auto_flow": null,
      "grid_auto_rows": null,
      "grid_column": null,
      "grid_gap": null,
      "grid_row": null,
      "grid_template_areas": null,
      "grid_template_columns": null,
      "grid_template_rows": null,
      "height": null,
      "justify_content": null,
      "justify_items": null,
      "left": null,
      "margin": null,
      "max_height": null,
      "max_width": null,
      "min_height": null,
      "min_width": null,
      "object_fit": null,
      "object_position": null,
      "order": null,
      "overflow": null,
      "overflow_x": null,
      "overflow_y": null,
      "padding": null,
      "right": null,
      "top": null,
      "visibility": "hidden",
      "width": null
     }
    },
    "07fe8db9119b4393a9d712e950e51fc9": {
     "model_module": "@jupyter-widgets/base",
     "model_name": "LayoutModel",
     "model_module_version": "1.2.0",
     "state": {
      "_model_module": "@jupyter-widgets/base",
      "_model_module_version": "1.2.0",
      "_model_name": "LayoutModel",
      "_view_count": null,
      "_view_module": "@jupyter-widgets/base",
      "_view_module_version": "1.2.0",
      "_view_name": "LayoutView",
      "align_content": null,
      "align_items": null,
      "align_self": null,
      "border": null,
      "bottom": null,
      "display": null,
      "flex": null,
      "flex_flow": null,
      "grid_area": null,
      "grid_auto_columns": null,
      "grid_auto_flow": null,
      "grid_auto_rows": null,
      "grid_column": null,
      "grid_gap": null,
      "grid_row": null,
      "grid_template_areas": null,
      "grid_template_columns": null,
      "grid_template_rows": null,
      "height": null,
      "justify_content": null,
      "justify_items": null,
      "left": null,
      "margin": null,
      "max_height": null,
      "max_width": null,
      "min_height": null,
      "min_width": null,
      "object_fit": null,
      "object_position": null,
      "order": null,
      "overflow": null,
      "overflow_x": null,
      "overflow_y": null,
      "padding": null,
      "right": null,
      "top": null,
      "visibility": null,
      "width": null
     }
    },
    "59ebcbef69f34c53b1097e76e4395df5": {
     "model_module": "@jupyter-widgets/controls",
     "model_name": "DescriptionStyleModel",
     "model_module_version": "1.5.0",
     "state": {
      "_model_module": "@jupyter-widgets/controls",
      "_model_module_version": "1.5.0",
      "_model_name": "DescriptionStyleModel",
      "_view_count": null,
      "_view_module": "@jupyter-widgets/base",
      "_view_module_version": "1.2.0",
      "_view_name": "StyleView",
      "description_width": ""
     }
    },
    "fea07322c08d4b6bab4ef926a5be8c41": {
     "model_module": "@jupyter-widgets/base",
     "model_name": "LayoutModel",
     "model_module_version": "1.2.0",
     "state": {
      "_model_module": "@jupyter-widgets/base",
      "_model_module_version": "1.2.0",
      "_model_name": "LayoutModel",
      "_view_count": null,
      "_view_module": "@jupyter-widgets/base",
      "_view_module_version": "1.2.0",
      "_view_name": "LayoutView",
      "align_content": null,
      "align_items": null,
      "align_self": null,
      "border": null,
      "bottom": null,
      "display": null,
      "flex": null,
      "flex_flow": null,
      "grid_area": null,
      "grid_auto_columns": null,
      "grid_auto_flow": null,
      "grid_auto_rows": null,
      "grid_column": null,
      "grid_gap": null,
      "grid_row": null,
      "grid_template_areas": null,
      "grid_template_columns": null,
      "grid_template_rows": null,
      "height": null,
      "justify_content": null,
      "justify_items": null,
      "left": null,
      "margin": null,
      "max_height": null,
      "max_width": null,
      "min_height": null,
      "min_width": null,
      "object_fit": null,
      "object_position": null,
      "order": null,
      "overflow": null,
      "overflow_x": null,
      "overflow_y": null,
      "padding": null,
      "right": null,
      "top": null,
      "visibility": null,
      "width": "20px"
     }
    },
    "30338d5f659e49518b0bd7614fa88825": {
     "model_module": "@jupyter-widgets/controls",
     "model_name": "ProgressStyleModel",
     "model_module_version": "1.5.0",
     "state": {
      "_model_module": "@jupyter-widgets/controls",
      "_model_module_version": "1.5.0",
      "_model_name": "ProgressStyleModel",
      "_view_count": null,
      "_view_module": "@jupyter-widgets/base",
      "_view_module_version": "1.2.0",
      "_view_name": "StyleView",
      "bar_color": null,
      "description_width": ""
     }
    },
    "9d3991c4adec41e8843941b797537d0f": {
     "model_module": "@jupyter-widgets/base",
     "model_name": "LayoutModel",
     "model_module_version": "1.2.0",
     "state": {
      "_model_module": "@jupyter-widgets/base",
      "_model_module_version": "1.2.0",
      "_model_name": "LayoutModel",
      "_view_count": null,
      "_view_module": "@jupyter-widgets/base",
      "_view_module_version": "1.2.0",
      "_view_name": "LayoutView",
      "align_content": null,
      "align_items": null,
      "align_self": null,
      "border": null,
      "bottom": null,
      "display": null,
      "flex": null,
      "flex_flow": null,
      "grid_area": null,
      "grid_auto_columns": null,
      "grid_auto_flow": null,
      "grid_auto_rows": null,
      "grid_column": null,
      "grid_gap": null,
      "grid_row": null,
      "grid_template_areas": null,
      "grid_template_columns": null,
      "grid_template_rows": null,
      "height": null,
      "justify_content": null,
      "justify_items": null,
      "left": null,
      "margin": null,
      "max_height": null,
      "max_width": null,
      "min_height": null,
      "min_width": null,
      "object_fit": null,
      "object_position": null,
      "order": null,
      "overflow": null,
      "overflow_x": null,
      "overflow_y": null,
      "padding": null,
      "right": null,
      "top": null,
      "visibility": null,
      "width": null
     }
    },
    "22589f85bbba42698003a58b80bfe4b9": {
     "model_module": "@jupyter-widgets/controls",
     "model_name": "DescriptionStyleModel",
     "model_module_version": "1.5.0",
     "state": {
      "_model_module": "@jupyter-widgets/controls",
      "_model_module_version": "1.5.0",
      "_model_name": "DescriptionStyleModel",
      "_view_count": null,
      "_view_module": "@jupyter-widgets/base",
      "_view_module_version": "1.2.0",
      "_view_name": "StyleView",
      "description_width": ""
     }
    },
    "daaacff4c70c47a493d71083333bfac8": {
     "model_module": "@jupyter-widgets/controls",
     "model_name": "HBoxModel",
     "model_module_version": "1.5.0",
     "state": {
      "_dom_classes": [],
      "_model_module": "@jupyter-widgets/controls",
      "_model_module_version": "1.5.0",
      "_model_name": "HBoxModel",
      "_view_count": null,
      "_view_module": "@jupyter-widgets/controls",
      "_view_module_version": "1.5.0",
      "_view_name": "HBoxView",
      "box_style": "",
      "children": [
       "IPY_MODEL_301e182d105e49ab89746cdf15e7b998",
       "IPY_MODEL_00ae5f7622304c9ba60b104df9b5ac33",
       "IPY_MODEL_a38d528ec7f24938ad061d9d1b9bfc8c"
      ],
      "layout": "IPY_MODEL_b1fa0af185c0421aa0fb0bc7fa5ea29a"
     }
    },
    "301e182d105e49ab89746cdf15e7b998": {
     "model_module": "@jupyter-widgets/controls",
     "model_name": "HTMLModel",
     "model_module_version": "1.5.0",
     "state": {
      "_dom_classes": [],
      "_model_module": "@jupyter-widgets/controls",
      "_model_module_version": "1.5.0",
      "_model_name": "HTMLModel",
      "_view_count": null,
      "_view_module": "@jupyter-widgets/controls",
      "_view_module_version": "1.5.0",
      "_view_name": "HTMLView",
      "description": "",
      "description_tooltip": null,
      "layout": "IPY_MODEL_3998dd6c85bb4724b9cd49a4d7fe92b6",
      "placeholder": "​",
      "style": "IPY_MODEL_7e597bbd90c74c5ca02e3decaaf7906d",
      "value": "daily files to download: "
     }
    },
    "00ae5f7622304c9ba60b104df9b5ac33": {
     "model_module": "@jupyter-widgets/controls",
     "model_name": "FloatProgressModel",
     "model_module_version": "1.5.0",
     "state": {
      "_dom_classes": [],
      "_model_module": "@jupyter-widgets/controls",
      "_model_module_version": "1.5.0",
      "_model_name": "FloatProgressModel",
      "_view_count": null,
      "_view_module": "@jupyter-widgets/controls",
      "_view_module_version": "1.5.0",
      "_view_name": "ProgressView",
      "bar_style": "info",
      "description": "",
      "description_tooltip": null,
      "layout": "IPY_MODEL_6073ffb187b247b8ab1c2fe80190807c",
      "max": 1,
      "min": 0,
      "orientation": "horizontal",
      "style": "IPY_MODEL_16cb609f28e1440ebef5b4196c288beb",
      "value": 0
     }
    },
    "a38d528ec7f24938ad061d9d1b9bfc8c": {
     "model_module": "@jupyter-widgets/controls",
     "model_name": "HTMLModel",
     "model_module_version": "1.5.0",
     "state": {
      "_dom_classes": [],
      "_model_module": "@jupyter-widgets/controls",
      "_model_module_version": "1.5.0",
      "_model_name": "HTMLModel",
      "_view_count": null,
      "_view_module": "@jupyter-widgets/controls",
      "_view_module_version": "1.5.0",
      "_view_name": "HTMLView",
      "description": "",
      "description_tooltip": null,
      "layout": "IPY_MODEL_53388c4a852447b6a08f7a146b489409",
      "placeholder": "​",
      "style": "IPY_MODEL_ec819a7e4d2e4c52a1828ff01f1d5836",
      "value": " 0/0 [00:00&lt;?, ?files/s]"
     }
    },
    "b1fa0af185c0421aa0fb0bc7fa5ea29a": {
     "model_module": "@jupyter-widgets/base",
     "model_name": "LayoutModel",
     "model_module_version": "1.2.0",
     "state": {
      "_model_module": "@jupyter-widgets/base",
      "_model_module_version": "1.2.0",
      "_model_name": "LayoutModel",
      "_view_count": null,
      "_view_module": "@jupyter-widgets/base",
      "_view_module_version": "1.2.0",
      "_view_name": "LayoutView",
      "align_content": null,
      "align_items": null,
      "align_self": null,
      "border": null,
      "bottom": null,
      "display": null,
      "flex": null,
      "flex_flow": null,
      "grid_area": null,
      "grid_auto_columns": null,
      "grid_auto_flow": null,
      "grid_auto_rows": null,
      "grid_column": null,
      "grid_gap": null,
      "grid_row": null,
      "grid_template_areas": null,
      "grid_template_columns": null,
      "grid_template_rows": null,
      "height": null,
      "justify_content": null,
      "justify_items": null,
      "left": null,
      "margin": null,
      "max_height": null,
      "max_width": null,
      "min_height": null,
      "min_width": null,
      "object_fit": null,
      "object_position": null,
      "order": null,
      "overflow": null,
      "overflow_x": null,
      "overflow_y": null,
      "padding": null,
      "right": null,
      "top": null,
      "visibility": "hidden",
      "width": null
     }
    },
    "3998dd6c85bb4724b9cd49a4d7fe92b6": {
     "model_module": "@jupyter-widgets/base",
     "model_name": "LayoutModel",
     "model_module_version": "1.2.0",
     "state": {
      "_model_module": "@jupyter-widgets/base",
      "_model_module_version": "1.2.0",
      "_model_name": "LayoutModel",
      "_view_count": null,
      "_view_module": "@jupyter-widgets/base",
      "_view_module_version": "1.2.0",
      "_view_name": "LayoutView",
      "align_content": null,
      "align_items": null,
      "align_self": null,
      "border": null,
      "bottom": null,
      "display": null,
      "flex": null,
      "flex_flow": null,
      "grid_area": null,
      "grid_auto_columns": null,
      "grid_auto_flow": null,
      "grid_auto_rows": null,
      "grid_column": null,
      "grid_gap": null,
      "grid_row": null,
      "grid_template_areas": null,
      "grid_template_columns": null,
      "grid_template_rows": null,
      "height": null,
      "justify_content": null,
      "justify_items": null,
      "left": null,
      "margin": null,
      "max_height": null,
      "max_width": null,
      "min_height": null,
      "min_width": null,
      "object_fit": null,
      "object_position": null,
      "order": null,
      "overflow": null,
      "overflow_x": null,
      "overflow_y": null,
      "padding": null,
      "right": null,
      "top": null,
      "visibility": null,
      "width": null
     }
    },
    "7e597bbd90c74c5ca02e3decaaf7906d": {
     "model_module": "@jupyter-widgets/controls",
     "model_name": "DescriptionStyleModel",
     "model_module_version": "1.5.0",
     "state": {
      "_model_module": "@jupyter-widgets/controls",
      "_model_module_version": "1.5.0",
      "_model_name": "DescriptionStyleModel",
      "_view_count": null,
      "_view_module": "@jupyter-widgets/base",
      "_view_module_version": "1.2.0",
      "_view_name": "StyleView",
      "description_width": ""
     }
    },
    "6073ffb187b247b8ab1c2fe80190807c": {
     "model_module": "@jupyter-widgets/base",
     "model_name": "LayoutModel",
     "model_module_version": "1.2.0",
     "state": {
      "_model_module": "@jupyter-widgets/base",
      "_model_module_version": "1.2.0",
      "_model_name": "LayoutModel",
      "_view_count": null,
      "_view_module": "@jupyter-widgets/base",
      "_view_module_version": "1.2.0",
      "_view_name": "LayoutView",
      "align_content": null,
      "align_items": null,
      "align_self": null,
      "border": null,
      "bottom": null,
      "display": null,
      "flex": null,
      "flex_flow": null,
      "grid_area": null,
      "grid_auto_columns": null,
      "grid_auto_flow": null,
      "grid_auto_rows": null,
      "grid_column": null,
      "grid_gap": null,
      "grid_row": null,
      "grid_template_areas": null,
      "grid_template_columns": null,
      "grid_template_rows": null,
      "height": null,
      "justify_content": null,
      "justify_items": null,
      "left": null,
      "margin": null,
      "max_height": null,
      "max_width": null,
      "min_height": null,
      "min_width": null,
      "object_fit": null,
      "object_position": null,
      "order": null,
      "overflow": null,
      "overflow_x": null,
      "overflow_y": null,
      "padding": null,
      "right": null,
      "top": null,
      "visibility": null,
      "width": "20px"
     }
    },
    "16cb609f28e1440ebef5b4196c288beb": {
     "model_module": "@jupyter-widgets/controls",
     "model_name": "ProgressStyleModel",
     "model_module_version": "1.5.0",
     "state": {
      "_model_module": "@jupyter-widgets/controls",
      "_model_module_version": "1.5.0",
      "_model_name": "ProgressStyleModel",
      "_view_count": null,
      "_view_module": "@jupyter-widgets/base",
      "_view_module_version": "1.2.0",
      "_view_name": "StyleView",
      "bar_color": null,
      "description_width": ""
     }
    },
    "53388c4a852447b6a08f7a146b489409": {
     "model_module": "@jupyter-widgets/base",
     "model_name": "LayoutModel",
     "model_module_version": "1.2.0",
     "state": {
      "_model_module": "@jupyter-widgets/base",
      "_model_module_version": "1.2.0",
      "_model_name": "LayoutModel",
      "_view_count": null,
      "_view_module": "@jupyter-widgets/base",
      "_view_module_version": "1.2.0",
      "_view_name": "LayoutView",
      "align_content": null,
      "align_items": null,
      "align_self": null,
      "border": null,
      "bottom": null,
      "display": null,
      "flex": null,
      "flex_flow": null,
      "grid_area": null,
      "grid_auto_columns": null,
      "grid_auto_flow": null,
      "grid_auto_rows": null,
      "grid_column": null,
      "grid_gap": null,
      "grid_row": null,
      "grid_template_areas": null,
      "grid_template_columns": null,
      "grid_template_rows": null,
      "height": null,
      "justify_content": null,
      "justify_items": null,
      "left": null,
      "margin": null,
      "max_height": null,
      "max_width": null,
      "min_height": null,
      "min_width": null,
      "object_fit": null,
      "object_position": null,
      "order": null,
      "overflow": null,
      "overflow_x": null,
      "overflow_y": null,
      "padding": null,
      "right": null,
      "top": null,
      "visibility": null,
      "width": null
     }
    },
    "ec819a7e4d2e4c52a1828ff01f1d5836": {
     "model_module": "@jupyter-widgets/controls",
     "model_name": "DescriptionStyleModel",
     "model_module_version": "1.5.0",
     "state": {
      "_model_module": "@jupyter-widgets/controls",
      "_model_module_version": "1.5.0",
      "_model_name": "DescriptionStyleModel",
      "_view_count": null,
      "_view_module": "@jupyter-widgets/base",
      "_view_module_version": "1.2.0",
      "_view_name": "StyleView",
      "description_width": ""
     }
    }
   }
  }
 },
 "cells": [
  {
   "cell_type": "code",
   "execution_count": 156,
   "outputs": [
    {
     "name": "stdout",
     "output_type": "stream",
     "text": [
      "['ETHBTC', 'LTCBTC', 'BNBBTC', 'NEOBTC', 'QTUMETH', 'EOSETH', 'SNTETH', 'BNTETH', 'BCCBTC', 'GASBTC', 'BNBETH', 'BTCUSDT', 'ETHUSDT', 'HSRBTC', 'OAXETH', 'DNTETH', 'MCOETH', 'ICNETH', 'MCOBTC', 'WTCBTC', 'WTCETH', 'LRCBTC', 'LRCETH', 'QTUMBTC', 'YOYOBTC', 'OMGBTC', 'OMGETH', 'ZRXBTC', 'ZRXETH', 'STRATBTC', 'STRATETH', 'SNGLSBTC', 'SNGLSETH', 'BQXBTC', 'BQXETH', 'KNCBTC', 'KNCETH', 'FUNBTC', 'FUNETH', 'SNMBTC', 'SNMETH', 'NEOETH', 'IOTABTC', 'IOTAETH', 'LINKBTC', 'LINKETH', 'XVGBTC', 'XVGETH', 'SALTBTC', 'SALTETH', 'MDABTC', 'MDAETH', 'MTLBTC', 'MTLETH', 'SUBBTC', 'SUBETH', 'EOSBTC', 'SNTBTC', 'ETCETH', 'ETCBTC', 'MTHBTC', 'MTHETH', 'ENGBTC', 'ENGETH', 'DNTBTC', 'ZECBTC', 'ZECETH', 'BNTBTC', 'ASTBTC', 'ASTETH', 'DASHBTC', 'DASHETH', 'OAXBTC', 'ICNBTC', 'BTGBTC', 'BTGETH', 'EVXBTC', 'EVXETH', 'REQBTC', 'REQETH', 'VIBBTC', 'VIBETH', 'HSRETH', 'TRXBTC', 'TRXETH', 'POWRBTC', 'POWRETH', 'ARKBTC', 'ARKETH', 'YOYOETH', 'XRPBTC', 'XRPETH', 'MODBTC', 'MODETH', 'ENJBTC', 'ENJETH', 'STORJBTC', 'STORJETH', 'BNBUSDT', 'VENBNB', 'YOYOBNB', 'POWRBNB', 'VENBTC', 'VENETH', 'KMDBTC', 'KMDETH', 'NULSBNB', 'RCNBTC', 'RCNETH', 'RCNBNB', 'NULSBTC', 'NULSETH', 'RDNBTC', 'RDNETH', 'RDNBNB', 'XMRBTC', 'XMRETH', 'DLTBNB', 'WTCBNB', 'DLTBTC', 'DLTETH', 'AMBBTC', 'AMBETH', 'AMBBNB', 'BCCETH', 'BCCUSDT', 'BCCBNB', 'BATBTC', 'BATETH', 'BATBNB', 'BCPTBTC', 'BCPTETH', 'BCPTBNB', 'ARNBTC', 'ARNETH', 'GVTBTC', 'GVTETH', 'CDTBTC', 'CDTETH', 'GXSBTC', 'GXSETH', 'NEOUSDT', 'NEOBNB', 'POEBTC', 'POEETH', 'QSPBTC', 'QSPETH', 'QSPBNB', 'BTSBTC', 'BTSETH', 'BTSBNB', 'XZCBTC', 'XZCETH', 'XZCBNB', 'LSKBTC', 'LSKETH', 'LSKBNB', 'TNTBTC', 'TNTETH', 'FUELBTC', 'FUELETH', 'MANABTC', 'MANAETH', 'BCDBTC', 'BCDETH', 'DGDBTC', 'DGDETH', 'IOTABNB', 'ADXBTC', 'ADXETH', 'ADXBNB', 'ADABTC', 'ADAETH', 'PPTBTC', 'PPTETH', 'CMTBTC', 'CMTETH', 'CMTBNB', 'XLMBTC', 'XLMETH', 'XLMBNB', 'CNDBTC', 'CNDETH', 'CNDBNB', 'LENDBTC', 'LENDETH', 'WABIBTC', 'WABIETH', 'WABIBNB', 'LTCETH', 'LTCUSDT', 'LTCBNB', 'TNBBTC', 'TNBETH', 'WAVESBTC', 'WAVESETH', 'WAVESBNB', 'GTOBTC', 'GTOETH', 'GTOBNB', 'ICXBTC', 'ICXETH', 'ICXBNB', 'OSTBTC', 'OSTETH', 'OSTBNB', 'ELFBTC', 'ELFETH', 'AIONBTC', 'AIONETH', 'AIONBNB', 'NEBLBTC', 'NEBLBNB', 'BRDBTC', 'BRDETH', 'BRDBNB', 'MCOBNB', 'EDOBTC', 'EDOETH', 'WINGSBTC', 'WINGSETH', 'NAVBTC', 'NAVETH', 'NAVBNB', 'LUNBTC', 'LUNETH', 'TRIGBTC', 'TRIGETH', 'TRIGBNB', 'APPCBTC', 'APPCETH', 'APPCBNB', 'VIBEBTC', 'VIBEETH', 'RLCBTC', 'RLCETH', 'RLCBNB', 'INSBTC', 'INSETH', 'PIVXBTC', 'PIVXBNB', 'IOSTBTC', 'IOSTETH', 'CHATBTC', 'CHATETH', 'STEEMBTC', 'STEEMETH', 'STEEMBNB', 'NANOBTC', 'NANOETH', 'NANOBNB', 'VIABTC', 'VIAETH', 'VIABNB', 'BLZBTC', 'BLZETH', 'BLZBNB', 'AEBTC', 'AEETH', 'AEBNB', 'RPXBTC', 'RPXETH', 'RPXBNB', 'NCASHBTC', 'NCASHETH', 'NCASHBNB', 'POABTC', 'POAETH', 'POABNB', 'ZILBTC', 'ZILETH', 'ZILBNB', 'ONTBTC', 'ONTETH', 'ONTBNB', 'STORMBTC', 'STORMETH', 'STORMBNB', 'QTUMBNB', 'QTUMUSDT', 'XEMBTC', 'XEMETH', 'XEMBNB', 'WANBTC', 'WANETH', 'WANBNB', 'WPRBTC', 'WPRETH', 'QLCBTC', 'QLCETH', 'SYSBTC', 'SYSETH', 'SYSBNB', 'QLCBNB', 'GRSBTC', 'GRSETH', 'ADAUSDT', 'ADABNB', 'CLOAKBTC', 'CLOAKETH', 'GNTBTC', 'GNTETH', 'GNTBNB', 'LOOMBTC', 'LOOMETH', 'LOOMBNB', 'XRPUSDT', 'BCNBTC', 'BCNETH', 'BCNBNB', 'REPBTC', 'REPBNB', 'BTCTUSD', 'TUSDBTC', 'ETHTUSD', 'TUSDETH', 'TUSDBNB', 'ZENBTC', 'ZENETH', 'ZENBNB', 'SKYBTC', 'SKYETH', 'SKYBNB', 'EOSUSDT', 'EOSBNB', 'CVCBTC', 'CVCETH', 'CVCBNB', 'THETABTC', 'THETAETH', 'THETABNB', 'XRPBNB', 'TUSDUSDT', 'IOTAUSDT', 'XLMUSDT', 'IOTXBTC', 'IOTXETH', 'QKCBTC', 'QKCETH', 'AGIBTC', 'AGIETH', 'AGIBNB', 'NXSBTC', 'NXSETH', 'NXSBNB', 'ENJBNB', 'DATABTC', 'DATAETH', 'ONTUSDT', 'TRXBNB', 'TRXUSDT', 'ETCUSDT', 'ETCBNB', 'ICXUSDT', 'SCBTC', 'SCETH', 'NPXSBTC', 'NPXSETH', 'VENUSDT', 'KEYBTC', 'KEYETH', 'NASBTC', 'NASETH', 'NASBNB', 'MFTBTC', 'MFTETH', 'MFTBNB', 'DENTBTC', 'DENTETH', 'ARDRBTC', 'ARDRETH', 'ARDRBNB', 'NULSUSDT', 'HOTBTC', 'HOTETH', 'VETBTC', 'VETETH', 'VETUSDT', 'VETBNB', 'DOCKBTC', 'DOCKETH', 'POLYBTC', 'POLYBNB', 'PHXBTC', 'PHXETH', 'PHXBNB', 'HCBTC', 'HCETH', 'GOBTC', 'GOBNB', 'PAXBTC', 'PAXBNB', 'PAXUSDT', 'PAXETH', 'RVNBTC', 'DCRBTC', 'DCRBNB', 'USDCBNB', 'MITHBTC', 'MITHBNB', 'BCHABCBTC', 'BCHSVBTC', 'BCHABCUSDT', 'BCHSVUSDT', 'BNBPAX', 'BTCPAX', 'ETHPAX', 'XRPPAX', 'EOSPAX', 'XLMPAX', 'RENBTC', 'RENBNB', 'BNBTUSD', 'XRPTUSD', 'EOSTUSD', 'XLMTUSD', 'BNBUSDC', 'BTCUSDC', 'ETHUSDC', 'XRPUSDC', 'EOSUSDC', 'XLMUSDC', 'USDCUSDT', 'ADATUSD', 'TRXTUSD', 'NEOTUSD', 'TRXXRP', 'XZCXRP', 'PAXTUSD', 'USDCTUSD', 'USDCPAX', 'LINKUSDT', 'LINKTUSD', 'LINKPAX', 'LINKUSDC', 'WAVESUSDT', 'WAVESTUSD', 'WAVESPAX', 'WAVESUSDC', 'BCHABCTUSD', 'BCHABCPAX', 'BCHABCUSDC', 'BCHSVTUSD', 'BCHSVPAX', 'BCHSVUSDC', 'LTCTUSD', 'LTCPAX', 'LTCUSDC', 'TRXPAX', 'TRXUSDC', 'BTTBTC', 'BTTBNB', 'BTTUSDT', 'BNBUSDS', 'BTCUSDS', 'USDSUSDT', 'USDSPAX', 'USDSTUSD', 'USDSUSDC', 'BTTPAX', 'BTTTUSD', 'BTTUSDC', 'ONGBNB', 'ONGBTC', 'ONGUSDT', 'HOTBNB', 'HOTUSDT', 'ZILUSDT', 'ZRXBNB', 'ZRXUSDT', 'FETBNB', 'FETBTC', 'FETUSDT', 'BATUSDT', 'XMRBNB', 'XMRUSDT', 'ZECBNB', 'ZECUSDT', 'ZECPAX', 'ZECTUSD', 'ZECUSDC', 'IOSTUSDT', 'CELRBNB', 'CELRBTC', 'CELRUSDT', 'ADAPAX', 'ADAUSDC', 'NEOPAX', 'NEOUSDC', 'DASHBNB', 'DASHUSDT', 'NANOUSDT', 'OMGBNB', 'OMGUSDT', 'THETAUSDT', 'ENJUSDT', 'MITHUSDT', 'MATICBNB', 'MATICBTC', 'MATICUSDT', 'ATOMBNB', 'ATOMBTC', 'ATOMUSDT', 'ATOMUSDC', 'ATOMPAX', 'ATOMTUSD', 'ETCUSDC', 'ETCPAX', 'ETCTUSD', 'BATUSDC', 'BATPAX', 'BATTUSD', 'PHBBNB', 'PHBBTC', 'PHBUSDC', 'PHBTUSD', 'PHBPAX', 'TFUELBNB', 'TFUELBTC', 'TFUELUSDT', 'TFUELUSDC', 'TFUELTUSD', 'TFUELPAX', 'ONEBNB', 'ONEBTC', 'ONEUSDT', 'ONETUSD', 'ONEPAX', 'ONEUSDC', 'FTMBNB', 'FTMBTC', 'FTMUSDT', 'FTMTUSD', 'FTMPAX', 'FTMUSDC', 'BTCBBTC', 'BCPTTUSD', 'BCPTPAX', 'BCPTUSDC', 'ALGOBNB', 'ALGOBTC', 'ALGOUSDT', 'ALGOTUSD', 'ALGOPAX', 'ALGOUSDC', 'USDSBUSDT', 'USDSBUSDS', 'GTOUSDT', 'GTOPAX', 'GTOTUSD', 'GTOUSDC', 'ERDBNB', 'ERDBTC', 'ERDUSDT', 'ERDPAX', 'ERDUSDC', 'DOGEBNB', 'DOGEBTC', 'DOGEUSDT', 'DOGEPAX', 'DOGEUSDC', 'DUSKBNB', 'DUSKBTC', 'DUSKUSDT', 'DUSKUSDC', 'DUSKPAX', 'BGBPUSDC', 'ANKRBNB', 'ANKRBTC', 'ANKRUSDT', 'ANKRTUSD', 'ANKRPAX', 'ANKRUSDC', 'ONTPAX', 'ONTUSDC', 'WINBNB', 'WINBTC', 'WINUSDT', 'WINUSDC', 'COSBNB', 'COSBTC', 'COSUSDT', 'TUSDBTUSD', 'NPXSUSDT', 'NPXSUSDC', 'COCOSBNB', 'COCOSBTC', 'COCOSUSDT', 'MTLUSDT', 'TOMOBNB', 'TOMOBTC', 'TOMOUSDT', 'TOMOUSDC', 'PERLBNB', 'PERLBTC', 'PERLUSDC', 'PERLUSDT', 'DENTUSDT', 'MFTUSDT', 'KEYUSDT', 'STORMUSDT', 'DOCKUSDT', 'WANUSDT', 'FUNUSDT', 'CVCUSDT', 'BTTTRX', 'WINTRX', 'CHZBNB', 'CHZBTC', 'CHZUSDT', 'BANDBNB', 'BANDBTC', 'BANDUSDT', 'BNBBUSD', 'BTCBUSD', 'BUSDUSDT', 'BEAMBNB', 'BEAMBTC', 'BEAMUSDT', 'XTZBNB', 'XTZBTC', 'XTZUSDT', 'RENUSDT', 'RVNUSDT', 'HCUSDT', 'HBARBNB', 'HBARBTC', 'HBARUSDT', 'NKNBNB', 'NKNBTC', 'NKNUSDT', 'XRPBUSD', 'ETHBUSD', 'BCHABCBUSD', 'LTCBUSD', 'LINKBUSD', 'ETCBUSD', 'STXBNB', 'STXBTC', 'STXUSDT', 'KAVABNB', 'KAVABTC', 'KAVAUSDT', 'BUSDNGN', 'BNBNGN', 'BTCNGN', 'ARPABNB', 'ARPABTC', 'ARPAUSDT', 'TRXBUSD', 'EOSBUSD', 'IOTXUSDT', 'RLCUSDT', 'MCOUSDT', 'XLMBUSD', 'ADABUSD', 'CTXCBNB', 'CTXCBTC', 'CTXCUSDT', 'BCHBNB', 'BCHBTC', 'BCHUSDT', 'BCHUSDC', 'BCHTUSD', 'BCHPAX', 'BCHBUSD', 'BTCRUB', 'ETHRUB', 'XRPRUB', 'BNBRUB', 'TROYBNB', 'TROYBTC', 'TROYUSDT', 'BUSDRUB', 'QTUMBUSD', 'VETBUSD', 'VITEBNB', 'VITEBTC', 'VITEUSDT', 'FTTBNB', 'FTTBTC', 'FTTUSDT', 'BTCTRY', 'BNBTRY', 'BUSDTRY', 'ETHTRY', 'XRPTRY', 'USDTTRY', 'USDTRUB', 'BTCEUR', 'ETHEUR', 'BNBEUR', 'XRPEUR', 'EURBUSD', 'EURUSDT', 'OGNBNB', 'OGNBTC', 'OGNUSDT', 'DREPBNB', 'DREPBTC', 'DREPUSDT', 'BULLUSDT', 'BULLBUSD', 'BEARUSDT', 'BEARBUSD', 'ETHBULLUSDT', 'ETHBULLBUSD', 'ETHBEARUSDT', 'ETHBEARBUSD', 'TCTBNB', 'TCTBTC', 'TCTUSDT', 'WRXBNB', 'WRXBTC', 'WRXUSDT', 'ICXBUSD', 'BTSUSDT', 'BTSBUSD', 'LSKUSDT', 'BNTUSDT', 'BNTBUSD', 'LTOBNB', 'LTOBTC', 'LTOUSDT', 'ATOMBUSD', 'DASHBUSD', 'NEOBUSD', 'WAVESBUSD', 'XTZBUSD', 'EOSBULLUSDT', 'EOSBULLBUSD', 'EOSBEARUSDT', 'EOSBEARBUSD', 'XRPBULLUSDT', 'XRPBULLBUSD', 'XRPBEARUSDT', 'XRPBEARBUSD', 'BATBUSD', 'ENJBUSD', 'NANOBUSD', 'ONTBUSD', 'RVNBUSD', 'STRATBUSD', 'STRATBNB', 'STRATUSDT', 'AIONBUSD', 'AIONUSDT', 'MBLBNB', 'MBLBTC', 'MBLUSDT', 'COTIBNB', 'COTIBTC', 'COTIUSDT', 'ALGOBUSD', 'BTTBUSD', 'TOMOBUSD', 'XMRBUSD', 'ZECBUSD', 'BNBBULLUSDT', 'BNBBULLBUSD', 'BNBBEARUSDT', 'BNBBEARBUSD', 'STPTBNB', 'STPTBTC', 'STPTUSDT', 'BTCZAR', 'ETHZAR', 'BNBZAR', 'USDTZAR', 'BUSDZAR', 'BTCBKRW', 'ETHBKRW', 'BNBBKRW', 'WTCUSDT', 'DATABUSD', 'DATAUSDT', 'XZCUSDT', 'SOLBNB', 'SOLBTC', 'SOLUSDT', 'SOLBUSD', 'BTCIDRT', 'BNBIDRT', 'USDTIDRT', 'BUSDIDRT', 'CTSIBTC', 'CTSIUSDT', 'CTSIBNB', 'CTSIBUSD', 'HIVEBNB', 'HIVEBTC', 'HIVEUSDT', 'CHRBNB', 'CHRBTC', 'CHRUSDT', 'BTCUPUSDT', 'BTCDOWNUSDT', 'GXSUSDT', 'ARDRUSDT', 'ERDBUSD', 'LENDUSDT', 'HBARBUSD', 'MATICBUSD', 'WRXBUSD', 'ZILBUSD', 'MDTBNB', 'MDTBTC', 'MDTUSDT', 'STMXBTC', 'STMXETH', 'STMXUSDT', 'KNCBUSD', 'KNCUSDT', 'REPBUSD', 'REPUSDT', 'LRCBUSD', 'LRCUSDT', 'IQBNB', 'IQBUSD', 'PNTBTC', 'PNTUSDT', 'BTCGBP', 'ETHGBP', 'XRPGBP', 'BNBGBP', 'GBPBUSD', 'DGBBTC', 'DGBBUSD', 'BTCUAH', 'USDTUAH', 'COMPBTC', 'COMPBNB', 'COMPBUSD', 'COMPUSDT', 'BTCBIDR', 'ETHBIDR', 'BNBBIDR', 'BUSDBIDR', 'USDTBIDR', 'BKRWUSDT', 'BKRWBUSD', 'SCUSDT', 'ZENUSDT', 'SXPBTC', 'SXPBNB', 'SXPBUSD', 'SNXBTC', 'SNXBNB', 'SNXBUSD', 'SNXUSDT', 'ETHUPUSDT', 'ETHDOWNUSDT', 'ADAUPUSDT', 'ADADOWNUSDT', 'LINKUPUSDT', 'LINKDOWNUSDT', 'VTHOBNB', 'VTHOBUSD', 'VTHOUSDT', 'DCRBUSD', 'DGBUSDT', 'GBPUSDT', 'STORJBUSD', 'SXPUSDT', 'IRISBNB', 'IRISBTC', 'IRISBUSD', 'MKRBNB', 'MKRBTC', 'MKRUSDT', 'MKRBUSD', 'DAIBNB', 'DAIBTC', 'DAIUSDT', 'DAIBUSD', 'RUNEBNB', 'RUNEBTC', 'RUNEBUSD', 'MANABUSD', 'DOGEBUSD', 'LENDBUSD', 'ZRXBUSD', 'DCRUSDT', 'STORJUSDT', 'XRPBKRW', 'ADABKRW', 'BTCAUD', 'ETHAUD', 'AUDBUSD', 'FIOBNB', 'FIOBTC', 'FIOBUSD', 'BNBUPUSDT', 'BNBDOWNUSDT', 'XTZUPUSDT', 'XTZDOWNUSDT', 'AVABNB', 'AVABTC', 'AVABUSD', 'USDTBKRW', 'BUSDBKRW', 'IOTABUSD', 'MANAUSDT', 'XRPAUD', 'BNBAUD', 'AUDUSDT', 'BALBNB', 'BALBTC', 'BALBUSD', 'YFIBNB', 'YFIBTC', 'YFIBUSD', 'YFIUSDT', 'BLZBUSD', 'KMDBUSD', 'BALUSDT', 'BLZUSDT', 'IRISUSDT', 'KMDUSDT', 'BTCDAI', 'ETHDAI', 'BNBDAI', 'USDTDAI', 'BUSDDAI', 'JSTBNB', 'JSTBTC', 'JSTBUSD', 'JSTUSDT', 'SRMBNB', 'SRMBTC', 'SRMBUSD', 'SRMUSDT', 'ANTBNB', 'ANTBTC', 'ANTBUSD', 'ANTUSDT', 'CRVBNB', 'CRVBTC', 'CRVBUSD', 'CRVUSDT', 'SANDBNB', 'SANDBTC', 'SANDUSDT', 'SANDBUSD', 'OCEANBNB', 'OCEANBTC', 'OCEANBUSD', 'OCEANUSDT', 'NMRBTC', 'NMRBUSD', 'NMRUSDT', 'DOTBNB', 'DOTBTC', 'DOTBUSD', 'DOTUSDT', 'LUNABNB', 'LUNABTC', 'LUNABUSD', 'LUNAUSDT', 'IDEXBTC', 'IDEXBUSD', 'RSRBNB', 'RSRBTC', 'RSRBUSD', 'RSRUSDT', 'PAXGBNB', 'PAXGBTC', 'PAXGBUSD', 'PAXGUSDT', 'WNXMBNB', 'WNXMBTC', 'WNXMBUSD', 'WNXMUSDT', 'TRBBNB', 'TRBBTC', 'TRBBUSD', 'TRBUSDT', 'ETHNGN', 'DOTBIDR', 'LINKAUD', 'SXPAUD', 'BZRXBNB', 'BZRXBTC', 'BZRXBUSD', 'BZRXUSDT', 'WBTCBTC', 'WBTCETH', 'SUSHIBNB', 'SUSHIBTC', 'SUSHIBUSD', 'SUSHIUSDT', 'YFIIBNB', 'YFIIBTC', 'YFIIBUSD', 'YFIIUSDT', 'KSMBNB', 'KSMBTC', 'KSMBUSD', 'KSMUSDT', 'EGLDBNB', 'EGLDBTC', 'EGLDBUSD', 'EGLDUSDT', 'DIABNB', 'DIABTC', 'DIABUSD', 'DIAUSDT', 'RUNEUSDT', 'FIOUSDT', 'UMABTC', 'UMAUSDT', 'EOSUPUSDT', 'EOSDOWNUSDT', 'TRXUPUSDT', 'TRXDOWNUSDT', 'XRPUPUSDT', 'XRPDOWNUSDT', 'DOTUPUSDT', 'DOTDOWNUSDT', 'SRMBIDR', 'ONEBIDR', 'LINKTRY', 'USDTNGN', 'BELBNB', 'BELBTC', 'BELBUSD', 'BELUSDT', 'WINGBNB', 'WINGBTC', 'SWRVBNB', 'SWRVBUSD', 'WINGBUSD', 'WINGUSDT', 'LTCUPUSDT', 'LTCDOWNUSDT', 'LENDBKRW', 'SXPEUR', 'CREAMBNB', 'CREAMBUSD', 'UNIBNB', 'UNIBTC', 'UNIBUSD', 'UNIUSDT', 'NBSBTC', 'NBSUSDT', 'OXTBTC', 'OXTUSDT', 'SUNBTC', 'SUNUSDT', 'AVAXBNB', 'AVAXBTC', 'AVAXBUSD', 'AVAXUSDT', 'HNTBTC', 'HNTUSDT', 'BAKEBNB', 'BURGERBNB', 'SXPBIDR', 'LINKBKRW', 'FLMBNB', 'FLMBTC', 'FLMBUSD', 'FLMUSDT', 'SCRTBTC', 'SCRTETH', 'CAKEBNB', 'CAKEBUSD', 'SPARTABNB', 'UNIUPUSDT', 'UNIDOWNUSDT', 'ORNBTC', 'ORNUSDT', 'TRXNGN', 'SXPTRY', 'UTKBTC', 'UTKUSDT', 'XVSBNB', 'XVSBTC', 'XVSBUSD', 'XVSUSDT', 'ALPHABNB', 'ALPHABTC', 'ALPHABUSD', 'ALPHAUSDT', 'VIDTBTC', 'VIDTBUSD', 'AAVEBNB', 'BTCBRL', 'USDTBRL', 'AAVEBTC', 'AAVEETH', 'AAVEBUSD', 'AAVEUSDT', 'AAVEBKRW', 'NEARBNB', 'NEARBTC', 'NEARBUSD', 'NEARUSDT', 'SXPUPUSDT', 'SXPDOWNUSDT', 'DOTBKRW', 'SXPGBP', 'FILBNB', 'FILBTC', 'FILBUSD', 'FILUSDT', 'FILUPUSDT', 'FILDOWNUSDT', 'YFIUPUSDT', 'YFIDOWNUSDT', 'INJBNB', 'INJBTC', 'INJBUSD', 'INJUSDT', 'AERGOBTC', 'AERGOBUSD', 'LINKEUR', 'ONEBUSD', 'EASYETH', 'AUDIOBTC', 'AUDIOBUSD', 'AUDIOUSDT', 'CTKBNB', 'CTKBTC', 'CTKBUSD', 'CTKUSDT', 'BCHUPUSDT', 'BCHDOWNUSDT', 'BOTBTC', 'BOTBUSD', 'ETHBRL', 'DOTEUR', 'AKROBTC', 'AKROUSDT', 'KP3RBNB', 'KP3RBUSD', 'AXSBNB', 'AXSBTC', 'AXSBUSD', 'AXSUSDT', 'HARDBNB', 'HARDBTC', 'HARDBUSD', 'HARDUSDT', 'BNBBRL', 'LTCEUR', 'RENBTCBTC', 'RENBTCETH', 'DNTBUSD', 'DNTUSDT', 'SLPETH', 'ADAEUR', 'LTCNGN', 'CVPETH', 'CVPBUSD', 'STRAXBTC', 'STRAXETH', 'STRAXBUSD', 'STRAXUSDT', 'FORBTC', 'FORBUSD', 'UNFIBNB', 'UNFIBTC', 'UNFIBUSD', 'UNFIUSDT', 'FRONTETH', 'FRONTBUSD', 'BCHABUSD', 'ROSEBTC', 'ROSEBUSD', 'ROSEUSDT', 'AVAXTRY', 'BUSDBRL', 'AVAUSDT', 'SYSBUSD', 'XEMUSDT', 'HEGICETH', 'HEGICBUSD', 'AAVEUPUSDT', 'AAVEDOWNUSDT', 'PROMBNB', 'PROMBUSD', 'XRPBRL', 'XRPNGN', 'SKLBTC', 'SKLBUSD', 'SKLUSDT', 'BCHEUR', 'YFIEUR', 'ZILBIDR', 'SUSDBTC', 'SUSDETH', 'SUSDUSDT', 'COVERETH', 'COVERBUSD', 'GLMBTC', 'GLMETH', 'GHSTETH', 'GHSTBUSD', 'SUSHIUPUSDT', 'SUSHIDOWNUSDT', 'XLMUPUSDT', 'XLMDOWNUSDT', 'LINKBRL', 'LINKNGN', 'LTCRUB', 'TRXTRY', 'XLMEUR', 'DFETH', 'DFBUSD', 'GRTBTC', 'GRTETH', 'GRTUSDT', 'JUVBTC', 'JUVBUSD', 'JUVUSDT', 'PSGBTC', 'PSGBUSD', 'PSGUSDT', 'BUSDBVND', 'USDTBVND', '1INCHBTC', '1INCHUSDT', 'REEFBTC', 'REEFUSDT', 'OGBTC', 'OGUSDT', 'ATMBTC', 'ATMUSDT', 'ASRBTC', 'ASRUSDT', 'CELOBTC', 'CELOUSDT', 'RIFBTC', 'RIFUSDT', 'CHZTRY', 'XLMTRY', 'LINKGBP', 'GRTEUR', 'BTCSTBTC', 'BTCSTBUSD', 'BTCSTUSDT', 'TRUBTC', 'TRUBUSD', 'TRUUSDT', 'DEXEETH', 'DEXEBUSD', 'EOSEUR', 'LTCBRL', 'USDCBUSD', 'TUSDBUSD', 'PAXBUSD', 'CKBBTC', 'CKBBUSD', 'CKBUSDT', 'TWTBTC', 'TWTBUSD', 'TWTUSDT', 'FIROBTC', 'FIROETH', 'FIROUSDT', 'BETHETH', 'DOGEEUR', 'DOGETRY', 'DOGEAUD', 'DOGEBRL', 'DOTNGN', 'PROSETH', 'LITBTC', 'LITBUSD', 'LITUSDT', 'BTCVAI', 'BUSDVAI', 'SFPBTC', 'SFPBUSD', 'SFPUSDT', 'DOGEGBP', 'DOTTRY', 'FXSBTC', 'FXSBUSD', 'DODOBTC', 'DODOBUSD', 'DODOUSDT', 'FRONTBTC', 'EASYBTC', 'CAKEBTC', 'CAKEUSDT', 'BAKEBUSD', 'UFTETH', 'UFTBUSD', '1INCHBUSD', 'BANDBUSD', 'GRTBUSD', 'IOSTBUSD', 'OMGBUSD', 'REEFBUSD', 'ACMBTC', 'ACMBUSD', 'ACMUSDT', 'AUCTIONBTC', 'AUCTIONBUSD', 'PHABTC', 'PHABUSD', 'DOTGBP', 'ADATRY', 'ADABRL', 'ADAGBP', 'TVKBTC', 'TVKBUSD', 'BADGERBTC', 'BADGERBUSD', 'BADGERUSDT', 'FISBTC', 'FISBUSD', 'FISUSDT', 'DOTBRL', 'ADAAUD', 'HOTTRY', 'EGLDEUR', 'OMBTC', 'OMBUSD', 'OMUSDT', 'PONDBTC', 'PONDBUSD', 'PONDUSDT', 'DEGOBTC', 'DEGOBUSD', 'DEGOUSDT', 'AVAXEUR', 'BTTTRY', 'CHZBRL', 'UNIEUR', 'ALICEBTC', 'ALICEBUSD', 'ALICEUSDT', 'CHZBUSD', 'CHZEUR', 'CHZGBP', 'BIFIBNB', 'BIFIBUSD', 'LINABTC', 'LINABUSD', 'LINAUSDT', 'ADARUB', 'ENJBRL', 'ENJEUR', 'MATICEUR', 'NEOTRY', 'PERPBTC', 'PERPBUSD', 'PERPUSDT', 'RAMPBTC', 'RAMPBUSD', 'RAMPUSDT', 'SUPERBTC', 'SUPERBUSD', 'SUPERUSDT', 'CFXBTC', 'CFXBUSD', 'CFXUSDT', 'ENJGBP', 'EOSTRY', 'LTCGBP', 'LUNAEUR', 'RVNTRY', 'THETAEUR', 'XVGBUSD', 'EPSBTC', 'EPSBUSD', 'EPSUSDT', 'AUTOBTC', 'AUTOBUSD', 'AUTOUSDT', 'TKOBTC', 'TKOBIDR', 'TKOBUSD', 'TKOUSDT', 'PUNDIXETH', 'PUNDIXUSDT', 'BTTBRL', 'BTTEUR', 'HOTEUR', 'WINEUR', 'TLMBTC', 'TLMBUSD', 'TLMUSDT', '1INCHUPUSDT', '1INCHDOWNUSDT', 'BTGBUSD', 'BTGUSDT', 'HOTBUSD', 'BNBUAH', 'ONTTRY', 'VETEUR', 'VETGBP', 'WINBRL', 'MIRBTC', 'MIRBUSD', 'MIRUSDT', 'BARBTC', 'BARBUSD', 'BARUSDT', 'FORTHBTC', 'FORTHBUSD', 'FORTHUSDT', 'CAKEGBP', 'DOGERUB', 'HOTBRL', 'WRXEUR', 'EZBTC', 'EZETH', 'BAKEUSDT', 'BURGERBUSD', 'BURGERUSDT', 'SLPBUSD', 'SLPUSDT', 'TRXAUD', 'TRXEUR', 'VETTRY', 'SHIBUSDT', 'SHIBBUSD', 'ICPBTC', 'ICPBNB', 'ICPBUSD', 'ICPUSDT', 'SHIBEUR', 'SHIBRUB', 'ETCEUR', 'ETCBRL', 'DOGEBIDR', 'ARBTC', 'ARBNB', 'ARBUSD', 'ARUSDT', 'POLSBTC', 'POLSBNB', 'POLSBUSD', 'POLSUSDT', 'MDXBTC', 'MDXBNB', 'MDXBUSD', 'MDXUSDT', 'MASKBNB', 'MASKBUSD', 'MASKUSDT', 'LPTBTC', 'LPTBNB', 'LPTBUSD', 'LPTUSDT', 'ETHUAH', 'MATICBRL', 'SOLEUR', 'SHIBBRL', 'AGIXBTC', 'ICPEUR', 'MATICGBP', 'SHIBTRY', 'MATICBIDR', 'MATICRUB', 'NUBTC', 'NUBNB', 'NUBUSD', 'NUUSDT', 'XVGUSDT', 'RLCBUSD', 'CELRBUSD', 'ATMBUSD', 'ZENBUSD', 'FTMBUSD', 'THETABUSD', 'WINBUSD', 'KAVABUSD', 'XEMBUSD', 'ATABTC', 'ATABNB', 'ATABUSD', 'ATAUSDT', 'GTCBTC', 'GTCBNB', 'GTCBUSD', 'GTCUSDT', 'TORNBTC', 'TORNBNB', 'TORNBUSD', 'TORNUSDT', 'MATICTRY', 'ETCGBP', 'SOLGBP', 'BAKEBTC', 'COTIBUSD', 'KEEPBTC', 'KEEPBNB', 'KEEPBUSD', 'KEEPUSDT', 'SOLTRY', 'RUNEGBP', 'SOLBRL', 'SCBUSD', 'CHRBUSD', 'STMXBUSD', 'HNTBUSD', 'FTTBUSD', 'DOCKBUSD', 'ADABIDR', 'ERNBNB', 'ERNBUSD', 'ERNUSDT', 'KLAYBTC', 'KLAYBNB', 'KLAYBUSD', 'KLAYUSDT', 'RUNEEUR', 'MATICAUD', 'DOTRUB', 'UTKBUSD', 'IOTXBUSD', 'PHAUSDT', 'SOLRUB', 'RUNEAUD', 'BUSDUAH', 'BONDBTC', 'BONDBNB', 'BONDBUSD', 'BONDUSDT', 'MLNBTC', 'MLNBNB', 'MLNBUSD', 'MLNUSDT', 'GRTTRY', 'CAKEBRL', 'ICPRUB', 'DOTAUD', 'AAVEBRL', 'EOSAUD', 'DEXEUSDT', 'LTOBUSD', 'ADXBUSD', 'QUICKBTC', 'QUICKBNB', 'QUICKBUSD', 'C98USDT', 'C98BUSD', 'C98BNB', 'C98BTC', 'CLVBTC', 'CLVBNB', 'CLVBUSD', 'CLVUSDT', 'QNTBTC', 'QNTBNB', 'QNTBUSD', 'QNTUSDT', 'FLOWBTC', 'FLOWBNB', 'FLOWBUSD', 'FLOWUSDT', 'XECBUSD', 'AXSBRL', 'AXSAUD', 'TVKUSDT', 'MINABTC', 'MINABNB', 'MINABUSD', 'MINAUSDT', 'RAYBNB', 'RAYBUSD', 'RAYUSDT', 'FARMBTC', 'FARMBNB', 'FARMBUSD', 'FARMUSDT', 'ALPACABTC', 'ALPACABNB', 'ALPACABUSD', 'ALPACAUSDT', 'TLMTRY', 'QUICKUSDT', 'ORNBUSD', 'MBOXBTC', 'MBOXBNB', 'MBOXBUSD', 'MBOXUSDT', 'VGXBTC', 'VGXETH', 'FORUSDT', 'REQUSDT', 'GHSTUSDT', 'TRURUB', 'FISBRL', 'WAXPUSDT', 'WAXPBUSD', 'WAXPBNB', 'WAXPBTC', 'TRIBEBTC', 'TRIBEBNB', 'TRIBEBUSD', 'TRIBEUSDT', 'GNOUSDT', 'GNOBUSD', 'GNOBNB', 'GNOBTC', 'ARPATRY', 'PROMBTC', 'MTLBUSD', 'OGNBUSD', 'XECUSDT', 'C98BRL', 'SOLAUD', 'XRPBIDR', 'POLYBUSD', 'ELFUSDT', 'DYDXUSDT', 'DYDXBUSD', 'DYDXBNB', 'DYDXBTC', 'ELFBUSD', 'POLYUSDT', 'IDEXUSDT', 'VIDTUSDT', 'SOLBIDR', 'BTCUSDP', 'ETHUSDP', 'BNBUSDP', 'USDPBUSD', 'USDPUSDT', 'GALAUSDT', 'GALABUSD', 'GALABNB', 'GALABTC', 'FTMBIDR', 'ALGOBIDR', 'CAKEAUD', 'KSMAUD', 'WAVESRUB', 'SUNBUSD', 'ILVUSDT', 'ILVBUSD', 'ILVBNB', 'ILVBTC', 'RENBUSD', 'YGGUSDT', 'YGGBUSD', 'YGGBNB', 'YGGBTC', 'STXBUSD', 'SYSUSDT', 'DFUSDT', 'SOLUSDC', 'ARPARUB', 'LTCUAH', 'FETBUSD', 'ARPABUSD', 'LSKBUSD', 'AVAXBIDR', 'ALICEBIDR', 'FIDAUSDT', 'FIDABUSD', 'FIDABNB', 'FIDABTC', 'DENTBUSD', 'FRONTUSDT', 'CVPUSDT', 'AGLDBTC', 'AGLDBNB', 'AGLDBUSD', 'AGLDUSDT', 'RADBTC', 'RADBNB', 'RADBUSD', 'RADUSDT', 'UNIAUD', 'HIVEBUSD', 'STPTBUSD', 'BETABTC', 'BETABNB', 'BETABUSD', 'BETAUSDT', 'SHIBAUD', 'RAREBTC', 'RAREBNB', 'RAREBUSD', 'RAREUSDT', 'AVAXBRL', 'AVAXAUD', 'LUNAAUD', 'TROYBUSD', 'AXSETH', 'FTMETH', 'SOLETH', 'SSVBTC', 'SSVETH', 'LAZIOTRY', 'LAZIOEUR', 'LAZIOBTC', 'LAZIOUSDT', 'CHESSBTC', 'CHESSBNB', 'CHESSBUSD', 'CHESSUSDT', 'FTMAUD', 'FTMBRL', 'SCRTBUSD', 'ADXUSDT', 'AUCTIONUSDT', 'CELOBUSD', 'FTMRUB', 'NUAUD', 'NURUB', 'REEFTRY', 'REEFBIDR', 'SHIBDOGE', 'DARUSDT', 'DARBUSD', 'DARBNB', 'DARBTC', 'BNXBTC', 'BNXBNB', 'BNXBUSD', 'BNXUSDT', 'RGTUSDT', 'RGTBTC', 'RGTBUSD', 'RGTBNB', 'LAZIOBUSD', 'OXTBUSD', 'MANATRY', 'ALGORUB', 'SHIBUAH', 'LUNABIDR', 'AUDUSDC', 'MOVRBTC', 'MOVRBNB', 'MOVRBUSD', 'MOVRUSDT', 'CITYBTC', 'CITYBNB', 'CITYBUSD', 'CITYUSDT', 'ENSBTC', 'ENSBNB', 'ENSBUSD', 'ENSUSDT', 'SANDETH', 'DOTETH', 'MATICETH', 'ANKRBUSD', 'SANDTRY', 'MANABRL', 'KP3RUSDT', 'QIUSDT', 'QIBUSD', 'QIBNB', 'QIBTC', 'PORTOBTC', 'PORTOUSDT', 'PORTOTRY', 'PORTOEUR', 'POWRUSDT', 'POWRBUSD', 'AVAXETH', 'SLPTRY', 'FISTRY', 'LRCTRY', 'CHRETH', 'FISBIDR', 'VGXUSDT', 'GALAETH', 'JASMYUSDT', 'JASMYBUSD', 'JASMYBNB', 'JASMYBTC', 'AMPBTC', 'AMPBNB', 'AMPBUSD', 'AMPUSDT', 'PLABTC', 'PLABNB', 'PLABUSD', 'PLAUSDT', 'PYRBTC', 'PYRBUSD', 'PYRUSDT', 'RNDRBTC', 'RNDRUSDT', 'RNDRBUSD', 'ALCXBTC', 'ALCXBUSD', 'ALCXUSDT', 'SANTOSBTC', 'SANTOSUSDT', 'SANTOSBRL', 'SANTOSTRY', 'MCBTC', 'MCBUSD', 'MCUSDT', 'BELTRY', 'COCOSBUSD', 'DENTTRY', 'ENJTRY', 'NEORUB', 'SANDAUD', 'SLPBIDR', 'ANYBTC', 'ANYBUSD', 'ANYUSDT', 'BICOBTC', 'BICOBUSD', 'BICOUSDT', 'FLUXBTC', 'FLUXBUSD', 'FLUXUSDT', 'ALICETRY', 'FXSUSDT', 'GALABRL', 'GALATRY', 'LUNATRY', 'REQBUSD', 'SANDBRL', 'MANABIDR', 'SANDBIDR', 'VOXELBTC', 'VOXELBNB', 'VOXELBUSD', 'VOXELUSDT', 'COSBUSD', 'CTXCBUSD', 'FTMTRY', 'MANABNB', 'MINATRY', 'XTZTRY', 'HIGHBTC', 'HIGHBUSD', 'HIGHUSDT', 'CVXBTC', 'CVXBUSD', 'CVXUSDT', 'PEOPLEBTC', 'PEOPLEBUSD', 'PEOPLEUSDT', 'OOKIBUSD', 'OOKIUSDT', 'COCOSTRY', 'GXSBNB', 'LINKBNB', 'LUNAETH', 'MDTBUSD', 'NULSBUSD', 'SPELLBTC', 'SPELLUSDT', 'SPELLBUSD', 'USTBTC', 'USTBUSD', 'USTUSDT', 'JOEBTC', 'JOEBUSD', 'JOEUSDT', 'ATOMETH', 'DUSKBUSD', 'EGLDETH', 'ICPETH', 'LUNABRL', 'LUNAUST', 'NEARETH', 'ROSEBNB', 'VOXELETH', 'ALICEBNB', 'ATOMTRY', 'ETHUST', 'GALAAUD', 'LRCBNB', 'ONEETH', 'OOKIBNB', 'ACHBTC', 'ACHBUSD', 'ACHUSDT', 'IMXBTC', 'IMXBUSD', 'IMXUSDT', 'GLMRBTC', 'GLMRBUSD', 'GLMRUSDT', 'ATOMBIDR', 'DYDXETH', 'FARMETH', 'FORBNB', 'ICPTRY', 'JASMYETH', 'LINABNB', 'OOKIETH', 'ROSEETH', 'UMABUSD', 'UNIETH', 'XTZETH', 'LOKABTC', 'LOKABNB', 'LOKABUSD', 'LOKAUSDT', 'ATOMBRL', 'BNBUST', 'CRVETH', 'HIGHBNB', 'NEARRUB', 'ROSETRY', 'SCRTUSDT', 'API3BTC', 'API3BUSD', 'API3USDT', 'BTTCUSDT', 'BTTCUSDC', 'BTTCTRY', 'ACABTC', 'ACABUSD', 'ACAUSDT', 'ANCBTC', 'ANCBUSD', 'ANCUSDT', 'BDOTDOT', 'XNOBTC', 'XNOETH', 'XNOBUSD', 'XNOUSDT', 'COSTRY', 'KAVAETH', 'MCBNB', 'ONETRY', 'WOOBTC', 'WOOBNB', 'WOOBUSD', 'WOOUSDT', 'CELRETH', 'PEOPLEBNB', 'SLPBNB', 'SPELLBNB', 'SPELLTRY', 'TFUELBUSD', 'AXSTRY', 'DARTRY', 'NEARTRY', 'IDEXBNB', 'ALPINEEUR', 'ALPINETRY', 'ALPINEUSDT', 'ALPINEBTC', 'TUSDT', 'TBUSD', 'API3BNB', 'BETAETH', 'INJTRY', 'TLMBNB', 'ASTRBUSD', 'ASTRUSDT', 'API3TRY', 'GLMRBNB', 'MBOXTRY', 'GMTBTC', 'GMTBNB', 'GMTBUSD', 'GMTUSDT', 'ANCBNB', 'ATOMEUR', 'GALAEUR', 'KSMETH', 'UMATRY', 'KDABTC', 'KDABUSD', 'KDAUSDT', 'APEUSDT', 'APEBUSD', 'APEBTC', 'ALPINEBUSD', 'LUNAGBP', 'NEAREUR', 'TWTTRY', 'WAVESEUR', 'APEEUR', 'APEGBP', 'APETRY', 'BSWUSDT', 'BSWBUSD', 'BSWBNB', 'APEBNB', 'GMTBRL', 'GMTETH', 'JASMYTRY', 'SANTOSBUSD', 'APEAUD', 'BIFIUSDT', 'GMTEUR', 'IMXBNB', 'RUNEETH', 'AVAXGBP', 'MULTIBTC', 'MULTIBUSD', 'MULTIUSDT', 'APEETH', 'BSWETH', 'FILTRY', 'FTMEUR', 'GMTGBP', 'ZILTRY', 'GMTTRY', 'WAVESTRY', 'BTCUST', 'ASTRBTC', 'ASTRETH', 'BSWTRY', 'FTTETH', 'FUNBNB', 'PORTOBUSD', 'STEEMUSDT', 'ZILEUR', 'APEBRL', 'AUDIOTRY', 'BTTCBUSD', 'GMTAUD', 'MBLBUSD', 'MOBUSDT', 'MOBBUSD', 'MOBBTC', 'NEXOUSDT', 'NEXOBUSD', 'NEXOBTC', 'REIUSDT', 'REIBNB', 'REIETH', 'GALUSDT', 'GALBUSD', 'GALBNB', 'GALBTC', 'JASMYEUR', 'KNCBNB', 'SHIBGBP', 'GALEUR', 'GALTRY', 'LDOBUSD', 'LDOUSDT', 'LDOBTC', 'ENSTRY', 'DAREUR', 'DARETH', 'ALGOETH', 'ALGOTRY', 'GALETH', 'EPXUSDT', 'EPXBUSD', 'RUNETRY', 'GALBRL', 'STEEMBUSD', 'CVCBUSD', 'REIBUSD', 'DREPBUSD', 'AKROBUSD', 'PUNDIXBUSD', 'LUNCBUSD', 'USTCBUSD', 'OPBTC', 'OPBUSD', 'OPUSDT', 'OGBUSD', 'KEYBUSD', 'ASRBUSD', 'FIROBUSD', 'NKNBUSD', 'OPBNB', 'OPEUR', 'GTOBUSD', 'SNXETH', 'WBTCBUSD', 'BELETH', 'LITETH', 'LEVERUSDT', 'LEVERBUSD', 'BURGERETH', 'PEOPLEETH', 'UNFIETH', 'BONDETH', 'STORJTRY', 'OPETH', 'ETCTRY', 'WINGETH', 'FILETH', 'GLMBUSD', 'SSVBUSD', 'STGBTC', 'STGBUSD', 'STGUSDT', 'ANKRTRY', 'ARKBUSD', 'BETHBUSD', 'LOOMBUSD', 'SNMBUSD', 'AMBBUSD', 'LUNCUSDT', 'PHBBUSD', 'GASBUSD', 'NEBLBUSD', 'PROSBUSD', 'VIBBUSD', 'GMXBTC', 'GMXBUSD', 'GMXUSDT', 'AGIXBUSD', 'NEBLUSDT', 'SNTBUSD', 'POLYXBTC', 'POLYXBUSD', 'POLYXUSDT', 'APTBTC', 'APTUSDT', 'APTBUSD', 'BTCPLN', 'ETHPLN', 'BUSDPLN', 'APTEUR', 'APTTRY', 'APTBRL', 'QKCBUSD', 'OSMOBTC', 'OSMOUSDT', 'OSMOBUSD', 'HFTBTC', 'HFTBUSD', 'HFTUSDT', 'ARPAETH', 'PHBUSDT', 'VITEBUSD', 'HOOKBTC', 'HOOKUSDT', 'HOOKBUSD', 'HOOKBNB', 'MAGICBTC', 'MAGICBUSD', 'MAGICUSDT', 'BUSDRON', 'HIFIETH', 'HIFIUSDT', 'RPLBTC', 'RPLBUSD', 'RPLUSDT', 'PROSUSDT', 'FETTRY', 'GFTBUSD', 'AGIXUSDT', 'APTETH', 'BTCRON', 'GNSUSDT', 'GNSBTC', 'SYNBTC', 'SYNUSDT', 'VIBUSDT', 'SSVUSDT', 'LQTYUSDT', 'LQTYBTC', 'AMBUSDT', 'BETHUSDT', 'CFXTRY', 'STXTRY', 'USTCUSDT', 'GASUSDT', 'GLMUSDT', 'PROMUSDT', 'QKCUSDT', 'UFTUSDT', 'IDBTC', 'IDBNB', 'IDUSDT', 'ARBBTC', 'ARBUSDT', 'AGIXTRY', 'LOOMUSDT', 'OAXUSDT', 'ARBTUSD', 'ARBTRY', 'ARBEUR', 'IDTUSD', 'IDTRY', 'IDEUR', 'LDOTUSD', 'MATICTUSD', 'OPTUSD', 'SOLTUSD', 'SSVTUSD', 'RDNTBTC', 'RDNTUSDT', 'RDNTTUSD', 'ARBRUB', 'JOETRY', 'MAGICTRY', 'USDTPLN', 'ACHTRY', 'XVSTRY', 'EGLDRON', 'USDTRON', 'USDTARS', 'DOGETUSD', 'WBTCUSDT', 'EDUUSDT', 'EDUTUSD', 'EDUBNB', 'EDUBTC', 'EDUEUR', 'EDUTRY', 'SUIUSDT', 'SUITUSD', 'SUIBTC', 'SUIBNB', 'SUIEUR', 'SUITRY', 'AERGOUSDT', 'RNDRTRY', 'PEPEUSDT', 'PEPETUSD', 'FLOKIUSDT', 'FLOKITUSD', 'OGTRY', 'PEPETRY', 'WBETHETH', 'ASTUSDT', 'SNTUSDT', 'FLOKITRY', 'CITYTRY', 'COMBOUSDT', 'COMBOBNB', 'COMBOTRY', 'LTCTRY', 'RADTRY', 'BTCARS', 'OPTRY', 'PAXGTRY', 'MAVBTC', 'MAVUSDT', 'MAVTUSD', 'CFXTUSD', 'PENDLEBTC', 'PENDLEUSDT', 'PENDLETUSD', 'MAVTRY', 'OCEANTRY', 'TUSDTRY', 'ARBETH', 'BCHTRY', 'XVGTRY', 'XVGTUSD', 'ARKMUSDT', 'ARKMTUSD', 'ARKMTRY', 'ARKMBNB', 'ARKMBTC', 'WBETHUSDT', 'ACATRY', 'AVAXTUSD', 'COMPTUSD', 'COMPTRY', 'XECTRY', 'QUICKTUSD', 'WLDUSDT', 'WLDBTC', 'BNBFDUSD', 'FDUSDBUSD', 'FDUSDUSDT', 'ARKMRUB', 'WLDTRY', 'WLDRUB', 'AMPTRY', 'OGNTRY', 'BTCFDUSD', 'ETHFDUSD', 'ASRTRY', 'ATMTRY', 'ACMTRY', 'BARTRY', 'JUVTRY', 'PSGTRY', 'SEIBNB', 'SEIBTC', 'SEIFDUSD', 'SEITRY', 'SEIUSDT', 'CYBERBNB', 'CYBERBTC', 'CYBERFDUSD', 'CYBERTRY', 'CYBERUSDT', 'CYBERTUSD', 'SEITUSD', 'LPTTRY', 'UNITRY']\n"
     ]
    },
    {
     "data": {
      "text/plain": "Tickers:   0%|          | 0/1 [00:00<?, ?it/s]",
      "application/vnd.jupyter.widget-view+json": {
       "version_major": 2,
       "version_minor": 0,
       "model_id": "a75ff8a50d144bbab24ec03f7062fb53"
      }
     },
     "metadata": {},
     "output_type": "display_data"
    },
    {
     "data": {
      "text/plain": "monthly files to download:   0%|          | 0/1 [00:00<?, ?files/s]",
      "application/vnd.jupyter.widget-view+json": {
       "version_major": 2,
       "version_minor": 0,
       "model_id": "ebaefe5a3a9d4c72940dd970d20d522a"
      }
     },
     "metadata": {},
     "output_type": "display_data"
    },
    {
     "data": {
      "text/plain": "daily files to download: 0files [00:00, ?files/s]",
      "application/vnd.jupyter.widget-view+json": {
       "version_major": 2,
       "version_minor": 0,
       "model_id": "2b34595a69e540bb802ee8943e5bfd9a"
      }
     },
     "metadata": {},
     "output_type": "display_data"
    }
   ],
   "source": [
    "from binance_historical_data import BinanceDataDumper\n",
    "\n",
    "data_dumper = BinanceDataDumper(\n",
    "    path_dir_where_to_dump=\".\",\n",
    "    asset_class=\"spot\",  # spot, um, cm\n",
    "    data_type=\"klines\",  # aggTrades, klines, trades\n",
    "    data_frequency=\"1m\",\n",
    ")\n",
    "\n",
    "print(data_dumper.get_list_all_trading_pairs())\n",
    "\n",
    "data_dumper.dump_data(tickers=[\"NEARUSDT\"])"
   ],
   "metadata": {
    "collapsed": false,
    "ExecuteTime": {
     "end_time": "2023-09-01T20:48:21.333838335Z",
     "start_time": "2023-09-01T20:48:08.889131966Z"
    }
   }
  },
  {
   "cell_type": "code",
   "source": [
    "import pandas as pd\n",
    "import numpy as np\n",
    "import os\n",
    "\n",
    "filenames = next(os.walk(\"./spot/monthly/klines/NEARUSDT/1m\"), (None, None, []))[2]  # [] if no file\n",
    "\n",
    "columns = [\n",
    "    \"Open time\",\n",
    "    \"Open\",\n",
    "    \"High\",\n",
    "    \"Low\",\n",
    "    \"Close\",\n",
    "    \"Volume\",\n",
    "    \"Close time\",\n",
    "    \"Quote asset volume\",\n",
    "    \"Number of trades\",\n",
    "    \"Taker buy base asset volume\",\n",
    "    \"Taker buy quote asset volume\",\n",
    "    \"Ignore\"\n",
    "]\n",
    "\n",
    "df = pd.DataFrame(columns=columns)\n",
    "\n",
    "for f in filenames:\n",
    "    new_df = pd.read_csv(f\"./spot/monthly/klines/NEARUSDT/1m/{f}\", header=None, names=columns)\n",
    "    df = pd.concat([df, new_df])\n",
    "df = df.sort_values(by=\"Open time\")\n",
    "df"
   ],
   "metadata": {
    "colab": {
     "base_uri": "https://localhost:8080/",
     "height": 441
    },
    "id": "B2UGi3Kw5XVW",
    "executionInfo": {
     "status": "ok",
     "timestamp": 1692980359426,
     "user_tz": -180,
     "elapsed": 22,
     "user": {
      "displayName": "Ozuwara",
      "userId": "07041248871112494614"
     }
    },
    "outputId": "05aa0f8d-49e2-4272-cc23-c863cb4526b3",
    "ExecuteTime": {
     "end_time": "2023-09-01T20:48:23.159264517Z",
     "start_time": "2023-09-01T20:48:21.331890731Z"
    }
   },
   "execution_count": 157,
   "outputs": [
    {
     "data": {
      "text/plain": "           Open time    Open    High     Low   Close      Volume  \\\n0      1602651600000  1.3000  1.8800  1.3000  1.3760  1429560.44   \n1      1602651660000  1.3759  1.4000  1.1111  1.2493   987505.68   \n2      1602651720000  1.2489  1.3593  1.1660  1.2552   549711.33   \n3      1602651780000  1.2499  1.2500  1.1359  1.1742   343258.80   \n4      1602651840000  1.1754  1.2752  1.1753  1.2300   243382.88   \n...              ...     ...     ...     ...     ...         ...   \n44635  1690847700000  1.3710  1.3710  1.3690  1.3690     5932.20   \n44636  1690847760000  1.3690  1.3690  1.3690  1.3690       81.30   \n44637  1690847820000  1.3690  1.3700  1.3690  1.3690     1278.00   \n44638  1690847880000  1.3690  1.3700  1.3690  1.3700      468.60   \n44639  1690847940000  1.3700  1.3700  1.3700  1.3700     1160.60   \n\n          Close time  Quote asset volume Number of trades  \\\n0      1602651659999        2.313165e+06             1848   \n1      1602651719999        1.205528e+06             1392   \n2      1602651779999        6.942747e+05             1103   \n3      1602651839999        4.081314e+05              773   \n4      1602651899999        2.965310e+05              440   \n...              ...                 ...              ...   \n44635  1690847759999        8.131457e+03               23   \n44636  1690847819999        1.112997e+02                3   \n44637  1690847879999        1.749664e+03               10   \n44638  1690847939999        6.415331e+02                6   \n44639  1690847999999        1.590022e+03                5   \n\n       Taker buy base asset volume  Taker buy quote asset volume Ignore  \n0                        520043.50                 837306.088337      0  \n1                        614158.78                 747451.518743      0  \n2                        277203.12                 349648.438905      0  \n3                        170461.39                 202748.271257      0  \n4                        170472.03                 207510.362489      0  \n...                            ...                           ...    ...  \n44635                         0.00                      0.000000      0  \n44636                        81.30                    111.299700      0  \n44637                       438.10                    599.840400      0  \n44638                       468.60                    641.533100      0  \n44639                      1160.60                   1590.022000      0  \n\n[1468516 rows x 12 columns]",
      "text/html": "<div>\n<style scoped>\n    .dataframe tbody tr th:only-of-type {\n        vertical-align: middle;\n    }\n\n    .dataframe tbody tr th {\n        vertical-align: top;\n    }\n\n    .dataframe thead th {\n        text-align: right;\n    }\n</style>\n<table border=\"1\" class=\"dataframe\">\n  <thead>\n    <tr style=\"text-align: right;\">\n      <th></th>\n      <th>Open time</th>\n      <th>Open</th>\n      <th>High</th>\n      <th>Low</th>\n      <th>Close</th>\n      <th>Volume</th>\n      <th>Close time</th>\n      <th>Quote asset volume</th>\n      <th>Number of trades</th>\n      <th>Taker buy base asset volume</th>\n      <th>Taker buy quote asset volume</th>\n      <th>Ignore</th>\n    </tr>\n  </thead>\n  <tbody>\n    <tr>\n      <th>0</th>\n      <td>1602651600000</td>\n      <td>1.3000</td>\n      <td>1.8800</td>\n      <td>1.3000</td>\n      <td>1.3760</td>\n      <td>1429560.44</td>\n      <td>1602651659999</td>\n      <td>2.313165e+06</td>\n      <td>1848</td>\n      <td>520043.50</td>\n      <td>837306.088337</td>\n      <td>0</td>\n    </tr>\n    <tr>\n      <th>1</th>\n      <td>1602651660000</td>\n      <td>1.3759</td>\n      <td>1.4000</td>\n      <td>1.1111</td>\n      <td>1.2493</td>\n      <td>987505.68</td>\n      <td>1602651719999</td>\n      <td>1.205528e+06</td>\n      <td>1392</td>\n      <td>614158.78</td>\n      <td>747451.518743</td>\n      <td>0</td>\n    </tr>\n    <tr>\n      <th>2</th>\n      <td>1602651720000</td>\n      <td>1.2489</td>\n      <td>1.3593</td>\n      <td>1.1660</td>\n      <td>1.2552</td>\n      <td>549711.33</td>\n      <td>1602651779999</td>\n      <td>6.942747e+05</td>\n      <td>1103</td>\n      <td>277203.12</td>\n      <td>349648.438905</td>\n      <td>0</td>\n    </tr>\n    <tr>\n      <th>3</th>\n      <td>1602651780000</td>\n      <td>1.2499</td>\n      <td>1.2500</td>\n      <td>1.1359</td>\n      <td>1.1742</td>\n      <td>343258.80</td>\n      <td>1602651839999</td>\n      <td>4.081314e+05</td>\n      <td>773</td>\n      <td>170461.39</td>\n      <td>202748.271257</td>\n      <td>0</td>\n    </tr>\n    <tr>\n      <th>4</th>\n      <td>1602651840000</td>\n      <td>1.1754</td>\n      <td>1.2752</td>\n      <td>1.1753</td>\n      <td>1.2300</td>\n      <td>243382.88</td>\n      <td>1602651899999</td>\n      <td>2.965310e+05</td>\n      <td>440</td>\n      <td>170472.03</td>\n      <td>207510.362489</td>\n      <td>0</td>\n    </tr>\n    <tr>\n      <th>...</th>\n      <td>...</td>\n      <td>...</td>\n      <td>...</td>\n      <td>...</td>\n      <td>...</td>\n      <td>...</td>\n      <td>...</td>\n      <td>...</td>\n      <td>...</td>\n      <td>...</td>\n      <td>...</td>\n      <td>...</td>\n    </tr>\n    <tr>\n      <th>44635</th>\n      <td>1690847700000</td>\n      <td>1.3710</td>\n      <td>1.3710</td>\n      <td>1.3690</td>\n      <td>1.3690</td>\n      <td>5932.20</td>\n      <td>1690847759999</td>\n      <td>8.131457e+03</td>\n      <td>23</td>\n      <td>0.00</td>\n      <td>0.000000</td>\n      <td>0</td>\n    </tr>\n    <tr>\n      <th>44636</th>\n      <td>1690847760000</td>\n      <td>1.3690</td>\n      <td>1.3690</td>\n      <td>1.3690</td>\n      <td>1.3690</td>\n      <td>81.30</td>\n      <td>1690847819999</td>\n      <td>1.112997e+02</td>\n      <td>3</td>\n      <td>81.30</td>\n      <td>111.299700</td>\n      <td>0</td>\n    </tr>\n    <tr>\n      <th>44637</th>\n      <td>1690847820000</td>\n      <td>1.3690</td>\n      <td>1.3700</td>\n      <td>1.3690</td>\n      <td>1.3690</td>\n      <td>1278.00</td>\n      <td>1690847879999</td>\n      <td>1.749664e+03</td>\n      <td>10</td>\n      <td>438.10</td>\n      <td>599.840400</td>\n      <td>0</td>\n    </tr>\n    <tr>\n      <th>44638</th>\n      <td>1690847880000</td>\n      <td>1.3690</td>\n      <td>1.3700</td>\n      <td>1.3690</td>\n      <td>1.3700</td>\n      <td>468.60</td>\n      <td>1690847939999</td>\n      <td>6.415331e+02</td>\n      <td>6</td>\n      <td>468.60</td>\n      <td>641.533100</td>\n      <td>0</td>\n    </tr>\n    <tr>\n      <th>44639</th>\n      <td>1690847940000</td>\n      <td>1.3700</td>\n      <td>1.3700</td>\n      <td>1.3700</td>\n      <td>1.3700</td>\n      <td>1160.60</td>\n      <td>1690847999999</td>\n      <td>1.590022e+03</td>\n      <td>5</td>\n      <td>1160.60</td>\n      <td>1590.022000</td>\n      <td>0</td>\n    </tr>\n  </tbody>\n</table>\n<p>1468516 rows × 12 columns</p>\n</div>"
     },
     "execution_count": 157,
     "metadata": {},
     "output_type": "execute_result"
    }
   ]
  },
  {
   "cell_type": "code",
   "source": [
    "OHLC_COLUMNS = [\n",
    "    \"Open\",\n",
    "    \"High\",\n",
    "    \"Low\",\n",
    "    \"Close\"]\n",
    "dataset = df.loc[:, OHLC_COLUMNS].astype(np.float64)\n",
    "dataset = pd.DataFrame(dataset.to_numpy(), columns=OHLC_COLUMNS)\n",
    "\n",
    "# add technical indicators to dataset\n",
    "dataset['SMA_512'] = dataset['Close'].rolling(window=512).mean()\n",
    "dataset['SMA_1024'] = dataset['Close'].rolling(window=1024).mean()\n",
    "dataset['SMA_4096'] = dataset['Close'].rolling(window=4096).mean()\n",
    "\n",
    "# convert SMA columns to distance in percentages from \"Close\"\n",
    "dataset['SMA_512'] = ((dataset['Close'] - dataset['SMA_512']) / dataset['SMA_512'])\n",
    "dataset['SMA_1024'] = ((dataset['Close'] - dataset['SMA_1024']) / dataset['SMA_1024'])\n",
    "dataset['SMA_4096'] = ((dataset['Close'] - dataset['SMA_4096']) / dataset['SMA_4096'])\n",
    "\n",
    "# drop NaN rows resulting from the SMA calculations and reset index\n",
    "dataset = dataset.dropna().reset_index(drop=True)\n",
    "dataset"
   ],
   "metadata": {
    "colab": {
     "base_uri": "https://localhost:8080/",
     "height": 424
    },
    "id": "QPZCBk7d_2zk",
    "executionInfo": {
     "status": "ok",
     "timestamp": 1692980359427,
     "user_tz": -180,
     "elapsed": 19,
     "user": {
      "displayName": "Ozuwara",
      "userId": "07041248871112494614"
     }
    },
    "outputId": "05fefa34-76c1-4a29-af1b-18c5d23e2ddb",
    "ExecuteTime": {
     "end_time": "2023-09-01T20:48:23.391580210Z",
     "start_time": "2023-09-01T20:48:23.142786790Z"
    }
   },
   "execution_count": 158,
   "outputs": [
    {
     "data": {
      "text/plain": "           Open    High     Low   Close   SMA_512  SMA_1024  SMA_4096\n0        0.7531  0.7540  0.7506  0.7512 -0.105323 -0.144309 -0.302967\n1        0.7521  0.7547  0.7504  0.7504 -0.105994 -0.145028 -0.303611\n2        0.7527  0.7582  0.7526  0.7581 -0.096551 -0.136071 -0.296387\n3        0.7585  0.7604  0.7583  0.7599 -0.094172 -0.133838 -0.294637\n4        0.7600  0.7611  0.7593  0.7606 -0.093092 -0.132856 -0.293921\n...         ...     ...     ...     ...       ...       ...       ...\n1464416  1.3710  1.3710  1.3690  1.3690 -0.001843 -0.010031 -0.020798\n1464417  1.3690  1.3690  1.3690  1.3690 -0.001824 -0.010010 -0.020793\n1464418  1.3690  1.3700  1.3690  1.3690 -0.001804 -0.009989 -0.020788\n1464419  1.3690  1.3700  1.3690  1.3700 -0.001057 -0.009247 -0.020067\n1464420  1.3700  1.3700  1.3700  1.3700 -0.001037 -0.009227 -0.020062\n\n[1464421 rows x 7 columns]",
      "text/html": "<div>\n<style scoped>\n    .dataframe tbody tr th:only-of-type {\n        vertical-align: middle;\n    }\n\n    .dataframe tbody tr th {\n        vertical-align: top;\n    }\n\n    .dataframe thead th {\n        text-align: right;\n    }\n</style>\n<table border=\"1\" class=\"dataframe\">\n  <thead>\n    <tr style=\"text-align: right;\">\n      <th></th>\n      <th>Open</th>\n      <th>High</th>\n      <th>Low</th>\n      <th>Close</th>\n      <th>SMA_512</th>\n      <th>SMA_1024</th>\n      <th>SMA_4096</th>\n    </tr>\n  </thead>\n  <tbody>\n    <tr>\n      <th>0</th>\n      <td>0.7531</td>\n      <td>0.7540</td>\n      <td>0.7506</td>\n      <td>0.7512</td>\n      <td>-0.105323</td>\n      <td>-0.144309</td>\n      <td>-0.302967</td>\n    </tr>\n    <tr>\n      <th>1</th>\n      <td>0.7521</td>\n      <td>0.7547</td>\n      <td>0.7504</td>\n      <td>0.7504</td>\n      <td>-0.105994</td>\n      <td>-0.145028</td>\n      <td>-0.303611</td>\n    </tr>\n    <tr>\n      <th>2</th>\n      <td>0.7527</td>\n      <td>0.7582</td>\n      <td>0.7526</td>\n      <td>0.7581</td>\n      <td>-0.096551</td>\n      <td>-0.136071</td>\n      <td>-0.296387</td>\n    </tr>\n    <tr>\n      <th>3</th>\n      <td>0.7585</td>\n      <td>0.7604</td>\n      <td>0.7583</td>\n      <td>0.7599</td>\n      <td>-0.094172</td>\n      <td>-0.133838</td>\n      <td>-0.294637</td>\n    </tr>\n    <tr>\n      <th>4</th>\n      <td>0.7600</td>\n      <td>0.7611</td>\n      <td>0.7593</td>\n      <td>0.7606</td>\n      <td>-0.093092</td>\n      <td>-0.132856</td>\n      <td>-0.293921</td>\n    </tr>\n    <tr>\n      <th>...</th>\n      <td>...</td>\n      <td>...</td>\n      <td>...</td>\n      <td>...</td>\n      <td>...</td>\n      <td>...</td>\n      <td>...</td>\n    </tr>\n    <tr>\n      <th>1464416</th>\n      <td>1.3710</td>\n      <td>1.3710</td>\n      <td>1.3690</td>\n      <td>1.3690</td>\n      <td>-0.001843</td>\n      <td>-0.010031</td>\n      <td>-0.020798</td>\n    </tr>\n    <tr>\n      <th>1464417</th>\n      <td>1.3690</td>\n      <td>1.3690</td>\n      <td>1.3690</td>\n      <td>1.3690</td>\n      <td>-0.001824</td>\n      <td>-0.010010</td>\n      <td>-0.020793</td>\n    </tr>\n    <tr>\n      <th>1464418</th>\n      <td>1.3690</td>\n      <td>1.3700</td>\n      <td>1.3690</td>\n      <td>1.3690</td>\n      <td>-0.001804</td>\n      <td>-0.009989</td>\n      <td>-0.020788</td>\n    </tr>\n    <tr>\n      <th>1464419</th>\n      <td>1.3690</td>\n      <td>1.3700</td>\n      <td>1.3690</td>\n      <td>1.3700</td>\n      <td>-0.001057</td>\n      <td>-0.009247</td>\n      <td>-0.020067</td>\n    </tr>\n    <tr>\n      <th>1464420</th>\n      <td>1.3700</td>\n      <td>1.3700</td>\n      <td>1.3700</td>\n      <td>1.3700</td>\n      <td>-0.001037</td>\n      <td>-0.009227</td>\n      <td>-0.020062</td>\n    </tr>\n  </tbody>\n</table>\n<p>1464421 rows × 7 columns</p>\n</div>"
     },
     "execution_count": 158,
     "metadata": {},
     "output_type": "execute_result"
    }
   ]
  },
  {
   "cell_type": "code",
   "execution_count": 159,
   "outputs": [
    {
     "data": {
      "text/plain": "             Open      High       Low     Close   SMA_512  SMA_1024  SMA_4096\n0        0.120741  0.119124  0.207329  0.115147  0.266599  0.253977  0.155452\n1        0.123285  0.123157  0.212466  0.128823  0.274854  0.261623  0.161966\n2        0.131553  0.121269  0.219921  0.119300  0.276933  0.263528  0.163544\n3        0.124697  0.119115  0.209875  0.117545  0.277877  0.264367  0.164189\n4        0.122488  0.116686  0.188298  0.108813  0.273096  0.259854  0.160239\n...           ...       ...       ...       ...       ...       ...       ...\n1464415  0.122330  0.118115  0.205414  0.114672  0.357639  0.369208  0.410454\n1464416  0.120584  0.116528  0.207757  0.116433  0.357655  0.369226  0.410459\n1464417  0.122330  0.118909  0.207757  0.116433  0.357672  0.369244  0.410463\n1464418  0.122330  0.118115  0.207757  0.117315  0.358326  0.369878  0.411113\n1464419  0.123204  0.118115  0.208930  0.116433  0.358343  0.369894  0.411118\n\n[1464420 rows x 7 columns]",
      "text/html": "<div>\n<style scoped>\n    .dataframe tbody tr th:only-of-type {\n        vertical-align: middle;\n    }\n\n    .dataframe tbody tr th {\n        vertical-align: top;\n    }\n\n    .dataframe thead th {\n        text-align: right;\n    }\n</style>\n<table border=\"1\" class=\"dataframe\">\n  <thead>\n    <tr style=\"text-align: right;\">\n      <th></th>\n      <th>Open</th>\n      <th>High</th>\n      <th>Low</th>\n      <th>Close</th>\n      <th>SMA_512</th>\n      <th>SMA_1024</th>\n      <th>SMA_4096</th>\n    </tr>\n  </thead>\n  <tbody>\n    <tr>\n      <th>0</th>\n      <td>0.120741</td>\n      <td>0.119124</td>\n      <td>0.207329</td>\n      <td>0.115147</td>\n      <td>0.266599</td>\n      <td>0.253977</td>\n      <td>0.155452</td>\n    </tr>\n    <tr>\n      <th>1</th>\n      <td>0.123285</td>\n      <td>0.123157</td>\n      <td>0.212466</td>\n      <td>0.128823</td>\n      <td>0.274854</td>\n      <td>0.261623</td>\n      <td>0.161966</td>\n    </tr>\n    <tr>\n      <th>2</th>\n      <td>0.131553</td>\n      <td>0.121269</td>\n      <td>0.219921</td>\n      <td>0.119300</td>\n      <td>0.276933</td>\n      <td>0.263528</td>\n      <td>0.163544</td>\n    </tr>\n    <tr>\n      <th>3</th>\n      <td>0.124697</td>\n      <td>0.119115</td>\n      <td>0.209875</td>\n      <td>0.117545</td>\n      <td>0.277877</td>\n      <td>0.264367</td>\n      <td>0.164189</td>\n    </tr>\n    <tr>\n      <th>4</th>\n      <td>0.122488</td>\n      <td>0.116686</td>\n      <td>0.188298</td>\n      <td>0.108813</td>\n      <td>0.273096</td>\n      <td>0.259854</td>\n      <td>0.160239</td>\n    </tr>\n    <tr>\n      <th>...</th>\n      <td>...</td>\n      <td>...</td>\n      <td>...</td>\n      <td>...</td>\n      <td>...</td>\n      <td>...</td>\n      <td>...</td>\n    </tr>\n    <tr>\n      <th>1464415</th>\n      <td>0.122330</td>\n      <td>0.118115</td>\n      <td>0.205414</td>\n      <td>0.114672</td>\n      <td>0.357639</td>\n      <td>0.369208</td>\n      <td>0.410454</td>\n    </tr>\n    <tr>\n      <th>1464416</th>\n      <td>0.120584</td>\n      <td>0.116528</td>\n      <td>0.207757</td>\n      <td>0.116433</td>\n      <td>0.357655</td>\n      <td>0.369226</td>\n      <td>0.410459</td>\n    </tr>\n    <tr>\n      <th>1464417</th>\n      <td>0.122330</td>\n      <td>0.118909</td>\n      <td>0.207757</td>\n      <td>0.116433</td>\n      <td>0.357672</td>\n      <td>0.369244</td>\n      <td>0.410463</td>\n    </tr>\n    <tr>\n      <th>1464418</th>\n      <td>0.122330</td>\n      <td>0.118115</td>\n      <td>0.207757</td>\n      <td>0.117315</td>\n      <td>0.358326</td>\n      <td>0.369878</td>\n      <td>0.411113</td>\n    </tr>\n    <tr>\n      <th>1464419</th>\n      <td>0.123204</td>\n      <td>0.118115</td>\n      <td>0.208930</td>\n      <td>0.116433</td>\n      <td>0.358343</td>\n      <td>0.369894</td>\n      <td>0.411118</td>\n    </tr>\n  </tbody>\n</table>\n<p>1464420 rows × 7 columns</p>\n</div>"
     },
     "execution_count": 159,
     "metadata": {},
     "output_type": "execute_result"
    }
   ],
   "source": [
    "from sklearn.preprocessing import MinMaxScaler\n",
    "\n",
    "\n",
    "def preprocess(df):\n",
    "    # Apply percentage change only to OHLC columns\n",
    "    df_pct = df[OHLC_COLUMNS].pct_change()\n",
    "\n",
    "    # Concatenate the percentage-changed OHLC with the other columns\n",
    "    df_all = pd.concat([df_pct, df.drop(columns=OHLC_COLUMNS)], axis=1)\n",
    "\n",
    "    # Drop NA values (from pct_change operation)\n",
    "    df_all = df_all.dropna().reset_index(drop=True)\n",
    "\n",
    "    # Apply MinMax scaling to all columns\n",
    "    scaler = MinMaxScaler(feature_range=(0, 1))\n",
    "    df_scaled = pd.DataFrame(scaler.fit_transform(df_all), columns=df_all.columns, index=df_all.index)\n",
    "\n",
    "    return df_scaled, scaler\n",
    "\n",
    "\n",
    "def invert_preprocess(original_start, scaler: MinMaxScaler, df):\n",
    "    original_start = original_start[OHLC_COLUMNS].to_numpy()\n",
    "    # Invert MinMax scaling for all columns\n",
    "    df_inv_scaled = pd.DataFrame(scaler.inverse_transform(df), columns=df.columns, index=df.index)\n",
    "\n",
    "    # Recover the original OHLC values\n",
    "    reversed_array = np.cumprod(1 + df_inv_scaled[OHLC_COLUMNS].to_numpy(), axis=0)\n",
    "    reversed_array = reversed_array * original_start  # Scaling by the original_start to each element\n",
    "\n",
    "    df_inv_scaled[OHLC_COLUMNS] = reversed_array\n",
    "\n",
    "    return df_inv_scaled\n",
    "\n",
    "\n",
    "preprocessed_dataset, scaler = preprocess(dataset)\n",
    "preprocessed_dataset"
   ],
   "metadata": {
    "collapsed": false,
    "ExecuteTime": {
     "end_time": "2023-09-01T20:48:23.623476437Z",
     "start_time": "2023-09-01T20:48:23.381328097Z"
    }
   }
  },
  {
   "cell_type": "code",
   "execution_count": 160,
   "outputs": [
    {
     "name": "stdout",
     "output_type": "stream",
     "text": [
      "Mean Absolute Error for Open: 1.8611607233914956e-15\n",
      "Mean Absolute Error for High: 4.527652995199361e-15\n",
      "Mean Absolute Error for Low: 5.1052909729322e-15\n",
      "Mean Absolute Error for Close: 3.327615578870875e-15\n",
      "Mean Absolute Error for SMA_512: 4.443312785027727e-18\n",
      "Mean Absolute Error for SMA_1024: 5.520732658070965e-18\n",
      "Mean Absolute Error for SMA_4096: 8.872988884950288e-18\n",
      "Average MAE: 2.1200796149602832e-15\n"
     ]
    }
   ],
   "source": [
    "from sklearn.metrics import mean_absolute_error\n",
    "\n",
    "\n",
    "def test_preprocess_invert_preprocess(original_df):\n",
    "    original_df = original_df.iloc[:8000]\n",
    "    preprocessed_df, scaler = preprocess(original_df)\n",
    "\n",
    "    # Assume that 'original_start' is the first row of the original DataFrame\n",
    "    original_start = original_df.iloc[0]\n",
    "\n",
    "    inverted_df = invert_preprocess(original_start, scaler, preprocessed_df)\n",
    "\n",
    "    mae_list = []\n",
    "    for col in original_df.columns:\n",
    "        # Start from the second row of the original_df for comparison\n",
    "        mae = mean_absolute_error(original_df.iloc[1:][col], inverted_df[col])\n",
    "        mae_list.append(mae)\n",
    "        print(f\"Mean Absolute Error for {col}: {mae}\")\n",
    "\n",
    "    avg_mae = sum(mae_list) / len(mae_list)\n",
    "    print(f\"Average MAE: {avg_mae}\")\n",
    "\n",
    "    return avg_mae < 1e-9\n",
    "\n",
    "\n",
    "# Assuming 'dataset' is your original DataFrame\n",
    "assert test_preprocess_invert_preprocess(dataset)"
   ],
   "metadata": {
    "collapsed": false,
    "ExecuteTime": {
     "end_time": "2023-09-01T20:48:23.623705039Z",
     "start_time": "2023-09-01T20:48:23.607897112Z"
    }
   }
  },
  {
   "cell_type": "code",
   "execution_count": 165,
   "outputs": [
    {
     "data": {
      "text/plain": "<Axes: xlabel='time'>"
     },
     "execution_count": 165,
     "metadata": {},
     "output_type": "execute_result"
    },
    {
     "data": {
      "text/plain": "<Figure size 640x480 with 1 Axes>",
      "image/png": "[encoded data removed]"
     },
     "metadata": {},
     "output_type": "display_data"
    }
   ],
   "source": [
    "import numpy as np\n",
    "import pandas as pd\n",
    "\n",
    "from darts import TimeSeries\n",
    "from darts.dataprocessing import Pipeline\n",
    "from darts.dataprocessing.transformers import Scaler, InvertibleMapper\n",
    "from darts.models import RNNModel, TFTModel\n",
    "from darts.metrics import mape, mase\n",
    "from darts.utils.likelihood_models import GaussianLikelihood\n",
    "\n",
    "import warnings\n",
    "\n",
    "warnings.filterwarnings(\"ignore\")\n",
    "import logging\n",
    "\n",
    "logging.disable(logging.CRITICAL)\n",
    "\n",
    "target_series = TimeSeries.from_dataframe(preprocessed_dataset)\n",
    "target_train, target_val = target_series.split_after(0.99)\n",
    "\n",
    "target_train[\"Close\"].plot()\n",
    "target_val[\"Close\"].plot()"
   ],
   "metadata": {
    "collapsed": false,
    "ExecuteTime": {
     "end_time": "2023-09-01T20:49:13.352115794Z",
     "start_time": "2023-09-01T20:49:12.786664299Z"
    }
   }
  },
  {
   "cell_type": "code",
   "execution_count": 166,
   "outputs": [
    {
     "data": {
      "text/plain": "Sanity Checking: 0it [00:00, ?it/s]",
      "application/vnd.jupyter.widget-view+json": {
       "version_major": 2,
       "version_minor": 0,
       "model_id": "2c73434c6b9f4502a7a2f541fe1be0c9"
      }
     },
     "metadata": {},
     "output_type": "display_data"
    },
    {
     "data": {
      "text/plain": "Training: 0it [00:00, ?it/s]",
      "application/vnd.jupyter.widget-view+json": {
       "version_major": 2,
       "version_minor": 0,
       "model_id": "7cbc7173cd57437dab774c1ead011950"
      }
     },
     "metadata": {},
     "output_type": "display_data"
    },
    {
     "data": {
      "text/plain": "RNNModel(model=LSTM, hidden_dim=32, n_rnn_layers=4, dropout=0.1, training_length=128, batch_size=512, n_epochs=1, random_state=0, input_chunk_length=128)"
     },
     "execution_count": 166,
     "metadata": {},
     "output_type": "execute_result"
    }
   ],
   "source": [
    "SEQUENCE_LENGTH = 128\n",
    "PREDICTION_LENGTH = 32\n",
    "my_model = RNNModel(\n",
    "    model=\"LSTM\",\n",
    "    hidden_dim=32,\n",
    "    n_rnn_layers=4,\n",
    "    dropout=0.1,\n",
    "    batch_size=512,\n",
    "    n_epochs=1,\n",
    "    # optimizer_kwargs={\"lr\": 1e-3},\n",
    "    random_state=0,\n",
    "    training_length=SEQUENCE_LENGTH,\n",
    "    input_chunk_length=SEQUENCE_LENGTH,\n",
    "    # likelihood=GaussianLikelihood(),\n",
    ")\n",
    "\n",
    "# my_model = TFTModel(\n",
    "#     input_chunk_length=SEQUENCE_LENGTH,\n",
    "#     output_chunk_length=PREDICTION_LENGTH,\n",
    "#     hidden_size=128,\n",
    "#     lstm_layers=2,\n",
    "#     num_attention_heads=4,\n",
    "#     dropout=0.1,\n",
    "#     batch_size=512,\n",
    "#     n_epochs=1,\n",
    "#     add_relative_index=True,\n",
    "#     add_encoders=None,\n",
    "#     random_state=42,\n",
    "# )\n",
    "\n",
    "# my_model = TFTModel.load(\"model-weights/model-weights-1693574498.596941.pt\")\n",
    "\n",
    "my_model.fit(target_train, val_series=target_val, verbose=True)"
   ],
   "metadata": {
    "collapsed": false,
    "ExecuteTime": {
     "end_time": "2023-09-01T20:49:27.720184801Z",
     "start_time": "2023-09-01T20:49:13.338871299Z"
    }
   }
  },
  {
   "cell_type": "code",
   "execution_count": 167,
   "outputs": [],
   "source": [
    "# from google.colab import drive\n",
    "# drive.mount('/content/drive')\n",
    "# \n",
    "# import time\n",
    "# import os\n",
    "# os.makedirs(\"./drive/MyDrive/colab/model-weights/\")\n",
    "# my_model.save(f\"./drive/MyDrive/colab/model-weights/model-weights-{time.time()}.pt\")"
   ],
   "metadata": {
    "collapsed": false,
    "ExecuteTime": {
     "end_time": "2023-09-01T20:49:27.720266663Z",
     "start_time": "2023-09-01T20:49:27.685260536Z"
    }
   }
  },
  {
   "cell_type": "code",
   "execution_count": 187,
   "outputs": [
    {
     "ename": "TypeError",
     "evalue": "'NoneType' object is not iterable",
     "output_type": "error",
     "traceback": [
      "\u001B[0;31m---------------------------------------------------------------------------\u001B[0m",
      "\u001B[0;31mTypeError\u001B[0m                                 Traceback (most recent call last)",
      "Cell \u001B[0;32mIn[187], line 3\u001B[0m\n\u001B[1;32m      1\u001B[0m \u001B[38;5;66;03m# evaluate model\u001B[39;00m\n\u001B[1;32m      2\u001B[0m FORECAST_HORIZON \u001B[38;5;241m=\u001B[39m \u001B[38;5;241m30\u001B[39m\n\u001B[0;32m----> 3\u001B[0m forecasts \u001B[38;5;241m=\u001B[39m \u001B[43mmy_model\u001B[49m\u001B[38;5;241;43m.\u001B[39;49m\u001B[43mhistorical_forecasts\u001B[49m\u001B[43m(\u001B[49m\n\u001B[1;32m      4\u001B[0m \u001B[43m    \u001B[49m\u001B[43mtarget_val\u001B[49m\u001B[43m,\u001B[49m\n\u001B[1;32m      5\u001B[0m \u001B[43m    \u001B[49m\u001B[43mforecast_horizon\u001B[49m\u001B[38;5;241;43m=\u001B[39;49m\u001B[43mFORECAST_HORIZON\u001B[49m\u001B[43m,\u001B[49m\n\u001B[1;32m      6\u001B[0m \u001B[43m    \u001B[49m\u001B[38;5;66;43;03m# metric=mase,\u001B[39;49;00m\n\u001B[1;32m      7\u001B[0m \u001B[43m    \u001B[49m\u001B[43mverbose\u001B[49m\u001B[38;5;241;43m=\u001B[39;49m\u001B[38;5;28;43;01mFalse\u001B[39;49;00m\u001B[43m,\u001B[49m\n\u001B[1;32m      8\u001B[0m \u001B[43m    \u001B[49m\u001B[43mretrain\u001B[49m\u001B[38;5;241;43m=\u001B[39;49m\u001B[38;5;28;43;01mFalse\u001B[39;49;00m\u001B[43m,\u001B[49m\n\u001B[1;32m      9\u001B[0m \u001B[43m    \u001B[49m\u001B[38;5;66;43;03m# stride=5,\u001B[39;49;00m\n\u001B[1;32m     10\u001B[0m \u001B[43m)\u001B[49m\n\u001B[1;32m     11\u001B[0m close_forecasts \u001B[38;5;241m=\u001B[39m forecasts[\u001B[38;5;124m\"\u001B[39m\u001B[38;5;124mClose\u001B[39m\u001B[38;5;124m\"\u001B[39m]\n\u001B[1;32m     12\u001B[0m close_series \u001B[38;5;241m=\u001B[39m target_val[SEQUENCE_LENGTH \u001B[38;5;241m+\u001B[39m FORECAST_HORIZON \u001B[38;5;241m-\u001B[39m \u001B[38;5;241m1\u001B[39m:][\u001B[38;5;124m\"\u001B[39m\u001B[38;5;124mClose\u001B[39m\u001B[38;5;124m\"\u001B[39m]\n",
      "File \u001B[0;32m/mnt/storage/dima/Doc/Documents/Особисте/Проєкти/Projects/price_prediction_experiment/venv/lib/python3.10/site-packages/darts/utils/utils.py:177\u001B[0m, in \u001B[0;36m_with_sanity_checks.<locals>.decorator.<locals>.sanitized_method\u001B[0;34m(self, *args, **kwargs)\u001B[0m\n\u001B[1;32m    174\u001B[0m     only_args\u001B[38;5;241m.\u001B[39mpop(\u001B[38;5;124m\"\u001B[39m\u001B[38;5;124mself\u001B[39m\u001B[38;5;124m\"\u001B[39m)\n\u001B[1;32m    176\u001B[0m     \u001B[38;5;28mgetattr\u001B[39m(\u001B[38;5;28mself\u001B[39m, sanity_check_method)(\u001B[38;5;241m*\u001B[39monly_args\u001B[38;5;241m.\u001B[39mvalues(), \u001B[38;5;241m*\u001B[39m\u001B[38;5;241m*\u001B[39monly_kwargs)\n\u001B[0;32m--> 177\u001B[0m \u001B[38;5;28;01mreturn\u001B[39;00m \u001B[43mmethod_to_sanitize\u001B[49m\u001B[43m(\u001B[49m\u001B[38;5;28;43mself\u001B[39;49m\u001B[43m,\u001B[49m\u001B[43m \u001B[49m\u001B[38;5;241;43m*\u001B[39;49m\u001B[43monly_args\u001B[49m\u001B[38;5;241;43m.\u001B[39;49m\u001B[43mvalues\u001B[49m\u001B[43m(\u001B[49m\u001B[43m)\u001B[49m\u001B[43m,\u001B[49m\u001B[43m \u001B[49m\u001B[38;5;241;43m*\u001B[39;49m\u001B[38;5;241;43m*\u001B[39;49m\u001B[43monly_kwargs\u001B[49m\u001B[43m)\u001B[49m\n",
      "File \u001B[0;32m/mnt/storage/dima/Doc/Documents/Особисте/Проєкти/Projects/price_prediction_experiment/venv/lib/python3.10/site-packages/darts/models/forecasting/forecasting_model.py:981\u001B[0m, in \u001B[0;36mForecastingModel.historical_forecasts\u001B[0;34m(self, series, past_covariates, future_covariates, num_samples, train_length, start, forecast_horizon, stride, retrain, overlap_end, last_points_only, verbose, show_warnings, predict_likelihood_parameters, enable_optimization)\u001B[0m\n\u001B[1;32m    971\u001B[0m \u001B[38;5;28;01mif\u001B[39;00m \u001B[38;5;28mlen\u001B[39m(train_series) \u001B[38;5;241m==\u001B[39m \u001B[38;5;241m0\u001B[39m:\n\u001B[1;32m    972\u001B[0m     train_series \u001B[38;5;241m=\u001B[39m TimeSeries\u001B[38;5;241m.\u001B[39mfrom_times_and_values(\n\u001B[1;32m    973\u001B[0m         times\u001B[38;5;241m=\u001B[39mgenerate_index(\n\u001B[1;32m    974\u001B[0m             start\u001B[38;5;241m=\u001B[39mpred_time \u001B[38;5;241m-\u001B[39m \u001B[38;5;241m1\u001B[39m \u001B[38;5;241m*\u001B[39m series_\u001B[38;5;241m.\u001B[39mfreq,\n\u001B[0;32m   (...)\u001B[0m\n\u001B[1;32m    978\u001B[0m         values\u001B[38;5;241m=\u001B[39mnp\u001B[38;5;241m.\u001B[39marray([np\u001B[38;5;241m.\u001B[39mNaN]),\n\u001B[1;32m    979\u001B[0m     )\n\u001B[0;32m--> 981\u001B[0m forecast \u001B[38;5;241m=\u001B[39m \u001B[43mmodel\u001B[49m\u001B[38;5;241;43m.\u001B[39;49m\u001B[43m_predict_wrapper\u001B[49m\u001B[43m(\u001B[49m\n\u001B[1;32m    982\u001B[0m \u001B[43m    \u001B[49m\u001B[43mn\u001B[49m\u001B[38;5;241;43m=\u001B[39;49m\u001B[43mforecast_horizon\u001B[49m\u001B[43m,\u001B[49m\n\u001B[1;32m    983\u001B[0m \u001B[43m    \u001B[49m\u001B[43mseries\u001B[49m\u001B[38;5;241;43m=\u001B[39;49m\u001B[43mtrain_series\u001B[49m\u001B[43m,\u001B[49m\n\u001B[1;32m    984\u001B[0m \u001B[43m    \u001B[49m\u001B[43mpast_covariates\u001B[49m\u001B[38;5;241;43m=\u001B[39;49m\u001B[43mpast_covariates_\u001B[49m\u001B[43m,\u001B[49m\n\u001B[1;32m    985\u001B[0m \u001B[43m    \u001B[49m\u001B[43mfuture_covariates\u001B[49m\u001B[38;5;241;43m=\u001B[39;49m\u001B[43mfuture_covariates_\u001B[49m\u001B[43m,\u001B[49m\n\u001B[1;32m    986\u001B[0m \u001B[43m    \u001B[49m\u001B[43mnum_samples\u001B[49m\u001B[38;5;241;43m=\u001B[39;49m\u001B[43mnum_samples\u001B[49m\u001B[43m,\u001B[49m\n\u001B[1;32m    987\u001B[0m \u001B[43m    \u001B[49m\u001B[43mverbose\u001B[49m\u001B[38;5;241;43m=\u001B[39;49m\u001B[43mverbose\u001B[49m\u001B[43m,\u001B[49m\n\u001B[1;32m    988\u001B[0m \u001B[43m    \u001B[49m\u001B[43mpredict_likelihood_parameters\u001B[49m\u001B[38;5;241;43m=\u001B[39;49m\u001B[43mpredict_likelihood_parameters\u001B[49m\u001B[43m,\u001B[49m\n\u001B[1;32m    989\u001B[0m \u001B[43m\u001B[49m\u001B[43m)\u001B[49m\n\u001B[1;32m    990\u001B[0m \u001B[38;5;28;01mif\u001B[39;00m forecast_components \u001B[38;5;129;01mis\u001B[39;00m \u001B[38;5;28;01mNone\u001B[39;00m:\n\u001B[1;32m    991\u001B[0m     forecast_components \u001B[38;5;241m=\u001B[39m forecast\u001B[38;5;241m.\u001B[39mcolumns\n",
      "File \u001B[0;32m/mnt/storage/dima/Doc/Documents/Особисте/Проєкти/Projects/price_prediction_experiment/venv/lib/python3.10/site-packages/darts/models/forecasting/forecasting_model.py:2162\u001B[0m, in \u001B[0;36mGlobalForecastingModel._predict_wrapper\u001B[0;34m(self, n, series, past_covariates, future_covariates, num_samples, verbose, predict_likelihood_parameters)\u001B[0m\n\u001B[1;32m   2160\u001B[0m \u001B[38;5;28;01mif\u001B[39;00m \u001B[38;5;28mself\u001B[39m\u001B[38;5;241m.\u001B[39msupports_likelihood_parameter_prediction:\n\u001B[1;32m   2161\u001B[0m     kwargs[\u001B[38;5;124m\"\u001B[39m\u001B[38;5;124mpredict_likelihood_parameters\u001B[39m\u001B[38;5;124m\"\u001B[39m] \u001B[38;5;241m=\u001B[39m predict_likelihood_parameters\n\u001B[0;32m-> 2162\u001B[0m \u001B[38;5;28;01mreturn\u001B[39;00m \u001B[38;5;28;43mself\u001B[39;49m\u001B[38;5;241;43m.\u001B[39;49m\u001B[43mpredict\u001B[49m\u001B[43m(\u001B[49m\n\u001B[1;32m   2163\u001B[0m \u001B[43m    \u001B[49m\u001B[43mn\u001B[49m\u001B[43m,\u001B[49m\n\u001B[1;32m   2164\u001B[0m \u001B[43m    \u001B[49m\u001B[43mseries\u001B[49m\u001B[43m,\u001B[49m\n\u001B[1;32m   2165\u001B[0m \u001B[43m    \u001B[49m\u001B[43mpast_covariates\u001B[49m\u001B[38;5;241;43m=\u001B[39;49m\u001B[43mpast_covariates\u001B[49m\u001B[43m,\u001B[49m\n\u001B[1;32m   2166\u001B[0m \u001B[43m    \u001B[49m\u001B[43mfuture_covariates\u001B[49m\u001B[38;5;241;43m=\u001B[39;49m\u001B[43mfuture_covariates\u001B[49m\u001B[43m,\u001B[49m\n\u001B[1;32m   2167\u001B[0m \u001B[43m    \u001B[49m\u001B[43mnum_samples\u001B[49m\u001B[38;5;241;43m=\u001B[39;49m\u001B[43mnum_samples\u001B[49m\u001B[43m,\u001B[49m\n\u001B[1;32m   2168\u001B[0m \u001B[43m    \u001B[49m\u001B[43mverbose\u001B[49m\u001B[38;5;241;43m=\u001B[39;49m\u001B[43mverbose\u001B[49m\u001B[43m,\u001B[49m\n\u001B[1;32m   2169\u001B[0m \u001B[43m    \u001B[49m\u001B[38;5;241;43m*\u001B[39;49m\u001B[38;5;241;43m*\u001B[39;49m\u001B[43mkwargs\u001B[49m\u001B[43m,\u001B[49m\n\u001B[1;32m   2170\u001B[0m \u001B[43m\u001B[49m\u001B[43m)\u001B[49m\n",
      "File \u001B[0;32m/mnt/storage/dima/Doc/Documents/Особисте/Проєкти/Projects/price_prediction_experiment/venv/lib/python3.10/site-packages/darts/utils/torch.py:112\u001B[0m, in \u001B[0;36mrandom_method.<locals>.decorator\u001B[0;34m(self, *args, **kwargs)\u001B[0m\n\u001B[1;32m    110\u001B[0m \u001B[38;5;28;01mwith\u001B[39;00m fork_rng():\n\u001B[1;32m    111\u001B[0m     manual_seed(\u001B[38;5;28mself\u001B[39m\u001B[38;5;241m.\u001B[39m_random_instance\u001B[38;5;241m.\u001B[39mrandint(\u001B[38;5;241m0\u001B[39m, high\u001B[38;5;241m=\u001B[39mMAX_TORCH_SEED_VALUE))\n\u001B[0;32m--> 112\u001B[0m     \u001B[38;5;28;01mreturn\u001B[39;00m \u001B[43mdecorated\u001B[49m\u001B[43m(\u001B[49m\u001B[38;5;28;43mself\u001B[39;49m\u001B[43m,\u001B[49m\u001B[43m \u001B[49m\u001B[38;5;241;43m*\u001B[39;49m\u001B[43margs\u001B[49m\u001B[43m,\u001B[49m\u001B[43m \u001B[49m\u001B[38;5;241;43m*\u001B[39;49m\u001B[38;5;241;43m*\u001B[39;49m\u001B[43mkwargs\u001B[49m\u001B[43m)\u001B[49m\n",
      "File \u001B[0;32m/mnt/storage/dima/Doc/Documents/Особисте/Проєкти/Projects/price_prediction_experiment/venv/lib/python3.10/site-packages/darts/models/forecasting/torch_forecasting_model.py:1330\u001B[0m, in \u001B[0;36mTorchForecastingModel.predict\u001B[0;34m(self, n, series, past_covariates, future_covariates, trainer, batch_size, verbose, n_jobs, roll_size, num_samples, num_loader_workers, mc_dropout, predict_likelihood_parameters)\u001B[0m\n\u001B[1;32m   1314\u001B[0m \u001B[38;5;28msuper\u001B[39m()\u001B[38;5;241m.\u001B[39mpredict(\n\u001B[1;32m   1315\u001B[0m     n,\n\u001B[1;32m   1316\u001B[0m     series,\n\u001B[0;32m   (...)\u001B[0m\n\u001B[1;32m   1320\u001B[0m     predict_likelihood_parameters\u001B[38;5;241m=\u001B[39mpredict_likelihood_parameters,\n\u001B[1;32m   1321\u001B[0m )\n\u001B[1;32m   1323\u001B[0m dataset \u001B[38;5;241m=\u001B[39m \u001B[38;5;28mself\u001B[39m\u001B[38;5;241m.\u001B[39m_build_inference_dataset(\n\u001B[1;32m   1324\u001B[0m     target\u001B[38;5;241m=\u001B[39mseries,\n\u001B[1;32m   1325\u001B[0m     n\u001B[38;5;241m=\u001B[39mn,\n\u001B[1;32m   1326\u001B[0m     past_covariates\u001B[38;5;241m=\u001B[39mpast_covariates,\n\u001B[1;32m   1327\u001B[0m     future_covariates\u001B[38;5;241m=\u001B[39mfuture_covariates,\n\u001B[1;32m   1328\u001B[0m )\n\u001B[0;32m-> 1330\u001B[0m predictions \u001B[38;5;241m=\u001B[39m \u001B[38;5;28;43mself\u001B[39;49m\u001B[38;5;241;43m.\u001B[39;49m\u001B[43mpredict_from_dataset\u001B[49m\u001B[43m(\u001B[49m\n\u001B[1;32m   1331\u001B[0m \u001B[43m    \u001B[49m\u001B[43mn\u001B[49m\u001B[43m,\u001B[49m\n\u001B[1;32m   1332\u001B[0m \u001B[43m    \u001B[49m\u001B[43mdataset\u001B[49m\u001B[43m,\u001B[49m\n\u001B[1;32m   1333\u001B[0m \u001B[43m    \u001B[49m\u001B[43mtrainer\u001B[49m\u001B[38;5;241;43m=\u001B[39;49m\u001B[43mtrainer\u001B[49m\u001B[43m,\u001B[49m\n\u001B[1;32m   1334\u001B[0m \u001B[43m    \u001B[49m\u001B[43mverbose\u001B[49m\u001B[38;5;241;43m=\u001B[39;49m\u001B[43mverbose\u001B[49m\u001B[43m,\u001B[49m\n\u001B[1;32m   1335\u001B[0m \u001B[43m    \u001B[49m\u001B[43mbatch_size\u001B[49m\u001B[38;5;241;43m=\u001B[39;49m\u001B[43mbatch_size\u001B[49m\u001B[43m,\u001B[49m\n\u001B[1;32m   1336\u001B[0m \u001B[43m    \u001B[49m\u001B[43mn_jobs\u001B[49m\u001B[38;5;241;43m=\u001B[39;49m\u001B[43mn_jobs\u001B[49m\u001B[43m,\u001B[49m\n\u001B[1;32m   1337\u001B[0m \u001B[43m    \u001B[49m\u001B[43mroll_size\u001B[49m\u001B[38;5;241;43m=\u001B[39;49m\u001B[43mroll_size\u001B[49m\u001B[43m,\u001B[49m\n\u001B[1;32m   1338\u001B[0m \u001B[43m    \u001B[49m\u001B[43mnum_samples\u001B[49m\u001B[38;5;241;43m=\u001B[39;49m\u001B[43mnum_samples\u001B[49m\u001B[43m,\u001B[49m\n\u001B[1;32m   1339\u001B[0m \u001B[43m    \u001B[49m\u001B[43mnum_loader_workers\u001B[49m\u001B[38;5;241;43m=\u001B[39;49m\u001B[43mnum_loader_workers\u001B[49m\u001B[43m,\u001B[49m\n\u001B[1;32m   1340\u001B[0m \u001B[43m    \u001B[49m\u001B[43mmc_dropout\u001B[49m\u001B[38;5;241;43m=\u001B[39;49m\u001B[43mmc_dropout\u001B[49m\u001B[43m,\u001B[49m\n\u001B[1;32m   1341\u001B[0m \u001B[43m    \u001B[49m\u001B[43mpredict_likelihood_parameters\u001B[49m\u001B[38;5;241;43m=\u001B[39;49m\u001B[43mpredict_likelihood_parameters\u001B[49m\u001B[43m,\u001B[49m\n\u001B[1;32m   1342\u001B[0m \u001B[43m\u001B[49m\u001B[43m)\u001B[49m\n\u001B[1;32m   1344\u001B[0m \u001B[38;5;28;01mreturn\u001B[39;00m predictions[\u001B[38;5;241m0\u001B[39m] \u001B[38;5;28;01mif\u001B[39;00m called_with_single_series \u001B[38;5;28;01melse\u001B[39;00m predictions\n",
      "File \u001B[0;32m/mnt/storage/dima/Doc/Documents/Особисте/Проєкти/Projects/price_prediction_experiment/venv/lib/python3.10/site-packages/darts/utils/torch.py:112\u001B[0m, in \u001B[0;36mrandom_method.<locals>.decorator\u001B[0;34m(self, *args, **kwargs)\u001B[0m\n\u001B[1;32m    110\u001B[0m \u001B[38;5;28;01mwith\u001B[39;00m fork_rng():\n\u001B[1;32m    111\u001B[0m     manual_seed(\u001B[38;5;28mself\u001B[39m\u001B[38;5;241m.\u001B[39m_random_instance\u001B[38;5;241m.\u001B[39mrandint(\u001B[38;5;241m0\u001B[39m, high\u001B[38;5;241m=\u001B[39mMAX_TORCH_SEED_VALUE))\n\u001B[0;32m--> 112\u001B[0m     \u001B[38;5;28;01mreturn\u001B[39;00m \u001B[43mdecorated\u001B[49m\u001B[43m(\u001B[49m\u001B[38;5;28;43mself\u001B[39;49m\u001B[43m,\u001B[49m\u001B[43m \u001B[49m\u001B[38;5;241;43m*\u001B[39;49m\u001B[43margs\u001B[49m\u001B[43m,\u001B[49m\u001B[43m \u001B[49m\u001B[38;5;241;43m*\u001B[39;49m\u001B[38;5;241;43m*\u001B[39;49m\u001B[43mkwargs\u001B[49m\u001B[43m)\u001B[49m\n",
      "File \u001B[0;32m/mnt/storage/dima/Doc/Documents/Особисте/Проєкти/Projects/price_prediction_experiment/venv/lib/python3.10/site-packages/darts/models/forecasting/torch_forecasting_model.py:1476\u001B[0m, in \u001B[0;36mTorchForecastingModel.predict_from_dataset\u001B[0;34m(self, n, input_series_dataset, trainer, batch_size, verbose, n_jobs, roll_size, num_samples, num_loader_workers, mc_dropout, predict_likelihood_parameters)\u001B[0m\n\u001B[1;32m   1474\u001B[0m predictions \u001B[38;5;241m=\u001B[39m \u001B[38;5;28mself\u001B[39m\u001B[38;5;241m.\u001B[39mtrainer\u001B[38;5;241m.\u001B[39mpredict(\u001B[38;5;28mself\u001B[39m\u001B[38;5;241m.\u001B[39mmodel, pred_loader)\n\u001B[1;32m   1475\u001B[0m \u001B[38;5;66;03m# flatten and return\u001B[39;00m\n\u001B[0;32m-> 1476\u001B[0m \u001B[38;5;28;01mreturn\u001B[39;00m [ts \u001B[38;5;28;01mfor\u001B[39;00m batch \u001B[38;5;129;01min\u001B[39;00m predictions \u001B[38;5;28;01mfor\u001B[39;00m ts \u001B[38;5;129;01min\u001B[39;00m batch]\n",
      "\u001B[0;31mTypeError\u001B[0m: 'NoneType' object is not iterable"
     ]
    }
   ],
   "source": [
    "# evaluate model\n",
    "FORECAST_HORIZON = 30\n",
    "forecasts = my_model.historical_forecasts(\n",
    "    target_val,\n",
    "    forecast_horizon=FORECAST_HORIZON,\n",
    "    # metric=mase,\n",
    "    verbose=False,\n",
    "    retrain=False,\n",
    "    # stride=5,\n",
    ")\n",
    "close_forecasts = forecasts[\"Close\"]\n",
    "close_series = target_val[SEQUENCE_LENGTH + FORECAST_HORIZON - 1:][\"Close\"]\n",
    "print(f\"MASE = {mase(close_forecasts, close_series)}\")"
   ],
   "metadata": {
    "collapsed": false,
    "ExecuteTime": {
     "end_time": "2023-09-01T21:05:01.588719753Z",
     "start_time": "2023-09-01T21:04:35.504940734Z"
    }
   }
  },
  {
   "cell_type": "code",
   "execution_count": 171,
   "outputs": [
    {
     "data": {
      "text/plain": "Predicting: 0it [00:00, ?it/s]",
      "application/vnd.jupyter.widget-view+json": {
       "version_major": 2,
       "version_minor": 0,
       "model_id": "1a19c7fe6e5540b081947b29eb1c5a7c"
      }
     },
     "metadata": {},
     "output_type": "display_data"
    },
    {
     "data": {
      "text/plain": "<Axes: xlabel='time'>"
     },
     "execution_count": 171,
     "metadata": {},
     "output_type": "execute_result"
    },
    {
     "data": {
      "text/plain": "<Figure size 640x480 with 1 Axes>",
      "image/png": "[encoded data removed]"
     },
     "metadata": {},
     "output_type": "display_data"
    }
   ],
   "source": [
    "predict_X = target_train[-SEQUENCE_LENGTH:]\n",
    "pred: TimeSeries = my_model.predict(PREDICTION_LENGTH, predict_X)\n",
    "\n",
    "target_val[\"Close\"].slice_intersect(pred[\"Close\"]).plot(label=\"target\")\n",
    "pred[\"Close\"].plot(label=\"prediction\")"
   ],
   "metadata": {
    "collapsed": false,
    "ExecuteTime": {
     "end_time": "2023-09-01T20:56:18.791172231Z",
     "start_time": "2023-09-01T20:56:18.700663521Z"
    }
   }
  },
  {
   "cell_type": "code",
   "execution_count": 172,
   "outputs": [
    {
     "ename": "IndexError",
     "evalue": "only integers, slices (`:`), ellipsis (`...`), numpy.newaxis (`None`) and integer or boolean arrays are valid indices",
     "output_type": "error",
     "traceback": [
      "\u001B[0;31m---------------------------------------------------------------------------\u001B[0m",
      "\u001B[0;31mIndexError\u001B[0m                                Traceback (most recent call last)",
      "Cell \u001B[0;32mIn[172], line 3\u001B[0m\n\u001B[1;32m      1\u001B[0m original_start \u001B[38;5;241m=\u001B[39m dataset\u001B[38;5;241m.\u001B[39miloc[predict_X[\u001B[38;5;241m-\u001B[39m\u001B[38;5;241m1\u001B[39m]\u001B[38;5;241m.\u001B[39mtime_index]\u001B[38;5;241m.\u001B[39mto_numpy()\n\u001B[0;32m----> 3\u001B[0m inverted_pred \u001B[38;5;241m=\u001B[39m \u001B[43minvert_preprocess\u001B[49m\u001B[43m(\u001B[49m\u001B[43moriginal_start\u001B[49m\u001B[43m,\u001B[49m\u001B[43m \u001B[49m\u001B[43mscaler\u001B[49m\u001B[43m,\u001B[49m\u001B[43m \u001B[49m\u001B[43mpred\u001B[49m\u001B[38;5;241;43m.\u001B[39;49m\u001B[43mpd_dataframe\u001B[49m\u001B[43m(\u001B[49m\u001B[43m)\u001B[49m\u001B[43m)\u001B[49m\n\u001B[1;32m      4\u001B[0m inverted_pred\n",
      "Cell \u001B[0;32mIn[159], line 22\u001B[0m, in \u001B[0;36minvert_preprocess\u001B[0;34m(original_start, scaler, df)\u001B[0m\n\u001B[1;32m     21\u001B[0m \u001B[38;5;28;01mdef\u001B[39;00m \u001B[38;5;21minvert_preprocess\u001B[39m(original_start, scaler: MinMaxScaler, df):\n\u001B[0;32m---> 22\u001B[0m     original_start \u001B[38;5;241m=\u001B[39m \u001B[43moriginal_start\u001B[49m\u001B[43m[\u001B[49m\u001B[43mOHLC_COLUMNS\u001B[49m\u001B[43m]\u001B[49m\u001B[38;5;241m.\u001B[39mto_numpy()\n\u001B[1;32m     23\u001B[0m     \u001B[38;5;66;03m# Invert MinMax scaling for all columns\u001B[39;00m\n\u001B[1;32m     24\u001B[0m     df_inv_scaled \u001B[38;5;241m=\u001B[39m pd\u001B[38;5;241m.\u001B[39mDataFrame(scaler\u001B[38;5;241m.\u001B[39minverse_transform(df), columns\u001B[38;5;241m=\u001B[39mdf\u001B[38;5;241m.\u001B[39mcolumns, index\u001B[38;5;241m=\u001B[39mdf\u001B[38;5;241m.\u001B[39mindex)\n",
      "\u001B[0;31mIndexError\u001B[0m: only integers, slices (`:`), ellipsis (`...`), numpy.newaxis (`None`) and integer or boolean arrays are valid indices"
     ]
    }
   ],
   "source": [
    "original_start = dataset.iloc[predict_X[-1].time_index].to_numpy()\n",
    "\n",
    "inverted_pred = invert_preprocess(original_start, scaler, pred.pd_dataframe())\n",
    "inverted_pred"
   ],
   "metadata": {
    "collapsed": false,
    "ExecuteTime": {
     "end_time": "2023-09-01T20:56:18.806602446Z",
     "start_time": "2023-09-01T20:56:18.793173675Z"
    }
   }
  },
  {
   "cell_type": "code",
   "execution_count": null,
   "outputs": [],
   "source": [
    "inverted_target = invert_preprocess(original_start, scaler, target_val.pd_dataframe()[:PREDICTION_LENGTH])\n",
    "inverted_target"
   ],
   "metadata": {
    "collapsed": false,
    "ExecuteTime": {
     "start_time": "2023-09-01T20:56:18.804453940Z"
    }
   }
  },
  {
   "cell_type": "code",
   "execution_count": null,
   "outputs": [],
   "source": [
    "from mplfinance.original_flavor import candlestick_ohlc\n",
    "import matplotlib.dates as mdates\n",
    "import matplotlib.pyplot as plt\n",
    "\n",
    "# Create a DataFrame from the 'candlesticks' array\n",
    "candlesticks_df = pd.DataFrame(inverted_target, columns=OHLC_COLUMNS)\n",
    "candlesticks_pred_df = pd.DataFrame(inverted_pred, columns=OHLC_COLUMNS)\n",
    "\n",
    "plt.plot(candlesticks_df[\"Close\"], label=\"actual\")\n",
    "plt.plot(candlesticks_pred_df[\"Close\"], label=\"prediction\")\n",
    "plt.legend()\n",
    "\n",
    "# Adding a fake date index (mplfinance needs this)\n",
    "# candlesticks_df['Date'] = pd.date_range(start='1/1/2000', periods=candlesticks_df.shape[0])\n",
    "# candlesticks_df['Date'] = candlesticks_df['Date'].apply(mdates.date2num)\n",
    "# candlesticks_pred_df['Date'] = pd.date_range(start='1/1/2000', periods=candlesticks_pred_df.shape[0])\n",
    "# candlesticks_pred_df['Date'] = candlesticks_pred_df['Date'].apply(mdates.date2num)\n",
    "# \n",
    "# # Reordering columns to fit mplfinance requirements\n",
    "# candlesticks_df = candlesticks_df[['Date', 'Open', 'High', 'Low', 'Close', 'Volume']]\n",
    "# candlesticks_pred_df = candlesticks_pred_df[['Date', 'Open', 'High', 'Low', 'Close', 'Volume']]\n",
    "\n",
    "# Plotting\n",
    "# fig, ax = plt.subplots(figsize=(15, 10))\n",
    "\n",
    "# candlestick_ohlc(ax, candlesticks_pred_df.values, width=0.6, colorup='lime', colordown='magenta', alpha=0.5)\n",
    "# candlestick_ohlc(ax, candlesticks_df.values, width=0.6, colorup='g', colordown='r', alpha=0.5)\n",
    "\n",
    "plt.show()"
   ],
   "metadata": {
    "collapsed": false,
    "ExecuteTime": {
     "start_time": "2023-09-01T20:56:18.805263533Z"
    }
   }
  }
 ]
}
