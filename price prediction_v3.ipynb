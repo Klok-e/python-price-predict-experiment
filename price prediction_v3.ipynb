{
 "nbformat": 4,
 "nbformat_minor": 0,
 "metadata": {
  "colab": {
   "provenance": [],
   "gpuType": "T4",
   "mount_file_id": "1SIIDuVLdYGQUXZfGGVjh2FLqvCtyIW1t",
   "authorship_tag": "ABX9TyPxTybhFFtyIWlUoS6siBcG"
  },
  "kernelspec": {
   "name": "python3",
   "language": "python",
   "display_name": "Python 3 (ipykernel)"
  },
  "language_info": {
   "name": "python"
  },
  "accelerator": "GPU",
  "widgets": {
   "application/vnd.jupyter.widget-state+json": {
    "7dd4f39447a8403d971228d215f7c92f": {
     "model_module": "@jupyter-widgets/controls",
     "model_name": "HBoxModel",
     "model_module_version": "1.5.0",
     "state": {
      "_dom_classes": [],
      "_model_module": "@jupyter-widgets/controls",
      "_model_module_version": "1.5.0",
      "_model_name": "HBoxModel",
      "_view_count": null,
      "_view_module": "@jupyter-widgets/controls",
      "_view_module_version": "1.5.0",
      "_view_name": "HBoxView",
      "box_style": "",
      "children": [
       "IPY_MODEL_e218add70fa342c6829dd9bb37dcfa41",
       "IPY_MODEL_d8002ed8b0574ac6afb501b840b0ba40",
       "IPY_MODEL_2f202985b8e946d289bdbe6712c2b9a7"
      ],
      "layout": "IPY_MODEL_9b5b8357efd84321bf36e7a1082bb677"
     }
    },
    "e218add70fa342c6829dd9bb37dcfa41": {
     "model_module": "@jupyter-widgets/controls",
     "model_name": "HTMLModel",
     "model_module_version": "1.5.0",
     "state": {
      "_dom_classes": [],
      "_model_module": "@jupyter-widgets/controls",
      "_model_module_version": "1.5.0",
      "_model_name": "HTMLModel",
      "_view_count": null,
      "_view_module": "@jupyter-widgets/controls",
      "_view_module_version": "1.5.0",
      "_view_name": "HTMLView",
      "description": "",
      "description_tooltip": null,
      "layout": "IPY_MODEL_1aae74220cb64297a14c9bbd21fb94fa",
      "placeholder": "​",
      "style": "IPY_MODEL_90dcc4766a3b49b0bb295848619c28c0",
      "value": "Tickers: 100%"
     }
    },
    "d8002ed8b0574ac6afb501b840b0ba40": {
     "model_module": "@jupyter-widgets/controls",
     "model_name": "FloatProgressModel",
     "model_module_version": "1.5.0",
     "state": {
      "_dom_classes": [],
      "_model_module": "@jupyter-widgets/controls",
      "_model_module_version": "1.5.0",
      "_model_name": "FloatProgressModel",
      "_view_count": null,
      "_view_module": "@jupyter-widgets/controls",
      "_view_module_version": "1.5.0",
      "_view_name": "ProgressView",
      "bar_style": "success",
      "description": "",
      "description_tooltip": null,
      "layout": "IPY_MODEL_d2c8c1ee88d044b4b0aa98a221a3a839",
      "max": 1,
      "min": 0,
      "orientation": "horizontal",
      "style": "IPY_MODEL_8e10a6958ba34853abe3221c9d2efb9f",
      "value": 1
     }
    },
    "2f202985b8e946d289bdbe6712c2b9a7": {
     "model_module": "@jupyter-widgets/controls",
     "model_name": "HTMLModel",
     "model_module_version": "1.5.0",
     "state": {
      "_dom_classes": [],
      "_model_module": "@jupyter-widgets/controls",
      "_model_module_version": "1.5.0",
      "_model_name": "HTMLModel",
      "_view_count": null,
      "_view_module": "@jupyter-widgets/controls",
      "_view_module_version": "1.5.0",
      "_view_name": "HTMLView",
      "description": "",
      "description_tooltip": null,
      "layout": "IPY_MODEL_71d93b21192b408eb4160aad368e8341",
      "placeholder": "​",
      "style": "IPY_MODEL_3373eefba7bc480c870dffcc7c0c76a5",
      "value": " 1/1 [00:02&lt;00:00,  2.26s/it]"
     }
    },
    "9b5b8357efd84321bf36e7a1082bb677": {
     "model_module": "@jupyter-widgets/base",
     "model_name": "LayoutModel",
     "model_module_version": "1.2.0",
     "state": {
      "_model_module": "@jupyter-widgets/base",
      "_model_module_version": "1.2.0",
      "_model_name": "LayoutModel",
      "_view_count": null,
      "_view_module": "@jupyter-widgets/base",
      "_view_module_version": "1.2.0",
      "_view_name": "LayoutView",
      "align_content": null,
      "align_items": null,
      "align_self": null,
      "border": null,
      "bottom": null,
      "display": null,
      "flex": null,
      "flex_flow": null,
      "grid_area": null,
      "grid_auto_columns": null,
      "grid_auto_flow": null,
      "grid_auto_rows": null,
      "grid_column": null,
      "grid_gap": null,
      "grid_row": null,
      "grid_template_areas": null,
      "grid_template_columns": null,
      "grid_template_rows": null,
      "height": null,
      "justify_content": null,
      "justify_items": null,
      "left": null,
      "margin": null,
      "max_height": null,
      "max_width": null,
      "min_height": null,
      "min_width": null,
      "object_fit": null,
      "object_position": null,
      "order": null,
      "overflow": null,
      "overflow_x": null,
      "overflow_y": null,
      "padding": null,
      "right": null,
      "top": null,
      "visibility": null,
      "width": null
     }
    },
    "1aae74220cb64297a14c9bbd21fb94fa": {
     "model_module": "@jupyter-widgets/base",
     "model_name": "LayoutModel",
     "model_module_version": "1.2.0",
     "state": {
      "_model_module": "@jupyter-widgets/base",
      "_model_module_version": "1.2.0",
      "_model_name": "LayoutModel",
      "_view_count": null,
      "_view_module": "@jupyter-widgets/base",
      "_view_module_version": "1.2.0",
      "_view_name": "LayoutView",
      "align_content": null,
      "align_items": null,
      "align_self": null,
      "border": null,
      "bottom": null,
      "display": null,
      "flex": null,
      "flex_flow": null,
      "grid_area": null,
      "grid_auto_columns": null,
      "grid_auto_flow": null,
      "grid_auto_rows": null,
      "grid_column": null,
      "grid_gap": null,
      "grid_row": null,
      "grid_template_areas": null,
      "grid_template_columns": null,
      "grid_template_rows": null,
      "height": null,
      "justify_content": null,
      "justify_items": null,
      "left": null,
      "margin": null,
      "max_height": null,
      "max_width": null,
      "min_height": null,
      "min_width": null,
      "object_fit": null,
      "object_position": null,
      "order": null,
      "overflow": null,
      "overflow_x": null,
      "overflow_y": null,
      "padding": null,
      "right": null,
      "top": null,
      "visibility": null,
      "width": null
     }
    },
    "90dcc4766a3b49b0bb295848619c28c0": {
     "model_module": "@jupyter-widgets/controls",
     "model_name": "DescriptionStyleModel",
     "model_module_version": "1.5.0",
     "state": {
      "_model_module": "@jupyter-widgets/controls",
      "_model_module_version": "1.5.0",
      "_model_name": "DescriptionStyleModel",
      "_view_count": null,
      "_view_module": "@jupyter-widgets/base",
      "_view_module_version": "1.2.0",
      "_view_name": "StyleView",
      "description_width": ""
     }
    },
    "d2c8c1ee88d044b4b0aa98a221a3a839": {
     "model_module": "@jupyter-widgets/base",
     "model_name": "LayoutModel",
     "model_module_version": "1.2.0",
     "state": {
      "_model_module": "@jupyter-widgets/base",
      "_model_module_version": "1.2.0",
      "_model_name": "LayoutModel",
      "_view_count": null,
      "_view_module": "@jupyter-widgets/base",
      "_view_module_version": "1.2.0",
      "_view_name": "LayoutView",
      "align_content": null,
      "align_items": null,
      "align_self": null,
      "border": null,
      "bottom": null,
      "display": null,
      "flex": null,
      "flex_flow": null,
      "grid_area": null,
      "grid_auto_columns": null,
      "grid_auto_flow": null,
      "grid_auto_rows": null,
      "grid_column": null,
      "grid_gap": null,
      "grid_row": null,
      "grid_template_areas": null,
      "grid_template_columns": null,
      "grid_template_rows": null,
      "height": null,
      "justify_content": null,
      "justify_items": null,
      "left": null,
      "margin": null,
      "max_height": null,
      "max_width": null,
      "min_height": null,
      "min_width": null,
      "object_fit": null,
      "object_position": null,
      "order": null,
      "overflow": null,
      "overflow_x": null,
      "overflow_y": null,
      "padding": null,
      "right": null,
      "top": null,
      "visibility": null,
      "width": null
     }
    },
    "8e10a6958ba34853abe3221c9d2efb9f": {
     "model_module": "@jupyter-widgets/controls",
     "model_name": "ProgressStyleModel",
     "model_module_version": "1.5.0",
     "state": {
      "_model_module": "@jupyter-widgets/controls",
      "_model_module_version": "1.5.0",
      "_model_name": "ProgressStyleModel",
      "_view_count": null,
      "_view_module": "@jupyter-widgets/base",
      "_view_module_version": "1.2.0",
      "_view_name": "StyleView",
      "bar_color": null,
      "description_width": ""
     }
    },
    "71d93b21192b408eb4160aad368e8341": {
     "model_module": "@jupyter-widgets/base",
     "model_name": "LayoutModel",
     "model_module_version": "1.2.0",
     "state": {
      "_model_module": "@jupyter-widgets/base",
      "_model_module_version": "1.2.0",
      "_model_name": "LayoutModel",
      "_view_count": null,
      "_view_module": "@jupyter-widgets/base",
      "_view_module_version": "1.2.0",
      "_view_name": "LayoutView",
      "align_content": null,
      "align_items": null,
      "align_self": null,
      "border": null,
      "bottom": null,
      "display": null,
      "flex": null,
      "flex_flow": null,
      "grid_area": null,
      "grid_auto_columns": null,
      "grid_auto_flow": null,
      "grid_auto_rows": null,
      "grid_column": null,
      "grid_gap": null,
      "grid_row": null,
      "grid_template_areas": null,
      "grid_template_columns": null,
      "grid_template_rows": null,
      "height": null,
      "justify_content": null,
      "justify_items": null,
      "left": null,
      "margin": null,
      "max_height": null,
      "max_width": null,
      "min_height": null,
      "min_width": null,
      "object_fit": null,
      "object_position": null,
      "order": null,
      "overflow": null,
      "overflow_x": null,
      "overflow_y": null,
      "padding": null,
      "right": null,
      "top": null,
      "visibility": null,
      "width": null
     }
    },
    "3373eefba7bc480c870dffcc7c0c76a5": {
     "model_module": "@jupyter-widgets/controls",
     "model_name": "DescriptionStyleModel",
     "model_module_version": "1.5.0",
     "state": {
      "_model_module": "@jupyter-widgets/controls",
      "_model_module_version": "1.5.0",
      "_model_name": "DescriptionStyleModel",
      "_view_count": null,
      "_view_module": "@jupyter-widgets/base",
      "_view_module_version": "1.2.0",
      "_view_name": "StyleView",
      "description_width": ""
     }
    },
    "f4374224d0464cf29a95e6c6fe59afa2": {
     "model_module": "@jupyter-widgets/controls",
     "model_name": "HBoxModel",
     "model_module_version": "1.5.0",
     "state": {
      "_dom_classes": [],
      "_model_module": "@jupyter-widgets/controls",
      "_model_module_version": "1.5.0",
      "_model_name": "HBoxModel",
      "_view_count": null,
      "_view_module": "@jupyter-widgets/controls",
      "_view_module_version": "1.5.0",
      "_view_name": "HBoxView",
      "box_style": "",
      "children": [
       "IPY_MODEL_54d2bf64f7314420b6a8478485efe34e",
       "IPY_MODEL_3d44a3a6a5af487b9d7f47999ee9ded9",
       "IPY_MODEL_37223277179f487b837ce13db28e41c3"
      ],
      "layout": "IPY_MODEL_6e70fcf1370f4a20bec5776cfcb25eb2"
     }
    },
    "54d2bf64f7314420b6a8478485efe34e": {
     "model_module": "@jupyter-widgets/controls",
     "model_name": "HTMLModel",
     "model_module_version": "1.5.0",
     "state": {
      "_dom_classes": [],
      "_model_module": "@jupyter-widgets/controls",
      "_model_module_version": "1.5.0",
      "_model_name": "HTMLModel",
      "_view_count": null,
      "_view_module": "@jupyter-widgets/controls",
      "_view_module_version": "1.5.0",
      "_view_name": "HTMLView",
      "description": "",
      "description_tooltip": null,
      "layout": "IPY_MODEL_07fe8db9119b4393a9d712e950e51fc9",
      "placeholder": "​",
      "style": "IPY_MODEL_59ebcbef69f34c53b1097e76e4395df5",
      "value": "monthly files to download: "
     }
    },
    "3d44a3a6a5af487b9d7f47999ee9ded9": {
     "model_module": "@jupyter-widgets/controls",
     "model_name": "FloatProgressModel",
     "model_module_version": "1.5.0",
     "state": {
      "_dom_classes": [],
      "_model_module": "@jupyter-widgets/controls",
      "_model_module_version": "1.5.0",
      "_model_name": "FloatProgressModel",
      "_view_count": null,
      "_view_module": "@jupyter-widgets/controls",
      "_view_module_version": "1.5.0",
      "_view_name": "ProgressView",
      "bar_style": "info",
      "description": "",
      "description_tooltip": null,
      "layout": "IPY_MODEL_fea07322c08d4b6bab4ef926a5be8c41",
      "max": 1,
      "min": 0,
      "orientation": "horizontal",
      "style": "IPY_MODEL_30338d5f659e49518b0bd7614fa88825",
      "value": 0
     }
    },
    "37223277179f487b837ce13db28e41c3": {
     "model_module": "@jupyter-widgets/controls",
     "model_name": "HTMLModel",
     "model_module_version": "1.5.0",
     "state": {
      "_dom_classes": [],
      "_model_module": "@jupyter-widgets/controls",
      "_model_module_version": "1.5.0",
      "_model_name": "HTMLModel",
      "_view_count": null,
      "_view_module": "@jupyter-widgets/controls",
      "_view_module_version": "1.5.0",
      "_view_name": "HTMLView",
      "description": "",
      "description_tooltip": null,
      "layout": "IPY_MODEL_9d3991c4adec41e8843941b797537d0f",
      "placeholder": "​",
      "style": "IPY_MODEL_22589f85bbba42698003a58b80bfe4b9",
      "value": " 0/0 [00:00&lt;?, ?files/s]"
     }
    },
    "6e70fcf1370f4a20bec5776cfcb25eb2": {
     "model_module": "@jupyter-widgets/base",
     "model_name": "LayoutModel",
     "model_module_version": "1.2.0",
     "state": {
      "_model_module": "@jupyter-widgets/base",
      "_model_module_version": "1.2.0",
      "_model_name": "LayoutModel",
      "_view_count": null,
      "_view_module": "@jupyter-widgets/base",
      "_view_module_version": "1.2.0",
      "_view_name": "LayoutView",
      "align_content": null,
      "align_items": null,
      "align_self": null,
      "border": null,
      "bottom": null,
      "display": null,
      "flex": null,
      "flex_flow": null,
      "grid_area": null,
      "grid_auto_columns": null,
      "grid_auto_flow": null,
      "grid_auto_rows": null,
      "grid_column": null,
      "grid_gap": null,
      "grid_row": null,
      "grid_template_areas": null,
      "grid_template_columns": null,
      "grid_template_rows": null,
      "height": null,
      "justify_content": null,
      "justify_items": null,
      "left": null,
      "margin": null,
      "max_height": null,
      "max_width": null,
      "min_height": null,
      "min_width": null,
      "object_fit": null,
      "object_position": null,
      "order": null,
      "overflow": null,
      "overflow_x": null,
      "overflow_y": null,
      "padding": null,
      "right": null,
      "top": null,
      "visibility": "hidden",
      "width": null
     }
    },
    "07fe8db9119b4393a9d712e950e51fc9": {
     "model_module": "@jupyter-widgets/base",
     "model_name": "LayoutModel",
     "model_module_version": "1.2.0",
     "state": {
      "_model_module": "@jupyter-widgets/base",
      "_model_module_version": "1.2.0",
      "_model_name": "LayoutModel",
      "_view_count": null,
      "_view_module": "@jupyter-widgets/base",
      "_view_module_version": "1.2.0",
      "_view_name": "LayoutView",
      "align_content": null,
      "align_items": null,
      "align_self": null,
      "border": null,
      "bottom": null,
      "display": null,
      "flex": null,
      "flex_flow": null,
      "grid_area": null,
      "grid_auto_columns": null,
      "grid_auto_flow": null,
      "grid_auto_rows": null,
      "grid_column": null,
      "grid_gap": null,
      "grid_row": null,
      "grid_template_areas": null,
      "grid_template_columns": null,
      "grid_template_rows": null,
      "height": null,
      "justify_content": null,
      "justify_items": null,
      "left": null,
      "margin": null,
      "max_height": null,
      "max_width": null,
      "min_height": null,
      "min_width": null,
      "object_fit": null,
      "object_position": null,
      "order": null,
      "overflow": null,
      "overflow_x": null,
      "overflow_y": null,
      "padding": null,
      "right": null,
      "top": null,
      "visibility": null,
      "width": null
     }
    },
    "59ebcbef69f34c53b1097e76e4395df5": {
     "model_module": "@jupyter-widgets/controls",
     "model_name": "DescriptionStyleModel",
     "model_module_version": "1.5.0",
     "state": {
      "_model_module": "@jupyter-widgets/controls",
      "_model_module_version": "1.5.0",
      "_model_name": "DescriptionStyleModel",
      "_view_count": null,
      "_view_module": "@jupyter-widgets/base",
      "_view_module_version": "1.2.0",
      "_view_name": "StyleView",
      "description_width": ""
     }
    },
    "fea07322c08d4b6bab4ef926a5be8c41": {
     "model_module": "@jupyter-widgets/base",
     "model_name": "LayoutModel",
     "model_module_version": "1.2.0",
     "state": {
      "_model_module": "@jupyter-widgets/base",
      "_model_module_version": "1.2.0",
      "_model_name": "LayoutModel",
      "_view_count": null,
      "_view_module": "@jupyter-widgets/base",
      "_view_module_version": "1.2.0",
      "_view_name": "LayoutView",
      "align_content": null,
      "align_items": null,
      "align_self": null,
      "border": null,
      "bottom": null,
      "display": null,
      "flex": null,
      "flex_flow": null,
      "grid_area": null,
      "grid_auto_columns": null,
      "grid_auto_flow": null,
      "grid_auto_rows": null,
      "grid_column": null,
      "grid_gap": null,
      "grid_row": null,
      "grid_template_areas": null,
      "grid_template_columns": null,
      "grid_template_rows": null,
      "height": null,
      "justify_content": null,
      "justify_items": null,
      "left": null,
      "margin": null,
      "max_height": null,
      "max_width": null,
      "min_height": null,
      "min_width": null,
      "object_fit": null,
      "object_position": null,
      "order": null,
      "overflow": null,
      "overflow_x": null,
      "overflow_y": null,
      "padding": null,
      "right": null,
      "top": null,
      "visibility": null,
      "width": "20px"
     }
    },
    "30338d5f659e49518b0bd7614fa88825": {
     "model_module": "@jupyter-widgets/controls",
     "model_name": "ProgressStyleModel",
     "model_module_version": "1.5.0",
     "state": {
      "_model_module": "@jupyter-widgets/controls",
      "_model_module_version": "1.5.0",
      "_model_name": "ProgressStyleModel",
      "_view_count": null,
      "_view_module": "@jupyter-widgets/base",
      "_view_module_version": "1.2.0",
      "_view_name": "StyleView",
      "bar_color": null,
      "description_width": ""
     }
    },
    "9d3991c4adec41e8843941b797537d0f": {
     "model_module": "@jupyter-widgets/base",
     "model_name": "LayoutModel",
     "model_module_version": "1.2.0",
     "state": {
      "_model_module": "@jupyter-widgets/base",
      "_model_module_version": "1.2.0",
      "_model_name": "LayoutModel",
      "_view_count": null,
      "_view_module": "@jupyter-widgets/base",
      "_view_module_version": "1.2.0",
      "_view_name": "LayoutView",
      "align_content": null,
      "align_items": null,
      "align_self": null,
      "border": null,
      "bottom": null,
      "display": null,
      "flex": null,
      "flex_flow": null,
      "grid_area": null,
      "grid_auto_columns": null,
      "grid_auto_flow": null,
      "grid_auto_rows": null,
      "grid_column": null,
      "grid_gap": null,
      "grid_row": null,
      "grid_template_areas": null,
      "grid_template_columns": null,
      "grid_template_rows": null,
      "height": null,
      "justify_content": null,
      "justify_items": null,
      "left": null,
      "margin": null,
      "max_height": null,
      "max_width": null,
      "min_height": null,
      "min_width": null,
      "object_fit": null,
      "object_position": null,
      "order": null,
      "overflow": null,
      "overflow_x": null,
      "overflow_y": null,
      "padding": null,
      "right": null,
      "top": null,
      "visibility": null,
      "width": null
     }
    },
    "22589f85bbba42698003a58b80bfe4b9": {
     "model_module": "@jupyter-widgets/controls",
     "model_name": "DescriptionStyleModel",
     "model_module_version": "1.5.0",
     "state": {
      "_model_module": "@jupyter-widgets/controls",
      "_model_module_version": "1.5.0",
      "_model_name": "DescriptionStyleModel",
      "_view_count": null,
      "_view_module": "@jupyter-widgets/base",
      "_view_module_version": "1.2.0",
      "_view_name": "StyleView",
      "description_width": ""
     }
    },
    "daaacff4c70c47a493d71083333bfac8": {
     "model_module": "@jupyter-widgets/controls",
     "model_name": "HBoxModel",
     "model_module_version": "1.5.0",
     "state": {
      "_dom_classes": [],
      "_model_module": "@jupyter-widgets/controls",
      "_model_module_version": "1.5.0",
      "_model_name": "HBoxModel",
      "_view_count": null,
      "_view_module": "@jupyter-widgets/controls",
      "_view_module_version": "1.5.0",
      "_view_name": "HBoxView",
      "box_style": "",
      "children": [
       "IPY_MODEL_301e182d105e49ab89746cdf15e7b998",
       "IPY_MODEL_00ae5f7622304c9ba60b104df9b5ac33",
       "IPY_MODEL_a38d528ec7f24938ad061d9d1b9bfc8c"
      ],
      "layout": "IPY_MODEL_b1fa0af185c0421aa0fb0bc7fa5ea29a"
     }
    },
    "301e182d105e49ab89746cdf15e7b998": {
     "model_module": "@jupyter-widgets/controls",
     "model_name": "HTMLModel",
     "model_module_version": "1.5.0",
     "state": {
      "_dom_classes": [],
      "_model_module": "@jupyter-widgets/controls",
      "_model_module_version": "1.5.0",
      "_model_name": "HTMLModel",
      "_view_count": null,
      "_view_module": "@jupyter-widgets/controls",
      "_view_module_version": "1.5.0",
      "_view_name": "HTMLView",
      "description": "",
      "description_tooltip": null,
      "layout": "IPY_MODEL_3998dd6c85bb4724b9cd49a4d7fe92b6",
      "placeholder": "​",
      "style": "IPY_MODEL_7e597bbd90c74c5ca02e3decaaf7906d",
      "value": "daily files to download: "
     }
    },
    "00ae5f7622304c9ba60b104df9b5ac33": {
     "model_module": "@jupyter-widgets/controls",
     "model_name": "FloatProgressModel",
     "model_module_version": "1.5.0",
     "state": {
      "_dom_classes": [],
      "_model_module": "@jupyter-widgets/controls",
      "_model_module_version": "1.5.0",
      "_model_name": "FloatProgressModel",
      "_view_count": null,
      "_view_module": "@jupyter-widgets/controls",
      "_view_module_version": "1.5.0",
      "_view_name": "ProgressView",
      "bar_style": "info",
      "description": "",
      "description_tooltip": null,
      "layout": "IPY_MODEL_6073ffb187b247b8ab1c2fe80190807c",
      "max": 1,
      "min": 0,
      "orientation": "horizontal",
      "style": "IPY_MODEL_16cb609f28e1440ebef5b4196c288beb",
      "value": 0
     }
    },
    "a38d528ec7f24938ad061d9d1b9bfc8c": {
     "model_module": "@jupyter-widgets/controls",
     "model_name": "HTMLModel",
     "model_module_version": "1.5.0",
     "state": {
      "_dom_classes": [],
      "_model_module": "@jupyter-widgets/controls",
      "_model_module_version": "1.5.0",
      "_model_name": "HTMLModel",
      "_view_count": null,
      "_view_module": "@jupyter-widgets/controls",
      "_view_module_version": "1.5.0",
      "_view_name": "HTMLView",
      "description": "",
      "description_tooltip": null,
      "layout": "IPY_MODEL_53388c4a852447b6a08f7a146b489409",
      "placeholder": "​",
      "style": "IPY_MODEL_ec819a7e4d2e4c52a1828ff01f1d5836",
      "value": " 0/0 [00:00&lt;?, ?files/s]"
     }
    },
    "b1fa0af185c0421aa0fb0bc7fa5ea29a": {
     "model_module": "@jupyter-widgets/base",
     "model_name": "LayoutModel",
     "model_module_version": "1.2.0",
     "state": {
      "_model_module": "@jupyter-widgets/base",
      "_model_module_version": "1.2.0",
      "_model_name": "LayoutModel",
      "_view_count": null,
      "_view_module": "@jupyter-widgets/base",
      "_view_module_version": "1.2.0",
      "_view_name": "LayoutView",
      "align_content": null,
      "align_items": null,
      "align_self": null,
      "border": null,
      "bottom": null,
      "display": null,
      "flex": null,
      "flex_flow": null,
      "grid_area": null,
      "grid_auto_columns": null,
      "grid_auto_flow": null,
      "grid_auto_rows": null,
      "grid_column": null,
      "grid_gap": null,
      "grid_row": null,
      "grid_template_areas": null,
      "grid_template_columns": null,
      "grid_template_rows": null,
      "height": null,
      "justify_content": null,
      "justify_items": null,
      "left": null,
      "margin": null,
      "max_height": null,
      "max_width": null,
      "min_height": null,
      "min_width": null,
      "object_fit": null,
      "object_position": null,
      "order": null,
      "overflow": null,
      "overflow_x": null,
      "overflow_y": null,
      "padding": null,
      "right": null,
      "top": null,
      "visibility": "hidden",
      "width": null
     }
    },
    "3998dd6c85bb4724b9cd49a4d7fe92b6": {
     "model_module": "@jupyter-widgets/base",
     "model_name": "LayoutModel",
     "model_module_version": "1.2.0",
     "state": {
      "_model_module": "@jupyter-widgets/base",
      "_model_module_version": "1.2.0",
      "_model_name": "LayoutModel",
      "_view_count": null,
      "_view_module": "@jupyter-widgets/base",
      "_view_module_version": "1.2.0",
      "_view_name": "LayoutView",
      "align_content": null,
      "align_items": null,
      "align_self": null,
      "border": null,
      "bottom": null,
      "display": null,
      "flex": null,
      "flex_flow": null,
      "grid_area": null,
      "grid_auto_columns": null,
      "grid_auto_flow": null,
      "grid_auto_rows": null,
      "grid_column": null,
      "grid_gap": null,
      "grid_row": null,
      "grid_template_areas": null,
      "grid_template_columns": null,
      "grid_template_rows": null,
      "height": null,
      "justify_content": null,
      "justify_items": null,
      "left": null,
      "margin": null,
      "max_height": null,
      "max_width": null,
      "min_height": null,
      "min_width": null,
      "object_fit": null,
      "object_position": null,
      "order": null,
      "overflow": null,
      "overflow_x": null,
      "overflow_y": null,
      "padding": null,
      "right": null,
      "top": null,
      "visibility": null,
      "width": null
     }
    },
    "7e597bbd90c74c5ca02e3decaaf7906d": {
     "model_module": "@jupyter-widgets/controls",
     "model_name": "DescriptionStyleModel",
     "model_module_version": "1.5.0",
     "state": {
      "_model_module": "@jupyter-widgets/controls",
      "_model_module_version": "1.5.0",
      "_model_name": "DescriptionStyleModel",
      "_view_count": null,
      "_view_module": "@jupyter-widgets/base",
      "_view_module_version": "1.2.0",
      "_view_name": "StyleView",
      "description_width": ""
     }
    },
    "6073ffb187b247b8ab1c2fe80190807c": {
     "model_module": "@jupyter-widgets/base",
     "model_name": "LayoutModel",
     "model_module_version": "1.2.0",
     "state": {
      "_model_module": "@jupyter-widgets/base",
      "_model_module_version": "1.2.0",
      "_model_name": "LayoutModel",
      "_view_count": null,
      "_view_module": "@jupyter-widgets/base",
      "_view_module_version": "1.2.0",
      "_view_name": "LayoutView",
      "align_content": null,
      "align_items": null,
      "align_self": null,
      "border": null,
      "bottom": null,
      "display": null,
      "flex": null,
      "flex_flow": null,
      "grid_area": null,
      "grid_auto_columns": null,
      "grid_auto_flow": null,
      "grid_auto_rows": null,
      "grid_column": null,
      "grid_gap": null,
      "grid_row": null,
      "grid_template_areas": null,
      "grid_template_columns": null,
      "grid_template_rows": null,
      "height": null,
      "justify_content": null,
      "justify_items": null,
      "left": null,
      "margin": null,
      "max_height": null,
      "max_width": null,
      "min_height": null,
      "min_width": null,
      "object_fit": null,
      "object_position": null,
      "order": null,
      "overflow": null,
      "overflow_x": null,
      "overflow_y": null,
      "padding": null,
      "right": null,
      "top": null,
      "visibility": null,
      "width": "20px"
     }
    },
    "16cb609f28e1440ebef5b4196c288beb": {
     "model_module": "@jupyter-widgets/controls",
     "model_name": "ProgressStyleModel",
     "model_module_version": "1.5.0",
     "state": {
      "_model_module": "@jupyter-widgets/controls",
      "_model_module_version": "1.5.0",
      "_model_name": "ProgressStyleModel",
      "_view_count": null,
      "_view_module": "@jupyter-widgets/base",
      "_view_module_version": "1.2.0",
      "_view_name": "StyleView",
      "bar_color": null,
      "description_width": ""
     }
    },
    "53388c4a852447b6a08f7a146b489409": {
     "model_module": "@jupyter-widgets/base",
     "model_name": "LayoutModel",
     "model_module_version": "1.2.0",
     "state": {
      "_model_module": "@jupyter-widgets/base",
      "_model_module_version": "1.2.0",
      "_model_name": "LayoutModel",
      "_view_count": null,
      "_view_module": "@jupyter-widgets/base",
      "_view_module_version": "1.2.0",
      "_view_name": "LayoutView",
      "align_content": null,
      "align_items": null,
      "align_self": null,
      "border": null,
      "bottom": null,
      "display": null,
      "flex": null,
      "flex_flow": null,
      "grid_area": null,
      "grid_auto_columns": null,
      "grid_auto_flow": null,
      "grid_auto_rows": null,
      "grid_column": null,
      "grid_gap": null,
      "grid_row": null,
      "grid_template_areas": null,
      "grid_template_columns": null,
      "grid_template_rows": null,
      "height": null,
      "justify_content": null,
      "justify_items": null,
      "left": null,
      "margin": null,
      "max_height": null,
      "max_width": null,
      "min_height": null,
      "min_width": null,
      "object_fit": null,
      "object_position": null,
      "order": null,
      "overflow": null,
      "overflow_x": null,
      "overflow_y": null,
      "padding": null,
      "right": null,
      "top": null,
      "visibility": null,
      "width": null
     }
    },
    "ec819a7e4d2e4c52a1828ff01f1d5836": {
     "model_module": "@jupyter-widgets/controls",
     "model_name": "DescriptionStyleModel",
     "model_module_version": "1.5.0",
     "state": {
      "_model_module": "@jupyter-widgets/controls",
      "_model_module_version": "1.5.0",
      "_model_name": "DescriptionStyleModel",
      "_view_count": null,
      "_view_module": "@jupyter-widgets/base",
      "_view_module_version": "1.2.0",
      "_view_name": "StyleView",
      "description_width": ""
     }
    }
   }
  }
 },
 "cells": [
  {
   "cell_type": "code",
   "execution_count": 21,
   "outputs": [
    {
     "name": "stdout",
     "output_type": "stream",
     "text": [
      "Requirement already satisfied: binance_historical_data in ./venv/lib/python3.10/site-packages (0.1.13)\r\n",
      "Requirement already satisfied: mplfinance in ./venv/lib/python3.10/site-packages (0.12.10b0)\r\n",
      "Requirement already satisfied: darts in ./venv/lib/python3.10/site-packages (0.25.0)\r\n",
      "Requirement already satisfied: char<0.2.0,>=0.1.2 in ./venv/lib/python3.10/site-packages (from binance_historical_data) (0.1.2)\r\n",
      "Requirement already satisfied: ipywidgets<8.0.0,>=7.6.5 in ./venv/lib/python3.10/site-packages (from binance_historical_data) (7.8.0)\r\n",
      "Requirement already satisfied: mpire<3.0.0,>=2.3.3 in ./venv/lib/python3.10/site-packages (from binance_historical_data) (2.8.0)\r\n",
      "Requirement already satisfied: tqdm<5.0.0,>=4.62.3 in ./venv/lib/python3.10/site-packages (from binance_historical_data) (4.66.1)\r\n",
      "Requirement already satisfied: matplotlib in ./venv/lib/python3.10/site-packages (from mplfinance) (3.7.2)\r\n",
      "Requirement already satisfied: pandas in ./venv/lib/python3.10/site-packages (from mplfinance) (2.1.0)\r\n",
      "Requirement already satisfied: holidays>=0.11.1 in ./venv/lib/python3.10/site-packages (from darts) (0.31)\r\n",
      "Requirement already satisfied: joblib>=0.16.0 in ./venv/lib/python3.10/site-packages (from darts) (1.3.2)\r\n",
      "Requirement already satisfied: nfoursid>=1.0.0 in ./venv/lib/python3.10/site-packages (from darts) (1.0.1)\r\n",
      "Requirement already satisfied: numpy>=1.19.0 in ./venv/lib/python3.10/site-packages (from darts) (1.24.4)\r\n",
      "Requirement already satisfied: pmdarima>=1.8.0 in ./venv/lib/python3.10/site-packages (from darts) (2.0.3)\r\n",
      "Requirement already satisfied: pyod>=0.9.5 in ./venv/lib/python3.10/site-packages (from darts) (1.1.0)\r\n",
      "Requirement already satisfied: requests>=2.22.0 in ./venv/lib/python3.10/site-packages (from darts) (2.31.0)\r\n",
      "Requirement already satisfied: scikit-learn>=1.0.1 in ./venv/lib/python3.10/site-packages (from darts) (1.3.0)\r\n",
      "Requirement already satisfied: scipy>=1.3.2 in ./venv/lib/python3.10/site-packages (from darts) (1.11.2)\r\n",
      "Requirement already satisfied: shap>=0.40.0 in ./venv/lib/python3.10/site-packages (from darts) (0.42.1)\r\n",
      "Requirement already satisfied: statsforecast>=1.4 in ./venv/lib/python3.10/site-packages (from darts) (1.6.0)\r\n",
      "Requirement already satisfied: statsmodels>=0.14.0 in ./venv/lib/python3.10/site-packages (from darts) (0.14.0)\r\n",
      "Requirement already satisfied: tbats>=1.1.0 in ./venv/lib/python3.10/site-packages (from darts) (1.1.3)\r\n",
      "Requirement already satisfied: typing-extensions in ./venv/lib/python3.10/site-packages (from darts) (4.7.1)\r\n",
      "Requirement already satisfied: xarray>=0.17.0 in ./venv/lib/python3.10/site-packages (from darts) (2023.8.0)\r\n",
      "Requirement already satisfied: xgboost>=1.6.0 in ./venv/lib/python3.10/site-packages (from darts) (1.7.6)\r\n",
      "Requirement already satisfied: pytorch-lightning>=1.5.0 in ./venv/lib/python3.10/site-packages (from darts) (2.0.7)\r\n",
      "Requirement already satisfied: tensorboardX>=2.1 in ./venv/lib/python3.10/site-packages (from darts) (2.6.2.2)\r\n",
      "Requirement already satisfied: torch>=1.8.0 in ./venv/lib/python3.10/site-packages (from darts) (2.0.1)\r\n",
      "Requirement already satisfied: python-dateutil in ./venv/lib/python3.10/site-packages (from holidays>=0.11.1->darts) (2.8.2)\r\n",
      "Requirement already satisfied: comm>=0.1.3 in ./venv/lib/python3.10/site-packages (from ipywidgets<8.0.0,>=7.6.5->binance_historical_data) (0.1.4)\r\n",
      "Requirement already satisfied: ipython-genutils~=0.2.0 in ./venv/lib/python3.10/site-packages (from ipywidgets<8.0.0,>=7.6.5->binance_historical_data) (0.2.0)\r\n",
      "Requirement already satisfied: traitlets>=4.3.1 in ./venv/lib/python3.10/site-packages (from ipywidgets<8.0.0,>=7.6.5->binance_historical_data) (5.9.0)\r\n",
      "Requirement already satisfied: widgetsnbextension~=3.6.5 in ./venv/lib/python3.10/site-packages (from ipywidgets<8.0.0,>=7.6.5->binance_historical_data) (3.6.5)\r\n",
      "Requirement already satisfied: ipython>=4.0.0 in ./venv/lib/python3.10/site-packages (from ipywidgets<8.0.0,>=7.6.5->binance_historical_data) (8.14.0)\r\n",
      "Requirement already satisfied: jupyterlab-widgets<3,>=1.0.0 in ./venv/lib/python3.10/site-packages (from ipywidgets<8.0.0,>=7.6.5->binance_historical_data) (1.1.5)\r\n",
      "Requirement already satisfied: contourpy>=1.0.1 in ./venv/lib/python3.10/site-packages (from matplotlib->mplfinance) (1.1.0)\r\n",
      "Requirement already satisfied: cycler>=0.10 in ./venv/lib/python3.10/site-packages (from matplotlib->mplfinance) (0.11.0)\r\n",
      "Requirement already satisfied: fonttools>=4.22.0 in ./venv/lib/python3.10/site-packages (from matplotlib->mplfinance) (4.42.1)\r\n",
      "Requirement already satisfied: kiwisolver>=1.0.1 in ./venv/lib/python3.10/site-packages (from matplotlib->mplfinance) (1.4.5)\r\n",
      "Requirement already satisfied: packaging>=20.0 in ./venv/lib/python3.10/site-packages (from matplotlib->mplfinance) (23.1)\r\n",
      "Requirement already satisfied: pillow>=6.2.0 in ./venv/lib/python3.10/site-packages (from matplotlib->mplfinance) (10.0.0)\r\n",
      "Requirement already satisfied: pyparsing<3.1,>=2.3.1 in ./venv/lib/python3.10/site-packages (from matplotlib->mplfinance) (3.0.9)\r\n",
      "Requirement already satisfied: pygments>=2.0 in ./venv/lib/python3.10/site-packages (from mpire<3.0.0,>=2.3.3->binance_historical_data) (2.16.1)\r\n",
      "Requirement already satisfied: pytz>=2020.1 in ./venv/lib/python3.10/site-packages (from pandas->mplfinance) (2023.3)\r\n",
      "Requirement already satisfied: tzdata>=2022.1 in ./venv/lib/python3.10/site-packages (from pandas->mplfinance) (2023.3)\r\n",
      "Requirement already satisfied: Cython!=0.29.18,!=0.29.31,>=0.29 in ./venv/lib/python3.10/site-packages (from pmdarima>=1.8.0->darts) (3.0.2)\r\n",
      "Requirement already satisfied: urllib3 in ./venv/lib/python3.10/site-packages (from pmdarima>=1.8.0->darts) (1.26.16)\r\n",
      "Requirement already satisfied: setuptools!=50.0.0,>=38.6.0 in ./venv/lib/python3.10/site-packages (from pmdarima>=1.8.0->darts) (67.7.2)\r\n",
      "Requirement already satisfied: numba>=0.51 in ./venv/lib/python3.10/site-packages (from pyod>=0.9.5->darts) (0.57.1)\r\n",
      "Requirement already satisfied: six in ./venv/lib/python3.10/site-packages (from pyod>=0.9.5->darts) (1.16.0)\r\n",
      "Requirement already satisfied: PyYAML>=5.4 in ./venv/lib/python3.10/site-packages (from pytorch-lightning>=1.5.0->darts) (6.0.1)\r\n",
      "Requirement already satisfied: fsspec[http]>2021.06.0 in ./venv/lib/python3.10/site-packages (from pytorch-lightning>=1.5.0->darts) (2023.6.0)\r\n",
      "Requirement already satisfied: torchmetrics>=0.7.0 in ./venv/lib/python3.10/site-packages (from pytorch-lightning>=1.5.0->darts) (1.1.1)\r\n",
      "Requirement already satisfied: lightning-utilities>=0.7.0 in ./venv/lib/python3.10/site-packages (from pytorch-lightning>=1.5.0->darts) (0.9.0)\r\n",
      "Requirement already satisfied: charset-normalizer<4,>=2 in ./venv/lib/python3.10/site-packages (from requests>=2.22.0->darts) (3.2.0)\r\n",
      "Requirement already satisfied: idna<4,>=2.5 in ./venv/lib/python3.10/site-packages (from requests>=2.22.0->darts) (3.4)\r\n",
      "Requirement already satisfied: certifi>=2017.4.17 in ./venv/lib/python3.10/site-packages (from requests>=2.22.0->darts) (2023.7.22)\r\n",
      "Requirement already satisfied: threadpoolctl>=2.0.0 in ./venv/lib/python3.10/site-packages (from scikit-learn>=1.0.1->darts) (3.2.0)\r\n",
      "Requirement already satisfied: slicer==0.0.7 in ./venv/lib/python3.10/site-packages (from shap>=0.40.0->darts) (0.0.7)\r\n",
      "Requirement already satisfied: cloudpickle in ./venv/lib/python3.10/site-packages (from shap>=0.40.0->darts) (2.2.1)\r\n",
      "Requirement already satisfied: polars in ./venv/lib/python3.10/site-packages (from statsforecast>=1.4->darts) (0.19.0)\r\n",
      "Requirement already satisfied: fugue>=0.8.1 in ./venv/lib/python3.10/site-packages (from statsforecast>=1.4->darts) (0.8.6)\r\n",
      "Requirement already satisfied: patsy>=0.5.2 in ./venv/lib/python3.10/site-packages (from statsmodels>=0.14.0->darts) (0.5.3)\r\n",
      "Requirement already satisfied: protobuf>=3.20 in ./venv/lib/python3.10/site-packages (from tensorboardX>=2.1->darts) (4.24.2)\r\n",
      "Requirement already satisfied: filelock in ./venv/lib/python3.10/site-packages (from torch>=1.8.0->darts) (3.12.3)\r\n",
      "Requirement already satisfied: sympy in ./venv/lib/python3.10/site-packages (from torch>=1.8.0->darts) (1.12)\r\n",
      "Requirement already satisfied: networkx in ./venv/lib/python3.10/site-packages (from torch>=1.8.0->darts) (3.1)\r\n",
      "Requirement already satisfied: jinja2 in ./venv/lib/python3.10/site-packages (from torch>=1.8.0->darts) (3.1.2)\r\n",
      "Requirement already satisfied: nvidia-cuda-nvrtc-cu11==11.7.99 in ./venv/lib/python3.10/site-packages (from torch>=1.8.0->darts) (11.7.99)\r\n",
      "Requirement already satisfied: nvidia-cuda-runtime-cu11==11.7.99 in ./venv/lib/python3.10/site-packages (from torch>=1.8.0->darts) (11.7.99)\r\n",
      "Requirement already satisfied: nvidia-cuda-cupti-cu11==11.7.101 in ./venv/lib/python3.10/site-packages (from torch>=1.8.0->darts) (11.7.101)\r\n",
      "Requirement already satisfied: nvidia-cudnn-cu11==8.5.0.96 in ./venv/lib/python3.10/site-packages (from torch>=1.8.0->darts) (8.5.0.96)\r\n",
      "Requirement already satisfied: nvidia-cublas-cu11==11.10.3.66 in ./venv/lib/python3.10/site-packages (from torch>=1.8.0->darts) (11.10.3.66)\r\n",
      "Requirement already satisfied: nvidia-cufft-cu11==10.9.0.58 in ./venv/lib/python3.10/site-packages (from torch>=1.8.0->darts) (10.9.0.58)\r\n",
      "Requirement already satisfied: nvidia-curand-cu11==10.2.10.91 in ./venv/lib/python3.10/site-packages (from torch>=1.8.0->darts) (10.2.10.91)\r\n",
      "Requirement already satisfied: nvidia-cusolver-cu11==11.4.0.1 in ./venv/lib/python3.10/site-packages (from torch>=1.8.0->darts) (11.4.0.1)\r\n",
      "Requirement already satisfied: nvidia-cusparse-cu11==11.7.4.91 in ./venv/lib/python3.10/site-packages (from torch>=1.8.0->darts) (11.7.4.91)\r\n",
      "Requirement already satisfied: nvidia-nccl-cu11==2.14.3 in ./venv/lib/python3.10/site-packages (from torch>=1.8.0->darts) (2.14.3)\r\n",
      "Requirement already satisfied: nvidia-nvtx-cu11==11.7.91 in ./venv/lib/python3.10/site-packages (from torch>=1.8.0->darts) (11.7.91)\r\n",
      "Requirement already satisfied: triton==2.0.0 in ./venv/lib/python3.10/site-packages (from torch>=1.8.0->darts) (2.0.0)\r\n",
      "Requirement already satisfied: wheel in ./venv/lib/python3.10/site-packages (from nvidia-cublas-cu11==11.10.3.66->torch>=1.8.0->darts) (0.40.0)\r\n",
      "Requirement already satisfied: cmake in ./venv/lib/python3.10/site-packages (from triton==2.0.0->torch>=1.8.0->darts) (3.27.2)\r\n",
      "Requirement already satisfied: lit in ./venv/lib/python3.10/site-packages (from triton==2.0.0->torch>=1.8.0->darts) (16.0.6)\r\n",
      "Requirement already satisfied: aiohttp!=4.0.0a0,!=4.0.0a1 in ./venv/lib/python3.10/site-packages (from fsspec[http]>2021.06.0->pytorch-lightning>=1.5.0->darts) (3.8.5)\r\n",
      "Requirement already satisfied: triad>=0.9.1 in ./venv/lib/python3.10/site-packages (from fugue>=0.8.1->statsforecast>=1.4->darts) (0.9.1)\r\n",
      "Requirement already satisfied: adagio>=0.2.4 in ./venv/lib/python3.10/site-packages (from fugue>=0.8.1->statsforecast>=1.4->darts) (0.2.4)\r\n",
      "Requirement already satisfied: pyarrow>=0.15.1 in ./venv/lib/python3.10/site-packages (from fugue>=0.8.1->statsforecast>=1.4->darts) (13.0.0)\r\n",
      "Requirement already satisfied: qpd>=0.4.4 in ./venv/lib/python3.10/site-packages (from fugue>=0.8.1->statsforecast>=1.4->darts) (0.4.4)\r\n",
      "Requirement already satisfied: fugue-sql-antlr>=0.1.6 in ./venv/lib/python3.10/site-packages (from fugue>=0.8.1->statsforecast>=1.4->darts) (0.1.6)\r\n",
      "Requirement already satisfied: sqlglot in ./venv/lib/python3.10/site-packages (from fugue>=0.8.1->statsforecast>=1.4->darts) (18.0.0)\r\n",
      "Requirement already satisfied: backcall in ./venv/lib/python3.10/site-packages (from ipython>=4.0.0->ipywidgets<8.0.0,>=7.6.5->binance_historical_data) (0.2.0)\r\n",
      "Requirement already satisfied: decorator in ./venv/lib/python3.10/site-packages (from ipython>=4.0.0->ipywidgets<8.0.0,>=7.6.5->binance_historical_data) (5.1.1)\r\n",
      "Requirement already satisfied: jedi>=0.16 in ./venv/lib/python3.10/site-packages (from ipython>=4.0.0->ipywidgets<8.0.0,>=7.6.5->binance_historical_data) (0.19.0)\r\n",
      "Requirement already satisfied: matplotlib-inline in ./venv/lib/python3.10/site-packages (from ipython>=4.0.0->ipywidgets<8.0.0,>=7.6.5->binance_historical_data) (0.1.6)\r\n",
      "Requirement already satisfied: pickleshare in ./venv/lib/python3.10/site-packages (from ipython>=4.0.0->ipywidgets<8.0.0,>=7.6.5->binance_historical_data) (0.7.5)\r\n",
      "Requirement already satisfied: prompt-toolkit!=3.0.37,<3.1.0,>=3.0.30 in ./venv/lib/python3.10/site-packages (from ipython>=4.0.0->ipywidgets<8.0.0,>=7.6.5->binance_historical_data) (3.0.39)\r\n",
      "Requirement already satisfied: stack-data in ./venv/lib/python3.10/site-packages (from ipython>=4.0.0->ipywidgets<8.0.0,>=7.6.5->binance_historical_data) (0.6.2)\r\n",
      "Requirement already satisfied: pexpect>4.3 in ./venv/lib/python3.10/site-packages (from ipython>=4.0.0->ipywidgets<8.0.0,>=7.6.5->binance_historical_data) (4.8.0)\r\n",
      "Requirement already satisfied: llvmlite<0.41,>=0.40.0dev0 in ./venv/lib/python3.10/site-packages (from numba>=0.51->pyod>=0.9.5->darts) (0.40.1)\r\n",
      "Requirement already satisfied: notebook>=4.4.1 in ./venv/lib/python3.10/site-packages (from widgetsnbextension~=3.6.5->ipywidgets<8.0.0,>=7.6.5->binance_historical_data) (7.0.3)\r\n",
      "Requirement already satisfied: MarkupSafe>=2.0 in ./venv/lib/python3.10/site-packages (from jinja2->torch>=1.8.0->darts) (2.1.3)\r\n",
      "Requirement already satisfied: mpmath>=0.19 in ./venv/lib/python3.10/site-packages (from sympy->torch>=1.8.0->darts) (1.3.0)\r\n",
      "Requirement already satisfied: attrs>=17.3.0 in ./venv/lib/python3.10/site-packages (from aiohttp!=4.0.0a0,!=4.0.0a1->fsspec[http]>2021.06.0->pytorch-lightning>=1.5.0->darts) (23.1.0)\r\n",
      "Requirement already satisfied: multidict<7.0,>=4.5 in ./venv/lib/python3.10/site-packages (from aiohttp!=4.0.0a0,!=4.0.0a1->fsspec[http]>2021.06.0->pytorch-lightning>=1.5.0->darts) (6.0.4)\r\n",
      "Requirement already satisfied: async-timeout<5.0,>=4.0.0a3 in ./venv/lib/python3.10/site-packages (from aiohttp!=4.0.0a0,!=4.0.0a1->fsspec[http]>2021.06.0->pytorch-lightning>=1.5.0->darts) (4.0.3)\r\n",
      "Requirement already satisfied: yarl<2.0,>=1.0 in ./venv/lib/python3.10/site-packages (from aiohttp!=4.0.0a0,!=4.0.0a1->fsspec[http]>2021.06.0->pytorch-lightning>=1.5.0->darts) (1.9.2)\r\n",
      "Requirement already satisfied: frozenlist>=1.1.1 in ./venv/lib/python3.10/site-packages (from aiohttp!=4.0.0a0,!=4.0.0a1->fsspec[http]>2021.06.0->pytorch-lightning>=1.5.0->darts) (1.4.0)\r\n",
      "Requirement already satisfied: aiosignal>=1.1.2 in ./venv/lib/python3.10/site-packages (from aiohttp!=4.0.0a0,!=4.0.0a1->fsspec[http]>2021.06.0->pytorch-lightning>=1.5.0->darts) (1.3.1)\r\n",
      "Requirement already satisfied: antlr4-python3-runtime<4.12,>=4.11.1 in ./venv/lib/python3.10/site-packages (from fugue-sql-antlr>=0.1.6->fugue>=0.8.1->statsforecast>=1.4->darts) (4.11.1)\r\n",
      "Requirement already satisfied: parso<0.9.0,>=0.8.3 in ./venv/lib/python3.10/site-packages (from jedi>=0.16->ipython>=4.0.0->ipywidgets<8.0.0,>=7.6.5->binance_historical_data) (0.8.3)\r\n",
      "Requirement already satisfied: jupyter-server<3,>=2.4.0 in ./venv/lib/python3.10/site-packages (from notebook>=4.4.1->widgetsnbextension~=3.6.5->ipywidgets<8.0.0,>=7.6.5->binance_historical_data) (2.7.2)\r\n",
      "Requirement already satisfied: jupyterlab-server<3,>=2.22.1 in ./venv/lib/python3.10/site-packages (from notebook>=4.4.1->widgetsnbextension~=3.6.5->ipywidgets<8.0.0,>=7.6.5->binance_historical_data) (2.24.0)\r\n",
      "Requirement already satisfied: jupyterlab<5,>=4.0.2 in ./venv/lib/python3.10/site-packages (from notebook>=4.4.1->widgetsnbextension~=3.6.5->ipywidgets<8.0.0,>=7.6.5->binance_historical_data) (4.0.5)\r\n",
      "Requirement already satisfied: notebook-shim<0.3,>=0.2 in ./venv/lib/python3.10/site-packages (from notebook>=4.4.1->widgetsnbextension~=3.6.5->ipywidgets<8.0.0,>=7.6.5->binance_historical_data) (0.2.3)\r\n",
      "Requirement already satisfied: tornado>=6.2.0 in ./venv/lib/python3.10/site-packages (from notebook>=4.4.1->widgetsnbextension~=3.6.5->ipywidgets<8.0.0,>=7.6.5->binance_historical_data) (6.3.3)\r\n",
      "Requirement already satisfied: ptyprocess>=0.5 in ./venv/lib/python3.10/site-packages (from pexpect>4.3->ipython>=4.0.0->ipywidgets<8.0.0,>=7.6.5->binance_historical_data) (0.7.0)\r\n",
      "Requirement already satisfied: wcwidth in ./venv/lib/python3.10/site-packages (from prompt-toolkit!=3.0.37,<3.1.0,>=3.0.30->ipython>=4.0.0->ipywidgets<8.0.0,>=7.6.5->binance_historical_data) (0.2.6)\r\n",
      "Requirement already satisfied: fs in ./venv/lib/python3.10/site-packages (from triad>=0.9.1->fugue>=0.8.1->statsforecast>=1.4->darts) (2.4.16)\r\n",
      "Requirement already satisfied: executing>=1.2.0 in ./venv/lib/python3.10/site-packages (from stack-data->ipython>=4.0.0->ipywidgets<8.0.0,>=7.6.5->binance_historical_data) (1.2.0)\r\n",
      "Requirement already satisfied: asttokens>=2.1.0 in ./venv/lib/python3.10/site-packages (from stack-data->ipython>=4.0.0->ipywidgets<8.0.0,>=7.6.5->binance_historical_data) (2.2.1)\r\n",
      "Requirement already satisfied: pure-eval in ./venv/lib/python3.10/site-packages (from stack-data->ipython>=4.0.0->ipywidgets<8.0.0,>=7.6.5->binance_historical_data) (0.2.2)\r\n",
      "Requirement already satisfied: anyio>=3.1.0 in ./venv/lib/python3.10/site-packages (from jupyter-server<3,>=2.4.0->notebook>=4.4.1->widgetsnbextension~=3.6.5->ipywidgets<8.0.0,>=7.6.5->binance_historical_data) (3.7.1)\r\n",
      "Requirement already satisfied: argon2-cffi in ./venv/lib/python3.10/site-packages (from jupyter-server<3,>=2.4.0->notebook>=4.4.1->widgetsnbextension~=3.6.5->ipywidgets<8.0.0,>=7.6.5->binance_historical_data) (23.1.0)\r\n",
      "Requirement already satisfied: jupyter-client>=7.4.4 in ./venv/lib/python3.10/site-packages (from jupyter-server<3,>=2.4.0->notebook>=4.4.1->widgetsnbextension~=3.6.5->ipywidgets<8.0.0,>=7.6.5->binance_historical_data) (8.3.1)\r\n",
      "Requirement already satisfied: jupyter-core!=5.0.*,>=4.12 in ./venv/lib/python3.10/site-packages (from jupyter-server<3,>=2.4.0->notebook>=4.4.1->widgetsnbextension~=3.6.5->ipywidgets<8.0.0,>=7.6.5->binance_historical_data) (5.3.1)\r\n",
      "Requirement already satisfied: jupyter-events>=0.6.0 in ./venv/lib/python3.10/site-packages (from jupyter-server<3,>=2.4.0->notebook>=4.4.1->widgetsnbextension~=3.6.5->ipywidgets<8.0.0,>=7.6.5->binance_historical_data) (0.7.0)\r\n",
      "Requirement already satisfied: jupyter-server-terminals in ./venv/lib/python3.10/site-packages (from jupyter-server<3,>=2.4.0->notebook>=4.4.1->widgetsnbextension~=3.6.5->ipywidgets<8.0.0,>=7.6.5->binance_historical_data) (0.4.4)\r\n",
      "Requirement already satisfied: nbconvert>=6.4.4 in ./venv/lib/python3.10/site-packages (from jupyter-server<3,>=2.4.0->notebook>=4.4.1->widgetsnbextension~=3.6.5->ipywidgets<8.0.0,>=7.6.5->binance_historical_data) (7.8.0)\r\n",
      "Requirement already satisfied: nbformat>=5.3.0 in ./venv/lib/python3.10/site-packages (from jupyter-server<3,>=2.4.0->notebook>=4.4.1->widgetsnbextension~=3.6.5->ipywidgets<8.0.0,>=7.6.5->binance_historical_data) (5.9.2)\r\n",
      "Requirement already satisfied: overrides in ./venv/lib/python3.10/site-packages (from jupyter-server<3,>=2.4.0->notebook>=4.4.1->widgetsnbextension~=3.6.5->ipywidgets<8.0.0,>=7.6.5->binance_historical_data) (7.4.0)\r\n",
      "Requirement already satisfied: prometheus-client in ./venv/lib/python3.10/site-packages (from jupyter-server<3,>=2.4.0->notebook>=4.4.1->widgetsnbextension~=3.6.5->ipywidgets<8.0.0,>=7.6.5->binance_historical_data) (0.17.1)\r\n",
      "Requirement already satisfied: pyzmq>=24 in ./venv/lib/python3.10/site-packages (from jupyter-server<3,>=2.4.0->notebook>=4.4.1->widgetsnbextension~=3.6.5->ipywidgets<8.0.0,>=7.6.5->binance_historical_data) (25.1.1)\r\n",
      "Requirement already satisfied: send2trash>=1.8.2 in ./venv/lib/python3.10/site-packages (from jupyter-server<3,>=2.4.0->notebook>=4.4.1->widgetsnbextension~=3.6.5->ipywidgets<8.0.0,>=7.6.5->binance_historical_data) (1.8.2)\r\n",
      "Requirement already satisfied: terminado>=0.8.3 in ./venv/lib/python3.10/site-packages (from jupyter-server<3,>=2.4.0->notebook>=4.4.1->widgetsnbextension~=3.6.5->ipywidgets<8.0.0,>=7.6.5->binance_historical_data) (0.17.1)\r\n",
      "Requirement already satisfied: websocket-client in ./venv/lib/python3.10/site-packages (from jupyter-server<3,>=2.4.0->notebook>=4.4.1->widgetsnbextension~=3.6.5->ipywidgets<8.0.0,>=7.6.5->binance_historical_data) (1.6.2)\r\n",
      "Requirement already satisfied: async-lru>=1.0.0 in ./venv/lib/python3.10/site-packages (from jupyterlab<5,>=4.0.2->notebook>=4.4.1->widgetsnbextension~=3.6.5->ipywidgets<8.0.0,>=7.6.5->binance_historical_data) (2.0.4)\r\n",
      "Requirement already satisfied: ipykernel in ./venv/lib/python3.10/site-packages (from jupyterlab<5,>=4.0.2->notebook>=4.4.1->widgetsnbextension~=3.6.5->ipywidgets<8.0.0,>=7.6.5->binance_historical_data) (6.25.1)\r\n",
      "Requirement already satisfied: jupyter-lsp>=2.0.0 in ./venv/lib/python3.10/site-packages (from jupyterlab<5,>=4.0.2->notebook>=4.4.1->widgetsnbextension~=3.6.5->ipywidgets<8.0.0,>=7.6.5->binance_historical_data) (2.2.0)\r\n",
      "Requirement already satisfied: tomli in ./venv/lib/python3.10/site-packages (from jupyterlab<5,>=4.0.2->notebook>=4.4.1->widgetsnbextension~=3.6.5->ipywidgets<8.0.0,>=7.6.5->binance_historical_data) (2.0.1)\r\n",
      "Requirement already satisfied: babel>=2.10 in ./venv/lib/python3.10/site-packages (from jupyterlab-server<3,>=2.22.1->notebook>=4.4.1->widgetsnbextension~=3.6.5->ipywidgets<8.0.0,>=7.6.5->binance_historical_data) (2.12.1)\r\n",
      "Requirement already satisfied: json5>=0.9.0 in ./venv/lib/python3.10/site-packages (from jupyterlab-server<3,>=2.22.1->notebook>=4.4.1->widgetsnbextension~=3.6.5->ipywidgets<8.0.0,>=7.6.5->binance_historical_data) (0.9.14)\r\n",
      "Requirement already satisfied: jsonschema>=4.17.3 in ./venv/lib/python3.10/site-packages (from jupyterlab-server<3,>=2.22.1->notebook>=4.4.1->widgetsnbextension~=3.6.5->ipywidgets<8.0.0,>=7.6.5->binance_historical_data) (4.19.0)\r\n",
      "Requirement already satisfied: appdirs~=1.4.3 in ./venv/lib/python3.10/site-packages (from fs->triad>=0.9.1->fugue>=0.8.1->statsforecast>=1.4->darts) (1.4.4)\r\n",
      "Requirement already satisfied: sniffio>=1.1 in ./venv/lib/python3.10/site-packages (from anyio>=3.1.0->jupyter-server<3,>=2.4.0->notebook>=4.4.1->widgetsnbextension~=3.6.5->ipywidgets<8.0.0,>=7.6.5->binance_historical_data) (1.3.0)\r\n",
      "Requirement already satisfied: exceptiongroup in ./venv/lib/python3.10/site-packages (from anyio>=3.1.0->jupyter-server<3,>=2.4.0->notebook>=4.4.1->widgetsnbextension~=3.6.5->ipywidgets<8.0.0,>=7.6.5->binance_historical_data) (1.1.3)\r\n",
      "Requirement already satisfied: jsonschema-specifications>=2023.03.6 in ./venv/lib/python3.10/site-packages (from jsonschema>=4.17.3->jupyterlab-server<3,>=2.22.1->notebook>=4.4.1->widgetsnbextension~=3.6.5->ipywidgets<8.0.0,>=7.6.5->binance_historical_data) (2023.7.1)\r\n",
      "Requirement already satisfied: referencing>=0.28.4 in ./venv/lib/python3.10/site-packages (from jsonschema>=4.17.3->jupyterlab-server<3,>=2.22.1->notebook>=4.4.1->widgetsnbextension~=3.6.5->ipywidgets<8.0.0,>=7.6.5->binance_historical_data) (0.30.2)\r\n",
      "Requirement already satisfied: rpds-py>=0.7.1 in ./venv/lib/python3.10/site-packages (from jsonschema>=4.17.3->jupyterlab-server<3,>=2.22.1->notebook>=4.4.1->widgetsnbextension~=3.6.5->ipywidgets<8.0.0,>=7.6.5->binance_historical_data) (0.10.0)\r\n",
      "Requirement already satisfied: platformdirs>=2.5 in ./venv/lib/python3.10/site-packages (from jupyter-core!=5.0.*,>=4.12->jupyter-server<3,>=2.4.0->notebook>=4.4.1->widgetsnbextension~=3.6.5->ipywidgets<8.0.0,>=7.6.5->binance_historical_data) (3.10.0)\r\n",
      "Requirement already satisfied: python-json-logger>=2.0.4 in ./venv/lib/python3.10/site-packages (from jupyter-events>=0.6.0->jupyter-server<3,>=2.4.0->notebook>=4.4.1->widgetsnbextension~=3.6.5->ipywidgets<8.0.0,>=7.6.5->binance_historical_data) (2.0.7)\r\n",
      "Requirement already satisfied: rfc3339-validator in ./venv/lib/python3.10/site-packages (from jupyter-events>=0.6.0->jupyter-server<3,>=2.4.0->notebook>=4.4.1->widgetsnbextension~=3.6.5->ipywidgets<8.0.0,>=7.6.5->binance_historical_data) (0.1.4)\r\n",
      "Requirement already satisfied: rfc3986-validator>=0.1.1 in ./venv/lib/python3.10/site-packages (from jupyter-events>=0.6.0->jupyter-server<3,>=2.4.0->notebook>=4.4.1->widgetsnbextension~=3.6.5->ipywidgets<8.0.0,>=7.6.5->binance_historical_data) (0.1.1)\r\n",
      "Requirement already satisfied: beautifulsoup4 in ./venv/lib/python3.10/site-packages (from nbconvert>=6.4.4->jupyter-server<3,>=2.4.0->notebook>=4.4.1->widgetsnbextension~=3.6.5->ipywidgets<8.0.0,>=7.6.5->binance_historical_data) (4.12.2)\r\n",
      "Requirement already satisfied: bleach!=5.0.0 in ./venv/lib/python3.10/site-packages (from nbconvert>=6.4.4->jupyter-server<3,>=2.4.0->notebook>=4.4.1->widgetsnbextension~=3.6.5->ipywidgets<8.0.0,>=7.6.5->binance_historical_data) (6.0.0)\r\n",
      "Requirement already satisfied: defusedxml in ./venv/lib/python3.10/site-packages (from nbconvert>=6.4.4->jupyter-server<3,>=2.4.0->notebook>=4.4.1->widgetsnbextension~=3.6.5->ipywidgets<8.0.0,>=7.6.5->binance_historical_data) (0.7.1)\r\n",
      "Requirement already satisfied: jupyterlab-pygments in ./venv/lib/python3.10/site-packages (from nbconvert>=6.4.4->jupyter-server<3,>=2.4.0->notebook>=4.4.1->widgetsnbextension~=3.6.5->ipywidgets<8.0.0,>=7.6.5->binance_historical_data) (0.2.2)\r\n",
      "Requirement already satisfied: mistune<4,>=2.0.3 in ./venv/lib/python3.10/site-packages (from nbconvert>=6.4.4->jupyter-server<3,>=2.4.0->notebook>=4.4.1->widgetsnbextension~=3.6.5->ipywidgets<8.0.0,>=7.6.5->binance_historical_data) (3.0.1)\r\n",
      "Requirement already satisfied: nbclient>=0.5.0 in ./venv/lib/python3.10/site-packages (from nbconvert>=6.4.4->jupyter-server<3,>=2.4.0->notebook>=4.4.1->widgetsnbextension~=3.6.5->ipywidgets<8.0.0,>=7.6.5->binance_historical_data) (0.8.0)\r\n",
      "Requirement already satisfied: pandocfilters>=1.4.1 in ./venv/lib/python3.10/site-packages (from nbconvert>=6.4.4->jupyter-server<3,>=2.4.0->notebook>=4.4.1->widgetsnbextension~=3.6.5->ipywidgets<8.0.0,>=7.6.5->binance_historical_data) (1.5.0)\r\n",
      "Requirement already satisfied: tinycss2 in ./venv/lib/python3.10/site-packages (from nbconvert>=6.4.4->jupyter-server<3,>=2.4.0->notebook>=4.4.1->widgetsnbextension~=3.6.5->ipywidgets<8.0.0,>=7.6.5->binance_historical_data) (1.2.1)\r\n",
      "Requirement already satisfied: fastjsonschema in ./venv/lib/python3.10/site-packages (from nbformat>=5.3.0->jupyter-server<3,>=2.4.0->notebook>=4.4.1->widgetsnbextension~=3.6.5->ipywidgets<8.0.0,>=7.6.5->binance_historical_data) (2.18.0)\r\n",
      "Requirement already satisfied: argon2-cffi-bindings in ./venv/lib/python3.10/site-packages (from argon2-cffi->jupyter-server<3,>=2.4.0->notebook>=4.4.1->widgetsnbextension~=3.6.5->ipywidgets<8.0.0,>=7.6.5->binance_historical_data) (21.2.0)\r\n",
      "Requirement already satisfied: debugpy>=1.6.5 in ./venv/lib/python3.10/site-packages (from ipykernel->jupyterlab<5,>=4.0.2->notebook>=4.4.1->widgetsnbextension~=3.6.5->ipywidgets<8.0.0,>=7.6.5->binance_historical_data) (1.6.7.post1)\r\n",
      "Requirement already satisfied: nest-asyncio in ./venv/lib/python3.10/site-packages (from ipykernel->jupyterlab<5,>=4.0.2->notebook>=4.4.1->widgetsnbextension~=3.6.5->ipywidgets<8.0.0,>=7.6.5->binance_historical_data) (1.5.7)\r\n",
      "Requirement already satisfied: psutil in ./venv/lib/python3.10/site-packages (from ipykernel->jupyterlab<5,>=4.0.2->notebook>=4.4.1->widgetsnbextension~=3.6.5->ipywidgets<8.0.0,>=7.6.5->binance_historical_data) (5.9.5)\r\n",
      "Requirement already satisfied: webencodings in ./venv/lib/python3.10/site-packages (from bleach!=5.0.0->nbconvert>=6.4.4->jupyter-server<3,>=2.4.0->notebook>=4.4.1->widgetsnbextension~=3.6.5->ipywidgets<8.0.0,>=7.6.5->binance_historical_data) (0.5.1)\r\n",
      "Requirement already satisfied: fqdn in ./venv/lib/python3.10/site-packages (from jsonschema>=4.17.3->jupyterlab-server<3,>=2.22.1->notebook>=4.4.1->widgetsnbextension~=3.6.5->ipywidgets<8.0.0,>=7.6.5->binance_historical_data) (1.5.1)\r\n",
      "Requirement already satisfied: isoduration in ./venv/lib/python3.10/site-packages (from jsonschema>=4.17.3->jupyterlab-server<3,>=2.22.1->notebook>=4.4.1->widgetsnbextension~=3.6.5->ipywidgets<8.0.0,>=7.6.5->binance_historical_data) (20.11.0)\r\n",
      "Requirement already satisfied: jsonpointer>1.13 in ./venv/lib/python3.10/site-packages (from jsonschema>=4.17.3->jupyterlab-server<3,>=2.22.1->notebook>=4.4.1->widgetsnbextension~=3.6.5->ipywidgets<8.0.0,>=7.6.5->binance_historical_data) (2.4)\r\n",
      "Requirement already satisfied: uri-template in ./venv/lib/python3.10/site-packages (from jsonschema>=4.17.3->jupyterlab-server<3,>=2.22.1->notebook>=4.4.1->widgetsnbextension~=3.6.5->ipywidgets<8.0.0,>=7.6.5->binance_historical_data) (1.3.0)\r\n",
      "Requirement already satisfied: webcolors>=1.11 in ./venv/lib/python3.10/site-packages (from jsonschema>=4.17.3->jupyterlab-server<3,>=2.22.1->notebook>=4.4.1->widgetsnbextension~=3.6.5->ipywidgets<8.0.0,>=7.6.5->binance_historical_data) (1.13)\r\n",
      "Requirement already satisfied: cffi>=1.0.1 in ./venv/lib/python3.10/site-packages (from argon2-cffi-bindings->argon2-cffi->jupyter-server<3,>=2.4.0->notebook>=4.4.1->widgetsnbextension~=3.6.5->ipywidgets<8.0.0,>=7.6.5->binance_historical_data) (1.15.1)\r\n",
      "Requirement already satisfied: soupsieve>1.2 in ./venv/lib/python3.10/site-packages (from beautifulsoup4->nbconvert>=6.4.4->jupyter-server<3,>=2.4.0->notebook>=4.4.1->widgetsnbextension~=3.6.5->ipywidgets<8.0.0,>=7.6.5->binance_historical_data) (2.4.1)\r\n",
      "Requirement already satisfied: pycparser in ./venv/lib/python3.10/site-packages (from cffi>=1.0.1->argon2-cffi-bindings->argon2-cffi->jupyter-server<3,>=2.4.0->notebook>=4.4.1->widgetsnbextension~=3.6.5->ipywidgets<8.0.0,>=7.6.5->binance_historical_data) (2.21)\r\n",
      "Requirement already satisfied: arrow>=0.15.0 in ./venv/lib/python3.10/site-packages (from isoduration->jsonschema>=4.17.3->jupyterlab-server<3,>=2.22.1->notebook>=4.4.1->widgetsnbextension~=3.6.5->ipywidgets<8.0.0,>=7.6.5->binance_historical_data) (1.2.3)\r\n",
      "\r\n",
      "\u001B[1m[\u001B[0m\u001B[34;49mnotice\u001B[0m\u001B[1;39;49m]\u001B[0m\u001B[39;49m A new release of pip is available: \u001B[0m\u001B[31;49m23.1.2\u001B[0m\u001B[39;49m -> \u001B[0m\u001B[32;49m23.2.1\u001B[0m\r\n",
      "\u001B[1m[\u001B[0m\u001B[34;49mnotice\u001B[0m\u001B[1;39;49m]\u001B[0m\u001B[39;49m To update, run: \u001B[0m\u001B[32;49mpip install --upgrade pip\u001B[0m\r\n"
     ]
    }
   ],
   "source": [
    "!pip install binance_historical_data mplfinance darts"
   ],
   "metadata": {
    "collapsed": false,
    "ExecuteTime": {
     "end_time": "2023-09-03T16:46:16.458309520Z",
     "start_time": "2023-09-03T16:46:12.768369511Z"
    }
   }
  },
  {
   "cell_type": "code",
   "execution_count": 22,
   "outputs": [
    {
     "name": "stdout",
     "output_type": "stream",
     "text": [
      "['ETHBTC', 'LTCBTC', 'BNBBTC', 'NEOBTC', 'QTUMETH', 'EOSETH', 'SNTETH', 'BNTETH', 'BCCBTC', 'GASBTC', 'BNBETH', 'BTCUSDT', 'ETHUSDT', 'HSRBTC', 'OAXETH', 'DNTETH', 'MCOETH', 'ICNETH', 'MCOBTC', 'WTCBTC', 'WTCETH', 'LRCBTC', 'LRCETH', 'QTUMBTC', 'YOYOBTC', 'OMGBTC', 'OMGETH', 'ZRXBTC', 'ZRXETH', 'STRATBTC', 'STRATETH', 'SNGLSBTC', 'SNGLSETH', 'BQXBTC', 'BQXETH', 'KNCBTC', 'KNCETH', 'FUNBTC', 'FUNETH', 'SNMBTC', 'SNMETH', 'NEOETH', 'IOTABTC', 'IOTAETH', 'LINKBTC', 'LINKETH', 'XVGBTC', 'XVGETH', 'SALTBTC', 'SALTETH', 'MDABTC', 'MDAETH', 'MTLBTC', 'MTLETH', 'SUBBTC', 'SUBETH', 'EOSBTC', 'SNTBTC', 'ETCETH', 'ETCBTC', 'MTHBTC', 'MTHETH', 'ENGBTC', 'ENGETH', 'DNTBTC', 'ZECBTC', 'ZECETH', 'BNTBTC', 'ASTBTC', 'ASTETH', 'DASHBTC', 'DASHETH', 'OAXBTC', 'ICNBTC', 'BTGBTC', 'BTGETH', 'EVXBTC', 'EVXETH', 'REQBTC', 'REQETH', 'VIBBTC', 'VIBETH', 'HSRETH', 'TRXBTC', 'TRXETH', 'POWRBTC', 'POWRETH', 'ARKBTC', 'ARKETH', 'YOYOETH', 'XRPBTC', 'XRPETH', 'MODBTC', 'MODETH', 'ENJBTC', 'ENJETH', 'STORJBTC', 'STORJETH', 'BNBUSDT', 'VENBNB', 'YOYOBNB', 'POWRBNB', 'VENBTC', 'VENETH', 'KMDBTC', 'KMDETH', 'NULSBNB', 'RCNBTC', 'RCNETH', 'RCNBNB', 'NULSBTC', 'NULSETH', 'RDNBTC', 'RDNETH', 'RDNBNB', 'XMRBTC', 'XMRETH', 'DLTBNB', 'WTCBNB', 'DLTBTC', 'DLTETH', 'AMBBTC', 'AMBETH', 'AMBBNB', 'BCCETH', 'BCCUSDT', 'BCCBNB', 'BATBTC', 'BATETH', 'BATBNB', 'BCPTBTC', 'BCPTETH', 'BCPTBNB', 'ARNBTC', 'ARNETH', 'GVTBTC', 'GVTETH', 'CDTBTC', 'CDTETH', 'GXSBTC', 'GXSETH', 'NEOUSDT', 'NEOBNB', 'POEBTC', 'POEETH', 'QSPBTC', 'QSPETH', 'QSPBNB', 'BTSBTC', 'BTSETH', 'BTSBNB', 'XZCBTC', 'XZCETH', 'XZCBNB', 'LSKBTC', 'LSKETH', 'LSKBNB', 'TNTBTC', 'TNTETH', 'FUELBTC', 'FUELETH', 'MANABTC', 'MANAETH', 'BCDBTC', 'BCDETH', 'DGDBTC', 'DGDETH', 'IOTABNB', 'ADXBTC', 'ADXETH', 'ADXBNB', 'ADABTC', 'ADAETH', 'PPTBTC', 'PPTETH', 'CMTBTC', 'CMTETH', 'CMTBNB', 'XLMBTC', 'XLMETH', 'XLMBNB', 'CNDBTC', 'CNDETH', 'CNDBNB', 'LENDBTC', 'LENDETH', 'WABIBTC', 'WABIETH', 'WABIBNB', 'LTCETH', 'LTCUSDT', 'LTCBNB', 'TNBBTC', 'TNBETH', 'WAVESBTC', 'WAVESETH', 'WAVESBNB', 'GTOBTC', 'GTOETH', 'GTOBNB', 'ICXBTC', 'ICXETH', 'ICXBNB', 'OSTBTC', 'OSTETH', 'OSTBNB', 'ELFBTC', 'ELFETH', 'AIONBTC', 'AIONETH', 'AIONBNB', 'NEBLBTC', 'NEBLBNB', 'BRDBTC', 'BRDETH', 'BRDBNB', 'MCOBNB', 'EDOBTC', 'EDOETH', 'WINGSBTC', 'WINGSETH', 'NAVBTC', 'NAVETH', 'NAVBNB', 'LUNBTC', 'LUNETH', 'TRIGBTC', 'TRIGETH', 'TRIGBNB', 'APPCBTC', 'APPCETH', 'APPCBNB', 'VIBEBTC', 'VIBEETH', 'RLCBTC', 'RLCETH', 'RLCBNB', 'INSBTC', 'INSETH', 'PIVXBTC', 'PIVXBNB', 'IOSTBTC', 'IOSTETH', 'CHATBTC', 'CHATETH', 'STEEMBTC', 'STEEMETH', 'STEEMBNB', 'NANOBTC', 'NANOETH', 'NANOBNB', 'VIABTC', 'VIAETH', 'VIABNB', 'BLZBTC', 'BLZETH', 'BLZBNB', 'AEBTC', 'AEETH', 'AEBNB', 'RPXBTC', 'RPXETH', 'RPXBNB', 'NCASHBTC', 'NCASHETH', 'NCASHBNB', 'POABTC', 'POAETH', 'POABNB', 'ZILBTC', 'ZILETH', 'ZILBNB', 'ONTBTC', 'ONTETH', 'ONTBNB', 'STORMBTC', 'STORMETH', 'STORMBNB', 'QTUMBNB', 'QTUMUSDT', 'XEMBTC', 'XEMETH', 'XEMBNB', 'WANBTC', 'WANETH', 'WANBNB', 'WPRBTC', 'WPRETH', 'QLCBTC', 'QLCETH', 'SYSBTC', 'SYSETH', 'SYSBNB', 'QLCBNB', 'GRSBTC', 'GRSETH', 'ADAUSDT', 'ADABNB', 'CLOAKBTC', 'CLOAKETH', 'GNTBTC', 'GNTETH', 'GNTBNB', 'LOOMBTC', 'LOOMETH', 'LOOMBNB', 'XRPUSDT', 'BCNBTC', 'BCNETH', 'BCNBNB', 'REPBTC', 'REPBNB', 'BTCTUSD', 'TUSDBTC', 'ETHTUSD', 'TUSDETH', 'TUSDBNB', 'ZENBTC', 'ZENETH', 'ZENBNB', 'SKYBTC', 'SKYETH', 'SKYBNB', 'EOSUSDT', 'EOSBNB', 'CVCBTC', 'CVCETH', 'CVCBNB', 'THETABTC', 'THETAETH', 'THETABNB', 'XRPBNB', 'TUSDUSDT', 'IOTAUSDT', 'XLMUSDT', 'IOTXBTC', 'IOTXETH', 'QKCBTC', 'QKCETH', 'AGIBTC', 'AGIETH', 'AGIBNB', 'NXSBTC', 'NXSETH', 'NXSBNB', 'ENJBNB', 'DATABTC', 'DATAETH', 'ONTUSDT', 'TRXBNB', 'TRXUSDT', 'ETCUSDT', 'ETCBNB', 'ICXUSDT', 'SCBTC', 'SCETH', 'NPXSBTC', 'NPXSETH', 'VENUSDT', 'KEYBTC', 'KEYETH', 'NASBTC', 'NASETH', 'NASBNB', 'MFTBTC', 'MFTETH', 'MFTBNB', 'DENTBTC', 'DENTETH', 'ARDRBTC', 'ARDRETH', 'ARDRBNB', 'NULSUSDT', 'HOTBTC', 'HOTETH', 'VETBTC', 'VETETH', 'VETUSDT', 'VETBNB', 'DOCKBTC', 'DOCKETH', 'POLYBTC', 'POLYBNB', 'PHXBTC', 'PHXETH', 'PHXBNB', 'HCBTC', 'HCETH', 'GOBTC', 'GOBNB', 'PAXBTC', 'PAXBNB', 'PAXUSDT', 'PAXETH', 'RVNBTC', 'DCRBTC', 'DCRBNB', 'USDCBNB', 'MITHBTC', 'MITHBNB', 'BCHABCBTC', 'BCHSVBTC', 'BCHABCUSDT', 'BCHSVUSDT', 'BNBPAX', 'BTCPAX', 'ETHPAX', 'XRPPAX', 'EOSPAX', 'XLMPAX', 'RENBTC', 'RENBNB', 'BNBTUSD', 'XRPTUSD', 'EOSTUSD', 'XLMTUSD', 'BNBUSDC', 'BTCUSDC', 'ETHUSDC', 'XRPUSDC', 'EOSUSDC', 'XLMUSDC', 'USDCUSDT', 'ADATUSD', 'TRXTUSD', 'NEOTUSD', 'TRXXRP', 'XZCXRP', 'PAXTUSD', 'USDCTUSD', 'USDCPAX', 'LINKUSDT', 'LINKTUSD', 'LINKPAX', 'LINKUSDC', 'WAVESUSDT', 'WAVESTUSD', 'WAVESPAX', 'WAVESUSDC', 'BCHABCTUSD', 'BCHABCPAX', 'BCHABCUSDC', 'BCHSVTUSD', 'BCHSVPAX', 'BCHSVUSDC', 'LTCTUSD', 'LTCPAX', 'LTCUSDC', 'TRXPAX', 'TRXUSDC', 'BTTBTC', 'BTTBNB', 'BTTUSDT', 'BNBUSDS', 'BTCUSDS', 'USDSUSDT', 'USDSPAX', 'USDSTUSD', 'USDSUSDC', 'BTTPAX', 'BTTTUSD', 'BTTUSDC', 'ONGBNB', 'ONGBTC', 'ONGUSDT', 'HOTBNB', 'HOTUSDT', 'ZILUSDT', 'ZRXBNB', 'ZRXUSDT', 'FETBNB', 'FETBTC', 'FETUSDT', 'BATUSDT', 'XMRBNB', 'XMRUSDT', 'ZECBNB', 'ZECUSDT', 'ZECPAX', 'ZECTUSD', 'ZECUSDC', 'IOSTUSDT', 'CELRBNB', 'CELRBTC', 'CELRUSDT', 'ADAPAX', 'ADAUSDC', 'NEOPAX', 'NEOUSDC', 'DASHBNB', 'DASHUSDT', 'NANOUSDT', 'OMGBNB', 'OMGUSDT', 'THETAUSDT', 'ENJUSDT', 'MITHUSDT', 'MATICBNB', 'MATICBTC', 'MATICUSDT', 'ATOMBNB', 'ATOMBTC', 'ATOMUSDT', 'ATOMUSDC', 'ATOMPAX', 'ATOMTUSD', 'ETCUSDC', 'ETCPAX', 'ETCTUSD', 'BATUSDC', 'BATPAX', 'BATTUSD', 'PHBBNB', 'PHBBTC', 'PHBUSDC', 'PHBTUSD', 'PHBPAX', 'TFUELBNB', 'TFUELBTC', 'TFUELUSDT', 'TFUELUSDC', 'TFUELTUSD', 'TFUELPAX', 'ONEBNB', 'ONEBTC', 'ONEUSDT', 'ONETUSD', 'ONEPAX', 'ONEUSDC', 'FTMBNB', 'FTMBTC', 'FTMUSDT', 'FTMTUSD', 'FTMPAX', 'FTMUSDC', 'BTCBBTC', 'BCPTTUSD', 'BCPTPAX', 'BCPTUSDC', 'ALGOBNB', 'ALGOBTC', 'ALGOUSDT', 'ALGOTUSD', 'ALGOPAX', 'ALGOUSDC', 'USDSBUSDT', 'USDSBUSDS', 'GTOUSDT', 'GTOPAX', 'GTOTUSD', 'GTOUSDC', 'ERDBNB', 'ERDBTC', 'ERDUSDT', 'ERDPAX', 'ERDUSDC', 'DOGEBNB', 'DOGEBTC', 'DOGEUSDT', 'DOGEPAX', 'DOGEUSDC', 'DUSKBNB', 'DUSKBTC', 'DUSKUSDT', 'DUSKUSDC', 'DUSKPAX', 'BGBPUSDC', 'ANKRBNB', 'ANKRBTC', 'ANKRUSDT', 'ANKRTUSD', 'ANKRPAX', 'ANKRUSDC', 'ONTPAX', 'ONTUSDC', 'WINBNB', 'WINBTC', 'WINUSDT', 'WINUSDC', 'COSBNB', 'COSBTC', 'COSUSDT', 'TUSDBTUSD', 'NPXSUSDT', 'NPXSUSDC', 'COCOSBNB', 'COCOSBTC', 'COCOSUSDT', 'MTLUSDT', 'TOMOBNB', 'TOMOBTC', 'TOMOUSDT', 'TOMOUSDC', 'PERLBNB', 'PERLBTC', 'PERLUSDC', 'PERLUSDT', 'DENTUSDT', 'MFTUSDT', 'KEYUSDT', 'STORMUSDT', 'DOCKUSDT', 'WANUSDT', 'FUNUSDT', 'CVCUSDT', 'BTTTRX', 'WINTRX', 'CHZBNB', 'CHZBTC', 'CHZUSDT', 'BANDBNB', 'BANDBTC', 'BANDUSDT', 'BNBBUSD', 'BTCBUSD', 'BUSDUSDT', 'BEAMBNB', 'BEAMBTC', 'BEAMUSDT', 'XTZBNB', 'XTZBTC', 'XTZUSDT', 'RENUSDT', 'RVNUSDT', 'HCUSDT', 'HBARBNB', 'HBARBTC', 'HBARUSDT', 'NKNBNB', 'NKNBTC', 'NKNUSDT', 'XRPBUSD', 'ETHBUSD', 'BCHABCBUSD', 'LTCBUSD', 'LINKBUSD', 'ETCBUSD', 'STXBNB', 'STXBTC', 'STXUSDT', 'KAVABNB', 'KAVABTC', 'KAVAUSDT', 'BUSDNGN', 'BNBNGN', 'BTCNGN', 'ARPABNB', 'ARPABTC', 'ARPAUSDT', 'TRXBUSD', 'EOSBUSD', 'IOTXUSDT', 'RLCUSDT', 'MCOUSDT', 'XLMBUSD', 'ADABUSD', 'CTXCBNB', 'CTXCBTC', 'CTXCUSDT', 'BCHBNB', 'BCHBTC', 'BCHUSDT', 'BCHUSDC', 'BCHTUSD', 'BCHPAX', 'BCHBUSD', 'BTCRUB', 'ETHRUB', 'XRPRUB', 'BNBRUB', 'TROYBNB', 'TROYBTC', 'TROYUSDT', 'BUSDRUB', 'QTUMBUSD', 'VETBUSD', 'VITEBNB', 'VITEBTC', 'VITEUSDT', 'FTTBNB', 'FTTBTC', 'FTTUSDT', 'BTCTRY', 'BNBTRY', 'BUSDTRY', 'ETHTRY', 'XRPTRY', 'USDTTRY', 'USDTRUB', 'BTCEUR', 'ETHEUR', 'BNBEUR', 'XRPEUR', 'EURBUSD', 'EURUSDT', 'OGNBNB', 'OGNBTC', 'OGNUSDT', 'DREPBNB', 'DREPBTC', 'DREPUSDT', 'BULLUSDT', 'BULLBUSD', 'BEARUSDT', 'BEARBUSD', 'ETHBULLUSDT', 'ETHBULLBUSD', 'ETHBEARUSDT', 'ETHBEARBUSD', 'TCTBNB', 'TCTBTC', 'TCTUSDT', 'WRXBNB', 'WRXBTC', 'WRXUSDT', 'ICXBUSD', 'BTSUSDT', 'BTSBUSD', 'LSKUSDT', 'BNTUSDT', 'BNTBUSD', 'LTOBNB', 'LTOBTC', 'LTOUSDT', 'ATOMBUSD', 'DASHBUSD', 'NEOBUSD', 'WAVESBUSD', 'XTZBUSD', 'EOSBULLUSDT', 'EOSBULLBUSD', 'EOSBEARUSDT', 'EOSBEARBUSD', 'XRPBULLUSDT', 'XRPBULLBUSD', 'XRPBEARUSDT', 'XRPBEARBUSD', 'BATBUSD', 'ENJBUSD', 'NANOBUSD', 'ONTBUSD', 'RVNBUSD', 'STRATBUSD', 'STRATBNB', 'STRATUSDT', 'AIONBUSD', 'AIONUSDT', 'MBLBNB', 'MBLBTC', 'MBLUSDT', 'COTIBNB', 'COTIBTC', 'COTIUSDT', 'ALGOBUSD', 'BTTBUSD', 'TOMOBUSD', 'XMRBUSD', 'ZECBUSD', 'BNBBULLUSDT', 'BNBBULLBUSD', 'BNBBEARUSDT', 'BNBBEARBUSD', 'STPTBNB', 'STPTBTC', 'STPTUSDT', 'BTCZAR', 'ETHZAR', 'BNBZAR', 'USDTZAR', 'BUSDZAR', 'BTCBKRW', 'ETHBKRW', 'BNBBKRW', 'WTCUSDT', 'DATABUSD', 'DATAUSDT', 'XZCUSDT', 'SOLBNB', 'SOLBTC', 'SOLUSDT', 'SOLBUSD', 'BTCIDRT', 'BNBIDRT', 'USDTIDRT', 'BUSDIDRT', 'CTSIBTC', 'CTSIUSDT', 'CTSIBNB', 'CTSIBUSD', 'HIVEBNB', 'HIVEBTC', 'HIVEUSDT', 'CHRBNB', 'CHRBTC', 'CHRUSDT', 'BTCUPUSDT', 'BTCDOWNUSDT', 'GXSUSDT', 'ARDRUSDT', 'ERDBUSD', 'LENDUSDT', 'HBARBUSD', 'MATICBUSD', 'WRXBUSD', 'ZILBUSD', 'MDTBNB', 'MDTBTC', 'MDTUSDT', 'STMXBTC', 'STMXETH', 'STMXUSDT', 'KNCBUSD', 'KNCUSDT', 'REPBUSD', 'REPUSDT', 'LRCBUSD', 'LRCUSDT', 'IQBNB', 'IQBUSD', 'PNTBTC', 'PNTUSDT', 'BTCGBP', 'ETHGBP', 'XRPGBP', 'BNBGBP', 'GBPBUSD', 'DGBBTC', 'DGBBUSD', 'BTCUAH', 'USDTUAH', 'COMPBTC', 'COMPBNB', 'COMPBUSD', 'COMPUSDT', 'BTCBIDR', 'ETHBIDR', 'BNBBIDR', 'BUSDBIDR', 'USDTBIDR', 'BKRWUSDT', 'BKRWBUSD', 'SCUSDT', 'ZENUSDT', 'SXPBTC', 'SXPBNB', 'SXPBUSD', 'SNXBTC', 'SNXBNB', 'SNXBUSD', 'SNXUSDT', 'ETHUPUSDT', 'ETHDOWNUSDT', 'ADAUPUSDT', 'ADADOWNUSDT', 'LINKUPUSDT', 'LINKDOWNUSDT', 'VTHOBNB', 'VTHOBUSD', 'VTHOUSDT', 'DCRBUSD', 'DGBUSDT', 'GBPUSDT', 'STORJBUSD', 'SXPUSDT', 'IRISBNB', 'IRISBTC', 'IRISBUSD', 'MKRBNB', 'MKRBTC', 'MKRUSDT', 'MKRBUSD', 'DAIBNB', 'DAIBTC', 'DAIUSDT', 'DAIBUSD', 'RUNEBNB', 'RUNEBTC', 'RUNEBUSD', 'MANABUSD', 'DOGEBUSD', 'LENDBUSD', 'ZRXBUSD', 'DCRUSDT', 'STORJUSDT', 'XRPBKRW', 'ADABKRW', 'BTCAUD', 'ETHAUD', 'AUDBUSD', 'FIOBNB', 'FIOBTC', 'FIOBUSD', 'BNBUPUSDT', 'BNBDOWNUSDT', 'XTZUPUSDT', 'XTZDOWNUSDT', 'AVABNB', 'AVABTC', 'AVABUSD', 'USDTBKRW', 'BUSDBKRW', 'IOTABUSD', 'MANAUSDT', 'XRPAUD', 'BNBAUD', 'AUDUSDT', 'BALBNB', 'BALBTC', 'BALBUSD', 'YFIBNB', 'YFIBTC', 'YFIBUSD', 'YFIUSDT', 'BLZBUSD', 'KMDBUSD', 'BALUSDT', 'BLZUSDT', 'IRISUSDT', 'KMDUSDT', 'BTCDAI', 'ETHDAI', 'BNBDAI', 'USDTDAI', 'BUSDDAI', 'JSTBNB', 'JSTBTC', 'JSTBUSD', 'JSTUSDT', 'SRMBNB', 'SRMBTC', 'SRMBUSD', 'SRMUSDT', 'ANTBNB', 'ANTBTC', 'ANTBUSD', 'ANTUSDT', 'CRVBNB', 'CRVBTC', 'CRVBUSD', 'CRVUSDT', 'SANDBNB', 'SANDBTC', 'SANDUSDT', 'SANDBUSD', 'OCEANBNB', 'OCEANBTC', 'OCEANBUSD', 'OCEANUSDT', 'NMRBTC', 'NMRBUSD', 'NMRUSDT', 'DOTBNB', 'DOTBTC', 'DOTBUSD', 'DOTUSDT', 'LUNABNB', 'LUNABTC', 'LUNABUSD', 'LUNAUSDT', 'IDEXBTC', 'IDEXBUSD', 'RSRBNB', 'RSRBTC', 'RSRBUSD', 'RSRUSDT', 'PAXGBNB', 'PAXGBTC', 'PAXGBUSD', 'PAXGUSDT', 'WNXMBNB', 'WNXMBTC', 'WNXMBUSD', 'WNXMUSDT', 'TRBBNB', 'TRBBTC', 'TRBBUSD', 'TRBUSDT', 'ETHNGN', 'DOTBIDR', 'LINKAUD', 'SXPAUD', 'BZRXBNB', 'BZRXBTC', 'BZRXBUSD', 'BZRXUSDT', 'WBTCBTC', 'WBTCETH', 'SUSHIBNB', 'SUSHIBTC', 'SUSHIBUSD', 'SUSHIUSDT', 'YFIIBNB', 'YFIIBTC', 'YFIIBUSD', 'YFIIUSDT', 'KSMBNB', 'KSMBTC', 'KSMBUSD', 'KSMUSDT', 'EGLDBNB', 'EGLDBTC', 'EGLDBUSD', 'EGLDUSDT', 'DIABNB', 'DIABTC', 'DIABUSD', 'DIAUSDT', 'RUNEUSDT', 'FIOUSDT', 'UMABTC', 'UMAUSDT', 'EOSUPUSDT', 'EOSDOWNUSDT', 'TRXUPUSDT', 'TRXDOWNUSDT', 'XRPUPUSDT', 'XRPDOWNUSDT', 'DOTUPUSDT', 'DOTDOWNUSDT', 'SRMBIDR', 'ONEBIDR', 'LINKTRY', 'USDTNGN', 'BELBNB', 'BELBTC', 'BELBUSD', 'BELUSDT', 'WINGBNB', 'WINGBTC', 'SWRVBNB', 'SWRVBUSD', 'WINGBUSD', 'WINGUSDT', 'LTCUPUSDT', 'LTCDOWNUSDT', 'LENDBKRW', 'SXPEUR', 'CREAMBNB', 'CREAMBUSD', 'UNIBNB', 'UNIBTC', 'UNIBUSD', 'UNIUSDT', 'NBSBTC', 'NBSUSDT', 'OXTBTC', 'OXTUSDT', 'SUNBTC', 'SUNUSDT', 'AVAXBNB', 'AVAXBTC', 'AVAXBUSD', 'AVAXUSDT', 'HNTBTC', 'HNTUSDT', 'BAKEBNB', 'BURGERBNB', 'SXPBIDR', 'LINKBKRW', 'FLMBNB', 'FLMBTC', 'FLMBUSD', 'FLMUSDT', 'SCRTBTC', 'SCRTETH', 'CAKEBNB', 'CAKEBUSD', 'SPARTABNB', 'UNIUPUSDT', 'UNIDOWNUSDT', 'ORNBTC', 'ORNUSDT', 'TRXNGN', 'SXPTRY', 'UTKBTC', 'UTKUSDT', 'XVSBNB', 'XVSBTC', 'XVSBUSD', 'XVSUSDT', 'ALPHABNB', 'ALPHABTC', 'ALPHABUSD', 'ALPHAUSDT', 'VIDTBTC', 'VIDTBUSD', 'AAVEBNB', 'BTCBRL', 'USDTBRL', 'AAVEBTC', 'AAVEETH', 'AAVEBUSD', 'AAVEUSDT', 'AAVEBKRW', 'NEARBNB', 'NEARBTC', 'NEARBUSD', 'NEARUSDT', 'SXPUPUSDT', 'SXPDOWNUSDT', 'DOTBKRW', 'SXPGBP', 'FILBNB', 'FILBTC', 'FILBUSD', 'FILUSDT', 'FILUPUSDT', 'FILDOWNUSDT', 'YFIUPUSDT', 'YFIDOWNUSDT', 'INJBNB', 'INJBTC', 'INJBUSD', 'INJUSDT', 'AERGOBTC', 'AERGOBUSD', 'LINKEUR', 'ONEBUSD', 'EASYETH', 'AUDIOBTC', 'AUDIOBUSD', 'AUDIOUSDT', 'CTKBNB', 'CTKBTC', 'CTKBUSD', 'CTKUSDT', 'BCHUPUSDT', 'BCHDOWNUSDT', 'BOTBTC', 'BOTBUSD', 'ETHBRL', 'DOTEUR', 'AKROBTC', 'AKROUSDT', 'KP3RBNB', 'KP3RBUSD', 'AXSBNB', 'AXSBTC', 'AXSBUSD', 'AXSUSDT', 'HARDBNB', 'HARDBTC', 'HARDBUSD', 'HARDUSDT', 'BNBBRL', 'LTCEUR', 'RENBTCBTC', 'RENBTCETH', 'DNTBUSD', 'DNTUSDT', 'SLPETH', 'ADAEUR', 'LTCNGN', 'CVPETH', 'CVPBUSD', 'STRAXBTC', 'STRAXETH', 'STRAXBUSD', 'STRAXUSDT', 'FORBTC', 'FORBUSD', 'UNFIBNB', 'UNFIBTC', 'UNFIBUSD', 'UNFIUSDT', 'FRONTETH', 'FRONTBUSD', 'BCHABUSD', 'ROSEBTC', 'ROSEBUSD', 'ROSEUSDT', 'AVAXTRY', 'BUSDBRL', 'AVAUSDT', 'SYSBUSD', 'XEMUSDT', 'HEGICETH', 'HEGICBUSD', 'AAVEUPUSDT', 'AAVEDOWNUSDT', 'PROMBNB', 'PROMBUSD', 'XRPBRL', 'XRPNGN', 'SKLBTC', 'SKLBUSD', 'SKLUSDT', 'BCHEUR', 'YFIEUR', 'ZILBIDR', 'SUSDBTC', 'SUSDETH', 'SUSDUSDT', 'COVERETH', 'COVERBUSD', 'GLMBTC', 'GLMETH', 'GHSTETH', 'GHSTBUSD', 'SUSHIUPUSDT', 'SUSHIDOWNUSDT', 'XLMUPUSDT', 'XLMDOWNUSDT', 'LINKBRL', 'LINKNGN', 'LTCRUB', 'TRXTRY', 'XLMEUR', 'DFETH', 'DFBUSD', 'GRTBTC', 'GRTETH', 'GRTUSDT', 'JUVBTC', 'JUVBUSD', 'JUVUSDT', 'PSGBTC', 'PSGBUSD', 'PSGUSDT', 'BUSDBVND', 'USDTBVND', '1INCHBTC', '1INCHUSDT', 'REEFBTC', 'REEFUSDT', 'OGBTC', 'OGUSDT', 'ATMBTC', 'ATMUSDT', 'ASRBTC', 'ASRUSDT', 'CELOBTC', 'CELOUSDT', 'RIFBTC', 'RIFUSDT', 'CHZTRY', 'XLMTRY', 'LINKGBP', 'GRTEUR', 'BTCSTBTC', 'BTCSTBUSD', 'BTCSTUSDT', 'TRUBTC', 'TRUBUSD', 'TRUUSDT', 'DEXEETH', 'DEXEBUSD', 'EOSEUR', 'LTCBRL', 'USDCBUSD', 'TUSDBUSD', 'PAXBUSD', 'CKBBTC', 'CKBBUSD', 'CKBUSDT', 'TWTBTC', 'TWTBUSD', 'TWTUSDT', 'FIROBTC', 'FIROETH', 'FIROUSDT', 'BETHETH', 'DOGEEUR', 'DOGETRY', 'DOGEAUD', 'DOGEBRL', 'DOTNGN', 'PROSETH', 'LITBTC', 'LITBUSD', 'LITUSDT', 'BTCVAI', 'BUSDVAI', 'SFPBTC', 'SFPBUSD', 'SFPUSDT', 'DOGEGBP', 'DOTTRY', 'FXSBTC', 'FXSBUSD', 'DODOBTC', 'DODOBUSD', 'DODOUSDT', 'FRONTBTC', 'EASYBTC', 'CAKEBTC', 'CAKEUSDT', 'BAKEBUSD', 'UFTETH', 'UFTBUSD', '1INCHBUSD', 'BANDBUSD', 'GRTBUSD', 'IOSTBUSD', 'OMGBUSD', 'REEFBUSD', 'ACMBTC', 'ACMBUSD', 'ACMUSDT', 'AUCTIONBTC', 'AUCTIONBUSD', 'PHABTC', 'PHABUSD', 'DOTGBP', 'ADATRY', 'ADABRL', 'ADAGBP', 'TVKBTC', 'TVKBUSD', 'BADGERBTC', 'BADGERBUSD', 'BADGERUSDT', 'FISBTC', 'FISBUSD', 'FISUSDT', 'DOTBRL', 'ADAAUD', 'HOTTRY', 'EGLDEUR', 'OMBTC', 'OMBUSD', 'OMUSDT', 'PONDBTC', 'PONDBUSD', 'PONDUSDT', 'DEGOBTC', 'DEGOBUSD', 'DEGOUSDT', 'AVAXEUR', 'BTTTRY', 'CHZBRL', 'UNIEUR', 'ALICEBTC', 'ALICEBUSD', 'ALICEUSDT', 'CHZBUSD', 'CHZEUR', 'CHZGBP', 'BIFIBNB', 'BIFIBUSD', 'LINABTC', 'LINABUSD', 'LINAUSDT', 'ADARUB', 'ENJBRL', 'ENJEUR', 'MATICEUR', 'NEOTRY', 'PERPBTC', 'PERPBUSD', 'PERPUSDT', 'RAMPBTC', 'RAMPBUSD', 'RAMPUSDT', 'SUPERBTC', 'SUPERBUSD', 'SUPERUSDT', 'CFXBTC', 'CFXBUSD', 'CFXUSDT', 'ENJGBP', 'EOSTRY', 'LTCGBP', 'LUNAEUR', 'RVNTRY', 'THETAEUR', 'XVGBUSD', 'EPSBTC', 'EPSBUSD', 'EPSUSDT', 'AUTOBTC', 'AUTOBUSD', 'AUTOUSDT', 'TKOBTC', 'TKOBIDR', 'TKOBUSD', 'TKOUSDT', 'PUNDIXETH', 'PUNDIXUSDT', 'BTTBRL', 'BTTEUR', 'HOTEUR', 'WINEUR', 'TLMBTC', 'TLMBUSD', 'TLMUSDT', '1INCHUPUSDT', '1INCHDOWNUSDT', 'BTGBUSD', 'BTGUSDT', 'HOTBUSD', 'BNBUAH', 'ONTTRY', 'VETEUR', 'VETGBP', 'WINBRL', 'MIRBTC', 'MIRBUSD', 'MIRUSDT', 'BARBTC', 'BARBUSD', 'BARUSDT', 'FORTHBTC', 'FORTHBUSD', 'FORTHUSDT', 'CAKEGBP', 'DOGERUB', 'HOTBRL', 'WRXEUR', 'EZBTC', 'EZETH', 'BAKEUSDT', 'BURGERBUSD', 'BURGERUSDT', 'SLPBUSD', 'SLPUSDT', 'TRXAUD', 'TRXEUR', 'VETTRY', 'SHIBUSDT', 'SHIBBUSD', 'ICPBTC', 'ICPBNB', 'ICPBUSD', 'ICPUSDT', 'SHIBEUR', 'SHIBRUB', 'ETCEUR', 'ETCBRL', 'DOGEBIDR', 'ARBTC', 'ARBNB', 'ARBUSD', 'ARUSDT', 'POLSBTC', 'POLSBNB', 'POLSBUSD', 'POLSUSDT', 'MDXBTC', 'MDXBNB', 'MDXBUSD', 'MDXUSDT', 'MASKBNB', 'MASKBUSD', 'MASKUSDT', 'LPTBTC', 'LPTBNB', 'LPTBUSD', 'LPTUSDT', 'ETHUAH', 'MATICBRL', 'SOLEUR', 'SHIBBRL', 'AGIXBTC', 'ICPEUR', 'MATICGBP', 'SHIBTRY', 'MATICBIDR', 'MATICRUB', 'NUBTC', 'NUBNB', 'NUBUSD', 'NUUSDT', 'XVGUSDT', 'RLCBUSD', 'CELRBUSD', 'ATMBUSD', 'ZENBUSD', 'FTMBUSD', 'THETABUSD', 'WINBUSD', 'KAVABUSD', 'XEMBUSD', 'ATABTC', 'ATABNB', 'ATABUSD', 'ATAUSDT', 'GTCBTC', 'GTCBNB', 'GTCBUSD', 'GTCUSDT', 'TORNBTC', 'TORNBNB', 'TORNBUSD', 'TORNUSDT', 'MATICTRY', 'ETCGBP', 'SOLGBP', 'BAKEBTC', 'COTIBUSD', 'KEEPBTC', 'KEEPBNB', 'KEEPBUSD', 'KEEPUSDT', 'SOLTRY', 'RUNEGBP', 'SOLBRL', 'SCBUSD', 'CHRBUSD', 'STMXBUSD', 'HNTBUSD', 'FTTBUSD', 'DOCKBUSD', 'ADABIDR', 'ERNBNB', 'ERNBUSD', 'ERNUSDT', 'KLAYBTC', 'KLAYBNB', 'KLAYBUSD', 'KLAYUSDT', 'RUNEEUR', 'MATICAUD', 'DOTRUB', 'UTKBUSD', 'IOTXBUSD', 'PHAUSDT', 'SOLRUB', 'RUNEAUD', 'BUSDUAH', 'BONDBTC', 'BONDBNB', 'BONDBUSD', 'BONDUSDT', 'MLNBTC', 'MLNBNB', 'MLNBUSD', 'MLNUSDT', 'GRTTRY', 'CAKEBRL', 'ICPRUB', 'DOTAUD', 'AAVEBRL', 'EOSAUD', 'DEXEUSDT', 'LTOBUSD', 'ADXBUSD', 'QUICKBTC', 'QUICKBNB', 'QUICKBUSD', 'C98USDT', 'C98BUSD', 'C98BNB', 'C98BTC', 'CLVBTC', 'CLVBNB', 'CLVBUSD', 'CLVUSDT', 'QNTBTC', 'QNTBNB', 'QNTBUSD', 'QNTUSDT', 'FLOWBTC', 'FLOWBNB', 'FLOWBUSD', 'FLOWUSDT', 'XECBUSD', 'AXSBRL', 'AXSAUD', 'TVKUSDT', 'MINABTC', 'MINABNB', 'MINABUSD', 'MINAUSDT', 'RAYBNB', 'RAYBUSD', 'RAYUSDT', 'FARMBTC', 'FARMBNB', 'FARMBUSD', 'FARMUSDT', 'ALPACABTC', 'ALPACABNB', 'ALPACABUSD', 'ALPACAUSDT', 'TLMTRY', 'QUICKUSDT', 'ORNBUSD', 'MBOXBTC', 'MBOXBNB', 'MBOXBUSD', 'MBOXUSDT', 'VGXBTC', 'VGXETH', 'FORUSDT', 'REQUSDT', 'GHSTUSDT', 'TRURUB', 'FISBRL', 'WAXPUSDT', 'WAXPBUSD', 'WAXPBNB', 'WAXPBTC', 'TRIBEBTC', 'TRIBEBNB', 'TRIBEBUSD', 'TRIBEUSDT', 'GNOUSDT', 'GNOBUSD', 'GNOBNB', 'GNOBTC', 'ARPATRY', 'PROMBTC', 'MTLBUSD', 'OGNBUSD', 'XECUSDT', 'C98BRL', 'SOLAUD', 'XRPBIDR', 'POLYBUSD', 'ELFUSDT', 'DYDXUSDT', 'DYDXBUSD', 'DYDXBNB', 'DYDXBTC', 'ELFBUSD', 'POLYUSDT', 'IDEXUSDT', 'VIDTUSDT', 'SOLBIDR', 'BTCUSDP', 'ETHUSDP', 'BNBUSDP', 'USDPBUSD', 'USDPUSDT', 'GALAUSDT', 'GALABUSD', 'GALABNB', 'GALABTC', 'FTMBIDR', 'ALGOBIDR', 'CAKEAUD', 'KSMAUD', 'WAVESRUB', 'SUNBUSD', 'ILVUSDT', 'ILVBUSD', 'ILVBNB', 'ILVBTC', 'RENBUSD', 'YGGUSDT', 'YGGBUSD', 'YGGBNB', 'YGGBTC', 'STXBUSD', 'SYSUSDT', 'DFUSDT', 'SOLUSDC', 'ARPARUB', 'LTCUAH', 'FETBUSD', 'ARPABUSD', 'LSKBUSD', 'AVAXBIDR', 'ALICEBIDR', 'FIDAUSDT', 'FIDABUSD', 'FIDABNB', 'FIDABTC', 'DENTBUSD', 'FRONTUSDT', 'CVPUSDT', 'AGLDBTC', 'AGLDBNB', 'AGLDBUSD', 'AGLDUSDT', 'RADBTC', 'RADBNB', 'RADBUSD', 'RADUSDT', 'UNIAUD', 'HIVEBUSD', 'STPTBUSD', 'BETABTC', 'BETABNB', 'BETABUSD', 'BETAUSDT', 'SHIBAUD', 'RAREBTC', 'RAREBNB', 'RAREBUSD', 'RAREUSDT', 'AVAXBRL', 'AVAXAUD', 'LUNAAUD', 'TROYBUSD', 'AXSETH', 'FTMETH', 'SOLETH', 'SSVBTC', 'SSVETH', 'LAZIOTRY', 'LAZIOEUR', 'LAZIOBTC', 'LAZIOUSDT', 'CHESSBTC', 'CHESSBNB', 'CHESSBUSD', 'CHESSUSDT', 'FTMAUD', 'FTMBRL', 'SCRTBUSD', 'ADXUSDT', 'AUCTIONUSDT', 'CELOBUSD', 'FTMRUB', 'NUAUD', 'NURUB', 'REEFTRY', 'REEFBIDR', 'SHIBDOGE', 'DARUSDT', 'DARBUSD', 'DARBNB', 'DARBTC', 'BNXBTC', 'BNXBNB', 'BNXBUSD', 'BNXUSDT', 'RGTUSDT', 'RGTBTC', 'RGTBUSD', 'RGTBNB', 'LAZIOBUSD', 'OXTBUSD', 'MANATRY', 'ALGORUB', 'SHIBUAH', 'LUNABIDR', 'AUDUSDC', 'MOVRBTC', 'MOVRBNB', 'MOVRBUSD', 'MOVRUSDT', 'CITYBTC', 'CITYBNB', 'CITYBUSD', 'CITYUSDT', 'ENSBTC', 'ENSBNB', 'ENSBUSD', 'ENSUSDT', 'SANDETH', 'DOTETH', 'MATICETH', 'ANKRBUSD', 'SANDTRY', 'MANABRL', 'KP3RUSDT', 'QIUSDT', 'QIBUSD', 'QIBNB', 'QIBTC', 'PORTOBTC', 'PORTOUSDT', 'PORTOTRY', 'PORTOEUR', 'POWRUSDT', 'POWRBUSD', 'AVAXETH', 'SLPTRY', 'FISTRY', 'LRCTRY', 'CHRETH', 'FISBIDR', 'VGXUSDT', 'GALAETH', 'JASMYUSDT', 'JASMYBUSD', 'JASMYBNB', 'JASMYBTC', 'AMPBTC', 'AMPBNB', 'AMPBUSD', 'AMPUSDT', 'PLABTC', 'PLABNB', 'PLABUSD', 'PLAUSDT', 'PYRBTC', 'PYRBUSD', 'PYRUSDT', 'RNDRBTC', 'RNDRUSDT', 'RNDRBUSD', 'ALCXBTC', 'ALCXBUSD', 'ALCXUSDT', 'SANTOSBTC', 'SANTOSUSDT', 'SANTOSBRL', 'SANTOSTRY', 'MCBTC', 'MCBUSD', 'MCUSDT', 'BELTRY', 'COCOSBUSD', 'DENTTRY', 'ENJTRY', 'NEORUB', 'SANDAUD', 'SLPBIDR', 'ANYBTC', 'ANYBUSD', 'ANYUSDT', 'BICOBTC', 'BICOBUSD', 'BICOUSDT', 'FLUXBTC', 'FLUXBUSD', 'FLUXUSDT', 'ALICETRY', 'FXSUSDT', 'GALABRL', 'GALATRY', 'LUNATRY', 'REQBUSD', 'SANDBRL', 'MANABIDR', 'SANDBIDR', 'VOXELBTC', 'VOXELBNB', 'VOXELBUSD', 'VOXELUSDT', 'COSBUSD', 'CTXCBUSD', 'FTMTRY', 'MANABNB', 'MINATRY', 'XTZTRY', 'HIGHBTC', 'HIGHBUSD', 'HIGHUSDT', 'CVXBTC', 'CVXBUSD', 'CVXUSDT', 'PEOPLEBTC', 'PEOPLEBUSD', 'PEOPLEUSDT', 'OOKIBUSD', 'OOKIUSDT', 'COCOSTRY', 'GXSBNB', 'LINKBNB', 'LUNAETH', 'MDTBUSD', 'NULSBUSD', 'SPELLBTC', 'SPELLUSDT', 'SPELLBUSD', 'USTBTC', 'USTBUSD', 'USTUSDT', 'JOEBTC', 'JOEBUSD', 'JOEUSDT', 'ATOMETH', 'DUSKBUSD', 'EGLDETH', 'ICPETH', 'LUNABRL', 'LUNAUST', 'NEARETH', 'ROSEBNB', 'VOXELETH', 'ALICEBNB', 'ATOMTRY', 'ETHUST', 'GALAAUD', 'LRCBNB', 'ONEETH', 'OOKIBNB', 'ACHBTC', 'ACHBUSD', 'ACHUSDT', 'IMXBTC', 'IMXBUSD', 'IMXUSDT', 'GLMRBTC', 'GLMRBUSD', 'GLMRUSDT', 'ATOMBIDR', 'DYDXETH', 'FARMETH', 'FORBNB', 'ICPTRY', 'JASMYETH', 'LINABNB', 'OOKIETH', 'ROSEETH', 'UMABUSD', 'UNIETH', 'XTZETH', 'LOKABTC', 'LOKABNB', 'LOKABUSD', 'LOKAUSDT', 'ATOMBRL', 'BNBUST', 'CRVETH', 'HIGHBNB', 'NEARRUB', 'ROSETRY', 'SCRTUSDT', 'API3BTC', 'API3BUSD', 'API3USDT', 'BTTCUSDT', 'BTTCUSDC', 'BTTCTRY', 'ACABTC', 'ACABUSD', 'ACAUSDT', 'ANCBTC', 'ANCBUSD', 'ANCUSDT', 'BDOTDOT', 'XNOBTC', 'XNOETH', 'XNOBUSD', 'XNOUSDT', 'COSTRY', 'KAVAETH', 'MCBNB', 'ONETRY', 'WOOBTC', 'WOOBNB', 'WOOBUSD', 'WOOUSDT', 'CELRETH', 'PEOPLEBNB', 'SLPBNB', 'SPELLBNB', 'SPELLTRY', 'TFUELBUSD', 'AXSTRY', 'DARTRY', 'NEARTRY', 'IDEXBNB', 'ALPINEEUR', 'ALPINETRY', 'ALPINEUSDT', 'ALPINEBTC', 'TUSDT', 'TBUSD', 'API3BNB', 'BETAETH', 'INJTRY', 'TLMBNB', 'ASTRBUSD', 'ASTRUSDT', 'API3TRY', 'GLMRBNB', 'MBOXTRY', 'GMTBTC', 'GMTBNB', 'GMTBUSD', 'GMTUSDT', 'ANCBNB', 'ATOMEUR', 'GALAEUR', 'KSMETH', 'UMATRY', 'KDABTC', 'KDABUSD', 'KDAUSDT', 'APEUSDT', 'APEBUSD', 'APEBTC', 'ALPINEBUSD', 'LUNAGBP', 'NEAREUR', 'TWTTRY', 'WAVESEUR', 'APEEUR', 'APEGBP', 'APETRY', 'BSWUSDT', 'BSWBUSD', 'BSWBNB', 'APEBNB', 'GMTBRL', 'GMTETH', 'JASMYTRY', 'SANTOSBUSD', 'APEAUD', 'BIFIUSDT', 'GMTEUR', 'IMXBNB', 'RUNEETH', 'AVAXGBP', 'MULTIBTC', 'MULTIBUSD', 'MULTIUSDT', 'APEETH', 'BSWETH', 'FILTRY', 'FTMEUR', 'GMTGBP', 'ZILTRY', 'GMTTRY', 'WAVESTRY', 'BTCUST', 'ASTRBTC', 'ASTRETH', 'BSWTRY', 'FTTETH', 'FUNBNB', 'PORTOBUSD', 'STEEMUSDT', 'ZILEUR', 'APEBRL', 'AUDIOTRY', 'BTTCBUSD', 'GMTAUD', 'MBLBUSD', 'MOBUSDT', 'MOBBUSD', 'MOBBTC', 'NEXOUSDT', 'NEXOBUSD', 'NEXOBTC', 'REIUSDT', 'REIBNB', 'REIETH', 'GALUSDT', 'GALBUSD', 'GALBNB', 'GALBTC', 'JASMYEUR', 'KNCBNB', 'SHIBGBP', 'GALEUR', 'GALTRY', 'LDOBUSD', 'LDOUSDT', 'LDOBTC', 'ENSTRY', 'DAREUR', 'DARETH', 'ALGOETH', 'ALGOTRY', 'GALETH', 'EPXUSDT', 'EPXBUSD', 'RUNETRY', 'GALBRL', 'STEEMBUSD', 'CVCBUSD', 'REIBUSD', 'DREPBUSD', 'AKROBUSD', 'PUNDIXBUSD', 'LUNCBUSD', 'USTCBUSD', 'OPBTC', 'OPBUSD', 'OPUSDT', 'OGBUSD', 'KEYBUSD', 'ASRBUSD', 'FIROBUSD', 'NKNBUSD', 'OPBNB', 'OPEUR', 'GTOBUSD', 'SNXETH', 'WBTCBUSD', 'BELETH', 'LITETH', 'LEVERUSDT', 'LEVERBUSD', 'BURGERETH', 'PEOPLEETH', 'UNFIETH', 'BONDETH', 'STORJTRY', 'OPETH', 'ETCTRY', 'WINGETH', 'FILETH', 'GLMBUSD', 'SSVBUSD', 'STGBTC', 'STGBUSD', 'STGUSDT', 'ANKRTRY', 'ARKBUSD', 'BETHBUSD', 'LOOMBUSD', 'SNMBUSD', 'AMBBUSD', 'LUNCUSDT', 'PHBBUSD', 'GASBUSD', 'NEBLBUSD', 'PROSBUSD', 'VIBBUSD', 'GMXBTC', 'GMXBUSD', 'GMXUSDT', 'AGIXBUSD', 'NEBLUSDT', 'SNTBUSD', 'POLYXBTC', 'POLYXBUSD', 'POLYXUSDT', 'APTBTC', 'APTUSDT', 'APTBUSD', 'BTCPLN', 'ETHPLN', 'BUSDPLN', 'APTEUR', 'APTTRY', 'APTBRL', 'QKCBUSD', 'OSMOBTC', 'OSMOUSDT', 'OSMOBUSD', 'HFTBTC', 'HFTBUSD', 'HFTUSDT', 'ARPAETH', 'PHBUSDT', 'VITEBUSD', 'HOOKBTC', 'HOOKUSDT', 'HOOKBUSD', 'HOOKBNB', 'MAGICBTC', 'MAGICBUSD', 'MAGICUSDT', 'BUSDRON', 'HIFIETH', 'HIFIUSDT', 'RPLBTC', 'RPLBUSD', 'RPLUSDT', 'PROSUSDT', 'FETTRY', 'GFTBUSD', 'AGIXUSDT', 'APTETH', 'BTCRON', 'GNSUSDT', 'GNSBTC', 'SYNBTC', 'SYNUSDT', 'VIBUSDT', 'SSVUSDT', 'LQTYUSDT', 'LQTYBTC', 'AMBUSDT', 'BETHUSDT', 'CFXTRY', 'STXTRY', 'USTCUSDT', 'GASUSDT', 'GLMUSDT', 'PROMUSDT', 'QKCUSDT', 'UFTUSDT', 'IDBTC', 'IDBNB', 'IDUSDT', 'ARBBTC', 'ARBUSDT', 'AGIXTRY', 'LOOMUSDT', 'OAXUSDT', 'ARBTUSD', 'ARBTRY', 'ARBEUR', 'IDTUSD', 'IDTRY', 'IDEUR', 'LDOTUSD', 'MATICTUSD', 'OPTUSD', 'SOLTUSD', 'SSVTUSD', 'RDNTBTC', 'RDNTUSDT', 'RDNTTUSD', 'ARBRUB', 'JOETRY', 'MAGICTRY', 'USDTPLN', 'ACHTRY', 'XVSTRY', 'EGLDRON', 'USDTRON', 'USDTARS', 'DOGETUSD', 'WBTCUSDT', 'EDUUSDT', 'EDUTUSD', 'EDUBNB', 'EDUBTC', 'EDUEUR', 'EDUTRY', 'SUIUSDT', 'SUITUSD', 'SUIBTC', 'SUIBNB', 'SUIEUR', 'SUITRY', 'AERGOUSDT', 'RNDRTRY', 'PEPEUSDT', 'PEPETUSD', 'FLOKIUSDT', 'FLOKITUSD', 'OGTRY', 'PEPETRY', 'WBETHETH', 'ASTUSDT', 'SNTUSDT', 'FLOKITRY', 'CITYTRY', 'COMBOUSDT', 'COMBOBNB', 'COMBOTRY', 'LTCTRY', 'RADTRY', 'BTCARS', 'OPTRY', 'PAXGTRY', 'MAVBTC', 'MAVUSDT', 'MAVTUSD', 'CFXTUSD', 'PENDLEBTC', 'PENDLEUSDT', 'PENDLETUSD', 'MAVTRY', 'OCEANTRY', 'TUSDTRY', 'ARBETH', 'BCHTRY', 'XVGTRY', 'XVGTUSD', 'ARKMUSDT', 'ARKMTUSD', 'ARKMTRY', 'ARKMBNB', 'ARKMBTC', 'WBETHUSDT', 'ACATRY', 'AVAXTUSD', 'COMPTUSD', 'COMPTRY', 'XECTRY', 'QUICKTUSD', 'WLDUSDT', 'WLDBTC', 'BNBFDUSD', 'FDUSDBUSD', 'FDUSDUSDT', 'ARKMRUB', 'WLDTRY', 'WLDRUB', 'AMPTRY', 'OGNTRY', 'BTCFDUSD', 'ETHFDUSD', 'ASRTRY', 'ATMTRY', 'ACMTRY', 'BARTRY', 'JUVTRY', 'PSGTRY', 'SEIBNB', 'SEIBTC', 'SEIFDUSD', 'SEITRY', 'SEIUSDT', 'CYBERBNB', 'CYBERBTC', 'CYBERFDUSD', 'CYBERTRY', 'CYBERUSDT', 'CYBERTUSD', 'SEITUSD', 'LPTTRY', 'UNITRY']\n"
     ]
    },
    {
     "data": {
      "text/plain": "Tickers:   0%|          | 0/1 [00:00<?, ?it/s]",
      "application/vnd.jupyter.widget-view+json": {
       "version_major": 2,
       "version_minor": 0,
       "model_id": "6b0468f8e4e74fd4a68d47aa93a142ed"
      }
     },
     "metadata": {},
     "output_type": "display_data"
    },
    {
     "data": {
      "text/plain": "monthly files to download:   0%|          | 0/1 [00:00<?, ?files/s]",
      "application/vnd.jupyter.widget-view+json": {
       "version_major": 2,
       "version_minor": 0,
       "model_id": "fdff6746d5924d75b9198cee289ac215"
      }
     },
     "metadata": {},
     "output_type": "display_data"
    },
    {
     "data": {
      "text/plain": "daily files to download: 0files [00:00, ?files/s]",
      "application/vnd.jupyter.widget-view+json": {
       "version_major": 2,
       "version_minor": 0,
       "model_id": "6769de0475ed412faabd5f4b1a145ce5"
      }
     },
     "metadata": {},
     "output_type": "display_data"
    }
   ],
   "source": [
    "from binance_historical_data import BinanceDataDumper\n",
    "\n",
    "data_dumper = BinanceDataDumper(\n",
    "    path_dir_where_to_dump=\".\",\n",
    "    asset_class=\"spot\",  # spot, um, cm\n",
    "    data_type=\"klines\",  # aggTrades, klines, trades\n",
    "    data_frequency=\"1m\",\n",
    ")\n",
    "\n",
    "print(data_dumper.get_list_all_trading_pairs())\n",
    "\n",
    "data_dumper.dump_data(tickers=[\"NEARUSDT\"])"
   ],
   "metadata": {
    "collapsed": false,
    "ExecuteTime": {
     "end_time": "2023-09-03T16:46:27.930504629Z",
     "start_time": "2023-09-03T16:46:16.461001228Z"
    }
   }
  },
  {
   "cell_type": "code",
   "source": [
    "import pandas as pd\n",
    "import numpy as np\n",
    "import os\n",
    "\n",
    "filenames = next(os.walk(\"./spot/monthly/klines/NEARUSDT/1m\"), (None, None, []))[2]  # [] if no file\n",
    "\n",
    "columns = [\n",
    "    \"Open time\",\n",
    "    \"Open\",\n",
    "    \"High\",\n",
    "    \"Low\",\n",
    "    \"Close\",\n",
    "    \"Volume\",\n",
    "    \"Close time\",\n",
    "    \"Quote asset volume\",\n",
    "    \"Number of trades\",\n",
    "    \"Taker buy base asset volume\",\n",
    "    \"Taker buy quote asset volume\",\n",
    "    \"Ignore\"\n",
    "]\n",
    "\n",
    "df = pd.DataFrame(columns=columns)\n",
    "\n",
    "for f in filenames:\n",
    "    new_df = pd.read_csv(f\"./spot/monthly/klines/NEARUSDT/1m/{f}\", header=None, names=columns)\n",
    "    df = pd.concat([df, new_df])\n",
    "df = df.sort_values(by=\"Open time\")\n",
    "df"
   ],
   "metadata": {
    "colab": {
     "base_uri": "https://localhost:8080/",
     "height": 441
    },
    "id": "B2UGi3Kw5XVW",
    "executionInfo": {
     "status": "ok",
     "timestamp": 1692980359426,
     "user_tz": -180,
     "elapsed": 22,
     "user": {
      "displayName": "Ozuwara",
      "userId": "07041248871112494614"
     }
    },
    "outputId": "05aa0f8d-49e2-4272-cc23-c863cb4526b3",
    "ExecuteTime": {
     "end_time": "2023-09-03T16:46:29.871759712Z",
     "start_time": "2023-09-03T16:46:27.932140168Z"
    }
   },
   "execution_count": 23,
   "outputs": [
    {
     "data": {
      "text/plain": "           Open time    Open    High     Low   Close      Volume  \\\n0      1602651600000  1.3000  1.8800  1.3000  1.3760  1429560.44   \n1      1602651660000  1.3759  1.4000  1.1111  1.2493   987505.68   \n2      1602651720000  1.2489  1.3593  1.1660  1.2552   549711.33   \n3      1602651780000  1.2499  1.2500  1.1359  1.1742   343258.80   \n4      1602651840000  1.1754  1.2752  1.1753  1.2300   243382.88   \n...              ...     ...     ...     ...     ...         ...   \n44635  1690847700000  1.3710  1.3710  1.3690  1.3690     5932.20   \n44636  1690847760000  1.3690  1.3690  1.3690  1.3690       81.30   \n44637  1690847820000  1.3690  1.3700  1.3690  1.3690     1278.00   \n44638  1690847880000  1.3690  1.3700  1.3690  1.3700      468.60   \n44639  1690847940000  1.3700  1.3700  1.3700  1.3700     1160.60   \n\n          Close time  Quote asset volume Number of trades  \\\n0      1602651659999        2.313165e+06             1848   \n1      1602651719999        1.205528e+06             1392   \n2      1602651779999        6.942747e+05             1103   \n3      1602651839999        4.081314e+05              773   \n4      1602651899999        2.965310e+05              440   \n...              ...                 ...              ...   \n44635  1690847759999        8.131457e+03               23   \n44636  1690847819999        1.112997e+02                3   \n44637  1690847879999        1.749664e+03               10   \n44638  1690847939999        6.415331e+02                6   \n44639  1690847999999        1.590022e+03                5   \n\n       Taker buy base asset volume  Taker buy quote asset volume Ignore  \n0                        520043.50                 837306.088337      0  \n1                        614158.78                 747451.518743      0  \n2                        277203.12                 349648.438905      0  \n3                        170461.39                 202748.271257      0  \n4                        170472.03                 207510.362489      0  \n...                            ...                           ...    ...  \n44635                         0.00                      0.000000      0  \n44636                        81.30                    111.299700      0  \n44637                       438.10                    599.840400      0  \n44638                       468.60                    641.533100      0  \n44639                      1160.60                   1590.022000      0  \n\n[1468516 rows x 12 columns]",
      "text/html": "<div>\n<style scoped>\n    .dataframe tbody tr th:only-of-type {\n        vertical-align: middle;\n    }\n\n    .dataframe tbody tr th {\n        vertical-align: top;\n    }\n\n    .dataframe thead th {\n        text-align: right;\n    }\n</style>\n<table border=\"1\" class=\"dataframe\">\n  <thead>\n    <tr style=\"text-align: right;\">\n      <th></th>\n      <th>Open time</th>\n      <th>Open</th>\n      <th>High</th>\n      <th>Low</th>\n      <th>Close</th>\n      <th>Volume</th>\n      <th>Close time</th>\n      <th>Quote asset volume</th>\n      <th>Number of trades</th>\n      <th>Taker buy base asset volume</th>\n      <th>Taker buy quote asset volume</th>\n      <th>Ignore</th>\n    </tr>\n  </thead>\n  <tbody>\n    <tr>\n      <th>0</th>\n      <td>1602651600000</td>\n      <td>1.3000</td>\n      <td>1.8800</td>\n      <td>1.3000</td>\n      <td>1.3760</td>\n      <td>1429560.44</td>\n      <td>1602651659999</td>\n      <td>2.313165e+06</td>\n      <td>1848</td>\n      <td>520043.50</td>\n      <td>837306.088337</td>\n      <td>0</td>\n    </tr>\n    <tr>\n      <th>1</th>\n      <td>1602651660000</td>\n      <td>1.3759</td>\n      <td>1.4000</td>\n      <td>1.1111</td>\n      <td>1.2493</td>\n      <td>987505.68</td>\n      <td>1602651719999</td>\n      <td>1.205528e+06</td>\n      <td>1392</td>\n      <td>614158.78</td>\n      <td>747451.518743</td>\n      <td>0</td>\n    </tr>\n    <tr>\n      <th>2</th>\n      <td>1602651720000</td>\n      <td>1.2489</td>\n      <td>1.3593</td>\n      <td>1.1660</td>\n      <td>1.2552</td>\n      <td>549711.33</td>\n      <td>1602651779999</td>\n      <td>6.942747e+05</td>\n      <td>1103</td>\n      <td>277203.12</td>\n      <td>349648.438905</td>\n      <td>0</td>\n    </tr>\n    <tr>\n      <th>3</th>\n      <td>1602651780000</td>\n      <td>1.2499</td>\n      <td>1.2500</td>\n      <td>1.1359</td>\n      <td>1.1742</td>\n      <td>343258.80</td>\n      <td>1602651839999</td>\n      <td>4.081314e+05</td>\n      <td>773</td>\n      <td>170461.39</td>\n      <td>202748.271257</td>\n      <td>0</td>\n    </tr>\n    <tr>\n      <th>4</th>\n      <td>1602651840000</td>\n      <td>1.1754</td>\n      <td>1.2752</td>\n      <td>1.1753</td>\n      <td>1.2300</td>\n      <td>243382.88</td>\n      <td>1602651899999</td>\n      <td>2.965310e+05</td>\n      <td>440</td>\n      <td>170472.03</td>\n      <td>207510.362489</td>\n      <td>0</td>\n    </tr>\n    <tr>\n      <th>...</th>\n      <td>...</td>\n      <td>...</td>\n      <td>...</td>\n      <td>...</td>\n      <td>...</td>\n      <td>...</td>\n      <td>...</td>\n      <td>...</td>\n      <td>...</td>\n      <td>...</td>\n      <td>...</td>\n      <td>...</td>\n    </tr>\n    <tr>\n      <th>44635</th>\n      <td>1690847700000</td>\n      <td>1.3710</td>\n      <td>1.3710</td>\n      <td>1.3690</td>\n      <td>1.3690</td>\n      <td>5932.20</td>\n      <td>1690847759999</td>\n      <td>8.131457e+03</td>\n      <td>23</td>\n      <td>0.00</td>\n      <td>0.000000</td>\n      <td>0</td>\n    </tr>\n    <tr>\n      <th>44636</th>\n      <td>1690847760000</td>\n      <td>1.3690</td>\n      <td>1.3690</td>\n      <td>1.3690</td>\n      <td>1.3690</td>\n      <td>81.30</td>\n      <td>1690847819999</td>\n      <td>1.112997e+02</td>\n      <td>3</td>\n      <td>81.30</td>\n      <td>111.299700</td>\n      <td>0</td>\n    </tr>\n    <tr>\n      <th>44637</th>\n      <td>1690847820000</td>\n      <td>1.3690</td>\n      <td>1.3700</td>\n      <td>1.3690</td>\n      <td>1.3690</td>\n      <td>1278.00</td>\n      <td>1690847879999</td>\n      <td>1.749664e+03</td>\n      <td>10</td>\n      <td>438.10</td>\n      <td>599.840400</td>\n      <td>0</td>\n    </tr>\n    <tr>\n      <th>44638</th>\n      <td>1690847880000</td>\n      <td>1.3690</td>\n      <td>1.3700</td>\n      <td>1.3690</td>\n      <td>1.3700</td>\n      <td>468.60</td>\n      <td>1690847939999</td>\n      <td>6.415331e+02</td>\n      <td>6</td>\n      <td>468.60</td>\n      <td>641.533100</td>\n      <td>0</td>\n    </tr>\n    <tr>\n      <th>44639</th>\n      <td>1690847940000</td>\n      <td>1.3700</td>\n      <td>1.3700</td>\n      <td>1.3700</td>\n      <td>1.3700</td>\n      <td>1160.60</td>\n      <td>1690847999999</td>\n      <td>1.590022e+03</td>\n      <td>5</td>\n      <td>1160.60</td>\n      <td>1590.022000</td>\n      <td>0</td>\n    </tr>\n  </tbody>\n</table>\n<p>1468516 rows × 12 columns</p>\n</div>"
     },
     "execution_count": 23,
     "metadata": {},
     "output_type": "execute_result"
    }
   ]
  },
  {
   "cell_type": "code",
   "source": [
    "OHLC_COLUMNS = [\n",
    "    \"Open\",\n",
    "    \"High\",\n",
    "    \"Low\",\n",
    "    \"Close\"]\n",
    "dataset = df.loc[:, OHLC_COLUMNS].astype(np.float64)\n",
    "dataset = pd.DataFrame(dataset.to_numpy(), columns=OHLC_COLUMNS)\n",
    "\n",
    "# add technical indicators to dataset\n",
    "dataset['SMA_512'] = dataset['Close'].rolling(window=512).mean()\n",
    "dataset['SMA_1024'] = dataset['Close'].rolling(window=1024).mean()\n",
    "dataset['SMA_4096'] = dataset['Close'].rolling(window=4096).mean()\n",
    "\n",
    "# convert SMA columns to distance in percentages from \"Close\"\n",
    "dataset['SMA_512'] = ((dataset['Close'] - dataset['SMA_512']) / dataset['SMA_512'])\n",
    "dataset['SMA_1024'] = ((dataset['Close'] - dataset['SMA_1024']) / dataset['SMA_1024'])\n",
    "dataset['SMA_4096'] = ((dataset['Close'] - dataset['SMA_4096']) / dataset['SMA_4096'])\n",
    "\n",
    "# drop NaN rows resulting from the SMA calculations and reset index\n",
    "dataset = dataset.dropna().reset_index(drop=True)\n",
    "dataset"
   ],
   "metadata": {
    "colab": {
     "base_uri": "https://localhost:8080/",
     "height": 424
    },
    "id": "QPZCBk7d_2zk",
    "executionInfo": {
     "status": "ok",
     "timestamp": 1692980359427,
     "user_tz": -180,
     "elapsed": 19,
     "user": {
      "displayName": "Ozuwara",
      "userId": "07041248871112494614"
     }
    },
    "outputId": "05fefa34-76c1-4a29-af1b-18c5d23e2ddb",
    "ExecuteTime": {
     "end_time": "2023-09-03T16:46:30.011631701Z",
     "start_time": "2023-09-03T16:46:29.785630683Z"
    }
   },
   "execution_count": 24,
   "outputs": [
    {
     "data": {
      "text/plain": "           Open    High     Low   Close   SMA_512  SMA_1024  SMA_4096\n0        0.7531  0.7540  0.7506  0.7512 -0.105323 -0.144309 -0.302967\n1        0.7521  0.7547  0.7504  0.7504 -0.105994 -0.145028 -0.303611\n2        0.7527  0.7582  0.7526  0.7581 -0.096551 -0.136071 -0.296387\n3        0.7585  0.7604  0.7583  0.7599 -0.094172 -0.133838 -0.294637\n4        0.7600  0.7611  0.7593  0.7606 -0.093092 -0.132856 -0.293921\n...         ...     ...     ...     ...       ...       ...       ...\n1464416  1.3710  1.3710  1.3690  1.3690 -0.001843 -0.010031 -0.020798\n1464417  1.3690  1.3690  1.3690  1.3690 -0.001824 -0.010010 -0.020793\n1464418  1.3690  1.3700  1.3690  1.3690 -0.001804 -0.009989 -0.020788\n1464419  1.3690  1.3700  1.3690  1.3700 -0.001057 -0.009247 -0.020067\n1464420  1.3700  1.3700  1.3700  1.3700 -0.001037 -0.009227 -0.020062\n\n[1464421 rows x 7 columns]",
      "text/html": "<div>\n<style scoped>\n    .dataframe tbody tr th:only-of-type {\n        vertical-align: middle;\n    }\n\n    .dataframe tbody tr th {\n        vertical-align: top;\n    }\n\n    .dataframe thead th {\n        text-align: right;\n    }\n</style>\n<table border=\"1\" class=\"dataframe\">\n  <thead>\n    <tr style=\"text-align: right;\">\n      <th></th>\n      <th>Open</th>\n      <th>High</th>\n      <th>Low</th>\n      <th>Close</th>\n      <th>SMA_512</th>\n      <th>SMA_1024</th>\n      <th>SMA_4096</th>\n    </tr>\n  </thead>\n  <tbody>\n    <tr>\n      <th>0</th>\n      <td>0.7531</td>\n      <td>0.7540</td>\n      <td>0.7506</td>\n      <td>0.7512</td>\n      <td>-0.105323</td>\n      <td>-0.144309</td>\n      <td>-0.302967</td>\n    </tr>\n    <tr>\n      <th>1</th>\n      <td>0.7521</td>\n      <td>0.7547</td>\n      <td>0.7504</td>\n      <td>0.7504</td>\n      <td>-0.105994</td>\n      <td>-0.145028</td>\n      <td>-0.303611</td>\n    </tr>\n    <tr>\n      <th>2</th>\n      <td>0.7527</td>\n      <td>0.7582</td>\n      <td>0.7526</td>\n      <td>0.7581</td>\n      <td>-0.096551</td>\n      <td>-0.136071</td>\n      <td>-0.296387</td>\n    </tr>\n    <tr>\n      <th>3</th>\n      <td>0.7585</td>\n      <td>0.7604</td>\n      <td>0.7583</td>\n      <td>0.7599</td>\n      <td>-0.094172</td>\n      <td>-0.133838</td>\n      <td>-0.294637</td>\n    </tr>\n    <tr>\n      <th>4</th>\n      <td>0.7600</td>\n      <td>0.7611</td>\n      <td>0.7593</td>\n      <td>0.7606</td>\n      <td>-0.093092</td>\n      <td>-0.132856</td>\n      <td>-0.293921</td>\n    </tr>\n    <tr>\n      <th>...</th>\n      <td>...</td>\n      <td>...</td>\n      <td>...</td>\n      <td>...</td>\n      <td>...</td>\n      <td>...</td>\n      <td>...</td>\n    </tr>\n    <tr>\n      <th>1464416</th>\n      <td>1.3710</td>\n      <td>1.3710</td>\n      <td>1.3690</td>\n      <td>1.3690</td>\n      <td>-0.001843</td>\n      <td>-0.010031</td>\n      <td>-0.020798</td>\n    </tr>\n    <tr>\n      <th>1464417</th>\n      <td>1.3690</td>\n      <td>1.3690</td>\n      <td>1.3690</td>\n      <td>1.3690</td>\n      <td>-0.001824</td>\n      <td>-0.010010</td>\n      <td>-0.020793</td>\n    </tr>\n    <tr>\n      <th>1464418</th>\n      <td>1.3690</td>\n      <td>1.3700</td>\n      <td>1.3690</td>\n      <td>1.3690</td>\n      <td>-0.001804</td>\n      <td>-0.009989</td>\n      <td>-0.020788</td>\n    </tr>\n    <tr>\n      <th>1464419</th>\n      <td>1.3690</td>\n      <td>1.3700</td>\n      <td>1.3690</td>\n      <td>1.3700</td>\n      <td>-0.001057</td>\n      <td>-0.009247</td>\n      <td>-0.020067</td>\n    </tr>\n    <tr>\n      <th>1464420</th>\n      <td>1.3700</td>\n      <td>1.3700</td>\n      <td>1.3700</td>\n      <td>1.3700</td>\n      <td>-0.001037</td>\n      <td>-0.009227</td>\n      <td>-0.020062</td>\n    </tr>\n  </tbody>\n</table>\n<p>1464421 rows × 7 columns</p>\n</div>"
     },
     "execution_count": 24,
     "metadata": {},
     "output_type": "execute_result"
    }
   ]
  },
  {
   "cell_type": "code",
   "execution_count": 25,
   "outputs": [
    {
     "data": {
      "text/plain": "             Open      High       Low     Close   SMA_512  SMA_1024  SMA_4096\n0        0.120741  0.119124  0.207329  0.115147  0.266599  0.253977  0.155452\n1        0.123285  0.123157  0.212466  0.128823  0.274854  0.261623  0.161966\n2        0.131553  0.121269  0.219921  0.119300  0.276933  0.263528  0.163544\n3        0.124697  0.119115  0.209875  0.117545  0.277877  0.264367  0.164189\n4        0.122488  0.116686  0.188298  0.108813  0.273096  0.259854  0.160239\n...           ...       ...       ...       ...       ...       ...       ...\n1464415  0.122330  0.118115  0.205414  0.114672  0.357639  0.369208  0.410454\n1464416  0.120584  0.116528  0.207757  0.116433  0.357655  0.369226  0.410459\n1464417  0.122330  0.118909  0.207757  0.116433  0.357672  0.369244  0.410463\n1464418  0.122330  0.118115  0.207757  0.117315  0.358326  0.369878  0.411113\n1464419  0.123204  0.118115  0.208930  0.116433  0.358343  0.369894  0.411118\n\n[1464420 rows x 7 columns]",
      "text/html": "<div>\n<style scoped>\n    .dataframe tbody tr th:only-of-type {\n        vertical-align: middle;\n    }\n\n    .dataframe tbody tr th {\n        vertical-align: top;\n    }\n\n    .dataframe thead th {\n        text-align: right;\n    }\n</style>\n<table border=\"1\" class=\"dataframe\">\n  <thead>\n    <tr style=\"text-align: right;\">\n      <th></th>\n      <th>Open</th>\n      <th>High</th>\n      <th>Low</th>\n      <th>Close</th>\n      <th>SMA_512</th>\n      <th>SMA_1024</th>\n      <th>SMA_4096</th>\n    </tr>\n  </thead>\n  <tbody>\n    <tr>\n      <th>0</th>\n      <td>0.120741</td>\n      <td>0.119124</td>\n      <td>0.207329</td>\n      <td>0.115147</td>\n      <td>0.266599</td>\n      <td>0.253977</td>\n      <td>0.155452</td>\n    </tr>\n    <tr>\n      <th>1</th>\n      <td>0.123285</td>\n      <td>0.123157</td>\n      <td>0.212466</td>\n      <td>0.128823</td>\n      <td>0.274854</td>\n      <td>0.261623</td>\n      <td>0.161966</td>\n    </tr>\n    <tr>\n      <th>2</th>\n      <td>0.131553</td>\n      <td>0.121269</td>\n      <td>0.219921</td>\n      <td>0.119300</td>\n      <td>0.276933</td>\n      <td>0.263528</td>\n      <td>0.163544</td>\n    </tr>\n    <tr>\n      <th>3</th>\n      <td>0.124697</td>\n      <td>0.119115</td>\n      <td>0.209875</td>\n      <td>0.117545</td>\n      <td>0.277877</td>\n      <td>0.264367</td>\n      <td>0.164189</td>\n    </tr>\n    <tr>\n      <th>4</th>\n      <td>0.122488</td>\n      <td>0.116686</td>\n      <td>0.188298</td>\n      <td>0.108813</td>\n      <td>0.273096</td>\n      <td>0.259854</td>\n      <td>0.160239</td>\n    </tr>\n    <tr>\n      <th>...</th>\n      <td>...</td>\n      <td>...</td>\n      <td>...</td>\n      <td>...</td>\n      <td>...</td>\n      <td>...</td>\n      <td>...</td>\n    </tr>\n    <tr>\n      <th>1464415</th>\n      <td>0.122330</td>\n      <td>0.118115</td>\n      <td>0.205414</td>\n      <td>0.114672</td>\n      <td>0.357639</td>\n      <td>0.369208</td>\n      <td>0.410454</td>\n    </tr>\n    <tr>\n      <th>1464416</th>\n      <td>0.120584</td>\n      <td>0.116528</td>\n      <td>0.207757</td>\n      <td>0.116433</td>\n      <td>0.357655</td>\n      <td>0.369226</td>\n      <td>0.410459</td>\n    </tr>\n    <tr>\n      <th>1464417</th>\n      <td>0.122330</td>\n      <td>0.118909</td>\n      <td>0.207757</td>\n      <td>0.116433</td>\n      <td>0.357672</td>\n      <td>0.369244</td>\n      <td>0.410463</td>\n    </tr>\n    <tr>\n      <th>1464418</th>\n      <td>0.122330</td>\n      <td>0.118115</td>\n      <td>0.207757</td>\n      <td>0.117315</td>\n      <td>0.358326</td>\n      <td>0.369878</td>\n      <td>0.411113</td>\n    </tr>\n    <tr>\n      <th>1464419</th>\n      <td>0.123204</td>\n      <td>0.118115</td>\n      <td>0.208930</td>\n      <td>0.116433</td>\n      <td>0.358343</td>\n      <td>0.369894</td>\n      <td>0.411118</td>\n    </tr>\n  </tbody>\n</table>\n<p>1464420 rows × 7 columns</p>\n</div>"
     },
     "execution_count": 25,
     "metadata": {},
     "output_type": "execute_result"
    }
   ],
   "source": [
    "from sklearn.preprocessing import MinMaxScaler\n",
    "\n",
    "\n",
    "def preprocess(df):\n",
    "    # Apply percentage change only to OHLC columns\n",
    "    df_pct = df[OHLC_COLUMNS].pct_change()\n",
    "\n",
    "    # Concatenate the percentage-changed OHLC with the other columns\n",
    "    df_all = pd.concat([df_pct, df.drop(columns=OHLC_COLUMNS)], axis=1)\n",
    "\n",
    "    # Drop NA values (from pct_change operation)\n",
    "    df_all = df_all.dropna().reset_index(drop=True)\n",
    "\n",
    "    # Apply MinMax scaling to all columns\n",
    "    scaler = MinMaxScaler(feature_range=(0, 1))\n",
    "    df_scaled = pd.DataFrame(scaler.fit_transform(df_all), columns=df_all.columns, index=df_all.index)\n",
    "\n",
    "    return df_scaled, scaler\n",
    "\n",
    "\n",
    "def invert_preprocess(original_start, scaler: MinMaxScaler, df):\n",
    "    original_start = original_start[OHLC_COLUMNS].to_numpy()\n",
    "    # Invert MinMax scaling for all columns\n",
    "    df_inv_scaled = pd.DataFrame(scaler.inverse_transform(df), columns=df.columns, index=df.index)\n",
    "\n",
    "    # Recover the original OHLC values\n",
    "    reversed_array = np.cumprod(1 + df_inv_scaled[OHLC_COLUMNS].to_numpy(), axis=0)\n",
    "    reversed_array = reversed_array * original_start  # Scaling by the original_start to each element\n",
    "\n",
    "    df_inv_scaled[OHLC_COLUMNS] = reversed_array\n",
    "\n",
    "    return df_inv_scaled\n",
    "\n",
    "\n",
    "preprocessed_dataset, scaler = preprocess(dataset)\n",
    "preprocessed_dataset"
   ],
   "metadata": {
    "collapsed": false,
    "ExecuteTime": {
     "end_time": "2023-09-03T16:46:30.244599377Z",
     "start_time": "2023-09-03T16:46:29.968901338Z"
    }
   }
  },
  {
   "cell_type": "code",
   "execution_count": 26,
   "outputs": [
    {
     "name": "stdout",
     "output_type": "stream",
     "text": [
      "Mean Absolute Error for Open: 1.8611607233914956e-15\n",
      "Mean Absolute Error for High: 4.527652995199361e-15\n",
      "Mean Absolute Error for Low: 5.1052909729322e-15\n",
      "Mean Absolute Error for Close: 3.327615578870875e-15\n",
      "Mean Absolute Error for SMA_512: 4.443312785027727e-18\n",
      "Mean Absolute Error for SMA_1024: 5.520732658070965e-18\n",
      "Mean Absolute Error for SMA_4096: 8.872988884950288e-18\n",
      "Average MAE: 2.1200796149602832e-15\n"
     ]
    }
   ],
   "source": [
    "from sklearn.metrics import mean_absolute_error\n",
    "\n",
    "\n",
    "def test_preprocess_invert_preprocess(original_df):\n",
    "    original_df = original_df.iloc[:8000]\n",
    "    preprocessed_df, scaler = preprocess(original_df)\n",
    "\n",
    "    # Assume that 'original_start' is the first row of the original DataFrame\n",
    "    original_start = original_df.iloc[0]\n",
    "\n",
    "    inverted_df = invert_preprocess(original_start, scaler, preprocessed_df)\n",
    "\n",
    "    mae_list = []\n",
    "    for col in original_df.columns:\n",
    "        # Start from the second row of the original_df for comparison\n",
    "        mae = mean_absolute_error(original_df.iloc[1:][col], inverted_df[col])\n",
    "        mae_list.append(mae)\n",
    "        print(f\"Mean Absolute Error for {col}: {mae}\")\n",
    "\n",
    "    avg_mae = sum(mae_list) / len(mae_list)\n",
    "    print(f\"Average MAE: {avg_mae}\")\n",
    "\n",
    "    return avg_mae < 1e-9\n",
    "\n",
    "\n",
    "# Assuming 'dataset' is your original DataFrame\n",
    "assert test_preprocess_invert_preprocess(dataset)"
   ],
   "metadata": {
    "collapsed": false,
    "ExecuteTime": {
     "end_time": "2023-09-03T16:46:30.244982637Z",
     "start_time": "2023-09-03T16:46:30.196044685Z"
    }
   }
  },
  {
   "cell_type": "code",
   "execution_count": 27,
   "outputs": [
    {
     "data": {
      "text/plain": "<Axes: xlabel='time'>"
     },
     "execution_count": 27,
     "metadata": {},
     "output_type": "execute_result"
    },
    {
     "data": {
      "text/plain": "<Figure size 640x480 with 1 Axes>",
      "image/png": "[encoded data removed]"
     },
     "metadata": {},
     "output_type": "display_data"
    }
   ],
   "source": [
    "import numpy as np\n",
    "import pandas as pd\n",
    "\n",
    "from darts import TimeSeries\n",
    "from darts.models import RNNModel\n",
    "\n",
    "import warnings\n",
    "\n",
    "warnings.filterwarnings(\"ignore\")\n",
    "import logging\n",
    "\n",
    "logging.disable(logging.CRITICAL)\n",
    "\n",
    "target_series = TimeSeries.from_dataframe(preprocessed_dataset)\n",
    "target_train, target_val = target_series.split_after(0.99)\n",
    "\n",
    "target_train[\"Close\"].plot()\n",
    "target_val[\"Close\"].plot()"
   ],
   "metadata": {
    "collapsed": false,
    "ExecuteTime": {
     "end_time": "2023-09-03T16:46:30.947470396Z",
     "start_time": "2023-09-03T16:46:30.203847477Z"
    }
   }
  },
  {
   "cell_type": "code",
   "execution_count": 28,
   "outputs": [],
   "source": [
    "from darts.models import TFTModel\n",
    "\n",
    "SEQUENCE_LENGTH = 128\n",
    "PREDICTION_LENGTH = 32\n",
    "# my_model = RNNModel(\n",
    "#     model=\"LSTM\",\n",
    "#     hidden_dim=32,\n",
    "#     n_rnn_layers=4,\n",
    "#     dropout=0.1,\n",
    "#     batch_size=512,\n",
    "#     n_epochs=1,\n",
    "#     # optimizer_kwargs={\"lr\": 1e-3},\n",
    "#     random_state=0,\n",
    "#     training_length=SEQUENCE_LENGTH,\n",
    "#     input_chunk_length=SEQUENCE_LENGTH,\n",
    "#     # likelihood=GaussianLikelihood(),\n",
    "# )\n",
    "\n",
    "# my_model = TFTModel(\n",
    "#     input_chunk_length=SEQUENCE_LENGTH,\n",
    "#     output_chunk_length=PREDICTION_LENGTH,\n",
    "#     hidden_size=128,\n",
    "#     lstm_layers=2,\n",
    "#     num_attention_heads=4,\n",
    "#     dropout=0.1,\n",
    "#     batch_size=512,\n",
    "#     n_epochs=1,\n",
    "#     add_relative_index=True,\n",
    "#     add_encoders=None,\n",
    "#     random_state=42,\n",
    "# )\n",
    "\n",
    "my_model = TFTModel.load(\"model-weights-1693758552.932289.pt\")\n",
    "\n",
    "# my_model.fit(target_train, val_series=target_val, verbose=True)"
   ],
   "metadata": {
    "collapsed": false,
    "ExecuteTime": {
     "end_time": "2023-09-03T16:46:31.682309412Z",
     "start_time": "2023-09-03T16:46:30.908089339Z"
    }
   }
  },
  {
   "cell_type": "code",
   "execution_count": 29,
   "outputs": [],
   "source": [
    "# from google.colab import drive\n",
    "# drive.mount('/content/drive')\n",
    "# \n",
    "# import time\n",
    "# import os\n",
    "# try:\n",
    "#   os.makedirs(\"./drive/MyDrive/colab/model-weights/\")\n",
    "# except:\n",
    "#   pass\n",
    "# my_model.save(f\"./drive/MyDrive/colab/model-weights/model-weights-{time.time()}.pt\")"
   ],
   "metadata": {
    "collapsed": false,
    "ExecuteTime": {
     "end_time": "2023-09-03T16:46:31.715182424Z",
     "start_time": "2023-09-03T16:46:31.682878556Z"
    }
   }
  },
  {
   "cell_type": "code",
   "execution_count": 30,
   "outputs": [
    {
     "name": "stdout",
     "output_type": "stream",
     "text": [
      "MAPE: 2.453609825216439\n"
     ]
    }
   ],
   "source": [
    "def backtest(testing_model,series):\n",
    "    # Compute the backtest predictions with the two models\n",
    "    pred_err = testing_model.backtest(\n",
    "        series=series,\n",
    "        forecast_horizon=PREDICTION_LENGTH,\n",
    "        stride=10,\n",
    "        retrain=False,\n",
    "        verbose=False,\n",
    "    )\n",
    "    print(\"MAPE:\", pred_err)\n",
    "    \n",
    "backtest(my_model, target_val)"
   ],
   "metadata": {
    "collapsed": false,
    "ExecuteTime": {
     "end_time": "2023-09-03T16:47:41.042737090Z",
     "start_time": "2023-09-03T16:46:31.684555555Z"
    }
   }
  },
  {
   "cell_type": "code",
   "execution_count": 31,
   "outputs": [
    {
     "data": {
      "text/plain": "Predicting: 0it [00:00, ?it/s]",
      "application/vnd.jupyter.widget-view+json": {
       "version_major": 2,
       "version_minor": 0,
       "model_id": "2e4940da638c4191a3a8ed711a64f11e"
      }
     },
     "metadata": {},
     "output_type": "display_data"
    },
    {
     "data": {
      "text/plain": "<Axes: xlabel='time'>"
     },
     "execution_count": 31,
     "metadata": {},
     "output_type": "execute_result"
    },
    {
     "data": {
      "text/plain": "<Figure size 640x480 with 1 Axes>",
      "image/png": "[encoded data removed]"
     },
     "metadata": {},
     "output_type": "display_data"
    }
   ],
   "source": [
    "predict_X = target_train[-SEQUENCE_LENGTH:]\n",
    "pred: TimeSeries = my_model.predict(PREDICTION_LENGTH, predict_X)\n",
    "\n",
    "target_val[\"Close\"].slice_intersect(pred[\"Close\"]).plot(label=\"target\")\n",
    "pred[\"Close\"].plot(label=\"prediction\")"
   ],
   "metadata": {
    "collapsed": false,
    "ExecuteTime": {
     "end_time": "2023-09-03T16:47:41.205991249Z",
     "start_time": "2023-09-03T16:47:41.042642041Z"
    }
   }
  },
  {
   "cell_type": "code",
   "execution_count": 32,
   "outputs": [
    {
     "data": {
      "text/plain": "component      Open      High       Low     Close   SMA_512  SMA_1024  \\\ntime                                                                    \n1449775    1.486391  1.491014  1.488008  1.488035 -0.007151 -0.006965   \n1449776    1.484712  1.490735  1.486780  1.489276 -0.003905 -0.006832   \n1449777    1.481925  1.491461  1.516311  1.487128 -0.007115 -0.003981   \n1449778    1.486726  1.488386  1.516884  1.492207 -0.008963 -0.007145   \n1449779    1.486195  1.490331  1.515640  1.489883 -0.003937 -0.006242   \n1449780    1.491976  1.486681  1.498414  1.493256 -0.007144 -0.004839   \n1449781    1.490350  1.488774  1.497098  1.499603 -0.011170 -0.007143   \n1449782    1.490272  1.488827  1.492620  1.498084 -0.008368 -0.006146   \n1449783    1.491782  1.485245  1.491590  1.498702 -0.006384 -0.006702   \n1449784    1.490366  1.484784  1.516064  1.501007 -0.002207  0.001269   \n1449785    1.495231  1.459101  1.513584  1.502935 -0.005873 -0.011163   \n1449786    1.494386  1.459350  1.512362  1.504838 -0.007383 -0.008462   \n1449787    1.493913  1.460991  1.513457  1.511180 -0.008838 -0.006651   \n1449788    1.493997  1.461117  1.513616  1.509874 -0.008313 -0.006204   \n1449789    1.493525  1.464563  1.516875  1.510022  0.000279 -0.005764   \n1449790    1.489919  1.462477  1.529814  1.514430 -0.006056 -0.005938   \n1449791    1.489455  1.435865  1.534064  1.520772 -0.016554 -0.001486   \n1449792    1.488961  1.450522  1.535804  1.521537 -0.001634 -0.003058   \n1449793    1.488569  1.450365  1.531060  1.520801 -0.008871 -0.008502   \n1449794    1.491916  1.450449  1.531566  1.519929 -0.005376 -0.005725   \n1449795    1.491213  1.450499  1.532702  1.519579 -0.007177 -0.003422   \n1449796    1.491083  1.449549  1.533963  1.520954 -0.008918 -0.006845   \n1449797    1.490727  1.447398  1.535437  1.518466 -0.013975 -0.011426   \n1449798    1.489349  1.462821  1.536391  1.523793 -0.005542 -0.006586   \n1449799    1.486212  1.442714  1.481539  1.522135 -0.003417 -0.009262   \n1449800    1.485903  1.441425  1.486727  1.521700 -0.007730 -0.004724   \n1449801    1.486184  1.441544  1.488300  1.519085 -0.004797 -0.000108   \n1449802    1.484513  1.441041  1.489993  1.516894 -0.008169 -0.005358   \n1449803    1.484285  1.443082  1.488690  1.518389 -0.007924 -0.006959   \n1449804    1.484125  1.443813  1.445056  1.522080  0.004306 -0.010453   \n1449805    1.486757  1.444303  1.442264  1.522120 -0.005138 -0.005349   \n1449806    1.487071  1.441998  1.441751  1.520184  0.008496  0.005493   \n\ncomponent  SMA_4096  \ntime                 \n1449775   -0.034367  \n1449776   -0.036797  \n1449777   -0.038530  \n1449778   -0.039930  \n1449779   -0.036244  \n1449780   -0.039331  \n1449781   -0.038801  \n1449782   -0.038270  \n1449783   -0.038062  \n1449784   -0.021254  \n1449785   -0.021003  \n1449786   -0.036886  \n1449787   -0.036026  \n1449788   -0.028545  \n1449789   -0.035749  \n1449790   -0.091415  \n1449791   -0.035675  \n1449792   -0.035859  \n1449793   -0.036059  \n1449794   -0.035660  \n1449795   -0.017345  \n1449796   -0.038362  \n1449797   -0.032751  \n1449798   -0.041933  \n1449799   -0.017453  \n1449800   -0.031207  \n1449801   -0.035700  \n1449802   -0.037998  \n1449803   -0.042425  \n1449804   -0.033995  \n1449805   -0.042221  \n1449806   -0.017419  ",
      "text/html": "<div>\n<style scoped>\n    .dataframe tbody tr th:only-of-type {\n        vertical-align: middle;\n    }\n\n    .dataframe tbody tr th {\n        vertical-align: top;\n    }\n\n    .dataframe thead th {\n        text-align: right;\n    }\n</style>\n<table border=\"1\" class=\"dataframe\">\n  <thead>\n    <tr style=\"text-align: right;\">\n      <th>component</th>\n      <th>Open</th>\n      <th>High</th>\n      <th>Low</th>\n      <th>Close</th>\n      <th>SMA_512</th>\n      <th>SMA_1024</th>\n      <th>SMA_4096</th>\n    </tr>\n    <tr>\n      <th>time</th>\n      <th></th>\n      <th></th>\n      <th></th>\n      <th></th>\n      <th></th>\n      <th></th>\n      <th></th>\n    </tr>\n  </thead>\n  <tbody>\n    <tr>\n      <th>1449775</th>\n      <td>1.486391</td>\n      <td>1.491014</td>\n      <td>1.488008</td>\n      <td>1.488035</td>\n      <td>-0.007151</td>\n      <td>-0.006965</td>\n      <td>-0.034367</td>\n    </tr>\n    <tr>\n      <th>1449776</th>\n      <td>1.484712</td>\n      <td>1.490735</td>\n      <td>1.486780</td>\n      <td>1.489276</td>\n      <td>-0.003905</td>\n      <td>-0.006832</td>\n      <td>-0.036797</td>\n    </tr>\n    <tr>\n      <th>1449777</th>\n      <td>1.481925</td>\n      <td>1.491461</td>\n      <td>1.516311</td>\n      <td>1.487128</td>\n      <td>-0.007115</td>\n      <td>-0.003981</td>\n      <td>-0.038530</td>\n    </tr>\n    <tr>\n      <th>1449778</th>\n      <td>1.486726</td>\n      <td>1.488386</td>\n      <td>1.516884</td>\n      <td>1.492207</td>\n      <td>-0.008963</td>\n      <td>-0.007145</td>\n      <td>-0.039930</td>\n    </tr>\n    <tr>\n      <th>1449779</th>\n      <td>1.486195</td>\n      <td>1.490331</td>\n      <td>1.515640</td>\n      <td>1.489883</td>\n      <td>-0.003937</td>\n      <td>-0.006242</td>\n      <td>-0.036244</td>\n    </tr>\n    <tr>\n      <th>1449780</th>\n      <td>1.491976</td>\n      <td>1.486681</td>\n      <td>1.498414</td>\n      <td>1.493256</td>\n      <td>-0.007144</td>\n      <td>-0.004839</td>\n      <td>-0.039331</td>\n    </tr>\n    <tr>\n      <th>1449781</th>\n      <td>1.490350</td>\n      <td>1.488774</td>\n      <td>1.497098</td>\n      <td>1.499603</td>\n      <td>-0.011170</td>\n      <td>-0.007143</td>\n      <td>-0.038801</td>\n    </tr>\n    <tr>\n      <th>1449782</th>\n      <td>1.490272</td>\n      <td>1.488827</td>\n      <td>1.492620</td>\n      <td>1.498084</td>\n      <td>-0.008368</td>\n      <td>-0.006146</td>\n      <td>-0.038270</td>\n    </tr>\n    <tr>\n      <th>1449783</th>\n      <td>1.491782</td>\n      <td>1.485245</td>\n      <td>1.491590</td>\n      <td>1.498702</td>\n      <td>-0.006384</td>\n      <td>-0.006702</td>\n      <td>-0.038062</td>\n    </tr>\n    <tr>\n      <th>1449784</th>\n      <td>1.490366</td>\n      <td>1.484784</td>\n      <td>1.516064</td>\n      <td>1.501007</td>\n      <td>-0.002207</td>\n      <td>0.001269</td>\n      <td>-0.021254</td>\n    </tr>\n    <tr>\n      <th>1449785</th>\n      <td>1.495231</td>\n      <td>1.459101</td>\n      <td>1.513584</td>\n      <td>1.502935</td>\n      <td>-0.005873</td>\n      <td>-0.011163</td>\n      <td>-0.021003</td>\n    </tr>\n    <tr>\n      <th>1449786</th>\n      <td>1.494386</td>\n      <td>1.459350</td>\n      <td>1.512362</td>\n      <td>1.504838</td>\n      <td>-0.007383</td>\n      <td>-0.008462</td>\n      <td>-0.036886</td>\n    </tr>\n    <tr>\n      <th>1449787</th>\n      <td>1.493913</td>\n      <td>1.460991</td>\n      <td>1.513457</td>\n      <td>1.511180</td>\n      <td>-0.008838</td>\n      <td>-0.006651</td>\n      <td>-0.036026</td>\n    </tr>\n    <tr>\n      <th>1449788</th>\n      <td>1.493997</td>\n      <td>1.461117</td>\n      <td>1.513616</td>\n      <td>1.509874</td>\n      <td>-0.008313</td>\n      <td>-0.006204</td>\n      <td>-0.028545</td>\n    </tr>\n    <tr>\n      <th>1449789</th>\n      <td>1.493525</td>\n      <td>1.464563</td>\n      <td>1.516875</td>\n      <td>1.510022</td>\n      <td>0.000279</td>\n      <td>-0.005764</td>\n      <td>-0.035749</td>\n    </tr>\n    <tr>\n      <th>1449790</th>\n      <td>1.489919</td>\n      <td>1.462477</td>\n      <td>1.529814</td>\n      <td>1.514430</td>\n      <td>-0.006056</td>\n      <td>-0.005938</td>\n      <td>-0.091415</td>\n    </tr>\n    <tr>\n      <th>1449791</th>\n      <td>1.489455</td>\n      <td>1.435865</td>\n      <td>1.534064</td>\n      <td>1.520772</td>\n      <td>-0.016554</td>\n      <td>-0.001486</td>\n      <td>-0.035675</td>\n    </tr>\n    <tr>\n      <th>1449792</th>\n      <td>1.488961</td>\n      <td>1.450522</td>\n      <td>1.535804</td>\n      <td>1.521537</td>\n      <td>-0.001634</td>\n      <td>-0.003058</td>\n      <td>-0.035859</td>\n    </tr>\n    <tr>\n      <th>1449793</th>\n      <td>1.488569</td>\n      <td>1.450365</td>\n      <td>1.531060</td>\n      <td>1.520801</td>\n      <td>-0.008871</td>\n      <td>-0.008502</td>\n      <td>-0.036059</td>\n    </tr>\n    <tr>\n      <th>1449794</th>\n      <td>1.491916</td>\n      <td>1.450449</td>\n      <td>1.531566</td>\n      <td>1.519929</td>\n      <td>-0.005376</td>\n      <td>-0.005725</td>\n      <td>-0.035660</td>\n    </tr>\n    <tr>\n      <th>1449795</th>\n      <td>1.491213</td>\n      <td>1.450499</td>\n      <td>1.532702</td>\n      <td>1.519579</td>\n      <td>-0.007177</td>\n      <td>-0.003422</td>\n      <td>-0.017345</td>\n    </tr>\n    <tr>\n      <th>1449796</th>\n      <td>1.491083</td>\n      <td>1.449549</td>\n      <td>1.533963</td>\n      <td>1.520954</td>\n      <td>-0.008918</td>\n      <td>-0.006845</td>\n      <td>-0.038362</td>\n    </tr>\n    <tr>\n      <th>1449797</th>\n      <td>1.490727</td>\n      <td>1.447398</td>\n      <td>1.535437</td>\n      <td>1.518466</td>\n      <td>-0.013975</td>\n      <td>-0.011426</td>\n      <td>-0.032751</td>\n    </tr>\n    <tr>\n      <th>1449798</th>\n      <td>1.489349</td>\n      <td>1.462821</td>\n      <td>1.536391</td>\n      <td>1.523793</td>\n      <td>-0.005542</td>\n      <td>-0.006586</td>\n      <td>-0.041933</td>\n    </tr>\n    <tr>\n      <th>1449799</th>\n      <td>1.486212</td>\n      <td>1.442714</td>\n      <td>1.481539</td>\n      <td>1.522135</td>\n      <td>-0.003417</td>\n      <td>-0.009262</td>\n      <td>-0.017453</td>\n    </tr>\n    <tr>\n      <th>1449800</th>\n      <td>1.485903</td>\n      <td>1.441425</td>\n      <td>1.486727</td>\n      <td>1.521700</td>\n      <td>-0.007730</td>\n      <td>-0.004724</td>\n      <td>-0.031207</td>\n    </tr>\n    <tr>\n      <th>1449801</th>\n      <td>1.486184</td>\n      <td>1.441544</td>\n      <td>1.488300</td>\n      <td>1.519085</td>\n      <td>-0.004797</td>\n      <td>-0.000108</td>\n      <td>-0.035700</td>\n    </tr>\n    <tr>\n      <th>1449802</th>\n      <td>1.484513</td>\n      <td>1.441041</td>\n      <td>1.489993</td>\n      <td>1.516894</td>\n      <td>-0.008169</td>\n      <td>-0.005358</td>\n      <td>-0.037998</td>\n    </tr>\n    <tr>\n      <th>1449803</th>\n      <td>1.484285</td>\n      <td>1.443082</td>\n      <td>1.488690</td>\n      <td>1.518389</td>\n      <td>-0.007924</td>\n      <td>-0.006959</td>\n      <td>-0.042425</td>\n    </tr>\n    <tr>\n      <th>1449804</th>\n      <td>1.484125</td>\n      <td>1.443813</td>\n      <td>1.445056</td>\n      <td>1.522080</td>\n      <td>0.004306</td>\n      <td>-0.010453</td>\n      <td>-0.033995</td>\n    </tr>\n    <tr>\n      <th>1449805</th>\n      <td>1.486757</td>\n      <td>1.444303</td>\n      <td>1.442264</td>\n      <td>1.522120</td>\n      <td>-0.005138</td>\n      <td>-0.005349</td>\n      <td>-0.042221</td>\n    </tr>\n    <tr>\n      <th>1449806</th>\n      <td>1.487071</td>\n      <td>1.441998</td>\n      <td>1.441751</td>\n      <td>1.520184</td>\n      <td>0.008496</td>\n      <td>0.005493</td>\n      <td>-0.017419</td>\n    </tr>\n  </tbody>\n</table>\n</div>"
     },
     "execution_count": 32,
     "metadata": {},
     "output_type": "execute_result"
    }
   ],
   "source": [
    "original_start = dataset.iloc[predict_X[-1].time_index]\n",
    "\n",
    "inverted_pred = invert_preprocess(original_start, scaler, pred.pd_dataframe())\n",
    "inverted_pred"
   ],
   "metadata": {
    "collapsed": false,
    "ExecuteTime": {
     "end_time": "2023-09-03T16:47:41.217124021Z",
     "start_time": "2023-09-03T16:47:41.212164630Z"
    }
   }
  },
  {
   "cell_type": "code",
   "execution_count": 33,
   "outputs": [
    {
     "data": {
      "text/plain": "component   Open   High       Low     Close   SMA_512  SMA_1024  SMA_4096\ntime                                                                     \n1449775    1.490  1.490  1.488001  1.489000 -0.003503 -0.006375 -0.010238\n1449776    1.490  1.491  1.489000  1.489000 -0.003503 -0.006352 -0.010242\n1449777    1.490  1.491  1.489000  1.489999 -0.002836 -0.005661 -0.009582\n1449778    1.491  1.491  1.489000  1.489999 -0.002836 -0.005639 -0.009587\n1449779    1.491  1.491  1.489999  1.489999 -0.002836 -0.005615 -0.009591\n1449780    1.491  1.491  1.489000  1.489000 -0.003503 -0.006259 -0.010259\n1449781    1.489  1.489  1.486002  1.487001 -0.004836 -0.007569 -0.011592\n1449782    1.488  1.489  1.487001  1.487001 -0.004832 -0.007544 -0.011596\n1449783    1.487  1.488  1.486002  1.487001 -0.004829 -0.007519 -0.011600\n1449784    1.488  1.488  1.487001  1.487001 -0.004828 -0.007494 -0.011604\n1449785    1.488  1.488  1.486002  1.486002 -0.005495 -0.008136 -0.012272\n1449786    1.487  1.487  1.485003  1.485003 -0.006162 -0.008777 -0.012940\n1449787    1.486  1.486  1.485003  1.485003 -0.006159 -0.008751 -0.012943\n1449788    1.485  1.485  1.483004  1.483004 -0.007490 -0.010058 -0.014274\n1449789    1.483  1.484  1.482005  1.482005 -0.008151 -0.010697 -0.014941\n1449790    1.483  1.483  1.482005  1.482005 -0.008143 -0.010668 -0.014944\n1449791    1.483  1.484  1.482005  1.483004 -0.007468 -0.009975 -0.014282\n1449792    1.484  1.486  1.482005  1.485003 -0.006125 -0.008614 -0.012956\n1449793    1.486  1.487  1.485003  1.486002 -0.005453 -0.007922 -0.012294\n1449794    1.488  1.488  1.486002  1.486002 -0.005447 -0.007897 -0.012297\n1449795    1.486  1.486  1.484003  1.484003 -0.006777 -0.009205 -0.013628\n1449796    1.484  1.484  1.482005  1.482005 -0.008105 -0.010512 -0.014959\n1449797    1.484  1.484  1.482005  1.482005 -0.008093 -0.010486 -0.014962\n1449798    1.483  1.483  1.481005  1.481005 -0.008753 -0.011125 -0.015628\n1449799    1.483  1.483  1.482005  1.482005 -0.008075 -0.010431 -0.014966\n1449800    1.482  1.482  1.481005  1.481005 -0.008735 -0.011070 -0.015632\n1449801    1.482  1.482  1.480006  1.481005 -0.008725 -0.011041 -0.015634\n1449802    1.482  1.483  1.481005  1.481005 -0.008716 -0.011014 -0.015637\n1449803    1.482  1.482  1.481005  1.481005 -0.008707 -0.010987 -0.015639\n1449804    1.482  1.483  1.481005  1.482005 -0.008031 -0.010294 -0.014977\n1449805    1.483  1.485  1.481005  1.484003 -0.006686 -0.008935 -0.013652\n1449806    1.485  1.485  1.484003  1.484003 -0.006681 -0.008911 -0.013654",
      "text/html": "<div>\n<style scoped>\n    .dataframe tbody tr th:only-of-type {\n        vertical-align: middle;\n    }\n\n    .dataframe tbody tr th {\n        vertical-align: top;\n    }\n\n    .dataframe thead th {\n        text-align: right;\n    }\n</style>\n<table border=\"1\" class=\"dataframe\">\n  <thead>\n    <tr style=\"text-align: right;\">\n      <th>component</th>\n      <th>Open</th>\n      <th>High</th>\n      <th>Low</th>\n      <th>Close</th>\n      <th>SMA_512</th>\n      <th>SMA_1024</th>\n      <th>SMA_4096</th>\n    </tr>\n    <tr>\n      <th>time</th>\n      <th></th>\n      <th></th>\n      <th></th>\n      <th></th>\n      <th></th>\n      <th></th>\n      <th></th>\n    </tr>\n  </thead>\n  <tbody>\n    <tr>\n      <th>1449775</th>\n      <td>1.490</td>\n      <td>1.490</td>\n      <td>1.488001</td>\n      <td>1.489000</td>\n      <td>-0.003503</td>\n      <td>-0.006375</td>\n      <td>-0.010238</td>\n    </tr>\n    <tr>\n      <th>1449776</th>\n      <td>1.490</td>\n      <td>1.491</td>\n      <td>1.489000</td>\n      <td>1.489000</td>\n      <td>-0.003503</td>\n      <td>-0.006352</td>\n      <td>-0.010242</td>\n    </tr>\n    <tr>\n      <th>1449777</th>\n      <td>1.490</td>\n      <td>1.491</td>\n      <td>1.489000</td>\n      <td>1.489999</td>\n      <td>-0.002836</td>\n      <td>-0.005661</td>\n      <td>-0.009582</td>\n    </tr>\n    <tr>\n      <th>1449778</th>\n      <td>1.491</td>\n      <td>1.491</td>\n      <td>1.489000</td>\n      <td>1.489999</td>\n      <td>-0.002836</td>\n      <td>-0.005639</td>\n      <td>-0.009587</td>\n    </tr>\n    <tr>\n      <th>1449779</th>\n      <td>1.491</td>\n      <td>1.491</td>\n      <td>1.489999</td>\n      <td>1.489999</td>\n      <td>-0.002836</td>\n      <td>-0.005615</td>\n      <td>-0.009591</td>\n    </tr>\n    <tr>\n      <th>1449780</th>\n      <td>1.491</td>\n      <td>1.491</td>\n      <td>1.489000</td>\n      <td>1.489000</td>\n      <td>-0.003503</td>\n      <td>-0.006259</td>\n      <td>-0.010259</td>\n    </tr>\n    <tr>\n      <th>1449781</th>\n      <td>1.489</td>\n      <td>1.489</td>\n      <td>1.486002</td>\n      <td>1.487001</td>\n      <td>-0.004836</td>\n      <td>-0.007569</td>\n      <td>-0.011592</td>\n    </tr>\n    <tr>\n      <th>1449782</th>\n      <td>1.488</td>\n      <td>1.489</td>\n      <td>1.487001</td>\n      <td>1.487001</td>\n      <td>-0.004832</td>\n      <td>-0.007544</td>\n      <td>-0.011596</td>\n    </tr>\n    <tr>\n      <th>1449783</th>\n      <td>1.487</td>\n      <td>1.488</td>\n      <td>1.486002</td>\n      <td>1.487001</td>\n      <td>-0.004829</td>\n      <td>-0.007519</td>\n      <td>-0.011600</td>\n    </tr>\n    <tr>\n      <th>1449784</th>\n      <td>1.488</td>\n      <td>1.488</td>\n      <td>1.487001</td>\n      <td>1.487001</td>\n      <td>-0.004828</td>\n      <td>-0.007494</td>\n      <td>-0.011604</td>\n    </tr>\n    <tr>\n      <th>1449785</th>\n      <td>1.488</td>\n      <td>1.488</td>\n      <td>1.486002</td>\n      <td>1.486002</td>\n      <td>-0.005495</td>\n      <td>-0.008136</td>\n      <td>-0.012272</td>\n    </tr>\n    <tr>\n      <th>1449786</th>\n      <td>1.487</td>\n      <td>1.487</td>\n      <td>1.485003</td>\n      <td>1.485003</td>\n      <td>-0.006162</td>\n      <td>-0.008777</td>\n      <td>-0.012940</td>\n    </tr>\n    <tr>\n      <th>1449787</th>\n      <td>1.486</td>\n      <td>1.486</td>\n      <td>1.485003</td>\n      <td>1.485003</td>\n      <td>-0.006159</td>\n      <td>-0.008751</td>\n      <td>-0.012943</td>\n    </tr>\n    <tr>\n      <th>1449788</th>\n      <td>1.485</td>\n      <td>1.485</td>\n      <td>1.483004</td>\n      <td>1.483004</td>\n      <td>-0.007490</td>\n      <td>-0.010058</td>\n      <td>-0.014274</td>\n    </tr>\n    <tr>\n      <th>1449789</th>\n      <td>1.483</td>\n      <td>1.484</td>\n      <td>1.482005</td>\n      <td>1.482005</td>\n      <td>-0.008151</td>\n      <td>-0.010697</td>\n      <td>-0.014941</td>\n    </tr>\n    <tr>\n      <th>1449790</th>\n      <td>1.483</td>\n      <td>1.483</td>\n      <td>1.482005</td>\n      <td>1.482005</td>\n      <td>-0.008143</td>\n      <td>-0.010668</td>\n      <td>-0.014944</td>\n    </tr>\n    <tr>\n      <th>1449791</th>\n      <td>1.483</td>\n      <td>1.484</td>\n      <td>1.482005</td>\n      <td>1.483004</td>\n      <td>-0.007468</td>\n      <td>-0.009975</td>\n      <td>-0.014282</td>\n    </tr>\n    <tr>\n      <th>1449792</th>\n      <td>1.484</td>\n      <td>1.486</td>\n      <td>1.482005</td>\n      <td>1.485003</td>\n      <td>-0.006125</td>\n      <td>-0.008614</td>\n      <td>-0.012956</td>\n    </tr>\n    <tr>\n      <th>1449793</th>\n      <td>1.486</td>\n      <td>1.487</td>\n      <td>1.485003</td>\n      <td>1.486002</td>\n      <td>-0.005453</td>\n      <td>-0.007922</td>\n      <td>-0.012294</td>\n    </tr>\n    <tr>\n      <th>1449794</th>\n      <td>1.488</td>\n      <td>1.488</td>\n      <td>1.486002</td>\n      <td>1.486002</td>\n      <td>-0.005447</td>\n      <td>-0.007897</td>\n      <td>-0.012297</td>\n    </tr>\n    <tr>\n      <th>1449795</th>\n      <td>1.486</td>\n      <td>1.486</td>\n      <td>1.484003</td>\n      <td>1.484003</td>\n      <td>-0.006777</td>\n      <td>-0.009205</td>\n      <td>-0.013628</td>\n    </tr>\n    <tr>\n      <th>1449796</th>\n      <td>1.484</td>\n      <td>1.484</td>\n      <td>1.482005</td>\n      <td>1.482005</td>\n      <td>-0.008105</td>\n      <td>-0.010512</td>\n      <td>-0.014959</td>\n    </tr>\n    <tr>\n      <th>1449797</th>\n      <td>1.484</td>\n      <td>1.484</td>\n      <td>1.482005</td>\n      <td>1.482005</td>\n      <td>-0.008093</td>\n      <td>-0.010486</td>\n      <td>-0.014962</td>\n    </tr>\n    <tr>\n      <th>1449798</th>\n      <td>1.483</td>\n      <td>1.483</td>\n      <td>1.481005</td>\n      <td>1.481005</td>\n      <td>-0.008753</td>\n      <td>-0.011125</td>\n      <td>-0.015628</td>\n    </tr>\n    <tr>\n      <th>1449799</th>\n      <td>1.483</td>\n      <td>1.483</td>\n      <td>1.482005</td>\n      <td>1.482005</td>\n      <td>-0.008075</td>\n      <td>-0.010431</td>\n      <td>-0.014966</td>\n    </tr>\n    <tr>\n      <th>1449800</th>\n      <td>1.482</td>\n      <td>1.482</td>\n      <td>1.481005</td>\n      <td>1.481005</td>\n      <td>-0.008735</td>\n      <td>-0.011070</td>\n      <td>-0.015632</td>\n    </tr>\n    <tr>\n      <th>1449801</th>\n      <td>1.482</td>\n      <td>1.482</td>\n      <td>1.480006</td>\n      <td>1.481005</td>\n      <td>-0.008725</td>\n      <td>-0.011041</td>\n      <td>-0.015634</td>\n    </tr>\n    <tr>\n      <th>1449802</th>\n      <td>1.482</td>\n      <td>1.483</td>\n      <td>1.481005</td>\n      <td>1.481005</td>\n      <td>-0.008716</td>\n      <td>-0.011014</td>\n      <td>-0.015637</td>\n    </tr>\n    <tr>\n      <th>1449803</th>\n      <td>1.482</td>\n      <td>1.482</td>\n      <td>1.481005</td>\n      <td>1.481005</td>\n      <td>-0.008707</td>\n      <td>-0.010987</td>\n      <td>-0.015639</td>\n    </tr>\n    <tr>\n      <th>1449804</th>\n      <td>1.482</td>\n      <td>1.483</td>\n      <td>1.481005</td>\n      <td>1.482005</td>\n      <td>-0.008031</td>\n      <td>-0.010294</td>\n      <td>-0.014977</td>\n    </tr>\n    <tr>\n      <th>1449805</th>\n      <td>1.483</td>\n      <td>1.485</td>\n      <td>1.481005</td>\n      <td>1.484003</td>\n      <td>-0.006686</td>\n      <td>-0.008935</td>\n      <td>-0.013652</td>\n    </tr>\n    <tr>\n      <th>1449806</th>\n      <td>1.485</td>\n      <td>1.485</td>\n      <td>1.484003</td>\n      <td>1.484003</td>\n      <td>-0.006681</td>\n      <td>-0.008911</td>\n      <td>-0.013654</td>\n    </tr>\n  </tbody>\n</table>\n</div>"
     },
     "execution_count": 33,
     "metadata": {},
     "output_type": "execute_result"
    }
   ],
   "source": [
    "inverted_target = invert_preprocess(original_start, scaler, target_val.pd_dataframe()[:PREDICTION_LENGTH])\n",
    "inverted_target"
   ],
   "metadata": {
    "collapsed": false,
    "ExecuteTime": {
     "end_time": "2023-09-03T16:47:41.223660420Z",
     "start_time": "2023-09-03T16:47:41.214392830Z"
    }
   }
  },
  {
   "cell_type": "code",
   "execution_count": 34,
   "outputs": [
    {
     "data": {
      "text/plain": "<Figure size 640x480 with 1 Axes>",
      "image/png": "[encoded data removed]"
     },
     "metadata": {},
     "output_type": "display_data"
    }
   ],
   "source": [
    "\n",
    "import matplotlib.pyplot as plt\n",
    "\n",
    "# Create a DataFrame from the 'candlesticks' array\n",
    "candlesticks_df = pd.DataFrame(inverted_target, columns=OHLC_COLUMNS)\n",
    "candlesticks_pred_df = pd.DataFrame(inverted_pred, columns=OHLC_COLUMNS)\n",
    "\n",
    "plt.plot(candlesticks_df[\"Close\"], label=\"actual\")\n",
    "plt.plot(candlesticks_pred_df[\"Close\"], label=\"prediction\")\n",
    "plt.legend()\n",
    "\n",
    "# Adding a fake date index (mplfinance needs this)\n",
    "# candlesticks_df['Date'] = pd.date_range(start='1/1/2000', periods=candlesticks_df.shape[0])\n",
    "# candlesticks_df['Date'] = candlesticks_df['Date'].apply(mdates.date2num)\n",
    "# candlesticks_pred_df['Date'] = pd.date_range(start='1/1/2000', periods=candlesticks_pred_df.shape[0])\n",
    "# candlesticks_pred_df['Date'] = candlesticks_pred_df['Date'].apply(mdates.date2num)\n",
    "# \n",
    "# # Reordering columns to fit mplfinance requirements\n",
    "# candlesticks_df = candlesticks_df[['Date', 'Open', 'High', 'Low', 'Close', 'Volume']]\n",
    "# candlesticks_pred_df = candlesticks_pred_df[['Date', 'Open', 'High', 'Low', 'Close', 'Volume']]\n",
    "\n",
    "# Plotting\n",
    "# fig, ax = plt.subplots(figsize=(15, 10))\n",
    "\n",
    "# candlestick_ohlc(ax, candlesticks_pred_df.values, width=0.6, colorup='lime', colordown='magenta', alpha=0.5)\n",
    "# candlestick_ohlc(ax, candlesticks_df.values, width=0.6, colorup='g', colordown='r', alpha=0.5)\n",
    "\n",
    "plt.show()"
   ],
   "metadata": {
    "collapsed": false,
    "ExecuteTime": {
     "end_time": "2023-09-03T16:47:41.353063775Z",
     "start_time": "2023-09-03T16:47:41.223773719Z"
    }
   }
  }
 ]
}
