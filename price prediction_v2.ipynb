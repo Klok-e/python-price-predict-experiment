{
 "nbformat": 4,
 "nbformat_minor": 0,
 "metadata": {
  "colab": {
   "provenance": [],
   "gpuType": "T4",
   "mount_file_id": "1SIIDuVLdYGQUXZfGGVjh2FLqvCtyIW1t",
   "authorship_tag": "ABX9TyPxTybhFFtyIWlUoS6siBcG"
  },
  "kernelspec": {
   "name": "python3",
   "language": "python",
   "display_name": "Python 3 (ipykernel)"
  },
  "language_info": {
   "name": "python"
  },
  "accelerator": "GPU",
  "widgets": {
   "application/vnd.jupyter.widget-state+json": {
    "7dd4f39447a8403d971228d215f7c92f": {
     "model_module": "@jupyter-widgets/controls",
     "model_name": "HBoxModel",
     "model_module_version": "1.5.0",
     "state": {
      "_dom_classes": [],
      "_model_module": "@jupyter-widgets/controls",
      "_model_module_version": "1.5.0",
      "_model_name": "HBoxModel",
      "_view_count": null,
      "_view_module": "@jupyter-widgets/controls",
      "_view_module_version": "1.5.0",
      "_view_name": "HBoxView",
      "box_style": "",
      "children": [
       "IPY_MODEL_e218add70fa342c6829dd9bb37dcfa41",
       "IPY_MODEL_d8002ed8b0574ac6afb501b840b0ba40",
       "IPY_MODEL_2f202985b8e946d289bdbe6712c2b9a7"
      ],
      "layout": "IPY_MODEL_9b5b8357efd84321bf36e7a1082bb677"
     }
    },
    "e218add70fa342c6829dd9bb37dcfa41": {
     "model_module": "@jupyter-widgets/controls",
     "model_name": "HTMLModel",
     "model_module_version": "1.5.0",
     "state": {
      "_dom_classes": [],
      "_model_module": "@jupyter-widgets/controls",
      "_model_module_version": "1.5.0",
      "_model_name": "HTMLModel",
      "_view_count": null,
      "_view_module": "@jupyter-widgets/controls",
      "_view_module_version": "1.5.0",
      "_view_name": "HTMLView",
      "description": "",
      "description_tooltip": null,
      "layout": "IPY_MODEL_1aae74220cb64297a14c9bbd21fb94fa",
      "placeholder": "​",
      "style": "IPY_MODEL_90dcc4766a3b49b0bb295848619c28c0",
      "value": "Tickers: 100%"
     }
    },
    "d8002ed8b0574ac6afb501b840b0ba40": {
     "model_module": "@jupyter-widgets/controls",
     "model_name": "FloatProgressModel",
     "model_module_version": "1.5.0",
     "state": {
      "_dom_classes": [],
      "_model_module": "@jupyter-widgets/controls",
      "_model_module_version": "1.5.0",
      "_model_name": "FloatProgressModel",
      "_view_count": null,
      "_view_module": "@jupyter-widgets/controls",
      "_view_module_version": "1.5.0",
      "_view_name": "ProgressView",
      "bar_style": "success",
      "description": "",
      "description_tooltip": null,
      "layout": "IPY_MODEL_d2c8c1ee88d044b4b0aa98a221a3a839",
      "max": 1,
      "min": 0,
      "orientation": "horizontal",
      "style": "IPY_MODEL_8e10a6958ba34853abe3221c9d2efb9f",
      "value": 1
     }
    },
    "2f202985b8e946d289bdbe6712c2b9a7": {
     "model_module": "@jupyter-widgets/controls",
     "model_name": "HTMLModel",
     "model_module_version": "1.5.0",
     "state": {
      "_dom_classes": [],
      "_model_module": "@jupyter-widgets/controls",
      "_model_module_version": "1.5.0",
      "_model_name": "HTMLModel",
      "_view_count": null,
      "_view_module": "@jupyter-widgets/controls",
      "_view_module_version": "1.5.0",
      "_view_name": "HTMLView",
      "description": "",
      "description_tooltip": null,
      "layout": "IPY_MODEL_71d93b21192b408eb4160aad368e8341",
      "placeholder": "​",
      "style": "IPY_MODEL_3373eefba7bc480c870dffcc7c0c76a5",
      "value": " 1/1 [00:02&lt;00:00,  2.26s/it]"
     }
    },
    "9b5b8357efd84321bf36e7a1082bb677": {
     "model_module": "@jupyter-widgets/base",
     "model_name": "LayoutModel",
     "model_module_version": "1.2.0",
     "state": {
      "_model_module": "@jupyter-widgets/base",
      "_model_module_version": "1.2.0",
      "_model_name": "LayoutModel",
      "_view_count": null,
      "_view_module": "@jupyter-widgets/base",
      "_view_module_version": "1.2.0",
      "_view_name": "LayoutView",
      "align_content": null,
      "align_items": null,
      "align_self": null,
      "border": null,
      "bottom": null,
      "display": null,
      "flex": null,
      "flex_flow": null,
      "grid_area": null,
      "grid_auto_columns": null,
      "grid_auto_flow": null,
      "grid_auto_rows": null,
      "grid_column": null,
      "grid_gap": null,
      "grid_row": null,
      "grid_template_areas": null,
      "grid_template_columns": null,
      "grid_template_rows": null,
      "height": null,
      "justify_content": null,
      "justify_items": null,
      "left": null,
      "margin": null,
      "max_height": null,
      "max_width": null,
      "min_height": null,
      "min_width": null,
      "object_fit": null,
      "object_position": null,
      "order": null,
      "overflow": null,
      "overflow_x": null,
      "overflow_y": null,
      "padding": null,
      "right": null,
      "top": null,
      "visibility": null,
      "width": null
     }
    },
    "1aae74220cb64297a14c9bbd21fb94fa": {
     "model_module": "@jupyter-widgets/base",
     "model_name": "LayoutModel",
     "model_module_version": "1.2.0",
     "state": {
      "_model_module": "@jupyter-widgets/base",
      "_model_module_version": "1.2.0",
      "_model_name": "LayoutModel",
      "_view_count": null,
      "_view_module": "@jupyter-widgets/base",
      "_view_module_version": "1.2.0",
      "_view_name": "LayoutView",
      "align_content": null,
      "align_items": null,
      "align_self": null,
      "border": null,
      "bottom": null,
      "display": null,
      "flex": null,
      "flex_flow": null,
      "grid_area": null,
      "grid_auto_columns": null,
      "grid_auto_flow": null,
      "grid_auto_rows": null,
      "grid_column": null,
      "grid_gap": null,
      "grid_row": null,
      "grid_template_areas": null,
      "grid_template_columns": null,
      "grid_template_rows": null,
      "height": null,
      "justify_content": null,
      "justify_items": null,
      "left": null,
      "margin": null,
      "max_height": null,
      "max_width": null,
      "min_height": null,
      "min_width": null,
      "object_fit": null,
      "object_position": null,
      "order": null,
      "overflow": null,
      "overflow_x": null,
      "overflow_y": null,
      "padding": null,
      "right": null,
      "top": null,
      "visibility": null,
      "width": null
     }
    },
    "90dcc4766a3b49b0bb295848619c28c0": {
     "model_module": "@jupyter-widgets/controls",
     "model_name": "DescriptionStyleModel",
     "model_module_version": "1.5.0",
     "state": {
      "_model_module": "@jupyter-widgets/controls",
      "_model_module_version": "1.5.0",
      "_model_name": "DescriptionStyleModel",
      "_view_count": null,
      "_view_module": "@jupyter-widgets/base",
      "_view_module_version": "1.2.0",
      "_view_name": "StyleView",
      "description_width": ""
     }
    },
    "d2c8c1ee88d044b4b0aa98a221a3a839": {
     "model_module": "@jupyter-widgets/base",
     "model_name": "LayoutModel",
     "model_module_version": "1.2.0",
     "state": {
      "_model_module": "@jupyter-widgets/base",
      "_model_module_version": "1.2.0",
      "_model_name": "LayoutModel",
      "_view_count": null,
      "_view_module": "@jupyter-widgets/base",
      "_view_module_version": "1.2.0",
      "_view_name": "LayoutView",
      "align_content": null,
      "align_items": null,
      "align_self": null,
      "border": null,
      "bottom": null,
      "display": null,
      "flex": null,
      "flex_flow": null,
      "grid_area": null,
      "grid_auto_columns": null,
      "grid_auto_flow": null,
      "grid_auto_rows": null,
      "grid_column": null,
      "grid_gap": null,
      "grid_row": null,
      "grid_template_areas": null,
      "grid_template_columns": null,
      "grid_template_rows": null,
      "height": null,
      "justify_content": null,
      "justify_items": null,
      "left": null,
      "margin": null,
      "max_height": null,
      "max_width": null,
      "min_height": null,
      "min_width": null,
      "object_fit": null,
      "object_position": null,
      "order": null,
      "overflow": null,
      "overflow_x": null,
      "overflow_y": null,
      "padding": null,
      "right": null,
      "top": null,
      "visibility": null,
      "width": null
     }
    },
    "8e10a6958ba34853abe3221c9d2efb9f": {
     "model_module": "@jupyter-widgets/controls",
     "model_name": "ProgressStyleModel",
     "model_module_version": "1.5.0",
     "state": {
      "_model_module": "@jupyter-widgets/controls",
      "_model_module_version": "1.5.0",
      "_model_name": "ProgressStyleModel",
      "_view_count": null,
      "_view_module": "@jupyter-widgets/base",
      "_view_module_version": "1.2.0",
      "_view_name": "StyleView",
      "bar_color": null,
      "description_width": ""
     }
    },
    "71d93b21192b408eb4160aad368e8341": {
     "model_module": "@jupyter-widgets/base",
     "model_name": "LayoutModel",
     "model_module_version": "1.2.0",
     "state": {
      "_model_module": "@jupyter-widgets/base",
      "_model_module_version": "1.2.0",
      "_model_name": "LayoutModel",
      "_view_count": null,
      "_view_module": "@jupyter-widgets/base",
      "_view_module_version": "1.2.0",
      "_view_name": "LayoutView",
      "align_content": null,
      "align_items": null,
      "align_self": null,
      "border": null,
      "bottom": null,
      "display": null,
      "flex": null,
      "flex_flow": null,
      "grid_area": null,
      "grid_auto_columns": null,
      "grid_auto_flow": null,
      "grid_auto_rows": null,
      "grid_column": null,
      "grid_gap": null,
      "grid_row": null,
      "grid_template_areas": null,
      "grid_template_columns": null,
      "grid_template_rows": null,
      "height": null,
      "justify_content": null,
      "justify_items": null,
      "left": null,
      "margin": null,
      "max_height": null,
      "max_width": null,
      "min_height": null,
      "min_width": null,
      "object_fit": null,
      "object_position": null,
      "order": null,
      "overflow": null,
      "overflow_x": null,
      "overflow_y": null,
      "padding": null,
      "right": null,
      "top": null,
      "visibility": null,
      "width": null
     }
    },
    "3373eefba7bc480c870dffcc7c0c76a5": {
     "model_module": "@jupyter-widgets/controls",
     "model_name": "DescriptionStyleModel",
     "model_module_version": "1.5.0",
     "state": {
      "_model_module": "@jupyter-widgets/controls",
      "_model_module_version": "1.5.0",
      "_model_name": "DescriptionStyleModel",
      "_view_count": null,
      "_view_module": "@jupyter-widgets/base",
      "_view_module_version": "1.2.0",
      "_view_name": "StyleView",
      "description_width": ""
     }
    },
    "f4374224d0464cf29a95e6c6fe59afa2": {
     "model_module": "@jupyter-widgets/controls",
     "model_name": "HBoxModel",
     "model_module_version": "1.5.0",
     "state": {
      "_dom_classes": [],
      "_model_module": "@jupyter-widgets/controls",
      "_model_module_version": "1.5.0",
      "_model_name": "HBoxModel",
      "_view_count": null,
      "_view_module": "@jupyter-widgets/controls",
      "_view_module_version": "1.5.0",
      "_view_name": "HBoxView",
      "box_style": "",
      "children": [
       "IPY_MODEL_54d2bf64f7314420b6a8478485efe34e",
       "IPY_MODEL_3d44a3a6a5af487b9d7f47999ee9ded9",
       "IPY_MODEL_37223277179f487b837ce13db28e41c3"
      ],
      "layout": "IPY_MODEL_6e70fcf1370f4a20bec5776cfcb25eb2"
     }
    },
    "54d2bf64f7314420b6a8478485efe34e": {
     "model_module": "@jupyter-widgets/controls",
     "model_name": "HTMLModel",
     "model_module_version": "1.5.0",
     "state": {
      "_dom_classes": [],
      "_model_module": "@jupyter-widgets/controls",
      "_model_module_version": "1.5.0",
      "_model_name": "HTMLModel",
      "_view_count": null,
      "_view_module": "@jupyter-widgets/controls",
      "_view_module_version": "1.5.0",
      "_view_name": "HTMLView",
      "description": "",
      "description_tooltip": null,
      "layout": "IPY_MODEL_07fe8db9119b4393a9d712e950e51fc9",
      "placeholder": "​",
      "style": "IPY_MODEL_59ebcbef69f34c53b1097e76e4395df5",
      "value": "monthly files to download: "
     }
    },
    "3d44a3a6a5af487b9d7f47999ee9ded9": {
     "model_module": "@jupyter-widgets/controls",
     "model_name": "FloatProgressModel",
     "model_module_version": "1.5.0",
     "state": {
      "_dom_classes": [],
      "_model_module": "@jupyter-widgets/controls",
      "_model_module_version": "1.5.0",
      "_model_name": "FloatProgressModel",
      "_view_count": null,
      "_view_module": "@jupyter-widgets/controls",
      "_view_module_version": "1.5.0",
      "_view_name": "ProgressView",
      "bar_style": "info",
      "description": "",
      "description_tooltip": null,
      "layout": "IPY_MODEL_fea07322c08d4b6bab4ef926a5be8c41",
      "max": 1,
      "min": 0,
      "orientation": "horizontal",
      "style": "IPY_MODEL_30338d5f659e49518b0bd7614fa88825",
      "value": 0
     }
    },
    "37223277179f487b837ce13db28e41c3": {
     "model_module": "@jupyter-widgets/controls",
     "model_name": "HTMLModel",
     "model_module_version": "1.5.0",
     "state": {
      "_dom_classes": [],
      "_model_module": "@jupyter-widgets/controls",
      "_model_module_version": "1.5.0",
      "_model_name": "HTMLModel",
      "_view_count": null,
      "_view_module": "@jupyter-widgets/controls",
      "_view_module_version": "1.5.0",
      "_view_name": "HTMLView",
      "description": "",
      "description_tooltip": null,
      "layout": "IPY_MODEL_9d3991c4adec41e8843941b797537d0f",
      "placeholder": "​",
      "style": "IPY_MODEL_22589f85bbba42698003a58b80bfe4b9",
      "value": " 0/0 [00:00&lt;?, ?files/s]"
     }
    },
    "6e70fcf1370f4a20bec5776cfcb25eb2": {
     "model_module": "@jupyter-widgets/base",
     "model_name": "LayoutModel",
     "model_module_version": "1.2.0",
     "state": {
      "_model_module": "@jupyter-widgets/base",
      "_model_module_version": "1.2.0",
      "_model_name": "LayoutModel",
      "_view_count": null,
      "_view_module": "@jupyter-widgets/base",
      "_view_module_version": "1.2.0",
      "_view_name": "LayoutView",
      "align_content": null,
      "align_items": null,
      "align_self": null,
      "border": null,
      "bottom": null,
      "display": null,
      "flex": null,
      "flex_flow": null,
      "grid_area": null,
      "grid_auto_columns": null,
      "grid_auto_flow": null,
      "grid_auto_rows": null,
      "grid_column": null,
      "grid_gap": null,
      "grid_row": null,
      "grid_template_areas": null,
      "grid_template_columns": null,
      "grid_template_rows": null,
      "height": null,
      "justify_content": null,
      "justify_items": null,
      "left": null,
      "margin": null,
      "max_height": null,
      "max_width": null,
      "min_height": null,
      "min_width": null,
      "object_fit": null,
      "object_position": null,
      "order": null,
      "overflow": null,
      "overflow_x": null,
      "overflow_y": null,
      "padding": null,
      "right": null,
      "top": null,
      "visibility": "hidden",
      "width": null
     }
    },
    "07fe8db9119b4393a9d712e950e51fc9": {
     "model_module": "@jupyter-widgets/base",
     "model_name": "LayoutModel",
     "model_module_version": "1.2.0",
     "state": {
      "_model_module": "@jupyter-widgets/base",
      "_model_module_version": "1.2.0",
      "_model_name": "LayoutModel",
      "_view_count": null,
      "_view_module": "@jupyter-widgets/base",
      "_view_module_version": "1.2.0",
      "_view_name": "LayoutView",
      "align_content": null,
      "align_items": null,
      "align_self": null,
      "border": null,
      "bottom": null,
      "display": null,
      "flex": null,
      "flex_flow": null,
      "grid_area": null,
      "grid_auto_columns": null,
      "grid_auto_flow": null,
      "grid_auto_rows": null,
      "grid_column": null,
      "grid_gap": null,
      "grid_row": null,
      "grid_template_areas": null,
      "grid_template_columns": null,
      "grid_template_rows": null,
      "height": null,
      "justify_content": null,
      "justify_items": null,
      "left": null,
      "margin": null,
      "max_height": null,
      "max_width": null,
      "min_height": null,
      "min_width": null,
      "object_fit": null,
      "object_position": null,
      "order": null,
      "overflow": null,
      "overflow_x": null,
      "overflow_y": null,
      "padding": null,
      "right": null,
      "top": null,
      "visibility": null,
      "width": null
     }
    },
    "59ebcbef69f34c53b1097e76e4395df5": {
     "model_module": "@jupyter-widgets/controls",
     "model_name": "DescriptionStyleModel",
     "model_module_version": "1.5.0",
     "state": {
      "_model_module": "@jupyter-widgets/controls",
      "_model_module_version": "1.5.0",
      "_model_name": "DescriptionStyleModel",
      "_view_count": null,
      "_view_module": "@jupyter-widgets/base",
      "_view_module_version": "1.2.0",
      "_view_name": "StyleView",
      "description_width": ""
     }
    },
    "fea07322c08d4b6bab4ef926a5be8c41": {
     "model_module": "@jupyter-widgets/base",
     "model_name": "LayoutModel",
     "model_module_version": "1.2.0",
     "state": {
      "_model_module": "@jupyter-widgets/base",
      "_model_module_version": "1.2.0",
      "_model_name": "LayoutModel",
      "_view_count": null,
      "_view_module": "@jupyter-widgets/base",
      "_view_module_version": "1.2.0",
      "_view_name": "LayoutView",
      "align_content": null,
      "align_items": null,
      "align_self": null,
      "border": null,
      "bottom": null,
      "display": null,
      "flex": null,
      "flex_flow": null,
      "grid_area": null,
      "grid_auto_columns": null,
      "grid_auto_flow": null,
      "grid_auto_rows": null,
      "grid_column": null,
      "grid_gap": null,
      "grid_row": null,
      "grid_template_areas": null,
      "grid_template_columns": null,
      "grid_template_rows": null,
      "height": null,
      "justify_content": null,
      "justify_items": null,
      "left": null,
      "margin": null,
      "max_height": null,
      "max_width": null,
      "min_height": null,
      "min_width": null,
      "object_fit": null,
      "object_position": null,
      "order": null,
      "overflow": null,
      "overflow_x": null,
      "overflow_y": null,
      "padding": null,
      "right": null,
      "top": null,
      "visibility": null,
      "width": "20px"
     }
    },
    "30338d5f659e49518b0bd7614fa88825": {
     "model_module": "@jupyter-widgets/controls",
     "model_name": "ProgressStyleModel",
     "model_module_version": "1.5.0",
     "state": {
      "_model_module": "@jupyter-widgets/controls",
      "_model_module_version": "1.5.0",
      "_model_name": "ProgressStyleModel",
      "_view_count": null,
      "_view_module": "@jupyter-widgets/base",
      "_view_module_version": "1.2.0",
      "_view_name": "StyleView",
      "bar_color": null,
      "description_width": ""
     }
    },
    "9d3991c4adec41e8843941b797537d0f": {
     "model_module": "@jupyter-widgets/base",
     "model_name": "LayoutModel",
     "model_module_version": "1.2.0",
     "state": {
      "_model_module": "@jupyter-widgets/base",
      "_model_module_version": "1.2.0",
      "_model_name": "LayoutModel",
      "_view_count": null,
      "_view_module": "@jupyter-widgets/base",
      "_view_module_version": "1.2.0",
      "_view_name": "LayoutView",
      "align_content": null,
      "align_items": null,
      "align_self": null,
      "border": null,
      "bottom": null,
      "display": null,
      "flex": null,
      "flex_flow": null,
      "grid_area": null,
      "grid_auto_columns": null,
      "grid_auto_flow": null,
      "grid_auto_rows": null,
      "grid_column": null,
      "grid_gap": null,
      "grid_row": null,
      "grid_template_areas": null,
      "grid_template_columns": null,
      "grid_template_rows": null,
      "height": null,
      "justify_content": null,
      "justify_items": null,
      "left": null,
      "margin": null,
      "max_height": null,
      "max_width": null,
      "min_height": null,
      "min_width": null,
      "object_fit": null,
      "object_position": null,
      "order": null,
      "overflow": null,
      "overflow_x": null,
      "overflow_y": null,
      "padding": null,
      "right": null,
      "top": null,
      "visibility": null,
      "width": null
     }
    },
    "22589f85bbba42698003a58b80bfe4b9": {
     "model_module": "@jupyter-widgets/controls",
     "model_name": "DescriptionStyleModel",
     "model_module_version": "1.5.0",
     "state": {
      "_model_module": "@jupyter-widgets/controls",
      "_model_module_version": "1.5.0",
      "_model_name": "DescriptionStyleModel",
      "_view_count": null,
      "_view_module": "@jupyter-widgets/base",
      "_view_module_version": "1.2.0",
      "_view_name": "StyleView",
      "description_width": ""
     }
    },
    "daaacff4c70c47a493d71083333bfac8": {
     "model_module": "@jupyter-widgets/controls",
     "model_name": "HBoxModel",
     "model_module_version": "1.5.0",
     "state": {
      "_dom_classes": [],
      "_model_module": "@jupyter-widgets/controls",
      "_model_module_version": "1.5.0",
      "_model_name": "HBoxModel",
      "_view_count": null,
      "_view_module": "@jupyter-widgets/controls",
      "_view_module_version": "1.5.0",
      "_view_name": "HBoxView",
      "box_style": "",
      "children": [
       "IPY_MODEL_301e182d105e49ab89746cdf15e7b998",
       "IPY_MODEL_00ae5f7622304c9ba60b104df9b5ac33",
       "IPY_MODEL_a38d528ec7f24938ad061d9d1b9bfc8c"
      ],
      "layout": "IPY_MODEL_b1fa0af185c0421aa0fb0bc7fa5ea29a"
     }
    },
    "301e182d105e49ab89746cdf15e7b998": {
     "model_module": "@jupyter-widgets/controls",
     "model_name": "HTMLModel",
     "model_module_version": "1.5.0",
     "state": {
      "_dom_classes": [],
      "_model_module": "@jupyter-widgets/controls",
      "_model_module_version": "1.5.0",
      "_model_name": "HTMLModel",
      "_view_count": null,
      "_view_module": "@jupyter-widgets/controls",
      "_view_module_version": "1.5.0",
      "_view_name": "HTMLView",
      "description": "",
      "description_tooltip": null,
      "layout": "IPY_MODEL_3998dd6c85bb4724b9cd49a4d7fe92b6",
      "placeholder": "​",
      "style": "IPY_MODEL_7e597bbd90c74c5ca02e3decaaf7906d",
      "value": "daily files to download: "
     }
    },
    "00ae5f7622304c9ba60b104df9b5ac33": {
     "model_module": "@jupyter-widgets/controls",
     "model_name": "FloatProgressModel",
     "model_module_version": "1.5.0",
     "state": {
      "_dom_classes": [],
      "_model_module": "@jupyter-widgets/controls",
      "_model_module_version": "1.5.0",
      "_model_name": "FloatProgressModel",
      "_view_count": null,
      "_view_module": "@jupyter-widgets/controls",
      "_view_module_version": "1.5.0",
      "_view_name": "ProgressView",
      "bar_style": "info",
      "description": "",
      "description_tooltip": null,
      "layout": "IPY_MODEL_6073ffb187b247b8ab1c2fe80190807c",
      "max": 1,
      "min": 0,
      "orientation": "horizontal",
      "style": "IPY_MODEL_16cb609f28e1440ebef5b4196c288beb",
      "value": 0
     }
    },
    "a38d528ec7f24938ad061d9d1b9bfc8c": {
     "model_module": "@jupyter-widgets/controls",
     "model_name": "HTMLModel",
     "model_module_version": "1.5.0",
     "state": {
      "_dom_classes": [],
      "_model_module": "@jupyter-widgets/controls",
      "_model_module_version": "1.5.0",
      "_model_name": "HTMLModel",
      "_view_count": null,
      "_view_module": "@jupyter-widgets/controls",
      "_view_module_version": "1.5.0",
      "_view_name": "HTMLView",
      "description": "",
      "description_tooltip": null,
      "layout": "IPY_MODEL_53388c4a852447b6a08f7a146b489409",
      "placeholder": "​",
      "style": "IPY_MODEL_ec819a7e4d2e4c52a1828ff01f1d5836",
      "value": " 0/0 [00:00&lt;?, ?files/s]"
     }
    },
    "b1fa0af185c0421aa0fb0bc7fa5ea29a": {
     "model_module": "@jupyter-widgets/base",
     "model_name": "LayoutModel",
     "model_module_version": "1.2.0",
     "state": {
      "_model_module": "@jupyter-widgets/base",
      "_model_module_version": "1.2.0",
      "_model_name": "LayoutModel",
      "_view_count": null,
      "_view_module": "@jupyter-widgets/base",
      "_view_module_version": "1.2.0",
      "_view_name": "LayoutView",
      "align_content": null,
      "align_items": null,
      "align_self": null,
      "border": null,
      "bottom": null,
      "display": null,
      "flex": null,
      "flex_flow": null,
      "grid_area": null,
      "grid_auto_columns": null,
      "grid_auto_flow": null,
      "grid_auto_rows": null,
      "grid_column": null,
      "grid_gap": null,
      "grid_row": null,
      "grid_template_areas": null,
      "grid_template_columns": null,
      "grid_template_rows": null,
      "height": null,
      "justify_content": null,
      "justify_items": null,
      "left": null,
      "margin": null,
      "max_height": null,
      "max_width": null,
      "min_height": null,
      "min_width": null,
      "object_fit": null,
      "object_position": null,
      "order": null,
      "overflow": null,
      "overflow_x": null,
      "overflow_y": null,
      "padding": null,
      "right": null,
      "top": null,
      "visibility": "hidden",
      "width": null
     }
    },
    "3998dd6c85bb4724b9cd49a4d7fe92b6": {
     "model_module": "@jupyter-widgets/base",
     "model_name": "LayoutModel",
     "model_module_version": "1.2.0",
     "state": {
      "_model_module": "@jupyter-widgets/base",
      "_model_module_version": "1.2.0",
      "_model_name": "LayoutModel",
      "_view_count": null,
      "_view_module": "@jupyter-widgets/base",
      "_view_module_version": "1.2.0",
      "_view_name": "LayoutView",
      "align_content": null,
      "align_items": null,
      "align_self": null,
      "border": null,
      "bottom": null,
      "display": null,
      "flex": null,
      "flex_flow": null,
      "grid_area": null,
      "grid_auto_columns": null,
      "grid_auto_flow": null,
      "grid_auto_rows": null,
      "grid_column": null,
      "grid_gap": null,
      "grid_row": null,
      "grid_template_areas": null,
      "grid_template_columns": null,
      "grid_template_rows": null,
      "height": null,
      "justify_content": null,
      "justify_items": null,
      "left": null,
      "margin": null,
      "max_height": null,
      "max_width": null,
      "min_height": null,
      "min_width": null,
      "object_fit": null,
      "object_position": null,
      "order": null,
      "overflow": null,
      "overflow_x": null,
      "overflow_y": null,
      "padding": null,
      "right": null,
      "top": null,
      "visibility": null,
      "width": null
     }
    },
    "7e597bbd90c74c5ca02e3decaaf7906d": {
     "model_module": "@jupyter-widgets/controls",
     "model_name": "DescriptionStyleModel",
     "model_module_version": "1.5.0",
     "state": {
      "_model_module": "@jupyter-widgets/controls",
      "_model_module_version": "1.5.0",
      "_model_name": "DescriptionStyleModel",
      "_view_count": null,
      "_view_module": "@jupyter-widgets/base",
      "_view_module_version": "1.2.0",
      "_view_name": "StyleView",
      "description_width": ""
     }
    },
    "6073ffb187b247b8ab1c2fe80190807c": {
     "model_module": "@jupyter-widgets/base",
     "model_name": "LayoutModel",
     "model_module_version": "1.2.0",
     "state": {
      "_model_module": "@jupyter-widgets/base",
      "_model_module_version": "1.2.0",
      "_model_name": "LayoutModel",
      "_view_count": null,
      "_view_module": "@jupyter-widgets/base",
      "_view_module_version": "1.2.0",
      "_view_name": "LayoutView",
      "align_content": null,
      "align_items": null,
      "align_self": null,
      "border": null,
      "bottom": null,
      "display": null,
      "flex": null,
      "flex_flow": null,
      "grid_area": null,
      "grid_auto_columns": null,
      "grid_auto_flow": null,
      "grid_auto_rows": null,
      "grid_column": null,
      "grid_gap": null,
      "grid_row": null,
      "grid_template_areas": null,
      "grid_template_columns": null,
      "grid_template_rows": null,
      "height": null,
      "justify_content": null,
      "justify_items": null,
      "left": null,
      "margin": null,
      "max_height": null,
      "max_width": null,
      "min_height": null,
      "min_width": null,
      "object_fit": null,
      "object_position": null,
      "order": null,
      "overflow": null,
      "overflow_x": null,
      "overflow_y": null,
      "padding": null,
      "right": null,
      "top": null,
      "visibility": null,
      "width": "20px"
     }
    },
    "16cb609f28e1440ebef5b4196c288beb": {
     "model_module": "@jupyter-widgets/controls",
     "model_name": "ProgressStyleModel",
     "model_module_version": "1.5.0",
     "state": {
      "_model_module": "@jupyter-widgets/controls",
      "_model_module_version": "1.5.0",
      "_model_name": "ProgressStyleModel",
      "_view_count": null,
      "_view_module": "@jupyter-widgets/base",
      "_view_module_version": "1.2.0",
      "_view_name": "StyleView",
      "bar_color": null,
      "description_width": ""
     }
    },
    "53388c4a852447b6a08f7a146b489409": {
     "model_module": "@jupyter-widgets/base",
     "model_name": "LayoutModel",
     "model_module_version": "1.2.0",
     "state": {
      "_model_module": "@jupyter-widgets/base",
      "_model_module_version": "1.2.0",
      "_model_name": "LayoutModel",
      "_view_count": null,
      "_view_module": "@jupyter-widgets/base",
      "_view_module_version": "1.2.0",
      "_view_name": "LayoutView",
      "align_content": null,
      "align_items": null,
      "align_self": null,
      "border": null,
      "bottom": null,
      "display": null,
      "flex": null,
      "flex_flow": null,
      "grid_area": null,
      "grid_auto_columns": null,
      "grid_auto_flow": null,
      "grid_auto_rows": null,
      "grid_column": null,
      "grid_gap": null,
      "grid_row": null,
      "grid_template_areas": null,
      "grid_template_columns": null,
      "grid_template_rows": null,
      "height": null,
      "justify_content": null,
      "justify_items": null,
      "left": null,
      "margin": null,
      "max_height": null,
      "max_width": null,
      "min_height": null,
      "min_width": null,
      "object_fit": null,
      "object_position": null,
      "order": null,
      "overflow": null,
      "overflow_x": null,
      "overflow_y": null,
      "padding": null,
      "right": null,
      "top": null,
      "visibility": null,
      "width": null
     }
    },
    "ec819a7e4d2e4c52a1828ff01f1d5836": {
     "model_module": "@jupyter-widgets/controls",
     "model_name": "DescriptionStyleModel",
     "model_module_version": "1.5.0",
     "state": {
      "_model_module": "@jupyter-widgets/controls",
      "_model_module_version": "1.5.0",
      "_model_name": "DescriptionStyleModel",
      "_view_count": null,
      "_view_module": "@jupyter-widgets/base",
      "_view_module_version": "1.2.0",
      "_view_name": "StyleView",
      "description_width": ""
     }
    }
   }
  }
 },
 "cells": [
  {
   "cell_type": "code",
   "execution_count": 1,
   "outputs": [
    {
     "name": "stdout",
     "output_type": "stream",
     "text": [
      "['ETHBTC', 'LTCBTC', 'BNBBTC', 'NEOBTC', 'QTUMETH', 'EOSETH', 'SNTETH', 'BNTETH', 'BCCBTC', 'GASBTC', 'BNBETH', 'BTCUSDT', 'ETHUSDT', 'HSRBTC', 'OAXETH', 'DNTETH', 'MCOETH', 'ICNETH', 'MCOBTC', 'WTCBTC', 'WTCETH', 'LRCBTC', 'LRCETH', 'QTUMBTC', 'YOYOBTC', 'OMGBTC', 'OMGETH', 'ZRXBTC', 'ZRXETH', 'STRATBTC', 'STRATETH', 'SNGLSBTC', 'SNGLSETH', 'BQXBTC', 'BQXETH', 'KNCBTC', 'KNCETH', 'FUNBTC', 'FUNETH', 'SNMBTC', 'SNMETH', 'NEOETH', 'IOTABTC', 'IOTAETH', 'LINKBTC', 'LINKETH', 'XVGBTC', 'XVGETH', 'SALTBTC', 'SALTETH', 'MDABTC', 'MDAETH', 'MTLBTC', 'MTLETH', 'SUBBTC', 'SUBETH', 'EOSBTC', 'SNTBTC', 'ETCETH', 'ETCBTC', 'MTHBTC', 'MTHETH', 'ENGBTC', 'ENGETH', 'DNTBTC', 'ZECBTC', 'ZECETH', 'BNTBTC', 'ASTBTC', 'ASTETH', 'DASHBTC', 'DASHETH', 'OAXBTC', 'ICNBTC', 'BTGBTC', 'BTGETH', 'EVXBTC', 'EVXETH', 'REQBTC', 'REQETH', 'VIBBTC', 'VIBETH', 'HSRETH', 'TRXBTC', 'TRXETH', 'POWRBTC', 'POWRETH', 'ARKBTC', 'ARKETH', 'YOYOETH', 'XRPBTC', 'XRPETH', 'MODBTC', 'MODETH', 'ENJBTC', 'ENJETH', 'STORJBTC', 'STORJETH', 'BNBUSDT', 'VENBNB', 'YOYOBNB', 'POWRBNB', 'VENBTC', 'VENETH', 'KMDBTC', 'KMDETH', 'NULSBNB', 'RCNBTC', 'RCNETH', 'RCNBNB', 'NULSBTC', 'NULSETH', 'RDNBTC', 'RDNETH', 'RDNBNB', 'XMRBTC', 'XMRETH', 'DLTBNB', 'WTCBNB', 'DLTBTC', 'DLTETH', 'AMBBTC', 'AMBETH', 'AMBBNB', 'BCCETH', 'BCCUSDT', 'BCCBNB', 'BATBTC', 'BATETH', 'BATBNB', 'BCPTBTC', 'BCPTETH', 'BCPTBNB', 'ARNBTC', 'ARNETH', 'GVTBTC', 'GVTETH', 'CDTBTC', 'CDTETH', 'GXSBTC', 'GXSETH', 'NEOUSDT', 'NEOBNB', 'POEBTC', 'POEETH', 'QSPBTC', 'QSPETH', 'QSPBNB', 'BTSBTC', 'BTSETH', 'BTSBNB', 'XZCBTC', 'XZCETH', 'XZCBNB', 'LSKBTC', 'LSKETH', 'LSKBNB', 'TNTBTC', 'TNTETH', 'FUELBTC', 'FUELETH', 'MANABTC', 'MANAETH', 'BCDBTC', 'BCDETH', 'DGDBTC', 'DGDETH', 'IOTABNB', 'ADXBTC', 'ADXETH', 'ADXBNB', 'ADABTC', 'ADAETH', 'PPTBTC', 'PPTETH', 'CMTBTC', 'CMTETH', 'CMTBNB', 'XLMBTC', 'XLMETH', 'XLMBNB', 'CNDBTC', 'CNDETH', 'CNDBNB', 'LENDBTC', 'LENDETH', 'WABIBTC', 'WABIETH', 'WABIBNB', 'LTCETH', 'LTCUSDT', 'LTCBNB', 'TNBBTC', 'TNBETH', 'WAVESBTC', 'WAVESETH', 'WAVESBNB', 'GTOBTC', 'GTOETH', 'GTOBNB', 'ICXBTC', 'ICXETH', 'ICXBNB', 'OSTBTC', 'OSTETH', 'OSTBNB', 'ELFBTC', 'ELFETH', 'AIONBTC', 'AIONETH', 'AIONBNB', 'NEBLBTC', 'NEBLBNB', 'BRDBTC', 'BRDETH', 'BRDBNB', 'MCOBNB', 'EDOBTC', 'EDOETH', 'WINGSBTC', 'WINGSETH', 'NAVBTC', 'NAVETH', 'NAVBNB', 'LUNBTC', 'LUNETH', 'TRIGBTC', 'TRIGETH', 'TRIGBNB', 'APPCBTC', 'APPCETH', 'APPCBNB', 'VIBEBTC', 'VIBEETH', 'RLCBTC', 'RLCETH', 'RLCBNB', 'INSBTC', 'INSETH', 'PIVXBTC', 'PIVXBNB', 'IOSTBTC', 'IOSTETH', 'CHATBTC', 'CHATETH', 'STEEMBTC', 'STEEMETH', 'STEEMBNB', 'NANOBTC', 'NANOETH', 'NANOBNB', 'VIABTC', 'VIAETH', 'VIABNB', 'BLZBTC', 'BLZETH', 'BLZBNB', 'AEBTC', 'AEETH', 'AEBNB', 'RPXBTC', 'RPXETH', 'RPXBNB', 'NCASHBTC', 'NCASHETH', 'NCASHBNB', 'POABTC', 'POAETH', 'POABNB', 'ZILBTC', 'ZILETH', 'ZILBNB', 'ONTBTC', 'ONTETH', 'ONTBNB', 'STORMBTC', 'STORMETH', 'STORMBNB', 'QTUMBNB', 'QTUMUSDT', 'XEMBTC', 'XEMETH', 'XEMBNB', 'WANBTC', 'WANETH', 'WANBNB', 'WPRBTC', 'WPRETH', 'QLCBTC', 'QLCETH', 'SYSBTC', 'SYSETH', 'SYSBNB', 'QLCBNB', 'GRSBTC', 'GRSETH', 'ADAUSDT', 'ADABNB', 'CLOAKBTC', 'CLOAKETH', 'GNTBTC', 'GNTETH', 'GNTBNB', 'LOOMBTC', 'LOOMETH', 'LOOMBNB', 'XRPUSDT', 'BCNBTC', 'BCNETH', 'BCNBNB', 'REPBTC', 'REPBNB', 'BTCTUSD', 'TUSDBTC', 'ETHTUSD', 'TUSDETH', 'TUSDBNB', 'ZENBTC', 'ZENETH', 'ZENBNB', 'SKYBTC', 'SKYETH', 'SKYBNB', 'EOSUSDT', 'EOSBNB', 'CVCBTC', 'CVCETH', 'CVCBNB', 'THETABTC', 'THETAETH', 'THETABNB', 'XRPBNB', 'TUSDUSDT', 'IOTAUSDT', 'XLMUSDT', 'IOTXBTC', 'IOTXETH', 'QKCBTC', 'QKCETH', 'AGIBTC', 'AGIETH', 'AGIBNB', 'NXSBTC', 'NXSETH', 'NXSBNB', 'ENJBNB', 'DATABTC', 'DATAETH', 'ONTUSDT', 'TRXBNB', 'TRXUSDT', 'ETCUSDT', 'ETCBNB', 'ICXUSDT', 'SCBTC', 'SCETH', 'NPXSBTC', 'NPXSETH', 'VENUSDT', 'KEYBTC', 'KEYETH', 'NASBTC', 'NASETH', 'NASBNB', 'MFTBTC', 'MFTETH', 'MFTBNB', 'DENTBTC', 'DENTETH', 'ARDRBTC', 'ARDRETH', 'ARDRBNB', 'NULSUSDT', 'HOTBTC', 'HOTETH', 'VETBTC', 'VETETH', 'VETUSDT', 'VETBNB', 'DOCKBTC', 'DOCKETH', 'POLYBTC', 'POLYBNB', 'PHXBTC', 'PHXETH', 'PHXBNB', 'HCBTC', 'HCETH', 'GOBTC', 'GOBNB', 'PAXBTC', 'PAXBNB', 'PAXUSDT', 'PAXETH', 'RVNBTC', 'DCRBTC', 'DCRBNB', 'USDCBNB', 'MITHBTC', 'MITHBNB', 'BCHABCBTC', 'BCHSVBTC', 'BCHABCUSDT', 'BCHSVUSDT', 'BNBPAX', 'BTCPAX', 'ETHPAX', 'XRPPAX', 'EOSPAX', 'XLMPAX', 'RENBTC', 'RENBNB', 'BNBTUSD', 'XRPTUSD', 'EOSTUSD', 'XLMTUSD', 'BNBUSDC', 'BTCUSDC', 'ETHUSDC', 'XRPUSDC', 'EOSUSDC', 'XLMUSDC', 'USDCUSDT', 'ADATUSD', 'TRXTUSD', 'NEOTUSD', 'TRXXRP', 'XZCXRP', 'PAXTUSD', 'USDCTUSD', 'USDCPAX', 'LINKUSDT', 'LINKTUSD', 'LINKPAX', 'LINKUSDC', 'WAVESUSDT', 'WAVESTUSD', 'WAVESPAX', 'WAVESUSDC', 'BCHABCTUSD', 'BCHABCPAX', 'BCHABCUSDC', 'BCHSVTUSD', 'BCHSVPAX', 'BCHSVUSDC', 'LTCTUSD', 'LTCPAX', 'LTCUSDC', 'TRXPAX', 'TRXUSDC', 'BTTBTC', 'BTTBNB', 'BTTUSDT', 'BNBUSDS', 'BTCUSDS', 'USDSUSDT', 'USDSPAX', 'USDSTUSD', 'USDSUSDC', 'BTTPAX', 'BTTTUSD', 'BTTUSDC', 'ONGBNB', 'ONGBTC', 'ONGUSDT', 'HOTBNB', 'HOTUSDT', 'ZILUSDT', 'ZRXBNB', 'ZRXUSDT', 'FETBNB', 'FETBTC', 'FETUSDT', 'BATUSDT', 'XMRBNB', 'XMRUSDT', 'ZECBNB', 'ZECUSDT', 'ZECPAX', 'ZECTUSD', 'ZECUSDC', 'IOSTUSDT', 'CELRBNB', 'CELRBTC', 'CELRUSDT', 'ADAPAX', 'ADAUSDC', 'NEOPAX', 'NEOUSDC', 'DASHBNB', 'DASHUSDT', 'NANOUSDT', 'OMGBNB', 'OMGUSDT', 'THETAUSDT', 'ENJUSDT', 'MITHUSDT', 'MATICBNB', 'MATICBTC', 'MATICUSDT', 'ATOMBNB', 'ATOMBTC', 'ATOMUSDT', 'ATOMUSDC', 'ATOMPAX', 'ATOMTUSD', 'ETCUSDC', 'ETCPAX', 'ETCTUSD', 'BATUSDC', 'BATPAX', 'BATTUSD', 'PHBBNB', 'PHBBTC', 'PHBUSDC', 'PHBTUSD', 'PHBPAX', 'TFUELBNB', 'TFUELBTC', 'TFUELUSDT', 'TFUELUSDC', 'TFUELTUSD', 'TFUELPAX', 'ONEBNB', 'ONEBTC', 'ONEUSDT', 'ONETUSD', 'ONEPAX', 'ONEUSDC', 'FTMBNB', 'FTMBTC', 'FTMUSDT', 'FTMTUSD', 'FTMPAX', 'FTMUSDC', 'BTCBBTC', 'BCPTTUSD', 'BCPTPAX', 'BCPTUSDC', 'ALGOBNB', 'ALGOBTC', 'ALGOUSDT', 'ALGOTUSD', 'ALGOPAX', 'ALGOUSDC', 'USDSBUSDT', 'USDSBUSDS', 'GTOUSDT', 'GTOPAX', 'GTOTUSD', 'GTOUSDC', 'ERDBNB', 'ERDBTC', 'ERDUSDT', 'ERDPAX', 'ERDUSDC', 'DOGEBNB', 'DOGEBTC', 'DOGEUSDT', 'DOGEPAX', 'DOGEUSDC', 'DUSKBNB', 'DUSKBTC', 'DUSKUSDT', 'DUSKUSDC', 'DUSKPAX', 'BGBPUSDC', 'ANKRBNB', 'ANKRBTC', 'ANKRUSDT', 'ANKRTUSD', 'ANKRPAX', 'ANKRUSDC', 'ONTPAX', 'ONTUSDC', 'WINBNB', 'WINBTC', 'WINUSDT', 'WINUSDC', 'COSBNB', 'COSBTC', 'COSUSDT', 'TUSDBTUSD', 'NPXSUSDT', 'NPXSUSDC', 'COCOSBNB', 'COCOSBTC', 'COCOSUSDT', 'MTLUSDT', 'TOMOBNB', 'TOMOBTC', 'TOMOUSDT', 'TOMOUSDC', 'PERLBNB', 'PERLBTC', 'PERLUSDC', 'PERLUSDT', 'DENTUSDT', 'MFTUSDT', 'KEYUSDT', 'STORMUSDT', 'DOCKUSDT', 'WANUSDT', 'FUNUSDT', 'CVCUSDT', 'BTTTRX', 'WINTRX', 'CHZBNB', 'CHZBTC', 'CHZUSDT', 'BANDBNB', 'BANDBTC', 'BANDUSDT', 'BNBBUSD', 'BTCBUSD', 'BUSDUSDT', 'BEAMBNB', 'BEAMBTC', 'BEAMUSDT', 'XTZBNB', 'XTZBTC', 'XTZUSDT', 'RENUSDT', 'RVNUSDT', 'HCUSDT', 'HBARBNB', 'HBARBTC', 'HBARUSDT', 'NKNBNB', 'NKNBTC', 'NKNUSDT', 'XRPBUSD', 'ETHBUSD', 'BCHABCBUSD', 'LTCBUSD', 'LINKBUSD', 'ETCBUSD', 'STXBNB', 'STXBTC', 'STXUSDT', 'KAVABNB', 'KAVABTC', 'KAVAUSDT', 'BUSDNGN', 'BNBNGN', 'BTCNGN', 'ARPABNB', 'ARPABTC', 'ARPAUSDT', 'TRXBUSD', 'EOSBUSD', 'IOTXUSDT', 'RLCUSDT', 'MCOUSDT', 'XLMBUSD', 'ADABUSD', 'CTXCBNB', 'CTXCBTC', 'CTXCUSDT', 'BCHBNB', 'BCHBTC', 'BCHUSDT', 'BCHUSDC', 'BCHTUSD', 'BCHPAX', 'BCHBUSD', 'BTCRUB', 'ETHRUB', 'XRPRUB', 'BNBRUB', 'TROYBNB', 'TROYBTC', 'TROYUSDT', 'BUSDRUB', 'QTUMBUSD', 'VETBUSD', 'VITEBNB', 'VITEBTC', 'VITEUSDT', 'FTTBNB', 'FTTBTC', 'FTTUSDT', 'BTCTRY', 'BNBTRY', 'BUSDTRY', 'ETHTRY', 'XRPTRY', 'USDTTRY', 'USDTRUB', 'BTCEUR', 'ETHEUR', 'BNBEUR', 'XRPEUR', 'EURBUSD', 'EURUSDT', 'OGNBNB', 'OGNBTC', 'OGNUSDT', 'DREPBNB', 'DREPBTC', 'DREPUSDT', 'BULLUSDT', 'BULLBUSD', 'BEARUSDT', 'BEARBUSD', 'ETHBULLUSDT', 'ETHBULLBUSD', 'ETHBEARUSDT', 'ETHBEARBUSD', 'TCTBNB', 'TCTBTC', 'TCTUSDT', 'WRXBNB', 'WRXBTC', 'WRXUSDT', 'ICXBUSD', 'BTSUSDT', 'BTSBUSD', 'LSKUSDT', 'BNTUSDT', 'BNTBUSD', 'LTOBNB', 'LTOBTC', 'LTOUSDT', 'ATOMBUSD', 'DASHBUSD', 'NEOBUSD', 'WAVESBUSD', 'XTZBUSD', 'EOSBULLUSDT', 'EOSBULLBUSD', 'EOSBEARUSDT', 'EOSBEARBUSD', 'XRPBULLUSDT', 'XRPBULLBUSD', 'XRPBEARUSDT', 'XRPBEARBUSD', 'BATBUSD', 'ENJBUSD', 'NANOBUSD', 'ONTBUSD', 'RVNBUSD', 'STRATBUSD', 'STRATBNB', 'STRATUSDT', 'AIONBUSD', 'AIONUSDT', 'MBLBNB', 'MBLBTC', 'MBLUSDT', 'COTIBNB', 'COTIBTC', 'COTIUSDT', 'ALGOBUSD', 'BTTBUSD', 'TOMOBUSD', 'XMRBUSD', 'ZECBUSD', 'BNBBULLUSDT', 'BNBBULLBUSD', 'BNBBEARUSDT', 'BNBBEARBUSD', 'STPTBNB', 'STPTBTC', 'STPTUSDT', 'BTCZAR', 'ETHZAR', 'BNBZAR', 'USDTZAR', 'BUSDZAR', 'BTCBKRW', 'ETHBKRW', 'BNBBKRW', 'WTCUSDT', 'DATABUSD', 'DATAUSDT', 'XZCUSDT', 'SOLBNB', 'SOLBTC', 'SOLUSDT', 'SOLBUSD', 'BTCIDRT', 'BNBIDRT', 'USDTIDRT', 'BUSDIDRT', 'CTSIBTC', 'CTSIUSDT', 'CTSIBNB', 'CTSIBUSD', 'HIVEBNB', 'HIVEBTC', 'HIVEUSDT', 'CHRBNB', 'CHRBTC', 'CHRUSDT', 'BTCUPUSDT', 'BTCDOWNUSDT', 'GXSUSDT', 'ARDRUSDT', 'ERDBUSD', 'LENDUSDT', 'HBARBUSD', 'MATICBUSD', 'WRXBUSD', 'ZILBUSD', 'MDTBNB', 'MDTBTC', 'MDTUSDT', 'STMXBTC', 'STMXETH', 'STMXUSDT', 'KNCBUSD', 'KNCUSDT', 'REPBUSD', 'REPUSDT', 'LRCBUSD', 'LRCUSDT', 'IQBNB', 'IQBUSD', 'PNTBTC', 'PNTUSDT', 'BTCGBP', 'ETHGBP', 'XRPGBP', 'BNBGBP', 'GBPBUSD', 'DGBBTC', 'DGBBUSD', 'BTCUAH', 'USDTUAH', 'COMPBTC', 'COMPBNB', 'COMPBUSD', 'COMPUSDT', 'BTCBIDR', 'ETHBIDR', 'BNBBIDR', 'BUSDBIDR', 'USDTBIDR', 'BKRWUSDT', 'BKRWBUSD', 'SCUSDT', 'ZENUSDT', 'SXPBTC', 'SXPBNB', 'SXPBUSD', 'SNXBTC', 'SNXBNB', 'SNXBUSD', 'SNXUSDT', 'ETHUPUSDT', 'ETHDOWNUSDT', 'ADAUPUSDT', 'ADADOWNUSDT', 'LINKUPUSDT', 'LINKDOWNUSDT', 'VTHOBNB', 'VTHOBUSD', 'VTHOUSDT', 'DCRBUSD', 'DGBUSDT', 'GBPUSDT', 'STORJBUSD', 'SXPUSDT', 'IRISBNB', 'IRISBTC', 'IRISBUSD', 'MKRBNB', 'MKRBTC', 'MKRUSDT', 'MKRBUSD', 'DAIBNB', 'DAIBTC', 'DAIUSDT', 'DAIBUSD', 'RUNEBNB', 'RUNEBTC', 'RUNEBUSD', 'MANABUSD', 'DOGEBUSD', 'LENDBUSD', 'ZRXBUSD', 'DCRUSDT', 'STORJUSDT', 'XRPBKRW', 'ADABKRW', 'BTCAUD', 'ETHAUD', 'AUDBUSD', 'FIOBNB', 'FIOBTC', 'FIOBUSD', 'BNBUPUSDT', 'BNBDOWNUSDT', 'XTZUPUSDT', 'XTZDOWNUSDT', 'AVABNB', 'AVABTC', 'AVABUSD', 'USDTBKRW', 'BUSDBKRW', 'IOTABUSD', 'MANAUSDT', 'XRPAUD', 'BNBAUD', 'AUDUSDT', 'BALBNB', 'BALBTC', 'BALBUSD', 'YFIBNB', 'YFIBTC', 'YFIBUSD', 'YFIUSDT', 'BLZBUSD', 'KMDBUSD', 'BALUSDT', 'BLZUSDT', 'IRISUSDT', 'KMDUSDT', 'BTCDAI', 'ETHDAI', 'BNBDAI', 'USDTDAI', 'BUSDDAI', 'JSTBNB', 'JSTBTC', 'JSTBUSD', 'JSTUSDT', 'SRMBNB', 'SRMBTC', 'SRMBUSD', 'SRMUSDT', 'ANTBNB', 'ANTBTC', 'ANTBUSD', 'ANTUSDT', 'CRVBNB', 'CRVBTC', 'CRVBUSD', 'CRVUSDT', 'SANDBNB', 'SANDBTC', 'SANDUSDT', 'SANDBUSD', 'OCEANBNB', 'OCEANBTC', 'OCEANBUSD', 'OCEANUSDT', 'NMRBTC', 'NMRBUSD', 'NMRUSDT', 'DOTBNB', 'DOTBTC', 'DOTBUSD', 'DOTUSDT', 'LUNABNB', 'LUNABTC', 'LUNABUSD', 'LUNAUSDT', 'IDEXBTC', 'IDEXBUSD', 'RSRBNB', 'RSRBTC', 'RSRBUSD', 'RSRUSDT', 'PAXGBNB', 'PAXGBTC', 'PAXGBUSD', 'PAXGUSDT', 'WNXMBNB', 'WNXMBTC', 'WNXMBUSD', 'WNXMUSDT', 'TRBBNB', 'TRBBTC', 'TRBBUSD', 'TRBUSDT', 'ETHNGN', 'DOTBIDR', 'LINKAUD', 'SXPAUD', 'BZRXBNB', 'BZRXBTC', 'BZRXBUSD', 'BZRXUSDT', 'WBTCBTC', 'WBTCETH', 'SUSHIBNB', 'SUSHIBTC', 'SUSHIBUSD', 'SUSHIUSDT', 'YFIIBNB', 'YFIIBTC', 'YFIIBUSD', 'YFIIUSDT', 'KSMBNB', 'KSMBTC', 'KSMBUSD', 'KSMUSDT', 'EGLDBNB', 'EGLDBTC', 'EGLDBUSD', 'EGLDUSDT', 'DIABNB', 'DIABTC', 'DIABUSD', 'DIAUSDT', 'RUNEUSDT', 'FIOUSDT', 'UMABTC', 'UMAUSDT', 'EOSUPUSDT', 'EOSDOWNUSDT', 'TRXUPUSDT', 'TRXDOWNUSDT', 'XRPUPUSDT', 'XRPDOWNUSDT', 'DOTUPUSDT', 'DOTDOWNUSDT', 'SRMBIDR', 'ONEBIDR', 'LINKTRY', 'USDTNGN', 'BELBNB', 'BELBTC', 'BELBUSD', 'BELUSDT', 'WINGBNB', 'WINGBTC', 'SWRVBNB', 'SWRVBUSD', 'WINGBUSD', 'WINGUSDT', 'LTCUPUSDT', 'LTCDOWNUSDT', 'LENDBKRW', 'SXPEUR', 'CREAMBNB', 'CREAMBUSD', 'UNIBNB', 'UNIBTC', 'UNIBUSD', 'UNIUSDT', 'NBSBTC', 'NBSUSDT', 'OXTBTC', 'OXTUSDT', 'SUNBTC', 'SUNUSDT', 'AVAXBNB', 'AVAXBTC', 'AVAXBUSD', 'AVAXUSDT', 'HNTBTC', 'HNTUSDT', 'BAKEBNB', 'BURGERBNB', 'SXPBIDR', 'LINKBKRW', 'FLMBNB', 'FLMBTC', 'FLMBUSD', 'FLMUSDT', 'SCRTBTC', 'SCRTETH', 'CAKEBNB', 'CAKEBUSD', 'SPARTABNB', 'UNIUPUSDT', 'UNIDOWNUSDT', 'ORNBTC', 'ORNUSDT', 'TRXNGN', 'SXPTRY', 'UTKBTC', 'UTKUSDT', 'XVSBNB', 'XVSBTC', 'XVSBUSD', 'XVSUSDT', 'ALPHABNB', 'ALPHABTC', 'ALPHABUSD', 'ALPHAUSDT', 'VIDTBTC', 'VIDTBUSD', 'AAVEBNB', 'BTCBRL', 'USDTBRL', 'AAVEBTC', 'AAVEETH', 'AAVEBUSD', 'AAVEUSDT', 'AAVEBKRW', 'NEARBNB', 'NEARBTC', 'NEARBUSD', 'NEARUSDT', 'SXPUPUSDT', 'SXPDOWNUSDT', 'DOTBKRW', 'SXPGBP', 'FILBNB', 'FILBTC', 'FILBUSD', 'FILUSDT', 'FILUPUSDT', 'FILDOWNUSDT', 'YFIUPUSDT', 'YFIDOWNUSDT', 'INJBNB', 'INJBTC', 'INJBUSD', 'INJUSDT', 'AERGOBTC', 'AERGOBUSD', 'LINKEUR', 'ONEBUSD', 'EASYETH', 'AUDIOBTC', 'AUDIOBUSD', 'AUDIOUSDT', 'CTKBNB', 'CTKBTC', 'CTKBUSD', 'CTKUSDT', 'BCHUPUSDT', 'BCHDOWNUSDT', 'BOTBTC', 'BOTBUSD', 'ETHBRL', 'DOTEUR', 'AKROBTC', 'AKROUSDT', 'KP3RBNB', 'KP3RBUSD', 'AXSBNB', 'AXSBTC', 'AXSBUSD', 'AXSUSDT', 'HARDBNB', 'HARDBTC', 'HARDBUSD', 'HARDUSDT', 'BNBBRL', 'LTCEUR', 'RENBTCBTC', 'RENBTCETH', 'DNTBUSD', 'DNTUSDT', 'SLPETH', 'ADAEUR', 'LTCNGN', 'CVPETH', 'CVPBUSD', 'STRAXBTC', 'STRAXETH', 'STRAXBUSD', 'STRAXUSDT', 'FORBTC', 'FORBUSD', 'UNFIBNB', 'UNFIBTC', 'UNFIBUSD', 'UNFIUSDT', 'FRONTETH', 'FRONTBUSD', 'BCHABUSD', 'ROSEBTC', 'ROSEBUSD', 'ROSEUSDT', 'AVAXTRY', 'BUSDBRL', 'AVAUSDT', 'SYSBUSD', 'XEMUSDT', 'HEGICETH', 'HEGICBUSD', 'AAVEUPUSDT', 'AAVEDOWNUSDT', 'PROMBNB', 'PROMBUSD', 'XRPBRL', 'XRPNGN', 'SKLBTC', 'SKLBUSD', 'SKLUSDT', 'BCHEUR', 'YFIEUR', 'ZILBIDR', 'SUSDBTC', 'SUSDETH', 'SUSDUSDT', 'COVERETH', 'COVERBUSD', 'GLMBTC', 'GLMETH', 'GHSTETH', 'GHSTBUSD', 'SUSHIUPUSDT', 'SUSHIDOWNUSDT', 'XLMUPUSDT', 'XLMDOWNUSDT', 'LINKBRL', 'LINKNGN', 'LTCRUB', 'TRXTRY', 'XLMEUR', 'DFETH', 'DFBUSD', 'GRTBTC', 'GRTETH', 'GRTUSDT', 'JUVBTC', 'JUVBUSD', 'JUVUSDT', 'PSGBTC', 'PSGBUSD', 'PSGUSDT', 'BUSDBVND', 'USDTBVND', '1INCHBTC', '1INCHUSDT', 'REEFBTC', 'REEFUSDT', 'OGBTC', 'OGUSDT', 'ATMBTC', 'ATMUSDT', 'ASRBTC', 'ASRUSDT', 'CELOBTC', 'CELOUSDT', 'RIFBTC', 'RIFUSDT', 'CHZTRY', 'XLMTRY', 'LINKGBP', 'GRTEUR', 'BTCSTBTC', 'BTCSTBUSD', 'BTCSTUSDT', 'TRUBTC', 'TRUBUSD', 'TRUUSDT', 'DEXEETH', 'DEXEBUSD', 'EOSEUR', 'LTCBRL', 'USDCBUSD', 'TUSDBUSD', 'PAXBUSD', 'CKBBTC', 'CKBBUSD', 'CKBUSDT', 'TWTBTC', 'TWTBUSD', 'TWTUSDT', 'FIROBTC', 'FIROETH', 'FIROUSDT', 'BETHETH', 'DOGEEUR', 'DOGETRY', 'DOGEAUD', 'DOGEBRL', 'DOTNGN', 'PROSETH', 'LITBTC', 'LITBUSD', 'LITUSDT', 'BTCVAI', 'BUSDVAI', 'SFPBTC', 'SFPBUSD', 'SFPUSDT', 'DOGEGBP', 'DOTTRY', 'FXSBTC', 'FXSBUSD', 'DODOBTC', 'DODOBUSD', 'DODOUSDT', 'FRONTBTC', 'EASYBTC', 'CAKEBTC', 'CAKEUSDT', 'BAKEBUSD', 'UFTETH', 'UFTBUSD', '1INCHBUSD', 'BANDBUSD', 'GRTBUSD', 'IOSTBUSD', 'OMGBUSD', 'REEFBUSD', 'ACMBTC', 'ACMBUSD', 'ACMUSDT', 'AUCTIONBTC', 'AUCTIONBUSD', 'PHABTC', 'PHABUSD', 'DOTGBP', 'ADATRY', 'ADABRL', 'ADAGBP', 'TVKBTC', 'TVKBUSD', 'BADGERBTC', 'BADGERBUSD', 'BADGERUSDT', 'FISBTC', 'FISBUSD', 'FISUSDT', 'DOTBRL', 'ADAAUD', 'HOTTRY', 'EGLDEUR', 'OMBTC', 'OMBUSD', 'OMUSDT', 'PONDBTC', 'PONDBUSD', 'PONDUSDT', 'DEGOBTC', 'DEGOBUSD', 'DEGOUSDT', 'AVAXEUR', 'BTTTRY', 'CHZBRL', 'UNIEUR', 'ALICEBTC', 'ALICEBUSD', 'ALICEUSDT', 'CHZBUSD', 'CHZEUR', 'CHZGBP', 'BIFIBNB', 'BIFIBUSD', 'LINABTC', 'LINABUSD', 'LINAUSDT', 'ADARUB', 'ENJBRL', 'ENJEUR', 'MATICEUR', 'NEOTRY', 'PERPBTC', 'PERPBUSD', 'PERPUSDT', 'RAMPBTC', 'RAMPBUSD', 'RAMPUSDT', 'SUPERBTC', 'SUPERBUSD', 'SUPERUSDT', 'CFXBTC', 'CFXBUSD', 'CFXUSDT', 'ENJGBP', 'EOSTRY', 'LTCGBP', 'LUNAEUR', 'RVNTRY', 'THETAEUR', 'XVGBUSD', 'EPSBTC', 'EPSBUSD', 'EPSUSDT', 'AUTOBTC', 'AUTOBUSD', 'AUTOUSDT', 'TKOBTC', 'TKOBIDR', 'TKOBUSD', 'TKOUSDT', 'PUNDIXETH', 'PUNDIXUSDT', 'BTTBRL', 'BTTEUR', 'HOTEUR', 'WINEUR', 'TLMBTC', 'TLMBUSD', 'TLMUSDT', '1INCHUPUSDT', '1INCHDOWNUSDT', 'BTGBUSD', 'BTGUSDT', 'HOTBUSD', 'BNBUAH', 'ONTTRY', 'VETEUR', 'VETGBP', 'WINBRL', 'MIRBTC', 'MIRBUSD', 'MIRUSDT', 'BARBTC', 'BARBUSD', 'BARUSDT', 'FORTHBTC', 'FORTHBUSD', 'FORTHUSDT', 'CAKEGBP', 'DOGERUB', 'HOTBRL', 'WRXEUR', 'EZBTC', 'EZETH', 'BAKEUSDT', 'BURGERBUSD', 'BURGERUSDT', 'SLPBUSD', 'SLPUSDT', 'TRXAUD', 'TRXEUR', 'VETTRY', 'SHIBUSDT', 'SHIBBUSD', 'ICPBTC', 'ICPBNB', 'ICPBUSD', 'ICPUSDT', 'SHIBEUR', 'SHIBRUB', 'ETCEUR', 'ETCBRL', 'DOGEBIDR', 'ARBTC', 'ARBNB', 'ARBUSD', 'ARUSDT', 'POLSBTC', 'POLSBNB', 'POLSBUSD', 'POLSUSDT', 'MDXBTC', 'MDXBNB', 'MDXBUSD', 'MDXUSDT', 'MASKBNB', 'MASKBUSD', 'MASKUSDT', 'LPTBTC', 'LPTBNB', 'LPTBUSD', 'LPTUSDT', 'ETHUAH', 'MATICBRL', 'SOLEUR', 'SHIBBRL', 'AGIXBTC', 'ICPEUR', 'MATICGBP', 'SHIBTRY', 'MATICBIDR', 'MATICRUB', 'NUBTC', 'NUBNB', 'NUBUSD', 'NUUSDT', 'XVGUSDT', 'RLCBUSD', 'CELRBUSD', 'ATMBUSD', 'ZENBUSD', 'FTMBUSD', 'THETABUSD', 'WINBUSD', 'KAVABUSD', 'XEMBUSD', 'ATABTC', 'ATABNB', 'ATABUSD', 'ATAUSDT', 'GTCBTC', 'GTCBNB', 'GTCBUSD', 'GTCUSDT', 'TORNBTC', 'TORNBNB', 'TORNBUSD', 'TORNUSDT', 'MATICTRY', 'ETCGBP', 'SOLGBP', 'BAKEBTC', 'COTIBUSD', 'KEEPBTC', 'KEEPBNB', 'KEEPBUSD', 'KEEPUSDT', 'SOLTRY', 'RUNEGBP', 'SOLBRL', 'SCBUSD', 'CHRBUSD', 'STMXBUSD', 'HNTBUSD', 'FTTBUSD', 'DOCKBUSD', 'ADABIDR', 'ERNBNB', 'ERNBUSD', 'ERNUSDT', 'KLAYBTC', 'KLAYBNB', 'KLAYBUSD', 'KLAYUSDT', 'RUNEEUR', 'MATICAUD', 'DOTRUB', 'UTKBUSD', 'IOTXBUSD', 'PHAUSDT', 'SOLRUB', 'RUNEAUD', 'BUSDUAH', 'BONDBTC', 'BONDBNB', 'BONDBUSD', 'BONDUSDT', 'MLNBTC', 'MLNBNB', 'MLNBUSD', 'MLNUSDT', 'GRTTRY', 'CAKEBRL', 'ICPRUB', 'DOTAUD', 'AAVEBRL', 'EOSAUD', 'DEXEUSDT', 'LTOBUSD', 'ADXBUSD', 'QUICKBTC', 'QUICKBNB', 'QUICKBUSD', 'C98USDT', 'C98BUSD', 'C98BNB', 'C98BTC', 'CLVBTC', 'CLVBNB', 'CLVBUSD', 'CLVUSDT', 'QNTBTC', 'QNTBNB', 'QNTBUSD', 'QNTUSDT', 'FLOWBTC', 'FLOWBNB', 'FLOWBUSD', 'FLOWUSDT', 'XECBUSD', 'AXSBRL', 'AXSAUD', 'TVKUSDT', 'MINABTC', 'MINABNB', 'MINABUSD', 'MINAUSDT', 'RAYBNB', 'RAYBUSD', 'RAYUSDT', 'FARMBTC', 'FARMBNB', 'FARMBUSD', 'FARMUSDT', 'ALPACABTC', 'ALPACABNB', 'ALPACABUSD', 'ALPACAUSDT', 'TLMTRY', 'QUICKUSDT', 'ORNBUSD', 'MBOXBTC', 'MBOXBNB', 'MBOXBUSD', 'MBOXUSDT', 'VGXBTC', 'VGXETH', 'FORUSDT', 'REQUSDT', 'GHSTUSDT', 'TRURUB', 'FISBRL', 'WAXPUSDT', 'WAXPBUSD', 'WAXPBNB', 'WAXPBTC', 'TRIBEBTC', 'TRIBEBNB', 'TRIBEBUSD', 'TRIBEUSDT', 'GNOUSDT', 'GNOBUSD', 'GNOBNB', 'GNOBTC', 'ARPATRY', 'PROMBTC', 'MTLBUSD', 'OGNBUSD', 'XECUSDT', 'C98BRL', 'SOLAUD', 'XRPBIDR', 'POLYBUSD', 'ELFUSDT', 'DYDXUSDT', 'DYDXBUSD', 'DYDXBNB', 'DYDXBTC', 'ELFBUSD', 'POLYUSDT', 'IDEXUSDT', 'VIDTUSDT', 'SOLBIDR', 'BTCUSDP', 'ETHUSDP', 'BNBUSDP', 'USDPBUSD', 'USDPUSDT', 'GALAUSDT', 'GALABUSD', 'GALABNB', 'GALABTC', 'FTMBIDR', 'ALGOBIDR', 'CAKEAUD', 'KSMAUD', 'WAVESRUB', 'SUNBUSD', 'ILVUSDT', 'ILVBUSD', 'ILVBNB', 'ILVBTC', 'RENBUSD', 'YGGUSDT', 'YGGBUSD', 'YGGBNB', 'YGGBTC', 'STXBUSD', 'SYSUSDT', 'DFUSDT', 'SOLUSDC', 'ARPARUB', 'LTCUAH', 'FETBUSD', 'ARPABUSD', 'LSKBUSD', 'AVAXBIDR', 'ALICEBIDR', 'FIDAUSDT', 'FIDABUSD', 'FIDABNB', 'FIDABTC', 'DENTBUSD', 'FRONTUSDT', 'CVPUSDT', 'AGLDBTC', 'AGLDBNB', 'AGLDBUSD', 'AGLDUSDT', 'RADBTC', 'RADBNB', 'RADBUSD', 'RADUSDT', 'UNIAUD', 'HIVEBUSD', 'STPTBUSD', 'BETABTC', 'BETABNB', 'BETABUSD', 'BETAUSDT', 'SHIBAUD', 'RAREBTC', 'RAREBNB', 'RAREBUSD', 'RAREUSDT', 'AVAXBRL', 'AVAXAUD', 'LUNAAUD', 'TROYBUSD', 'AXSETH', 'FTMETH', 'SOLETH', 'SSVBTC', 'SSVETH', 'LAZIOTRY', 'LAZIOEUR', 'LAZIOBTC', 'LAZIOUSDT', 'CHESSBTC', 'CHESSBNB', 'CHESSBUSD', 'CHESSUSDT', 'FTMAUD', 'FTMBRL', 'SCRTBUSD', 'ADXUSDT', 'AUCTIONUSDT', 'CELOBUSD', 'FTMRUB', 'NUAUD', 'NURUB', 'REEFTRY', 'REEFBIDR', 'SHIBDOGE', 'DARUSDT', 'DARBUSD', 'DARBNB', 'DARBTC', 'BNXBTC', 'BNXBNB', 'BNXBUSD', 'BNXUSDT', 'RGTUSDT', 'RGTBTC', 'RGTBUSD', 'RGTBNB', 'LAZIOBUSD', 'OXTBUSD', 'MANATRY', 'ALGORUB', 'SHIBUAH', 'LUNABIDR', 'AUDUSDC', 'MOVRBTC', 'MOVRBNB', 'MOVRBUSD', 'MOVRUSDT', 'CITYBTC', 'CITYBNB', 'CITYBUSD', 'CITYUSDT', 'ENSBTC', 'ENSBNB', 'ENSBUSD', 'ENSUSDT', 'SANDETH', 'DOTETH', 'MATICETH', 'ANKRBUSD', 'SANDTRY', 'MANABRL', 'KP3RUSDT', 'QIUSDT', 'QIBUSD', 'QIBNB', 'QIBTC', 'PORTOBTC', 'PORTOUSDT', 'PORTOTRY', 'PORTOEUR', 'POWRUSDT', 'POWRBUSD', 'AVAXETH', 'SLPTRY', 'FISTRY', 'LRCTRY', 'CHRETH', 'FISBIDR', 'VGXUSDT', 'GALAETH', 'JASMYUSDT', 'JASMYBUSD', 'JASMYBNB', 'JASMYBTC', 'AMPBTC', 'AMPBNB', 'AMPBUSD', 'AMPUSDT', 'PLABTC', 'PLABNB', 'PLABUSD', 'PLAUSDT', 'PYRBTC', 'PYRBUSD', 'PYRUSDT', 'RNDRBTC', 'RNDRUSDT', 'RNDRBUSD', 'ALCXBTC', 'ALCXBUSD', 'ALCXUSDT', 'SANTOSBTC', 'SANTOSUSDT', 'SANTOSBRL', 'SANTOSTRY', 'MCBTC', 'MCBUSD', 'MCUSDT', 'BELTRY', 'COCOSBUSD', 'DENTTRY', 'ENJTRY', 'NEORUB', 'SANDAUD', 'SLPBIDR', 'ANYBTC', 'ANYBUSD', 'ANYUSDT', 'BICOBTC', 'BICOBUSD', 'BICOUSDT', 'FLUXBTC', 'FLUXBUSD', 'FLUXUSDT', 'ALICETRY', 'FXSUSDT', 'GALABRL', 'GALATRY', 'LUNATRY', 'REQBUSD', 'SANDBRL', 'MANABIDR', 'SANDBIDR', 'VOXELBTC', 'VOXELBNB', 'VOXELBUSD', 'VOXELUSDT', 'COSBUSD', 'CTXCBUSD', 'FTMTRY', 'MANABNB', 'MINATRY', 'XTZTRY', 'HIGHBTC', 'HIGHBUSD', 'HIGHUSDT', 'CVXBTC', 'CVXBUSD', 'CVXUSDT', 'PEOPLEBTC', 'PEOPLEBUSD', 'PEOPLEUSDT', 'OOKIBUSD', 'OOKIUSDT', 'COCOSTRY', 'GXSBNB', 'LINKBNB', 'LUNAETH', 'MDTBUSD', 'NULSBUSD', 'SPELLBTC', 'SPELLUSDT', 'SPELLBUSD', 'USTBTC', 'USTBUSD', 'USTUSDT', 'JOEBTC', 'JOEBUSD', 'JOEUSDT', 'ATOMETH', 'DUSKBUSD', 'EGLDETH', 'ICPETH', 'LUNABRL', 'LUNAUST', 'NEARETH', 'ROSEBNB', 'VOXELETH', 'ALICEBNB', 'ATOMTRY', 'ETHUST', 'GALAAUD', 'LRCBNB', 'ONEETH', 'OOKIBNB', 'ACHBTC', 'ACHBUSD', 'ACHUSDT', 'IMXBTC', 'IMXBUSD', 'IMXUSDT', 'GLMRBTC', 'GLMRBUSD', 'GLMRUSDT', 'ATOMBIDR', 'DYDXETH', 'FARMETH', 'FORBNB', 'ICPTRY', 'JASMYETH', 'LINABNB', 'OOKIETH', 'ROSEETH', 'UMABUSD', 'UNIETH', 'XTZETH', 'LOKABTC', 'LOKABNB', 'LOKABUSD', 'LOKAUSDT', 'ATOMBRL', 'BNBUST', 'CRVETH', 'HIGHBNB', 'NEARRUB', 'ROSETRY', 'SCRTUSDT', 'API3BTC', 'API3BUSD', 'API3USDT', 'BTTCUSDT', 'BTTCUSDC', 'BTTCTRY', 'ACABTC', 'ACABUSD', 'ACAUSDT', 'ANCBTC', 'ANCBUSD', 'ANCUSDT', 'BDOTDOT', 'XNOBTC', 'XNOETH', 'XNOBUSD', 'XNOUSDT', 'COSTRY', 'KAVAETH', 'MCBNB', 'ONETRY', 'WOOBTC', 'WOOBNB', 'WOOBUSD', 'WOOUSDT', 'CELRETH', 'PEOPLEBNB', 'SLPBNB', 'SPELLBNB', 'SPELLTRY', 'TFUELBUSD', 'AXSTRY', 'DARTRY', 'NEARTRY', 'IDEXBNB', 'ALPINEEUR', 'ALPINETRY', 'ALPINEUSDT', 'ALPINEBTC', 'TUSDT', 'TBUSD', 'API3BNB', 'BETAETH', 'INJTRY', 'TLMBNB', 'ASTRBUSD', 'ASTRUSDT', 'API3TRY', 'GLMRBNB', 'MBOXTRY', 'GMTBTC', 'GMTBNB', 'GMTBUSD', 'GMTUSDT', 'ANCBNB', 'ATOMEUR', 'GALAEUR', 'KSMETH', 'UMATRY', 'KDABTC', 'KDABUSD', 'KDAUSDT', 'APEUSDT', 'APEBUSD', 'APEBTC', 'ALPINEBUSD', 'LUNAGBP', 'NEAREUR', 'TWTTRY', 'WAVESEUR', 'APEEUR', 'APEGBP', 'APETRY', 'BSWUSDT', 'BSWBUSD', 'BSWBNB', 'APEBNB', 'GMTBRL', 'GMTETH', 'JASMYTRY', 'SANTOSBUSD', 'APEAUD', 'BIFIUSDT', 'GMTEUR', 'IMXBNB', 'RUNEETH', 'AVAXGBP', 'MULTIBTC', 'MULTIBUSD', 'MULTIUSDT', 'APEETH', 'BSWETH', 'FILTRY', 'FTMEUR', 'GMTGBP', 'ZILTRY', 'GMTTRY', 'WAVESTRY', 'BTCUST', 'ASTRBTC', 'ASTRETH', 'BSWTRY', 'FTTETH', 'FUNBNB', 'PORTOBUSD', 'STEEMUSDT', 'ZILEUR', 'APEBRL', 'AUDIOTRY', 'BTTCBUSD', 'GMTAUD', 'MBLBUSD', 'MOBUSDT', 'MOBBUSD', 'MOBBTC', 'NEXOUSDT', 'NEXOBUSD', 'NEXOBTC', 'REIUSDT', 'REIBNB', 'REIETH', 'GALUSDT', 'GALBUSD', 'GALBNB', 'GALBTC', 'JASMYEUR', 'KNCBNB', 'SHIBGBP', 'GALEUR', 'GALTRY', 'LDOBUSD', 'LDOUSDT', 'LDOBTC', 'ENSTRY', 'DAREUR', 'DARETH', 'ALGOETH', 'ALGOTRY', 'GALETH', 'EPXUSDT', 'EPXBUSD', 'RUNETRY', 'GALBRL', 'STEEMBUSD', 'CVCBUSD', 'REIBUSD', 'DREPBUSD', 'AKROBUSD', 'PUNDIXBUSD', 'LUNCBUSD', 'USTCBUSD', 'OPBTC', 'OPBUSD', 'OPUSDT', 'OGBUSD', 'KEYBUSD', 'ASRBUSD', 'FIROBUSD', 'NKNBUSD', 'OPBNB', 'OPEUR', 'GTOBUSD', 'SNXETH', 'WBTCBUSD', 'BELETH', 'LITETH', 'LEVERUSDT', 'LEVERBUSD', 'BURGERETH', 'PEOPLEETH', 'UNFIETH', 'BONDETH', 'STORJTRY', 'OPETH', 'ETCTRY', 'WINGETH', 'FILETH', 'GLMBUSD', 'SSVBUSD', 'STGBTC', 'STGBUSD', 'STGUSDT', 'ANKRTRY', 'ARKBUSD', 'BETHBUSD', 'LOOMBUSD', 'SNMBUSD', 'AMBBUSD', 'LUNCUSDT', 'PHBBUSD', 'GASBUSD', 'NEBLBUSD', 'PROSBUSD', 'VIBBUSD', 'GMXBTC', 'GMXBUSD', 'GMXUSDT', 'AGIXBUSD', 'NEBLUSDT', 'SNTBUSD', 'POLYXBTC', 'POLYXBUSD', 'POLYXUSDT', 'APTBTC', 'APTUSDT', 'APTBUSD', 'BTCPLN', 'ETHPLN', 'BUSDPLN', 'APTEUR', 'APTTRY', 'APTBRL', 'QKCBUSD', 'OSMOBTC', 'OSMOUSDT', 'OSMOBUSD', 'HFTBTC', 'HFTBUSD', 'HFTUSDT', 'ARPAETH', 'PHBUSDT', 'VITEBUSD', 'HOOKBTC', 'HOOKUSDT', 'HOOKBUSD', 'HOOKBNB', 'MAGICBTC', 'MAGICBUSD', 'MAGICUSDT', 'BUSDRON', 'HIFIETH', 'HIFIUSDT', 'RPLBTC', 'RPLBUSD', 'RPLUSDT', 'PROSUSDT', 'FETTRY', 'GFTBUSD', 'AGIXUSDT', 'APTETH', 'BTCRON', 'GNSUSDT', 'GNSBTC', 'SYNBTC', 'SYNUSDT', 'VIBUSDT', 'SSVUSDT', 'LQTYUSDT', 'LQTYBTC', 'AMBUSDT', 'BETHUSDT', 'CFXTRY', 'STXTRY', 'USTCUSDT', 'GASUSDT', 'GLMUSDT', 'PROMUSDT', 'QKCUSDT', 'UFTUSDT', 'IDBTC', 'IDBNB', 'IDUSDT', 'ARBBTC', 'ARBUSDT', 'AGIXTRY', 'LOOMUSDT', 'OAXUSDT', 'ARBTUSD', 'ARBTRY', 'ARBEUR', 'IDTUSD', 'IDTRY', 'IDEUR', 'LDOTUSD', 'MATICTUSD', 'OPTUSD', 'SOLTUSD', 'SSVTUSD', 'RDNTBTC', 'RDNTUSDT', 'RDNTTUSD', 'ARBRUB', 'JOETRY', 'MAGICTRY', 'USDTPLN', 'ACHTRY', 'XVSTRY', 'EGLDRON', 'USDTRON', 'USDTARS', 'DOGETUSD', 'WBTCUSDT', 'EDUUSDT', 'EDUTUSD', 'EDUBNB', 'EDUBTC', 'EDUEUR', 'EDUTRY', 'SUIUSDT', 'SUITUSD', 'SUIBTC', 'SUIBNB', 'SUIEUR', 'SUITRY', 'AERGOUSDT', 'RNDRTRY', 'PEPEUSDT', 'PEPETUSD', 'FLOKIUSDT', 'FLOKITUSD', 'OGTRY', 'PEPETRY', 'WBETHETH', 'ASTUSDT', 'SNTUSDT', 'FLOKITRY', 'CITYTRY', 'COMBOUSDT', 'COMBOBNB', 'COMBOTRY', 'LTCTRY', 'RADTRY', 'BTCARS', 'OPTRY', 'PAXGTRY', 'MAVBTC', 'MAVUSDT', 'MAVTUSD', 'CFXTUSD', 'PENDLEBTC', 'PENDLEUSDT', 'PENDLETUSD', 'MAVTRY', 'OCEANTRY', 'TUSDTRY', 'ARBETH', 'BCHTRY', 'XVGTRY', 'XVGTUSD', 'ARKMUSDT', 'ARKMTUSD', 'ARKMTRY', 'ARKMBNB', 'ARKMBTC', 'WBETHUSDT', 'ACATRY', 'AVAXTUSD', 'COMPTUSD', 'COMPTRY', 'XECTRY', 'QUICKTUSD', 'WLDUSDT', 'WLDBTC', 'BNBFDUSD', 'FDUSDBUSD', 'FDUSDUSDT', 'ARKMRUB', 'WLDTRY', 'WLDRUB', 'AMPTRY', 'OGNTRY', 'BTCFDUSD', 'ETHFDUSD', 'ASRTRY', 'ATMTRY', 'ACMTRY', 'BARTRY', 'JUVTRY', 'PSGTRY', 'SEIBNB', 'SEIBTC', 'SEIFDUSD', 'SEITRY', 'SEIUSDT', 'CYBERBNB', 'CYBERBTC', 'CYBERFDUSD', 'CYBERTRY', 'CYBERUSDT', 'CYBERTUSD', 'SEITUSD', 'LPTTRY', 'UNITRY']\n"
     ]
    }
   ],
   "source": [
    "from binance_historical_data import BinanceDataDumper\n",
    "\n",
    "data_dumper = BinanceDataDumper(\n",
    "    path_dir_where_to_dump=\".\",\n",
    "    asset_class=\"spot\",  # spot, um, cm\n",
    "    data_type=\"klines\",  # aggTrades, klines, trades\n",
    "    data_frequency=\"1m\",\n",
    ")\n",
    "\n",
    "print(data_dumper.get_list_all_trading_pairs())"
   ],
   "metadata": {
    "collapsed": false,
    "ExecuteTime": {
     "end_time": "2023-09-01T16:27:21.033078561Z",
     "start_time": "2023-09-01T16:27:18.445528497Z"
    }
   }
  },
  {
   "cell_type": "code",
   "source": [
    "data_dumper.dump_data(tickers=[\"NEARUSDT\"])"
   ],
   "metadata": {
    "colab": {
     "base_uri": "https://localhost:8080/",
     "height": 223,
     "referenced_widgets": [
      "7dd4f39447a8403d971228d215f7c92f",
      "e218add70fa342c6829dd9bb37dcfa41",
      "d8002ed8b0574ac6afb501b840b0ba40",
      "2f202985b8e946d289bdbe6712c2b9a7",
      "9b5b8357efd84321bf36e7a1082bb677",
      "1aae74220cb64297a14c9bbd21fb94fa",
      "90dcc4766a3b49b0bb295848619c28c0",
      "d2c8c1ee88d044b4b0aa98a221a3a839",
      "8e10a6958ba34853abe3221c9d2efb9f",
      "71d93b21192b408eb4160aad368e8341",
      "3373eefba7bc480c870dffcc7c0c76a5",
      "f4374224d0464cf29a95e6c6fe59afa2",
      "54d2bf64f7314420b6a8478485efe34e",
      "3d44a3a6a5af487b9d7f47999ee9ded9",
      "37223277179f487b837ce13db28e41c3",
      "6e70fcf1370f4a20bec5776cfcb25eb2",
      "07fe8db9119b4393a9d712e950e51fc9",
      "59ebcbef69f34c53b1097e76e4395df5",
      "fea07322c08d4b6bab4ef926a5be8c41",
      "30338d5f659e49518b0bd7614fa88825",
      "9d3991c4adec41e8843941b797537d0f",
      "22589f85bbba42698003a58b80bfe4b9",
      "daaacff4c70c47a493d71083333bfac8",
      "301e182d105e49ab89746cdf15e7b998",
      "00ae5f7622304c9ba60b104df9b5ac33",
      "a38d528ec7f24938ad061d9d1b9bfc8c",
      "b1fa0af185c0421aa0fb0bc7fa5ea29a",
      "3998dd6c85bb4724b9cd49a4d7fe92b6",
      "7e597bbd90c74c5ca02e3decaaf7906d",
      "6073ffb187b247b8ab1c2fe80190807c",
      "16cb609f28e1440ebef5b4196c288beb",
      "53388c4a852447b6a08f7a146b489409",
      "ec819a7e4d2e4c52a1828ff01f1d5836"
     ]
    },
    "id": "hI7wxB1j4mSh",
    "executionInfo": {
     "status": "ok",
     "timestamp": 1692980359424,
     "user_tz": -180,
     "elapsed": 5785,
     "user": {
      "displayName": "Ozuwara",
      "userId": "07041248871112494614"
     }
    },
    "outputId": "29e92501-aac5-4477-ae8c-43b81369cc9b",
    "ExecuteTime": {
     "end_time": "2023-09-01T16:27:29.734110731Z",
     "start_time": "2023-09-01T16:27:21.006857119Z"
    }
   },
   "execution_count": 2,
   "outputs": [
    {
     "name": "stdout",
     "output_type": "stream",
     "text": [
      "---> Found overall tickers: 2287\n",
      "---> Filter to asked tickers: 1\n",
      "------> Tickers left: 1\n",
      "Download full data for 1 tickers: \n",
      "---> Data will be saved here: /mnt/storage/dima/Doc/Documents/Особисте/Проєкти/Projects/price_prediction_experiment/spot\n",
      "---> Data Frequency: 1m\n",
      "---> Start Date: 20170101\n",
      "---> End Date: 20230901\n"
     ]
    },
    {
     "data": {
      "text/plain": "Tickers:   0%|          | 0/1 [00:00<?, ?it/s]",
      "application/vnd.jupyter.widget-view+json": {
       "version_major": 2,
       "version_minor": 0,
       "model_id": "6a2db6bcb5ff4fa4a31f2f938282bbc5"
      }
     },
     "metadata": {},
     "output_type": "display_data"
    },
    {
     "data": {
      "text/plain": "monthly files to download:   0%|          | 0/1 [00:00<?, ?files/s]",
      "application/vnd.jupyter.widget-view+json": {
       "version_major": 2,
       "version_minor": 0,
       "model_id": "aec211772fd24683a7e2efbc0be50f26"
      }
     },
     "metadata": {},
     "output_type": "display_data"
    },
    {
     "data": {
      "text/plain": "daily files to download: 0files [00:00, ?files/s]",
      "application/vnd.jupyter.widget-view+json": {
       "version_major": 2,
       "version_minor": 0,
       "model_id": "38f0f4c3c359477c8b528984b6b08430"
      }
     },
     "metadata": {},
     "output_type": "display_data"
    },
    {
     "name": "stdout",
     "output_type": "stream",
     "text": [
      "Tried to dump data for 1 tickers:\n",
      "---> For NEARUSDT new data saved for: 0 months 0 days\n"
     ]
    }
   ]
  },
  {
   "cell_type": "code",
   "source": [
    "import pandas as pd\n",
    "import numpy as np\n",
    "import os\n",
    "\n",
    "filenames = next(os.walk(\"./spot/monthly/klines/NEARUSDT/1m\"), (None, None, []))[2]  # [] if no file\n",
    "\n",
    "columns = [\n",
    "    \"Open time\",\n",
    "    \"Open\",\n",
    "    \"High\",\n",
    "    \"Low\",\n",
    "    \"Close\",\n",
    "    \"Volume\",\n",
    "    \"Close time\",\n",
    "    \"Quote asset volume\",\n",
    "    \"Number of trades\",\n",
    "    \"Taker buy base asset volume\",\n",
    "    \"Taker buy quote asset volume\",\n",
    "    \"Ignore\"\n",
    "]\n",
    "\n",
    "df = pd.DataFrame(columns=columns)\n",
    "\n",
    "for f in filenames:\n",
    "    new_df = pd.read_csv(f\"./spot/monthly/klines/NEARUSDT/1m/{f}\", header=None, names=columns)\n",
    "    df = pd.concat([df, new_df])\n",
    "df = df.sort_values(by=\"Open time\")\n",
    "df"
   ],
   "metadata": {
    "colab": {
     "base_uri": "https://localhost:8080/",
     "height": 441
    },
    "id": "B2UGi3Kw5XVW",
    "executionInfo": {
     "status": "ok",
     "timestamp": 1692980359426,
     "user_tz": -180,
     "elapsed": 22,
     "user": {
      "displayName": "Ozuwara",
      "userId": "07041248871112494614"
     }
    },
    "outputId": "05aa0f8d-49e2-4272-cc23-c863cb4526b3",
    "ExecuteTime": {
     "end_time": "2023-09-01T16:27:31.602287092Z",
     "start_time": "2023-09-01T16:27:29.735925185Z"
    }
   },
   "execution_count": 3,
   "outputs": [
    {
     "name": "stderr",
     "output_type": "stream",
     "text": [
      "/tmp/ipykernel_35237/777231159.py:26: FutureWarning: The behavior of DataFrame concatenation with empty or all-NA entries is deprecated. In a future version, this will no longer exclude empty or all-NA columns when determining the result dtypes. To retain the old behavior, exclude the relevant entries before the concat operation.\n",
      "  df = pd.concat([df, new_df])\n"
     ]
    },
    {
     "data": {
      "text/plain": "           Open time    Open    High     Low   Close      Volume  \\\n0      1602651600000  1.3000  1.8800  1.3000  1.3760  1429560.44   \n1      1602651660000  1.3759  1.4000  1.1111  1.2493   987505.68   \n2      1602651720000  1.2489  1.3593  1.1660  1.2552   549711.33   \n3      1602651780000  1.2499  1.2500  1.1359  1.1742   343258.80   \n4      1602651840000  1.1754  1.2752  1.1753  1.2300   243382.88   \n...              ...     ...     ...     ...     ...         ...   \n44635  1690847700000  1.3710  1.3710  1.3690  1.3690     5932.20   \n44636  1690847760000  1.3690  1.3690  1.3690  1.3690       81.30   \n44637  1690847820000  1.3690  1.3700  1.3690  1.3690     1278.00   \n44638  1690847880000  1.3690  1.3700  1.3690  1.3700      468.60   \n44639  1690847940000  1.3700  1.3700  1.3700  1.3700     1160.60   \n\n          Close time  Quote asset volume Number of trades  \\\n0      1602651659999        2.313165e+06             1848   \n1      1602651719999        1.205528e+06             1392   \n2      1602651779999        6.942747e+05             1103   \n3      1602651839999        4.081314e+05              773   \n4      1602651899999        2.965310e+05              440   \n...              ...                 ...              ...   \n44635  1690847759999        8.131457e+03               23   \n44636  1690847819999        1.112997e+02                3   \n44637  1690847879999        1.749664e+03               10   \n44638  1690847939999        6.415331e+02                6   \n44639  1690847999999        1.590022e+03                5   \n\n       Taker buy base asset volume  Taker buy quote asset volume Ignore  \n0                        520043.50                 837306.088337      0  \n1                        614158.78                 747451.518743      0  \n2                        277203.12                 349648.438905      0  \n3                        170461.39                 202748.271257      0  \n4                        170472.03                 207510.362489      0  \n...                            ...                           ...    ...  \n44635                         0.00                      0.000000      0  \n44636                        81.30                    111.299700      0  \n44637                       438.10                    599.840400      0  \n44638                       468.60                    641.533100      0  \n44639                      1160.60                   1590.022000      0  \n\n[1468516 rows x 12 columns]",
      "text/html": "<div>\n<style scoped>\n    .dataframe tbody tr th:only-of-type {\n        vertical-align: middle;\n    }\n\n    .dataframe tbody tr th {\n        vertical-align: top;\n    }\n\n    .dataframe thead th {\n        text-align: right;\n    }\n</style>\n<table border=\"1\" class=\"dataframe\">\n  <thead>\n    <tr style=\"text-align: right;\">\n      <th></th>\n      <th>Open time</th>\n      <th>Open</th>\n      <th>High</th>\n      <th>Low</th>\n      <th>Close</th>\n      <th>Volume</th>\n      <th>Close time</th>\n      <th>Quote asset volume</th>\n      <th>Number of trades</th>\n      <th>Taker buy base asset volume</th>\n      <th>Taker buy quote asset volume</th>\n      <th>Ignore</th>\n    </tr>\n  </thead>\n  <tbody>\n    <tr>\n      <th>0</th>\n      <td>1602651600000</td>\n      <td>1.3000</td>\n      <td>1.8800</td>\n      <td>1.3000</td>\n      <td>1.3760</td>\n      <td>1429560.44</td>\n      <td>1602651659999</td>\n      <td>2.313165e+06</td>\n      <td>1848</td>\n      <td>520043.50</td>\n      <td>837306.088337</td>\n      <td>0</td>\n    </tr>\n    <tr>\n      <th>1</th>\n      <td>1602651660000</td>\n      <td>1.3759</td>\n      <td>1.4000</td>\n      <td>1.1111</td>\n      <td>1.2493</td>\n      <td>987505.68</td>\n      <td>1602651719999</td>\n      <td>1.205528e+06</td>\n      <td>1392</td>\n      <td>614158.78</td>\n      <td>747451.518743</td>\n      <td>0</td>\n    </tr>\n    <tr>\n      <th>2</th>\n      <td>1602651720000</td>\n      <td>1.2489</td>\n      <td>1.3593</td>\n      <td>1.1660</td>\n      <td>1.2552</td>\n      <td>549711.33</td>\n      <td>1602651779999</td>\n      <td>6.942747e+05</td>\n      <td>1103</td>\n      <td>277203.12</td>\n      <td>349648.438905</td>\n      <td>0</td>\n    </tr>\n    <tr>\n      <th>3</th>\n      <td>1602651780000</td>\n      <td>1.2499</td>\n      <td>1.2500</td>\n      <td>1.1359</td>\n      <td>1.1742</td>\n      <td>343258.80</td>\n      <td>1602651839999</td>\n      <td>4.081314e+05</td>\n      <td>773</td>\n      <td>170461.39</td>\n      <td>202748.271257</td>\n      <td>0</td>\n    </tr>\n    <tr>\n      <th>4</th>\n      <td>1602651840000</td>\n      <td>1.1754</td>\n      <td>1.2752</td>\n      <td>1.1753</td>\n      <td>1.2300</td>\n      <td>243382.88</td>\n      <td>1602651899999</td>\n      <td>2.965310e+05</td>\n      <td>440</td>\n      <td>170472.03</td>\n      <td>207510.362489</td>\n      <td>0</td>\n    </tr>\n    <tr>\n      <th>...</th>\n      <td>...</td>\n      <td>...</td>\n      <td>...</td>\n      <td>...</td>\n      <td>...</td>\n      <td>...</td>\n      <td>...</td>\n      <td>...</td>\n      <td>...</td>\n      <td>...</td>\n      <td>...</td>\n      <td>...</td>\n    </tr>\n    <tr>\n      <th>44635</th>\n      <td>1690847700000</td>\n      <td>1.3710</td>\n      <td>1.3710</td>\n      <td>1.3690</td>\n      <td>1.3690</td>\n      <td>5932.20</td>\n      <td>1690847759999</td>\n      <td>8.131457e+03</td>\n      <td>23</td>\n      <td>0.00</td>\n      <td>0.000000</td>\n      <td>0</td>\n    </tr>\n    <tr>\n      <th>44636</th>\n      <td>1690847760000</td>\n      <td>1.3690</td>\n      <td>1.3690</td>\n      <td>1.3690</td>\n      <td>1.3690</td>\n      <td>81.30</td>\n      <td>1690847819999</td>\n      <td>1.112997e+02</td>\n      <td>3</td>\n      <td>81.30</td>\n      <td>111.299700</td>\n      <td>0</td>\n    </tr>\n    <tr>\n      <th>44637</th>\n      <td>1690847820000</td>\n      <td>1.3690</td>\n      <td>1.3700</td>\n      <td>1.3690</td>\n      <td>1.3690</td>\n      <td>1278.00</td>\n      <td>1690847879999</td>\n      <td>1.749664e+03</td>\n      <td>10</td>\n      <td>438.10</td>\n      <td>599.840400</td>\n      <td>0</td>\n    </tr>\n    <tr>\n      <th>44638</th>\n      <td>1690847880000</td>\n      <td>1.3690</td>\n      <td>1.3700</td>\n      <td>1.3690</td>\n      <td>1.3700</td>\n      <td>468.60</td>\n      <td>1690847939999</td>\n      <td>6.415331e+02</td>\n      <td>6</td>\n      <td>468.60</td>\n      <td>641.533100</td>\n      <td>0</td>\n    </tr>\n    <tr>\n      <th>44639</th>\n      <td>1690847940000</td>\n      <td>1.3700</td>\n      <td>1.3700</td>\n      <td>1.3700</td>\n      <td>1.3700</td>\n      <td>1160.60</td>\n      <td>1690847999999</td>\n      <td>1.590022e+03</td>\n      <td>5</td>\n      <td>1160.60</td>\n      <td>1590.022000</td>\n      <td>0</td>\n    </tr>\n  </tbody>\n</table>\n<p>1468516 rows × 12 columns</p>\n</div>"
     },
     "execution_count": 3,
     "metadata": {},
     "output_type": "execute_result"
    }
   ]
  },
  {
   "cell_type": "code",
   "source": [
    "dataset = df.loc[:, [\n",
    "                        \"Open\",\n",
    "                        \"High\",\n",
    "                        \"Low\",\n",
    "                        \"Close\",\n",
    "                        \"Volume\",\n",
    "                        \"Quote asset volume\"]]\n",
    "dataset[-256:]"
   ],
   "metadata": {
    "colab": {
     "base_uri": "https://localhost:8080/",
     "height": 424
    },
    "id": "QPZCBk7d_2zk",
    "executionInfo": {
     "status": "ok",
     "timestamp": 1692980359427,
     "user_tz": -180,
     "elapsed": 19,
     "user": {
      "displayName": "Ozuwara",
      "userId": "07041248871112494614"
     }
    },
    "outputId": "05fefa34-76c1-4a29-af1b-18c5d23e2ddb",
    "ExecuteTime": {
     "end_time": "2023-09-01T16:27:31.617553941Z",
     "start_time": "2023-09-01T16:27:31.604006500Z"
    }
   },
   "execution_count": 4,
   "outputs": [
    {
     "data": {
      "text/plain": "        Open   High    Low  Close  Volume  Quote asset volume\n44384  1.374  1.375  1.374  1.375  1613.1           2217.9838\n44385  1.374  1.375  1.372  1.372  3312.5           4550.7748\n44386  1.373  1.374  1.373  1.374  1857.0           2551.1578\n44387  1.374  1.374  1.373  1.373   228.3            313.5524\n44388  1.373  1.373  1.373  1.373    49.8             68.3754\n...      ...    ...    ...    ...     ...                 ...\n44635  1.371  1.371  1.369  1.369  5932.2           8131.4573\n44636  1.369  1.369  1.369  1.369    81.3            111.2997\n44637  1.369  1.370  1.369  1.369  1278.0           1749.6635\n44638  1.369  1.370  1.369  1.370   468.6            641.5331\n44639  1.370  1.370  1.370  1.370  1160.6           1590.0220\n\n[256 rows x 6 columns]",
      "text/html": "<div>\n<style scoped>\n    .dataframe tbody tr th:only-of-type {\n        vertical-align: middle;\n    }\n\n    .dataframe tbody tr th {\n        vertical-align: top;\n    }\n\n    .dataframe thead th {\n        text-align: right;\n    }\n</style>\n<table border=\"1\" class=\"dataframe\">\n  <thead>\n    <tr style=\"text-align: right;\">\n      <th></th>\n      <th>Open</th>\n      <th>High</th>\n      <th>Low</th>\n      <th>Close</th>\n      <th>Volume</th>\n      <th>Quote asset volume</th>\n    </tr>\n  </thead>\n  <tbody>\n    <tr>\n      <th>44384</th>\n      <td>1.374</td>\n      <td>1.375</td>\n      <td>1.374</td>\n      <td>1.375</td>\n      <td>1613.1</td>\n      <td>2217.9838</td>\n    </tr>\n    <tr>\n      <th>44385</th>\n      <td>1.374</td>\n      <td>1.375</td>\n      <td>1.372</td>\n      <td>1.372</td>\n      <td>3312.5</td>\n      <td>4550.7748</td>\n    </tr>\n    <tr>\n      <th>44386</th>\n      <td>1.373</td>\n      <td>1.374</td>\n      <td>1.373</td>\n      <td>1.374</td>\n      <td>1857.0</td>\n      <td>2551.1578</td>\n    </tr>\n    <tr>\n      <th>44387</th>\n      <td>1.374</td>\n      <td>1.374</td>\n      <td>1.373</td>\n      <td>1.373</td>\n      <td>228.3</td>\n      <td>313.5524</td>\n    </tr>\n    <tr>\n      <th>44388</th>\n      <td>1.373</td>\n      <td>1.373</td>\n      <td>1.373</td>\n      <td>1.373</td>\n      <td>49.8</td>\n      <td>68.3754</td>\n    </tr>\n    <tr>\n      <th>...</th>\n      <td>...</td>\n      <td>...</td>\n      <td>...</td>\n      <td>...</td>\n      <td>...</td>\n      <td>...</td>\n    </tr>\n    <tr>\n      <th>44635</th>\n      <td>1.371</td>\n      <td>1.371</td>\n      <td>1.369</td>\n      <td>1.369</td>\n      <td>5932.2</td>\n      <td>8131.4573</td>\n    </tr>\n    <tr>\n      <th>44636</th>\n      <td>1.369</td>\n      <td>1.369</td>\n      <td>1.369</td>\n      <td>1.369</td>\n      <td>81.3</td>\n      <td>111.2997</td>\n    </tr>\n    <tr>\n      <th>44637</th>\n      <td>1.369</td>\n      <td>1.370</td>\n      <td>1.369</td>\n      <td>1.369</td>\n      <td>1278.0</td>\n      <td>1749.6635</td>\n    </tr>\n    <tr>\n      <th>44638</th>\n      <td>1.369</td>\n      <td>1.370</td>\n      <td>1.369</td>\n      <td>1.370</td>\n      <td>468.6</td>\n      <td>641.5331</td>\n    </tr>\n    <tr>\n      <th>44639</th>\n      <td>1.370</td>\n      <td>1.370</td>\n      <td>1.370</td>\n      <td>1.370</td>\n      <td>1160.6</td>\n      <td>1590.0220</td>\n    </tr>\n  </tbody>\n</table>\n<p>256 rows × 6 columns</p>\n</div>"
     },
     "execution_count": 4,
     "metadata": {},
     "output_type": "execute_result"
    }
   ]
  },
  {
   "cell_type": "code",
   "execution_count": 5,
   "outputs": [
    {
     "data": {
      "text/plain": "          Open   High    Low  Close  Volume  Quote asset volume\n1468259  0.000  0.001  0.000  0.001  1604.0           2205.4804\n1468260  0.000  0.000 -0.002 -0.003  1699.4           2332.7910\n1468261 -0.001 -0.001  0.001  0.002 -1455.5          -1999.6170\n1468262  0.001  0.000  0.000 -0.001 -1628.7          -2237.6054\n1468263 -0.001 -0.001  0.000  0.000  -178.5           -245.1770\n...        ...    ...    ...    ...     ...                 ...\n1468510  0.000  0.000 -0.002 -0.002  5365.1           7353.9632\n1468511 -0.002 -0.002  0.000  0.000 -5850.9          -8020.1576\n1468512  0.000  0.001  0.000  0.000  1196.7           1638.3638\n1468513  0.000  0.000  0.000  0.001  -809.4          -1108.1304\n1468514  0.001  0.000  0.001  0.000   692.0            948.4889\n\n[256 rows x 6 columns]",
      "text/html": "<div>\n<style scoped>\n    .dataframe tbody tr th:only-of-type {\n        vertical-align: middle;\n    }\n\n    .dataframe tbody tr th {\n        vertical-align: top;\n    }\n\n    .dataframe thead th {\n        text-align: right;\n    }\n</style>\n<table border=\"1\" class=\"dataframe\">\n  <thead>\n    <tr style=\"text-align: right;\">\n      <th></th>\n      <th>Open</th>\n      <th>High</th>\n      <th>Low</th>\n      <th>Close</th>\n      <th>Volume</th>\n      <th>Quote asset volume</th>\n    </tr>\n  </thead>\n  <tbody>\n    <tr>\n      <th>1468259</th>\n      <td>0.000</td>\n      <td>0.001</td>\n      <td>0.000</td>\n      <td>0.001</td>\n      <td>1604.0</td>\n      <td>2205.4804</td>\n    </tr>\n    <tr>\n      <th>1468260</th>\n      <td>0.000</td>\n      <td>0.000</td>\n      <td>-0.002</td>\n      <td>-0.003</td>\n      <td>1699.4</td>\n      <td>2332.7910</td>\n    </tr>\n    <tr>\n      <th>1468261</th>\n      <td>-0.001</td>\n      <td>-0.001</td>\n      <td>0.001</td>\n      <td>0.002</td>\n      <td>-1455.5</td>\n      <td>-1999.6170</td>\n    </tr>\n    <tr>\n      <th>1468262</th>\n      <td>0.001</td>\n      <td>0.000</td>\n      <td>0.000</td>\n      <td>-0.001</td>\n      <td>-1628.7</td>\n      <td>-2237.6054</td>\n    </tr>\n    <tr>\n      <th>1468263</th>\n      <td>-0.001</td>\n      <td>-0.001</td>\n      <td>0.000</td>\n      <td>0.000</td>\n      <td>-178.5</td>\n      <td>-245.1770</td>\n    </tr>\n    <tr>\n      <th>...</th>\n      <td>...</td>\n      <td>...</td>\n      <td>...</td>\n      <td>...</td>\n      <td>...</td>\n      <td>...</td>\n    </tr>\n    <tr>\n      <th>1468510</th>\n      <td>0.000</td>\n      <td>0.000</td>\n      <td>-0.002</td>\n      <td>-0.002</td>\n      <td>5365.1</td>\n      <td>7353.9632</td>\n    </tr>\n    <tr>\n      <th>1468511</th>\n      <td>-0.002</td>\n      <td>-0.002</td>\n      <td>0.000</td>\n      <td>0.000</td>\n      <td>-5850.9</td>\n      <td>-8020.1576</td>\n    </tr>\n    <tr>\n      <th>1468512</th>\n      <td>0.000</td>\n      <td>0.001</td>\n      <td>0.000</td>\n      <td>0.000</td>\n      <td>1196.7</td>\n      <td>1638.3638</td>\n    </tr>\n    <tr>\n      <th>1468513</th>\n      <td>0.000</td>\n      <td>0.000</td>\n      <td>0.000</td>\n      <td>0.001</td>\n      <td>-809.4</td>\n      <td>-1108.1304</td>\n    </tr>\n    <tr>\n      <th>1468514</th>\n      <td>0.001</td>\n      <td>0.000</td>\n      <td>0.001</td>\n      <td>0.000</td>\n      <td>692.0</td>\n      <td>948.4889</td>\n    </tr>\n  </tbody>\n</table>\n<p>256 rows × 6 columns</p>\n</div>"
     },
     "execution_count": 5,
     "metadata": {},
     "output_type": "execute_result"
    }
   ],
   "source": [
    "difference_dataset = dataset.diff().dropna().reset_index(drop=True)\n",
    "difference_dataset[-256:]"
   ],
   "metadata": {
    "collapsed": false,
    "ExecuteTime": {
     "end_time": "2023-09-01T16:27:31.744330614Z",
     "start_time": "2023-09-01T16:27:31.616575306Z"
    }
   }
  },
  {
   "cell_type": "code",
   "execution_count": 6,
   "outputs": [
    {
     "data": {
      "text/plain": "             Open      High       Low     Close     Volume  Quote asset volume\n0        0.073158 -0.392042 -0.173029 -0.119293 -12.999191          -13.917741\n1       -0.119559 -0.039894  0.053446  0.005883 -12.989507          -13.144623\n2        0.001000 -0.103729 -0.029656 -0.077887 -12.237831          -12.564252\n3       -0.071855  0.024888  0.038644  0.054299 -11.511694          -11.622689\n4        0.052877 -0.004589  0.024107  0.019803 -10.906854          -11.076861\n...           ...       ...       ...       ...        ...                 ...\n1468510  0.000000  0.000000 -0.001998 -0.001998   8.587857            8.903131\n1468511 -0.001998 -0.001998  0.000000  0.000000  -8.674522           -8.989838\n1468512  0.000000  0.001000  0.000000  0.000000   7.088158            7.402064\n1468513  0.000000  0.000000  0.000000  0.001000  -6.697528           -7.011332\n1468514  0.001000  0.000000  0.001000  0.000000   6.541030            6.855924\n\n[1468515 rows x 6 columns]",
      "text/html": "<div>\n<style scoped>\n    .dataframe tbody tr th:only-of-type {\n        vertical-align: middle;\n    }\n\n    .dataframe tbody tr th {\n        vertical-align: top;\n    }\n\n    .dataframe thead th {\n        text-align: right;\n    }\n</style>\n<table border=\"1\" class=\"dataframe\">\n  <thead>\n    <tr style=\"text-align: right;\">\n      <th></th>\n      <th>Open</th>\n      <th>High</th>\n      <th>Low</th>\n      <th>Close</th>\n      <th>Volume</th>\n      <th>Quote asset volume</th>\n    </tr>\n  </thead>\n  <tbody>\n    <tr>\n      <th>0</th>\n      <td>0.073158</td>\n      <td>-0.392042</td>\n      <td>-0.173029</td>\n      <td>-0.119293</td>\n      <td>-12.999191</td>\n      <td>-13.917741</td>\n    </tr>\n    <tr>\n      <th>1</th>\n      <td>-0.119559</td>\n      <td>-0.039894</td>\n      <td>0.053446</td>\n      <td>0.005883</td>\n      <td>-12.989507</td>\n      <td>-13.144623</td>\n    </tr>\n    <tr>\n      <th>2</th>\n      <td>0.001000</td>\n      <td>-0.103729</td>\n      <td>-0.029656</td>\n      <td>-0.077887</td>\n      <td>-12.237831</td>\n      <td>-12.564252</td>\n    </tr>\n    <tr>\n      <th>3</th>\n      <td>-0.071855</td>\n      <td>0.024888</td>\n      <td>0.038644</td>\n      <td>0.054299</td>\n      <td>-11.511694</td>\n      <td>-11.622689</td>\n    </tr>\n    <tr>\n      <th>4</th>\n      <td>0.052877</td>\n      <td>-0.004589</td>\n      <td>0.024107</td>\n      <td>0.019803</td>\n      <td>-10.906854</td>\n      <td>-11.076861</td>\n    </tr>\n    <tr>\n      <th>...</th>\n      <td>...</td>\n      <td>...</td>\n      <td>...</td>\n      <td>...</td>\n      <td>...</td>\n      <td>...</td>\n    </tr>\n    <tr>\n      <th>1468510</th>\n      <td>0.000000</td>\n      <td>0.000000</td>\n      <td>-0.001998</td>\n      <td>-0.001998</td>\n      <td>8.587857</td>\n      <td>8.903131</td>\n    </tr>\n    <tr>\n      <th>1468511</th>\n      <td>-0.001998</td>\n      <td>-0.001998</td>\n      <td>0.000000</td>\n      <td>0.000000</td>\n      <td>-8.674522</td>\n      <td>-8.989838</td>\n    </tr>\n    <tr>\n      <th>1468512</th>\n      <td>0.000000</td>\n      <td>0.001000</td>\n      <td>0.000000</td>\n      <td>0.000000</td>\n      <td>7.088158</td>\n      <td>7.402064</td>\n    </tr>\n    <tr>\n      <th>1468513</th>\n      <td>0.000000</td>\n      <td>0.000000</td>\n      <td>0.000000</td>\n      <td>0.001000</td>\n      <td>-6.697528</td>\n      <td>-7.011332</td>\n    </tr>\n    <tr>\n      <th>1468514</th>\n      <td>0.001000</td>\n      <td>0.000000</td>\n      <td>0.001000</td>\n      <td>0.000000</td>\n      <td>6.541030</td>\n      <td>6.855924</td>\n    </tr>\n  </tbody>\n</table>\n<p>1468515 rows × 6 columns</p>\n</div>"
     },
     "execution_count": 6,
     "metadata": {},
     "output_type": "execute_result"
    }
   ],
   "source": [
    "import numpy as np\n",
    "\n",
    "signed_log_transformed_df = np.sign(difference_dataset) * np.log1p(np.abs(difference_dataset))\n",
    "signed_log_transformed_df"
   ],
   "metadata": {
    "collapsed": false,
    "ExecuteTime": {
     "end_time": "2023-09-01T16:27:31.858679896Z",
     "start_time": "2023-09-01T16:27:31.718604800Z"
    }
   }
  },
  {
   "cell_type": "code",
   "source": [
    "from sklearn.preprocessing import MinMaxScaler\n",
    "from sklearn.model_selection import train_test_split\n",
    "from torch.utils.data import TensorDataset, DataLoader\n",
    "import torch.optim as optim\n",
    "from torch.optim.lr_scheduler import ReduceLROnPlateau\n",
    "import torch\n",
    "import torch.nn as nn\n",
    "import math\n",
    "\n",
    "torch.cuda.empty_cache()\n",
    "\n",
    "# Scale the data\n",
    "scaler = MinMaxScaler(feature_range=(-1, 1))\n",
    "dataset_scaled = scaler.fit_transform(signed_log_transformed_df)\n",
    "dataset_scaled"
   ],
   "metadata": {
    "id": "4Ub_CLoRG5nF",
    "ExecuteTime": {
     "end_time": "2023-09-01T16:27:32.553995931Z",
     "start_time": "2023-09-01T16:27:31.807445367Z"
    }
   },
   "execution_count": 7,
   "outputs": [
    {
     "data": {
      "text/plain": "array([[-0.34005162, -0.57191832, -0.59973493, -0.46108209, -0.87279332,\n        -0.80033264],\n       [-0.47061213, -0.35336743, -0.4078846 , -0.37677812, -0.87215073,\n        -0.7564783 ],\n       [-0.38893677, -0.39298518, -0.47828158, -0.43319544, -0.82227518,\n        -0.72355731],\n       ...,\n       [-0.38961391, -0.32798833, -0.45315958, -0.38074001,  0.46005141,\n         0.40901256],\n       [-0.38961391, -0.32860864, -0.45315958, -0.38006686, -0.45466256,\n        -0.4085733 ],\n       [-0.38893677, -0.32860864, -0.45231289, -0.38074001,  0.4237481 ,\n         0.37803332]])"
     },
     "execution_count": 7,
     "metadata": {},
     "output_type": "execute_result"
    }
   ]
  },
  {
   "cell_type": "code",
   "execution_count": 8,
   "outputs": [
    {
     "name": "stderr",
     "output_type": "stream",
     "text": [
      "/tmp/ipykernel_35237/3075395133.py:9: UserWarning: Creating a tensor from a list of numpy.ndarrays is extremely slow. Please consider converting the list to a single numpy.ndarray with numpy.array() before converting to a tensor. (Triggered internally at ../torch/csrc/utils/tensor_new.cpp:245.)\n",
      "  X = torch.tensor(X, dtype=torch.float32)\n"
     ]
    }
   ],
   "source": [
    "# Create sequences\n",
    "SEQUENCE_LENGTH = 64\n",
    "PREDICT_LENGTH = 32\n",
    "X, y = [], []\n",
    "for i in range(len(dataset_scaled) - SEQUENCE_LENGTH - PREDICT_LENGTH + 1):\n",
    "    X.append(dataset_scaled[i:i + SEQUENCE_LENGTH])\n",
    "    y.append(dataset_scaled[i + SEQUENCE_LENGTH:i + SEQUENCE_LENGTH + PREDICT_LENGTH])\n",
    "\n",
    "X = torch.tensor(X, dtype=torch.float32)\n",
    "y = torch.tensor(y, dtype=torch.float32)\n",
    "\n",
    "# Split into training and testing sets\n",
    "X_train, X_test, y_train, y_test = train_test_split(X, y, test_size=0.1, random_state=42)\n",
    "\n",
    "# Create DataLoaders\n",
    "train_data = TensorDataset(X_train, y_train)\n",
    "train_loader = DataLoader(train_data, batch_size=1024, shuffle=True)\n",
    "\n",
    "test_data = TensorDataset(X_test, y_test)\n",
    "test_loader = DataLoader(test_data, batch_size=1024, shuffle=False)\n"
   ],
   "metadata": {
    "collapsed": false,
    "ExecuteTime": {
     "end_time": "2023-09-01T16:29:05.522611776Z",
     "start_time": "2023-09-01T16:27:32.571076198Z"
    }
   }
  },
  {
   "cell_type": "code",
   "source": [
    "class LSTMModel(nn.Module):\n",
    "    def __init__(self, input_dim, predict_length):\n",
    "        super(LSTMModel, self).__init__()\n",
    "        hidden_dim = 64  # Number of hidden units\n",
    "        num_layers = 1  # Number of LSTM layers\n",
    "\n",
    "        self.predict_length = predict_length\n",
    "        self.lstm = nn.LSTM(input_dim, hidden_dim, num_layers, batch_first=True)\n",
    "\n",
    "        # Assume the output sequence has the same dimensionality as the input sequence\n",
    "        self.linear = nn.Linear(hidden_dim, input_dim * predict_length)\n",
    "\n",
    "    def forward(self, x):\n",
    "        out, (_, _) = self.lstm(x)\n",
    "\n",
    "        # Use the last LSTM output as input to the fully connected layer\n",
    "        out = self.linear(out[:, -1, :])\n",
    "\n",
    "        # Reshape the output to have the same sequence length as PREDICT_LENGTH\n",
    "        out = out.view(-1, self.predict_length, x.size(2))\n",
    "\n",
    "        return out\n",
    "\n",
    "\n",
    "class BaselineModel2(nn.Module):\n",
    "    def __init__(self, input_dim, predict_length):\n",
    "        super(BaselineModel2, self).__init__()\n",
    "        self.predict_length = predict_length\n",
    "\n",
    "        self.sequential = nn.Sequential(\n",
    "            nn.Linear(input_dim, 64),\n",
    "            nn.LeakyReLU(),\n",
    "            nn.Linear(64, 64),\n",
    "            nn.LeakyReLU(),\n",
    "            nn.Linear(64, input_dim * predict_length),\n",
    "        )\n",
    "\n",
    "    def forward(self, x):\n",
    "        # Reshape the input to 2D for feeding into the fully connected layers\n",
    "        reshaped = x[:, -1, :].reshape((x.size()[0], x.size()[2]))\n",
    "\n",
    "        # Get the output from the sequential model\n",
    "        out = self.sequential(reshaped)\n",
    "\n",
    "        # Reshape to [batch_size, PREDICT_LENGTH, input_dim]\n",
    "        out = out.view(-1, self.predict_length, x.size(2))\n",
    "\n",
    "        return out\n",
    "\n",
    "\n",
    "class FFSequenceModel(nn.Module):\n",
    "    def __init__(self, input_dim, predict_length):\n",
    "        super(FFSequenceModel, self).__init__()\n",
    "        self.predict_length = predict_length\n",
    "\n",
    "        self.sequential = nn.Sequential(\n",
    "            nn.Flatten(),\n",
    "            nn.Linear(input_dim * SEQUENCE_LENGTH, 256),\n",
    "            nn.LeakyReLU(),\n",
    "            nn.Dropout(p=0.2),\n",
    "            nn.Linear(256, 256),\n",
    "            nn.LeakyReLU(),\n",
    "            nn.Dropout(p=0.2),\n",
    "            nn.Linear(256, 128),\n",
    "            nn.LeakyReLU(),\n",
    "            nn.Dropout(p=0.2),\n",
    "            nn.Linear(128, 64),\n",
    "            nn.LeakyReLU(),\n",
    "            nn.Dropout(p=0.2),\n",
    "            nn.Linear(64, 32),\n",
    "            nn.LeakyReLU(),\n",
    "            nn.Dropout(p=0.2),\n",
    "            nn.Linear(32, input_dim * predict_length),\n",
    "        )\n",
    "\n",
    "    def forward(self, x):\n",
    "        out = self.sequential(x)\n",
    "\n",
    "        # Reshape the output to [batch_size, PREDICT_LENGTH, input_dim]\n",
    "        out = out.view(-1, self.predict_length, x.size(2))\n",
    "\n",
    "        return out\n",
    "\n",
    "\n",
    "class PositionalEncoding(nn.Module):\n",
    "    def __init__(self, d_model, max_len=5000):\n",
    "        super(PositionalEncoding, self).__init__()\n",
    "        pe = torch.zeros(max_len, d_model)\n",
    "        position = torch.arange(0, max_len, dtype=torch.float).unsqueeze(1)\n",
    "        div_term = torch.exp(torch.arange(0, d_model, 2).float() * (-math.log(10000.0) / d_model))\n",
    "        pe[:, 0::2] = torch.sin(position * div_term)\n",
    "        pe[:, 1::2] = torch.cos(position * div_term)\n",
    "        pe = pe.unsqueeze(0).transpose(0, 1)\n",
    "        self.register_buffer('pe', pe)\n",
    "\n",
    "    def forward(self, x):\n",
    "        x = x + self.pe[:x.size(0), :]\n",
    "        return x\n",
    "\n",
    "\n",
    "class TransformerForecast(nn.Module):\n",
    "    def __init__(self, d_model, predict_length, nhead=3, num_layers=1):\n",
    "        super(TransformerForecast, self).__init__()\n",
    "        self.predict_length = predict_length\n",
    "\n",
    "        self.positional_encoder = PositionalEncoding(d_model)\n",
    "\n",
    "        self.encoder_layer = nn.TransformerEncoderLayer(d_model, nhead)\n",
    "        self.transformer_encoder = nn.TransformerEncoder(self.encoder_layer, num_layers=num_layers)\n",
    "\n",
    "        self.decoder_layer = nn.TransformerDecoderLayer(d_model, nhead)\n",
    "        self.transformer_decoder = nn.TransformerDecoder(self.decoder_layer, num_layers=num_layers)\n",
    "\n",
    "        self.final_layer = nn.Linear(d_model, d_model)\n",
    "\n",
    "    def forward(self, x):\n",
    "        # Transpose from [batch_size, sequence_length, features] to [sequence_length, batch_size, features]\n",
    "        x = x.transpose(0, 1)\n",
    "        x = self.positional_encoder(x)\n",
    "        x = self.transformer_encoder(x)\n",
    "\n",
    "        tgt = torch.zeros(self.predict_length, x.size(1), x.size(2)).to(x.device)\n",
    "        tgt = self.positional_encoder(tgt)\n",
    "\n",
    "        output = self.transformer_decoder(tgt, x)\n",
    "        output = self.final_layer(output)\n",
    "\n",
    "        # Transpose back to [batch_size, PREDICT_LENGTH, features]\n",
    "        output = output.transpose(0, 1)\n",
    "        return output\n",
    "\n"
   ],
   "metadata": {
    "id": "cJJDg_zFBNh1",
    "ExecuteTime": {
     "end_time": "2023-09-01T16:29:05.569629284Z",
     "start_time": "2023-09-01T16:29:05.530269650Z"
    }
   },
   "execution_count": 9,
   "outputs": []
  },
  {
   "cell_type": "code",
   "source": [
    "def train_test_model(model, epochs, lr=0.01):\n",
    "    # Define loss and optimizer\n",
    "    loss_function = nn.MSELoss()\n",
    "    optimizer = optim.Adam(model.parameters(), lr=lr, weight_decay=1e-6)\n",
    "    scheduler = ReduceLROnPlateau(optimizer, 'min', patience=3, factor=0.1, verbose=True)\n",
    "\n",
    "    # Training the model\n",
    "    for epoch in range(epochs):\n",
    "        model.train()\n",
    "        avg_loss = 0\n",
    "        for batch_X, batch_y in train_loader:\n",
    "            optimizer.zero_grad()\n",
    "            predictions = model(batch_X.cuda())\n",
    "            loss = loss_function(predictions, batch_y.cuda())\n",
    "            avg_loss += loss.item()\n",
    "            loss.backward()\n",
    "            optimizer.step()\n",
    "        avg_loss /= len(train_loader)\n",
    "        print(f\"Epoch {epoch + 1}/{epochs}, Loss: {avg_loss}\")\n",
    "        scheduler.step(avg_loss)\n",
    "\n",
    "    # Testing the model\n",
    "    model.eval()\n",
    "    with torch.no_grad():\n",
    "        test_loss = 0\n",
    "        for batch_X, batch_y in test_loader:\n",
    "            predictions = model(batch_X.cuda())\n",
    "            test_loss += loss_function(predictions, batch_y.cuda()).item()\n",
    "        test_loss /= len(test_loader)\n",
    "\n",
    "    print(f\"Test Loss: {test_loss}\")\n",
    "    print()\n",
    "    return model\n",
    "\n",
    "\n",
    "INPUT_DIM = 6  # Number of features in dataset\n",
    "\n",
    "model = train_test_model(FFSequenceModel(INPUT_DIM, PREDICT_LENGTH).cuda(), 1)"
   ],
   "metadata": {
    "id": "B24IHsv2S1R7",
    "ExecuteTime": {
     "end_time": "2023-09-01T16:29:11.611644316Z",
     "start_time": "2023-09-01T16:29:05.534373813Z"
    }
   },
   "execution_count": 10,
   "outputs": [
    {
     "name": "stdout",
     "output_type": "stream",
     "text": [
      "Epoch 1/1, Loss: 0.0897756669061485\n",
      "Test Loss: 0.08891171615363823\n"
     ]
    }
   ]
  },
  {
   "cell_type": "code",
   "execution_count": 11,
   "outputs": [
    {
     "name": "stdout",
     "output_type": "stream",
     "text": [
      "Epoch 1/50, Loss: 0.08880387500540218\n",
      "Epoch 2/50, Loss: 0.08877620784858693\n",
      "Epoch 3/50, Loss: 0.088765936118055\n",
      "Epoch 4/50, Loss: 0.08876044183715566\n",
      "Epoch 5/50, Loss: 0.08875219149934885\n",
      "Epoch 6/50, Loss: 0.08874783612424139\n",
      "Epoch 7/50, Loss: 0.0887426995116089\n",
      "Epoch 8/50, Loss: 0.08873264250900281\n",
      "Epoch 9/50, Loss: 0.0887266445203773\n",
      "Epoch 10/50, Loss: 0.08872513187360985\n",
      "Epoch 11/50, Loss: 0.08872123412920652\n",
      "Epoch 12/50, Loss: 0.0887184907977291\n",
      "Epoch 13/50, Loss: 0.08871924172506879\n",
      "Epoch 14/50, Loss: 0.08871567487070303\n",
      "Epoch 15/50, Loss: 0.08871399667792132\n",
      "Epoch 00015: reducing learning rate of group 0 to 1.0000e-04.\n",
      "Epoch 16/50, Loss: 0.08869150504296737\n",
      "Epoch 17/50, Loss: 0.08868607071875417\n",
      "Epoch 18/50, Loss: 0.08868482076987844\n",
      "Epoch 19/50, Loss: 0.088682995065989\n",
      "Epoch 20/50, Loss: 0.08868063404567476\n",
      "Epoch 21/50, Loss: 0.088677661685312\n",
      "Epoch 22/50, Loss: 0.08867520440188052\n",
      "Epoch 23/50, Loss: 0.08867280139053264\n",
      "Epoch 24/50, Loss: 0.08867045892453028\n",
      "Epoch 25/50, Loss: 0.0886683271812617\n",
      "Epoch 26/50, Loss: 0.0886655195012377\n",
      "Epoch 27/50, Loss: 0.0886646502071993\n",
      "Epoch 28/50, Loss: 0.08866181953483362\n",
      "Epoch 00028: reducing learning rate of group 0 to 1.0000e-05.\n",
      "Epoch 29/50, Loss: 0.08865666615118083\n",
      "Epoch 30/50, Loss: 0.0886555402247505\n",
      "Epoch 31/50, Loss: 0.08865437454650053\n",
      "Epoch 32/50, Loss: 0.08865436073031932\n",
      "Epoch 33/50, Loss: 0.08865377475456339\n",
      "Epoch 00033: reducing learning rate of group 0 to 1.0000e-06.\n",
      "Epoch 34/50, Loss: 0.08865297840234386\n",
      "Epoch 35/50, Loss: 0.08865192043144143\n",
      "Epoch 36/50, Loss: 0.0886538769100453\n",
      "Epoch 37/50, Loss: 0.08865347903403638\n",
      "Epoch 00037: reducing learning rate of group 0 to 1.0000e-07.\n",
      "Epoch 38/50, Loss: 0.08865349385440119\n",
      "Epoch 39/50, Loss: 0.08865348550351805\n",
      "Epoch 40/50, Loss: 0.08865317461635602\n",
      "Epoch 41/50, Loss: 0.08865406023703463\n",
      "Epoch 00041: reducing learning rate of group 0 to 1.0000e-08.\n",
      "Epoch 42/50, Loss: 0.08865223270368429\n",
      "Epoch 43/50, Loss: 0.08865354440408008\n",
      "Epoch 44/50, Loss: 0.08865415628084741\n",
      "Epoch 45/50, Loss: 0.08865299419226524\n",
      "Epoch 46/50, Loss: 0.08865323945545209\n",
      "Epoch 47/50, Loss: 0.08865400169428515\n",
      "Epoch 48/50, Loss: 0.08865338561033483\n",
      "Epoch 49/50, Loss: 0.08865310706481003\n",
      "Epoch 50/50, Loss: 0.08865356722328664\n",
      "Test Loss: 0.08870895584631297\n"
     ]
    }
   ],
   "source": [
    "model = train_test_model(model, 50, 0.001)"
   ],
   "metadata": {
    "collapsed": false,
    "ExecuteTime": {
     "end_time": "2023-09-01T16:33:38.532186080Z",
     "start_time": "2023-09-01T16:29:11.609190343Z"
    }
   }
  },
  {
   "cell_type": "code",
   "execution_count": 12,
   "outputs": [
    {
     "data": {
      "text/plain": "tensor(False, device='cuda:0')"
     },
     "execution_count": 12,
     "metadata": {},
     "output_type": "execute_result"
    }
   ],
   "source": [
    "is_nan_inf = torch.stack([(torch.isnan(p) | torch.isinf(p)).any() for p in model.parameters()]).any()\n",
    "is_nan_inf"
   ],
   "metadata": {
    "collapsed": false,
    "ExecuteTime": {
     "end_time": "2023-09-01T16:33:38.535389345Z",
     "start_time": "2023-09-01T16:33:38.533890100Z"
    }
   }
  },
  {
   "cell_type": "code",
   "execution_count": 15,
   "outputs": [
    {
     "data": {
      "text/plain": "<Figure size 1500x1000 with 1 Axes>",
      "image/png": "[encoded data removed]"
     },
     "metadata": {},
     "output_type": "display_data"
    }
   ],
   "source": [
    "# draw candlestick chart from model predictions\n",
    "CHART_SIZE = 150\n",
    "\n",
    "sample_range = dataset_scaled[-CHART_SIZE:]\n",
    "\n",
    "\n",
    "def inverse_signed_log_transform(x):\n",
    "    return np.sign(x) * (np.exp(np.abs(x)) - 1)\n",
    "\n",
    "\n",
    "def inverse_preprocessing(original_start, x):\n",
    "    x = inverse_signed_log_transform(scaler.inverse_transform(x))\n",
    "\n",
    "    reversed_array = np.zeros_like(x)\n",
    "    reversed_array[0] = original_start + x[0]\n",
    "    for i in range(1, x.shape[0]):\n",
    "        reversed_array[i] = reversed_array[i - 1] + x[i]\n",
    "    return reversed_array\n",
    "\n",
    "\n",
    "# Reverse the difference transformation\n",
    "original_start = dataset.iloc[[-CHART_SIZE - 1]]\n",
    "candlesticks = inverse_preprocessing(original_start, sample_range)\n",
    "\n",
    "predict_sequence = np.concatenate((sample_range[:SEQUENCE_LENGTH], np.zeros((PREDICT_LENGTH, INPUT_DIM))),\n",
    "                                  axis=0)\n",
    "\n",
    "# Prepare the model input sequence\n",
    "predict_sequence_input = sample_range[-SEQUENCE_LENGTH:].reshape((1, SEQUENCE_LENGTH, -1)).astype(np.float32)\n",
    "\n",
    "model.eval()\n",
    "with torch.no_grad():\n",
    "    a = torch.from_numpy(predict_sequence_input).cuda()\n",
    "    predicted_output = model(a).cpu().numpy()\n",
    "\n",
    "# Assuming predicted_output is of shape (batch_size, PREDICT_LENGTH, INPUT_DIM)\n",
    "# And that batch_size is 1\n",
    "predicted_sequence = predicted_output[0]\n",
    "\n",
    "# Replace the zeros with the predicted values\n",
    "predict_sequence[-PREDICT_LENGTH:] = predicted_sequence\n",
    "\n",
    "# Continue with inverse preprocessing\n",
    "predict_sequence = inverse_preprocessing(original_start, predict_sequence)\n",
    "\n",
    "from mplfinance.original_flavor import candlestick_ohlc\n",
    "import matplotlib.dates as mdates\n",
    "import matplotlib.pyplot as plt\n",
    "\n",
    "# Create a DataFrame from the 'candlesticks' array\n",
    "columns = [\"Open\", \"High\", \"Low\", \"Close\", \"Volume\", \"Quote asset volume\"]\n",
    "candlesticks_df = pd.DataFrame(candlesticks, columns=columns)\n",
    "candlesticks_pred_df = pd.DataFrame(predict_sequence, columns=columns)\n",
    "\n",
    "# Adding a fake date index (mplfinance needs this)\n",
    "candlesticks_df['Date'] = pd.date_range(start='1/1/2000', periods=candlesticks_df.shape[0])\n",
    "candlesticks_df['Date'] = candlesticks_df['Date'].apply(mdates.date2num)\n",
    "candlesticks_pred_df['Date'] = pd.date_range(start='1/1/2000', periods=candlesticks_pred_df.shape[0])\n",
    "candlesticks_pred_df['Date'] = candlesticks_pred_df['Date'].apply(mdates.date2num)\n",
    "\n",
    "candlesticks_pred_df = candlesticks_pred_df.iloc[SEQUENCE_LENGTH:]\n",
    "\n",
    "# Reordering columns to fit mplfinance requirements\n",
    "candlesticks_df = candlesticks_df[['Date', 'Open', 'High', 'Low', 'Close', 'Volume']]\n",
    "candlesticks_pred_df = candlesticks_pred_df[['Date', 'Open', 'High', 'Low', 'Close', 'Volume']]\n",
    "\n",
    "# Plotting\n",
    "fig, ax = plt.subplots(figsize=(15, 10))\n",
    "\n",
    "candlestick_ohlc(ax, candlesticks_pred_df.values, width=0.6, colorup='lime', colordown='magenta', alpha=0.5)\n",
    "candlestick_ohlc(ax, candlesticks_df.values, width=0.6, colorup='g', colordown='r', alpha=0.5)\n",
    "\n",
    "plt.show()"
   ],
   "metadata": {
    "collapsed": false,
    "ExecuteTime": {
     "end_time": "2023-09-01T16:46:02.904559668Z",
     "start_time": "2023-09-01T16:46:02.674675883Z"
    }
   }
  }
 ]
}
