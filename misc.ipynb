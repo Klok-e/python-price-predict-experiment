{
 "cells": [
  {
   "cell_type": "code",
   "id": "initial_id",
   "metadata": {
    "collapsed": true,
    "ExecuteTime": {
     "end_time": "2024-04-10T19:13:42.342503Z",
     "start_time": "2024-04-10T19:12:59.573997Z"
    }
   },
   "source": [
    "import numpy as np\n",
    "import time\n",
    "from multiprocessing import Pool\n",
    "\n",
    "\n",
    "# Generate random data using numpy\n",
    "def generate_random_data(size_in_gb):\n",
    "    num_elements = size_in_gb * (1024 ** 3) // 10\n",
    "    return np.random.randint(97, 123, size=(num_elements, 10))\n",
    "\n",
    "\n",
    "# Process data (used for both sequential and multiprocessing)\n",
    "def process_data(data):\n",
    "    a = data * 2\n",
    "\n",
    "\n",
    "# Multiprocessing processing of data\n",
    "def process_data_multiprocessing(data, num_processes=4):\n",
    "    chunk_size = len(data) // num_processes\n",
    "    chunks = [data[i:i + chunk_size] for i in range(0, len(data), chunk_size)]\n",
    "    with Pool(processes=num_processes) as pool:\n",
    "        result = sum(pool.map(process_data, chunks))\n",
    "    return result\n",
    "\n",
    "\n",
    "# Generate data\n",
    "start_time = time.time()\n",
    "data = generate_random_data(2)  # Approximately 2GB\n",
    "print(\"Data generation took:\", time.time() - start_time, \"seconds\")\n",
    "\n",
    "# Sequential processing\n",
    "start_time = time.time()\n",
    "result = process_data(data)\n",
    "print(\"Sequential processing result:\", result)\n",
    "print(\"Sequential processing took:\", time.time() - start_time, \"seconds\")\n",
    "\n",
    "# Multiprocessing processing\n",
    "start_time = time.time()\n",
    "result = process_data_multiprocessing(data)\n",
    "print(\"Multiprocessing processing result:\", result)\n",
    "print(\"Multiprocessing processing took:\", time.time() - start_time, \"seconds\")\n"
   ],
   "outputs": [
    {
     "name": "stdout",
     "output_type": "stream",
     "text": [
      "Data generation took: 40.85989952087402 seconds\n"
     ]
    },
    {
     "ename": "UFuncTypeError",
     "evalue": "ufunc 'multiply' did not contain a loop with signature matching types (dtype('S10'), dtype('int64')) -> None",
     "output_type": "error",
     "traceback": [
      "\u001B[0;31m---------------------------------------------------------------------------\u001B[0m",
      "\u001B[0;31mUFuncTypeError\u001B[0m                            Traceback (most recent call last)",
      "Cell \u001B[0;32mIn[1], line 33\u001B[0m\n\u001B[1;32m     31\u001B[0m \u001B[38;5;66;03m# Sequential processing\u001B[39;00m\n\u001B[1;32m     32\u001B[0m start_time \u001B[38;5;241m=\u001B[39m time\u001B[38;5;241m.\u001B[39mtime()\n\u001B[0;32m---> 33\u001B[0m result \u001B[38;5;241m=\u001B[39m \u001B[43mprocess_data\u001B[49m\u001B[43m(\u001B[49m\u001B[43mdata\u001B[49m\u001B[43m)\u001B[49m\n\u001B[1;32m     34\u001B[0m \u001B[38;5;28mprint\u001B[39m(\u001B[38;5;124m\"\u001B[39m\u001B[38;5;124mSequential processing result:\u001B[39m\u001B[38;5;124m\"\u001B[39m, result)\n\u001B[1;32m     35\u001B[0m \u001B[38;5;28mprint\u001B[39m(\u001B[38;5;124m\"\u001B[39m\u001B[38;5;124mSequential processing took:\u001B[39m\u001B[38;5;124m\"\u001B[39m, time\u001B[38;5;241m.\u001B[39mtime() \u001B[38;5;241m-\u001B[39m start_time, \u001B[38;5;124m\"\u001B[39m\u001B[38;5;124mseconds\u001B[39m\u001B[38;5;124m\"\u001B[39m)\n",
      "Cell \u001B[0;32mIn[1], line 14\u001B[0m, in \u001B[0;36mprocess_data\u001B[0;34m(data)\u001B[0m\n\u001B[1;32m     13\u001B[0m \u001B[38;5;28;01mdef\u001B[39;00m \u001B[38;5;21mprocess_data\u001B[39m(data):\n\u001B[0;32m---> 14\u001B[0m     a \u001B[38;5;241m=\u001B[39m \u001B[43mdata\u001B[49m\u001B[43m \u001B[49m\u001B[38;5;241;43m*\u001B[39;49m\u001B[43m \u001B[49m\u001B[38;5;241;43m2\u001B[39;49m\n",
      "\u001B[0;31mUFuncTypeError\u001B[0m: ufunc 'multiply' did not contain a loop with signature matching types (dtype('S10'), dtype('int64')) -> None"
     ]
    }
   ],
   "execution_count": 1
  },
  {
   "metadata": {},
   "cell_type": "code",
   "outputs": [],
   "execution_count": null,
   "source": "",
   "id": "1dbcd47d13a79084"
  }
 ],
 "metadata": {
  "kernelspec": {
   "display_name": "Python 3",
   "language": "python",
   "name": "python3"
  },
  "language_info": {
   "codemirror_mode": {
    "name": "ipython",
    "version": 2
   },
   "file_extension": ".py",
   "mimetype": "text/x-python",
   "name": "python",
   "nbconvert_exporter": "python",
   "pygments_lexer": "ipython2",
   "version": "2.7.6"
  }
 },
 "nbformat": 4,
 "nbformat_minor": 5
}
