{
 "cells": [
  {
   "cell_type": "code",
   "execution_count": null,
   "id": "initial_id",
   "metadata": {
    "ExecuteTime": {
     "end_time": "2024-04-10T19:13:42.342503Z",
     "start_time": "2024-04-10T19:12:59.573997Z"
    },
    "collapsed": true
   },
   "outputs": [],
   "source": [
    "from util import SharedNumpyArray\n",
    "import numpy as np\n",
    "from torch import nn\n",
    "import torch as th\n",
    "import time\n",
    "\n",
    "\n",
    "def generate_random_data():\n",
    "    episodes = 2 ** 12\n",
    "    episode_data = 2 ** 16\n",
    "    return np.random.rand(episodes, episode_data)\n",
    "\n",
    "\n",
    "data = generate_random_data()\n",
    "print(data.shape)"
   ]
  },
  {
   "cell_type": "code",
   "execution_count": null,
   "id": "f7543157",
   "metadata": {},
   "outputs": [],
   "source": [
    "from torch.multiprocessing import Pool\n",
    "import os\n",
    "\n",
    "\n",
    "def process_data(data, idx_start, idx_end):\n",
    "    try:\n",
    "        data = data.read()\n",
    "    except:\n",
    "        pass\n",
    "\n",
    "    print(f\"processing in {os.getpid()}\")\n",
    "    mat = np.random.rand(data.shape[1], 12)\n",
    "    res = data @ mat\n",
    "    time.sleep(10)\n",
    "    print(f\"processing finished in {os.getpid()}\")\n",
    "\n",
    "    return res\n",
    "\n",
    "\n",
    "start = time.time()\n",
    "result = process_data(data, 0, len(data))\n",
    "print(result.shape)\n",
    "print(f\"time taken {time.time() - start:.02}s\")\n",
    "result"
   ]
  },
  {
   "cell_type": "code",
   "execution_count": null,
   "id": "51ced7c5",
   "metadata": {},
   "outputs": [],
   "source": [
    "def process_data_multiprocessing(data, num_processes=8):\n",
    "    chunk_size = len(data) // num_processes\n",
    "    chunks = [(data, i, i + chunk_size)\n",
    "              for i in range(0, len(data), chunk_size)]\n",
    "    with Pool(processes=num_processes) as pool:\n",
    "        result = np.concatenate(pool.starmap(process_data, chunks))\n",
    "    return result\n",
    "\n",
    "\n",
    "start = time.time()\n",
    "result = process_data_multiprocessing(data)\n",
    "print(result.shape)\n",
    "print(f\"time taken {time.time() - start:.02}s\")\n",
    "result"
   ]
  },
  {
   "cell_type": "code",
   "execution_count": null,
   "id": "077b57ba",
   "metadata": {},
   "outputs": [],
   "source": [
    "from util import SharedNumpyArray\n",
    "\n",
    "\n",
    "def process_data_multiprocessing(data, num_processes=8):\n",
    "    chunk_size = len(data) // num_processes\n",
    "    data_shared = SharedNumpyArray(data)\n",
    "    chunks = [(data_shared, i, i + chunk_size)\n",
    "              for i in range(0, len(data), chunk_size)]\n",
    "    with Pool(processes=num_processes) as pool:\n",
    "        result = np.concatenate(pool.starmap(process_data, chunks))\n",
    "\n",
    "    data_shared.unlink()\n",
    "\n",
    "    return result\n",
    "\n",
    "\n",
    "start = time.time()\n",
    "result = process_data_multiprocessing(data)\n",
    "print(result.shape)\n",
    "print(f\"time taken {time.time() - start:.02}s\")\n",
    "result"
   ]
  }
 ],
 "metadata": {
  "kernelspec": {
   "display_name": "Python 3",
   "language": "python",
   "name": "python3"
  },
  "language_info": {
   "codemirror_mode": {
    "name": "ipython",
    "version": 3
   },
   "file_extension": ".py",
   "mimetype": "text/x-python",
   "name": "python",
   "nbconvert_exporter": "python",
   "pygments_lexer": "ipython3",
   "version": "3.11.8"
  }
 },
 "nbformat": 4,
 "nbformat_minor": 5
}
